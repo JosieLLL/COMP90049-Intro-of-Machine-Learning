{
 "cells": [
  {
   "cell_type": "markdown",
   "metadata": {},
   "source": [
    "### The University of Melbourne, School of Computing and Information Systems\n",
    "# COMP90049 Introduction Machine Learning, 2021 Semester 2\n",
    "\n",
    "## Week 1 - Introduction & Reading and Processing Data"
   ]
  },
  {
   "cell_type": "markdown",
   "metadata": {},
   "source": [
    "Welcome to Jupyter Notebook—an interactive environment that mixes code, visualisations and text.\n",
    "\n",
    "You can find further information on how to install and run jupyter notebooks can be found in our subject page on Canvas under\n",
    "\n",
    "Modules -> Coding resources -> Python and Jupyter Notebooks.\n",
    "\n",
    "\n",
    "Jupyter Notebook supports many programming languages (called \"kernels\" in the Jupyter lingo). In this course, we'll mainly be using Python 3 due to its popularity in the machine learning/data science communities. Information about the kernel is diplayed in the top right of the UI."
   ]
  },
  {
   "cell_type": "markdown",
   "metadata": {},
   "source": [
    "## Cells"
   ]
  },
  {
   "cell_type": "markdown",
   "metadata": {},
   "source": [
    "Notebooks are made up cells: *markdown cells* and *code cells*. \n",
    "This cell is an example of a markdown cell. \n",
    "Markdown cells can contain text, tables, images, equations, etc. \n",
    "(see the Markdown guide under the _Help_ menu for more info). \n",
    "\n",
    "You can edit a markdown cell by double-clicking on it. To convert cells to markdown, highlight the cell and hit `<M>`. To convert back to a code cell, hit `<Y>`.\n",
    "\n",
    "Alternatively you can change the cell type using the droptown meny at the top of the screen (below \"Widgets\")\n",
    "\n",
    "To evaluate the cell press the <button class='btn btn-default btn-xs'><i class=\"icon-step-forward fa fa-step-forward\"></i></button> button in the toolbar, or hit `<CTRL>+<ENTER>`. \n",
    "Try it below! "
   ]
  },
  {
   "cell_type": "markdown",
   "metadata": {},
   "source": [
    "--- **Edit me** ---"
   ]
  },
  {
   "cell_type": "markdown",
   "metadata": {},
   "source": [
    "Next are some code cells. \n",
    "You can evaluate them individually, using the <button class='btn btn-default btn-xs'><i class=\"icon-step-forward fa fa-step-forward\"></i></button> button or by hitting `<CTRL>+<ENTER>`. \n",
    "Often, you'll want to run all cells in the notebook, or below a certain point. The functions for doing this are in the _Cell_ menu."
   ]
  },
  {
   "cell_type": "code",
   "execution_count": 3,
   "metadata": {},
   "outputs": [],
   "source": [
    "message = \"Hello world!\""
   ]
  },
  {
   "cell_type": "code",
   "execution_count": 4,
   "metadata": {},
   "outputs": [
    {
     "name": "stdout",
     "output_type": "stream",
     "text": [
      "Hello world!\n"
     ]
    }
   ],
   "source": [
    "print(message)"
   ]
  },
  {
   "cell_type": "markdown",
   "metadata": {},
   "source": [
    "You can insert as much or little code into a single cell as you wish. Cells are meant to keep your code clean and organized. For example, we can put both commands above into a single cell:"
   ]
  },
  {
   "cell_type": "code",
   "execution_count": 2,
   "metadata": {},
   "outputs": [
    {
     "name": "stdout",
     "output_type": "stream",
     "text": [
      "Hello world!\n"
     ]
    }
   ],
   "source": [
    "message = \"Hello world!\"\n",
    "print(message)"
   ]
  },
  {
   "cell_type": "markdown",
   "metadata": {},
   "source": [
    "## Reading and processing a data set.\n",
    "\n",
    "**This code is deliberately written to be easy to understand, minimizing the use of libraries, syntactic sugar etc.**\n",
    "\n",
    "If you are comfortable with Python programming, and / or once you've understood the basic logic below, you are welcome to use libraries such as 'csv' or 'pandas', or any other shortcuts Python has on offer."
   ]
  },
  {
   "cell_type": "code",
   "execution_count": 3,
   "metadata": {},
   "outputs": [
    {
     "ename": "FileNotFoundError",
     "evalue": "[Errno 2] No such file or directory: 'data.csv'",
     "output_type": "error",
     "traceback": [
      "\u001b[0;31m---------------------------------------------------------------------------\u001b[0m",
      "\u001b[0;31mFileNotFoundError\u001b[0m                         Traceback (most recent call last)",
      "\u001b[0;32m<ipython-input-3-d86fa96101fc>\u001b[0m in \u001b[0;36m<module>\u001b[0;34m\u001b[0m\n\u001b[1;32m      1\u001b[0m \u001b[0;31m# let's read the data into a list of lines\u001b[0m\u001b[0;34m\u001b[0m\u001b[0;34m\u001b[0m\u001b[0;34m\u001b[0m\u001b[0m\n\u001b[0;32m----> 2\u001b[0;31m \u001b[0mdata\u001b[0m \u001b[0;34m=\u001b[0m \u001b[0mopen\u001b[0m\u001b[0;34m(\u001b[0m\u001b[0;34m'data.csv'\u001b[0m\u001b[0;34m,\u001b[0m \u001b[0;34m'r'\u001b[0m\u001b[0;34m)\u001b[0m\u001b[0;34m.\u001b[0m\u001b[0mreadlines\u001b[0m\u001b[0;34m(\u001b[0m\u001b[0;34m)\u001b[0m\u001b[0;34m\u001b[0m\u001b[0;34m\u001b[0m\u001b[0m\n\u001b[0m\u001b[1;32m      3\u001b[0m \u001b[0;34m\u001b[0m\u001b[0m\n\u001b[1;32m      4\u001b[0m \u001b[0;31m# we know that the first line is the label, the rest of the lines actually contains data\u001b[0m\u001b[0;34m\u001b[0m\u001b[0;34m\u001b[0m\u001b[0;34m\u001b[0m\u001b[0m\n\u001b[1;32m      5\u001b[0m \u001b[0mheader\u001b[0m \u001b[0;34m=\u001b[0m \u001b[0mdata\u001b[0m\u001b[0;34m[\u001b[0m\u001b[0;36m0\u001b[0m\u001b[0;34m]\u001b[0m\u001b[0;34m\u001b[0m\u001b[0;34m\u001b[0m\u001b[0m\n",
      "\u001b[0;31mFileNotFoundError\u001b[0m: [Errno 2] No such file or directory: 'data.csv'"
     ]
    }
   ],
   "source": [
    "# let's read the data into a list of lines\n",
    "data = open('data.csv', 'r').readlines()\n",
    "\n",
    "# we know that the first line is the label, the rest of the lines actually contains data\n",
    "header = data[0]\n",
    "instances = data[1:]\n",
    "\n",
    "\n"
   ]
  },
  {
   "cell_type": "code",
   "execution_count": 290,
   "metadata": {},
   "outputs": [
    {
     "name": "stdout",
     "output_type": "stream",
     "text": [
      "outlook,temperature,humidity,windy,play\n",
      "\n"
     ]
    }
   ],
   "source": [
    "# let's look at our labels\n",
    "print(header)"
   ]
  },
  {
   "cell_type": "code",
   "execution_count": 291,
   "metadata": {},
   "outputs": [
    {
     "name": "stdout",
     "output_type": "stream",
     "text": [
      "['sunny,hot,high,FALSE,no\\n', 'sunny,hot,high,TRUE,no\\n', 'overc,hot,high,FALSE,yes\\n', 'rainy,mild,high,FALSE,yes\\n', 'rainy,cool,normal,FALSE,yes\\n', 'rainy,cool,normal,TRUE,no\\n', 'overc,cool,normal,TRUE,yes\\n', 'sunny,mild,high,FALSE,no\\n', 'sunny,cool,normal,FALSE,yes\\n', 'rainy,mild,normal,FALSE,yes\\n', 'sunny,mild,normal,TRUE,yes\\n', 'overc,mild,high,TRUE,yes\\n', 'overc,hot,normal,FALSE,yes\\n', 'rainy,mild,high,TRUE,no\\n']\n"
     ]
    }
   ],
   "source": [
    "# let's look at our data\n",
    "print(instances)"
   ]
  },
  {
   "cell_type": "markdown",
   "metadata": {},
   "source": [
    "What do we want to do with the data? Recall from the lecture, that our goal is to predict the <b>class</b> of whether to play outside or not from a set of <b>attributes</b> (outlook, temperature, humidity, windy)\n",
    "\n",
    "So, let's take our list of instances, and create from it a list of features (x), and a list of labels (y)"
   ]
  },
  {
   "cell_type": "code",
   "execution_count": 292,
   "metadata": {},
   "outputs": [],
   "source": [
    "# firs, initialize the empty lists\n",
    "features = []\n",
    "labels = []\n",
    "\n",
    "# iterate over our instances:\n",
    "for instance in instances:\n",
    "    instance = instance.strip() #remove all leading and trailing whitespace (i.e., the newline symbol '\\n')\n",
    "    instance = instance.split(\",\") # split each instance at each comma, into separate values\n",
    "    inst_features = instance[:4] # store the first 4 fields as the instance's features\n",
    "    # store the label as the last field \n",
    "    # (Python supports indexing starting from the final element, using negative indices)\n",
    "    inst_label = instance[-1]\n",
    "    # append this instance's to our global list of features / labels\n",
    "    features.append(inst_features)\n",
    "    labels.append(inst_label)"
   ]
  },
  {
   "cell_type": "markdown",
   "metadata": {},
   "source": [
    "Let's look at what we got"
   ]
  },
  {
   "cell_type": "code",
   "execution_count": 293,
   "metadata": {},
   "outputs": [
    {
     "name": "stdout",
     "output_type": "stream",
     "text": [
      "all features: [['sunny', 'hot', 'high', 'FALSE'], ['sunny', 'hot', 'high', 'TRUE'], ['overc', 'hot', 'high', 'FALSE'], ['rainy', 'mild', 'high', 'FALSE'], ['rainy', 'cool', 'normal', 'FALSE'], ['rainy', 'cool', 'normal', 'TRUE'], ['overc', 'cool', 'normal', 'TRUE'], ['sunny', 'mild', 'high', 'FALSE'], ['sunny', 'cool', 'normal', 'FALSE'], ['rainy', 'mild', 'normal', 'FALSE'], ['sunny', 'mild', 'normal', 'TRUE'], ['overc', 'mild', 'high', 'TRUE'], ['overc', 'hot', 'normal', 'FALSE'], ['rainy', 'mild', 'high', 'TRUE']]\n",
      "\n",
      "all labels  : ['no', 'no', 'yes', 'yes', 'yes', 'no', 'yes', 'no', 'yes', 'yes', 'yes', 'yes', 'yes', 'no']\n",
      "\n",
      "features of first instance: ['sunny', 'hot', 'high', 'FALSE']\n",
      "label of first instance: no \n"
     ]
    }
   ],
   "source": [
    "print(\"all features: {}\\n\".format(features))\n",
    "print(\"all labels  : {}\\n\".format(labels))\n",
    "\n",
    "# print features and label of 1st instance\n",
    "print(\"features of first instance: {}\\nlabel of first instance: {} \".format(features[0], labels[0]))"
   ]
  },
  {
   "cell_type": "markdown",
   "metadata": {},
   "source": [
    "Now, computers are much better at working with numbers than with strings. Let's write a function that maps each type of value to a unique number. We can do this by\n",
    "\n",
    "1. creating a set of all occuring values (a set by definition contains each value exactly once)\n",
    "2. map each value to its position in this list\n",
    "\n",
    "For example\n",
    "- our observed values are v=[a,b,c,a,a,b,d]\n",
    "- turning this into a set: set(v)=[a,b,c,d]\n",
    "- and turning each value into a number based on its set position: a=0, b=1, c=2, d=4"
   ]
  },
  {
   "cell_type": "code",
   "execution_count": 294,
   "metadata": {},
   "outputs": [],
   "source": [
    "def string_feature_to_numeric_feature(str_values):\n",
    "    str_value_set = list(set(str_values)) # create a set of all values in value_list\n",
    "    numeric_values = [] # initialize our new value list\n",
    "    for str_value in str_values:\n",
    "        num_value = str_value_set.index(str_value) # Python way of saying: 'give me the position of str_value in list value_set'\n",
    "        numeric_values.append(num_value) # append the numeric value to the new value list\n",
    "    return numeric_values # return the new numeric values as an output of the function"
   ]
  },
  {
   "cell_type": "markdown",
   "metadata": {},
   "source": [
    "Let's see if it works"
   ]
  },
  {
   "cell_type": "code",
   "execution_count": 295,
   "metadata": {},
   "outputs": [
    {
     "name": "stdout",
     "output_type": "stream",
     "text": [
      "string labels : ['no', 'no', 'yes', 'yes', 'yes', 'no', 'yes', 'no', 'yes', 'yes', 'yes', 'yes', 'yes', 'no']\n",
      "numeric labels: [1, 1, 0, 0, 0, 1, 0, 1, 0, 0, 0, 0, 0, 1]\n"
     ]
    }
   ],
   "source": [
    "numeric_labels = string_feature_to_numeric_feature(labels)\n",
    "\n",
    "print(\"string labels : {}\".format(labels))\n",
    "print(\"numeric labels: {}\".format(numeric_labels))\n"
   ]
  },
  {
   "cell_type": "markdown",
   "metadata": {},
   "source": [
    "Similary, we can iterate over all features (columns in our data matrix), and transform all our features and labels to numeric values\n"
   ]
  },
  {
   "cell_type": "code",
   "execution_count": 296,
   "metadata": {},
   "outputs": [
    {
     "name": "stdout",
     "output_type": "stream",
     "text": [
      "This is our original feature matrix:\n",
      "sunny\thot\thigh\tFALSE\n",
      "sunny\thot\thigh\tTRUE\n",
      "overc\thot\thigh\tFALSE\n",
      "rainy\tmild\thigh\tFALSE\n",
      "rainy\tcool\tnormal\tFALSE\n",
      "rainy\tcool\tnormal\tTRUE\n",
      "overc\tcool\tnormal\tTRUE\n",
      "sunny\tmild\thigh\tFALSE\n",
      "sunny\tcool\tnormal\tFALSE\n",
      "rainy\tmild\tnormal\tFALSE\n",
      "sunny\tmild\tnormal\tTRUE\n",
      "overc\tmild\thigh\tTRUE\n",
      "overc\thot\tnormal\tFALSE\n",
      "rainy\tmild\thigh\tTRUE\n",
      "\n",
      "\n",
      "This is our new, numeric feature matrix:\n",
      "1\t1\t0\t0\n",
      "1\t1\t0\t1\n",
      "2\t1\t0\t0\n",
      "0\t0\t0\t0\n",
      "0\t2\t1\t0\n",
      "0\t2\t1\t1\n",
      "2\t2\t1\t1\n",
      "1\t0\t0\t0\n",
      "1\t2\t1\t0\n",
      "0\t0\t1\t0\n",
      "1\t0\t1\t1\n",
      "2\t0\t0\t1\n",
      "2\t1\t1\t0\n",
      "0\t0\t0\t1\n"
     ]
    }
   ],
   "source": [
    "# print the original features\n",
    "print(\"This is our original feature matrix:\")\n",
    "for i in features:\n",
    "    print('\\t'.join(i))\n",
    "\n",
    "# initialize our new structure to hold the numeric features\n",
    "numeric_features = [[] for i in features]\n",
    "\n",
    "# iterate over each feature (i.e., over the columns of our data set)\n",
    "for feature_idx in range(len(features[0])):\n",
    "    # extract all values for that feature (i.e,. write all values in the nth column into a list)\n",
    "    str_feat_values = [values[feature_idx] for values in features]\n",
    "    # apply our function\n",
    "    num_feat_values = string_feature_to_numeric_feature(str_feat_values)\n",
    "    # write the new, numeric feature values into the numeric feature structure\n",
    "    for idx, instance in enumerate(features):\n",
    "        numeric_features[idx].append(num_feat_values[idx])\n",
    "\n",
    "# print the new, numeric veatures\n",
    "print(\"\\n\\nThis is our new, numeric feature matrix:\")\n",
    "for i in numeric_features:\n",
    "    print('{}\\t{}\\t{}\\t{}'.format(i[0], i[1], i[2], i[3]))"
   ]
  },
  {
   "cell_type": "markdown",
   "metadata": {},
   "source": [
    "**Opening and reading csv files with Python's Pandas library**\n",
    "\n",
    "There are various useful libraries which allow you to handle data sets much more efficiently (even though everything they do you could implement yourself fairly easily, similarly to the code you see ablve). The most important one is called <b>Pandas</b>. Below is some Pandas example code."
   ]
  },
  {
   "cell_type": "code",
   "execution_count": 297,
   "metadata": {},
   "outputs": [
    {
     "name": "stdout",
     "output_type": "stream",
     "text": [
      "  outlook temperature humidity  windy play\n",
      "0   sunny         hot     high  False   no\n",
      "1   sunny         hot     high   True   no\n",
      "2   overc         hot     high  False  yes\n",
      "3   rainy        mild     high  False  yes\n",
      "4   rainy        cool   normal  False  yes\n"
     ]
    }
   ],
   "source": [
    "import pandas as pd\n",
    "\n",
    "\n",
    "data_p = pd.read_csv('data.csv', sep=',')\n",
    "\n",
    "print(data_p.head())"
   ]
  },
  {
   "cell_type": "code",
   "execution_count": 298,
   "metadata": {},
   "outputs": [
    {
     "name": "stdout",
     "output_type": "stream",
     "text": [
      "0      no\n",
      "1      no\n",
      "2     yes\n",
      "3     yes\n",
      "4     yes\n",
      "5      no\n",
      "6     yes\n",
      "7      no\n",
      "8     yes\n",
      "9     yes\n",
      "10    yes\n",
      "11    yes\n",
      "12    yes\n",
      "13     no\n",
      "Name: play, dtype: object\n"
     ]
    }
   ],
   "source": [
    "label_p = data_p['play']\n",
    "print(label_p)"
   ]
  },
  {
   "cell_type": "code",
   "execution_count": 299,
   "metadata": {},
   "outputs": [
    {
     "name": "stdout",
     "output_type": "stream",
     "text": [
      "   outlook temperature humidity  windy\n",
      "0    sunny         hot     high  False\n",
      "1    sunny         hot     high   True\n",
      "2    overc         hot     high  False\n",
      "3    rainy        mild     high  False\n",
      "4    rainy        cool   normal  False\n",
      "5    rainy        cool   normal   True\n",
      "6    overc        cool   normal   True\n",
      "7    sunny        mild     high  False\n",
      "8    sunny        cool   normal  False\n",
      "9    rainy        mild   normal  False\n",
      "10   sunny        mild   normal   True\n",
      "11   overc        mild     high   True\n",
      "12   overc         hot   normal  False\n",
      "13   rainy        mild     high   True\n"
     ]
    }
   ],
   "source": [
    "features_p = data_p[['outlook', 'temperature', 'humidity', 'windy']]\n",
    "print(features_p)"
   ]
  },
  {
   "cell_type": "code",
   "execution_count": 300,
   "metadata": {},
   "outputs": [
    {
     "name": "stdout",
     "output_type": "stream",
     "text": [
      "    outlook  temperature  humidity  windy\n",
      "0         0            0         0      0\n",
      "1         0            0         0      1\n",
      "2         1            0         0      0\n",
      "3         2            1         0      0\n",
      "4         2            2         1      0\n",
      "5         2            2         1      1\n",
      "6         1            2         1      1\n",
      "7         0            1         0      0\n",
      "8         0            2         1      0\n",
      "9         2            1         1      0\n",
      "10        0            1         1      1\n",
      "11        1            1         0      1\n",
      "12        1            0         1      0\n",
      "13        2            1         0      1\n",
      "[0 0 1 1 1 0 1 0 1 1 1 1 1 0]\n"
     ]
    }
   ],
   "source": [
    "# Turning string features into numeric features with minimal code. We use three handy tools:\n",
    "# 1 Pandas' 'apply' function which allows you to apply an operation to all items in the input dataframe\n",
    "# 2 Pandas' 'factorize' which automatically maps each categorical value to a unique integer\n",
    "#           it returns both the converted values, and the mapping it used. We are only interested in the converted\n",
    "#           values (hence the index [0])\n",
    "# 3 Python's lambda functionality 'lambda i: expression' which executes 'expression' any number of input arguments (here: colums)\n",
    "\n",
    "numeric_features_p = features_p.apply(lambda feature: pd.factorize(feature)[0])\n",
    "print(numeric_features_p)\n",
    "\n",
    "numeric_labels_p = pd.factorize(label_p)[0]\n",
    "print(numeric_labels_p)"
   ]
  },
  {
   "cell_type": "markdown",
   "metadata": {},
   "source": [
    "**After working through this tutorial you should know**\n",
    "\n",
    "- how to open and read in a data set from a csv file\n",
    "- how to split the data set into features (i.e., input to your ML algorithm) and labels (i.e., desired output of your ML algorithm)\n",
    "- how to map string values to numeric values\n",
    "- how to import and use a library (here: Pandas) in your Python program"
   ]
  },
  {
   "cell_type": "code",
   "execution_count": null,
   "metadata": {},
   "outputs": [],
   "source": []
  }
 ],
 "metadata": {
  "kernelspec": {
   "display_name": "Python 3",
   "language": "python",
   "name": "python3"
  },
  "language_info": {
   "codemirror_mode": {
    "name": "ipython",
    "version": 3
   },
   "file_extension": ".py",
   "mimetype": "text/x-python",
   "name": "python",
   "nbconvert_exporter": "python",
   "pygments_lexer": "ipython3",
   "version": "3.8.5"
  }
 },
 "nbformat": 4,
 "nbformat_minor": 2
}
