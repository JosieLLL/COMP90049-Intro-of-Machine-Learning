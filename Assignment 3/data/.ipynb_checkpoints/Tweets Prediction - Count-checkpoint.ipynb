{
 "cells": [
  {
   "cell_type": "markdown",
   "metadata": {},
   "source": [
    "# Loading Vocabulary (All Features )"
   ]
  },
  {
   "cell_type": "code",
   "execution_count": 2,
   "metadata": {},
   "outputs": [],
   "source": [
    "features = []\n",
    "word_id = []\n",
    "\n",
    "vocab = open(\"vocab.txt\", mode = 'r')\n",
    "\n",
    "for line in vocab.readlines()[:]:\n",
    "    line = line.strip().split(\"\\t\")\n",
    "    features.append(line[0])\n",
    "    word_id.append(line[1])\n",
    "\n",
    "for i in range(len(word_id)):\n",
    "    word_id[i] = int(word_id[i])\n",
    "\n",
    "    \n",
    "# print(features)\n",
    "# print(word_id)\n",
    "assert(len(features) == len(word_id))"
   ]
  },
  {
   "cell_type": "code",
   "execution_count": 3,
   "metadata": {},
   "outputs": [
    {
     "name": "stdout",
     "output_type": "stream",
     "text": [
      "2038\n"
     ]
    }
   ],
   "source": [
    "print(len(word_id))"
   ]
  },
  {
   "cell_type": "markdown",
   "metadata": {},
   "source": [
    "# Data Pre-processing - Term Frequence (TF)\n",
    "Generalise the TF for each user to all features by using the mapping in the current dataset\n",
    "\n",
    "All feature size is 2038\n",
    "\n",
    "There is a correspoding TF to each wordID. If the wordID is not shown for a user, then the TF for the word is null, which is set to zero for covering the absence of the word in the all-feature list of 2038 for each user."
   ]
  },
  {
   "cell_type": "code",
   "execution_count": 4,
   "metadata": {},
   "outputs": [],
   "source": [
    "y_train_count = []\n",
    "x_train_count = []\n",
    "\n",
    "y_dev_count = []\n",
    "x_dev_count = []\n",
    "\n",
    "y_test_count = []\n",
    "x_test_count = []"
   ]
  },
  {
   "cell_type": "code",
   "execution_count": 5,
   "metadata": {},
   "outputs": [],
   "source": [
    "def load_data(filename, labels):\n",
    "    data = []\n",
    "    \n",
    "    count_data = open (filename, mode = 'r')\n",
    "    for line in count_data.readlines()[1:]:\n",
    "        line = line.strip().split(\",\", 2)\n",
    "        label = line[0]\n",
    "        labels.append(label)\n",
    "        numbers = line[2].replace('\"', '').replace('[', '').replace(']','').replace('(','').replace(')','')\n",
    "        data.append(numbers)\n",
    "        \n",
    "    return data"
   ]
  },
  {
   "cell_type": "code",
   "execution_count": 6,
   "metadata": {},
   "outputs": [],
   "source": [
    "def format_numbers(dataset):\n",
    "    numbers = []\n",
    "\n",
    "    for data in dataset:\n",
    "        nums = data.split(',')\n",
    "        temp = []\n",
    "        for num in nums:\n",
    "            num = num.strip().replace('.0', '')\n",
    "            num = int(num)\n",
    "            temp.append(num)\n",
    "        numbers.append(temp)\n",
    "        \n",
    "    return numbers"
   ]
  },
  {
   "cell_type": "code",
   "execution_count": 7,
   "metadata": {},
   "outputs": [],
   "source": [
    "def generalize_count_to_all_features(dataset):\n",
    "    tf = [] \n",
    "\n",
    "    for i in range(len(dataset)):\n",
    "        mappings = {}\n",
    "        temp = [0] * len(word_id)\n",
    "\n",
    "        for j in range(len(dataset[i])):\n",
    "            if (j % 2 == 0):\n",
    "                mappings[dataset[i][j]] = dataset[i][j + 1]\n",
    "\n",
    "        keys = list(mappings.keys())\n",
    "\n",
    "        for k in range(len(temp)):\n",
    "            if k in keys:\n",
    "                temp[k] = mappings[k]\n",
    "        tf.append(temp)\n",
    "        \n",
    "    return tf"
   ]
  },
  {
   "cell_type": "code",
   "execution_count": 8,
   "metadata": {},
   "outputs": [],
   "source": [
    "# reorganize all count datasets\n",
    "\n",
    "# train_count\n",
    "train_count = load_data(\"train_count.csv\", y_train_count)\n",
    "formatted_numbers = format_numbers(train_count)\n",
    "x_train_count = generalize_count_to_all_features(formatted_numbers)\n",
    "\n",
    "# dev_count\n",
    "dev_count = load_data(\"dev_count.csv\", y_dev_count)\n",
    "formatted_numbers = format_numbers(dev_count)\n",
    "x_dev_count = generalize_count_to_all_features(formatted_numbers)\n",
    "\n",
    "# tes_count\n",
    "test_count = load_data(\"test_count.csv\", y_test_count)\n",
    "formatted_numbers = format_numbers(test_count)\n",
    "x_test_count = generalize_count_to_all_features(formatted_numbers)"
   ]
  },
  {
   "cell_type": "code",
   "execution_count": 9,
   "metadata": {},
   "outputs": [
    {
     "name": "stdout",
     "output_type": "stream",
     "text": [
      "133795\n",
      "11475\n",
      "12018\n"
     ]
    }
   ],
   "source": [
    "print(len(x_train_count))\n",
    "print(len(x_dev_count))\n",
    "print(len(x_test_count))"
   ]
  },
  {
   "cell_type": "code",
   "execution_count": 10,
   "metadata": {},
   "outputs": [],
   "source": [
    "assert len(x_train_count)==len(y_train_count)\n",
    "assert len(x_dev_count)==len(y_dev_count)\n",
    "assert len(x_test_count)==len(y_test_count)"
   ]
  },
  {
   "cell_type": "markdown",
   "metadata": {},
   "source": [
    "# Training Model - Baseline (One-R)"
   ]
  },
  {
   "cell_type": "markdown",
   "metadata": {},
   "source": [
    "Feature Selection - Chi2"
   ]
  },
  {
   "cell_type": "code",
   "execution_count": 14,
   "metadata": {},
   "outputs": [],
   "source": [
    "import numpy as np\n",
    "from sklearn.feature_selection import SelectKBest, chi2\n",
    "\n",
    "x2 = SelectKBest(chi2, k=1)\n",
    "\n",
    "x2.fit_transform(x_train_count, y_train_count)\n",
    "best_feature_x2 = x2.get_support(indices=True)"
   ]
  },
  {
   "cell_type": "code",
   "execution_count": 15,
   "metadata": {},
   "outputs": [
    {
     "name": "stdout",
     "output_type": "stream",
     "text": [
      "[0]\n"
     ]
    }
   ],
   "source": [
    "print(best_feature_x2)"
   ]
  },
  {
   "cell_type": "markdown",
   "metadata": {},
   "source": [
    "Feature Selection - MI"
   ]
  },
  {
   "cell_type": "code",
   "execution_count": 16,
   "metadata": {},
   "outputs": [],
   "source": [
    "from sklearn.feature_selection import mutual_info_classif\n",
    "\n",
    "mi = SelectKBest(score_func=mutual_info_classif, k=1)\n",
    "\n",
    "mi.fit_transform(x_train_count, y_train_count)\n",
    "best_feature_mi = mi.get_support(indices=True)"
   ]
  },
  {
   "cell_type": "code",
   "execution_count": 17,
   "metadata": {},
   "outputs": [
    {
     "name": "stdout",
     "output_type": "stream",
     "text": [
      "[946]\n"
     ]
    }
   ],
   "source": [
    "print(best_feature_mi)"
   ]
  },
  {
   "cell_type": "markdown",
   "metadata": {},
   "source": [
    "Apply oneR Model - dummy way"
   ]
  },
  {
   "cell_type": "code",
   "execution_count": 18,
   "metadata": {},
   "outputs": [],
   "source": [
    "def create_feature_column(features):\n",
    "    feature_column = []\n",
    "    for i in range(len(features[0])):\n",
    "        atts = []\n",
    "        for f in features:\n",
    "            atts.append(f[i])\n",
    "        feature_column.append(atts)\n",
    "        \n",
    "    return feature_column"
   ]
  },
  {
   "cell_type": "code",
   "execution_count": 19,
   "metadata": {},
   "outputs": [],
   "source": [
    "x_train_count_columns = create_feature_column(x_train_count)"
   ]
  },
  {
   "cell_type": "markdown",
   "metadata": {},
   "source": [
    "Using best feature selected by Chi2"
   ]
  },
  {
   "cell_type": "code",
   "execution_count": 20,
   "metadata": {},
   "outputs": [],
   "source": [
    "from collections import Counter\n",
    "from sklearn.metrics import accuracy_score\n",
    "\n",
    "target_label = []\n",
    "for i in range(len(x_train_count_columns[0])):\n",
    "    if (x_train_count_columns[0][i] != 0):\n",
    "        target_label.append(y_train_count[i]) \n",
    "count_majority_label = Counter(target_label).most_common()[0][0]"
   ]
  },
  {
   "cell_type": "code",
   "execution_count": 21,
   "metadata": {},
   "outputs": [],
   "source": [
    "y_oneR_count_chi2 = [count_majority_label] * len(y_dev_count)"
   ]
  },
  {
   "cell_type": "code",
   "execution_count": 13,
   "metadata": {
    "scrolled": true
   },
   "outputs": [
    {
     "ename": "NameError",
     "evalue": "name 'y_oneR_count_chi2' is not defined",
     "output_type": "error",
     "traceback": [
      "\u001b[0;31m---------------------------------------------------------------------------\u001b[0m",
      "\u001b[0;31mNameError\u001b[0m                                 Traceback (most recent call last)",
      "\u001b[0;32m<ipython-input-13-e5f3c99bb342>\u001b[0m in \u001b[0;36m<module>\u001b[0;34m\u001b[0m\n\u001b[1;32m      1\u001b[0m \u001b[0;32mfrom\u001b[0m \u001b[0msklearn\u001b[0m\u001b[0;34m.\u001b[0m\u001b[0mmetrics\u001b[0m \u001b[0;32mimport\u001b[0m \u001b[0mclassification_report\u001b[0m\u001b[0;34m\u001b[0m\u001b[0;34m\u001b[0m\u001b[0m\n\u001b[0;32m----> 2\u001b[0;31m \u001b[0mprint\u001b[0m\u001b[0;34m(\u001b[0m\u001b[0mclassification_report\u001b[0m\u001b[0;34m(\u001b[0m\u001b[0my_dev_count\u001b[0m\u001b[0;34m,\u001b[0m \u001b[0my_oneR_count_chi2\u001b[0m\u001b[0;34m,\u001b[0m \u001b[0mtarget_names\u001b[0m \u001b[0;34m=\u001b[0m \u001b[0;34m[\u001b[0m\u001b[0;34m'MIDWEST'\u001b[0m\u001b[0;34m,\u001b[0m \u001b[0;34m'NORTHEAST'\u001b[0m\u001b[0;34m,\u001b[0m \u001b[0;34m'SOUTH'\u001b[0m\u001b[0;34m,\u001b[0m \u001b[0;34m'WEST'\u001b[0m\u001b[0;34m]\u001b[0m\u001b[0;34m)\u001b[0m\u001b[0;34m)\u001b[0m\u001b[0;34m\u001b[0m\u001b[0;34m\u001b[0m\u001b[0m\n\u001b[0m",
      "\u001b[0;31mNameError\u001b[0m: name 'y_oneR_count_chi2' is not defined"
     ]
    }
   ],
   "source": [
    "from sklearn.metrics import classification_report\n",
    "print(classification_report(y_dev_count, y_oneR_count_chi2, target_names = ['MIDWEST', 'NORTHEAST', 'SOUTH', 'WEST']))"
   ]
  },
  {
   "cell_type": "markdown",
   "metadata": {},
   "source": [
    "Using best feature selected by MI"
   ]
  },
  {
   "cell_type": "code",
   "execution_count": 24,
   "metadata": {},
   "outputs": [],
   "source": [
    "target_label = []\n",
    "for i in range(len(x_train_count_columns[946])):\n",
    "    if (x_train_count_columns[946][i] != 0):\n",
    "        target_label.append(y_train_count[i]) \n",
    "count_majority_label = Counter(target_label).most_common()[0][0]"
   ]
  },
  {
   "cell_type": "code",
   "execution_count": 25,
   "metadata": {},
   "outputs": [],
   "source": [
    "y_oneR_count_mi = [count_majority_label] * len(y_dev_count)"
   ]
  },
  {
   "cell_type": "code",
   "execution_count": 26,
   "metadata": {},
   "outputs": [
    {
     "name": "stdout",
     "output_type": "stream",
     "text": [
      "              precision    recall  f1-score   support\n",
      "\n",
      "     MIDWEST       0.00      0.00      0.00      1484\n",
      "   NORTHEAST       0.37      1.00      0.54      4295\n",
      "       SOUTH       0.00      0.00      0.00      4266\n",
      "        WEST       0.00      0.00      0.00      1430\n",
      "\n",
      "    accuracy                           0.37     11475\n",
      "   macro avg       0.09      0.25      0.14     11475\n",
      "weighted avg       0.14      0.37      0.20     11475\n",
      "\n"
     ]
    }
   ],
   "source": [
    "print(classification_report(y_dev_count, y_oneR_count_mi, target_names = ['MIDWEST', 'NORTHEAST', 'SOUTH', 'WEST']))"
   ]
  },
  {
   "cell_type": "markdown",
   "metadata": {},
   "source": [
    "Apply oneR Model - decision tree"
   ]
  },
  {
   "cell_type": "code",
   "execution_count": 27,
   "metadata": {},
   "outputs": [],
   "source": [
    "from sklearn.tree import DecisionTreeClassifier\n",
    "\n",
    "dt1 = DecisionTreeClassifier(max_depth=1)\n",
    "dt1.fit(x_train_count, y_train_count)\n",
    "y_oneR_count = dt1.predict(x_dev_count)"
   ]
  },
  {
   "cell_type": "code",
   "execution_count": 28,
   "metadata": {},
   "outputs": [
    {
     "name": "stdout",
     "output_type": "stream",
     "text": [
      "              precision    recall  f1-score   support\n",
      "\n",
      "     MIDWEST       0.00      0.00      0.00      1484\n",
      "   NORTHEAST       0.41      0.81      0.54      4295\n",
      "       SOUTH       0.40      0.28      0.33      4266\n",
      "        WEST       0.00      0.00      0.00      1430\n",
      "\n",
      "    accuracy                           0.41     11475\n",
      "   macro avg       0.20      0.27      0.22     11475\n",
      "weighted avg       0.30      0.41      0.33     11475\n",
      "\n"
     ]
    },
    {
     "name": "stderr",
     "output_type": "stream",
     "text": [
      "/Users/lijiayi/opt/anaconda3/lib/python3.8/site-packages/sklearn/metrics/_classification.py:1221: UndefinedMetricWarning: Precision and F-score are ill-defined and being set to 0.0 in labels with no predicted samples. Use `zero_division` parameter to control this behavior.\n",
      "  _warn_prf(average, modifier, msg_start, len(result))\n"
     ]
    }
   ],
   "source": [
    "print(classification_report(y_dev_count, y_oneR_count, target_names = ['MIDWEST', 'NORTHEAST', 'SOUTH', 'WEST']))"
   ]
  },
  {
   "cell_type": "markdown",
   "metadata": {},
   "source": [
    "# Training Model - Logistic Regression (LR)"
   ]
  },
  {
   "cell_type": "code",
   "execution_count": 11,
   "metadata": {},
   "outputs": [],
   "source": [
    "from sklearn.linear_model import LogisticRegression\n",
    "\n",
    "LR = LogisticRegression(max_iter=2000)\n",
    "\n",
    "LR.fit(x_train_count, y_train_count)\n",
    "\n",
    "y_LR_count = LR.predict(x_dev_count)"
   ]
  },
  {
   "cell_type": "code",
   "execution_count": 14,
   "metadata": {},
   "outputs": [
    {
     "name": "stdout",
     "output_type": "stream",
     "text": [
      "              precision    recall  f1-score   support\n",
      "\n",
      "     MIDWEST       0.24      0.02      0.03      1484\n",
      "   NORTHEAST       0.50      0.63      0.56      4295\n",
      "       SOUTH       0.43      0.58      0.50      4266\n",
      "        WEST       0.20      0.03      0.05      1430\n",
      "\n",
      "    accuracy                           0.46     11475\n",
      "   macro avg       0.34      0.31      0.28     11475\n",
      "weighted avg       0.40      0.46      0.40     11475\n",
      "\n"
     ]
    }
   ],
   "source": [
    "print(classification_report(y_dev_count, y_LR_count, target_names = ['MIDWEST', 'NORTHEAST', 'SOUTH', 'WEST']))"
   ]
  },
  {
   "cell_type": "code",
   "execution_count": 15,
   "metadata": {},
   "outputs": [
    {
     "name": "stdout",
     "output_type": "stream",
     "text": [
      "4\n"
     ]
    }
   ],
   "source": [
    "print(len(LR.coef_))"
   ]
  },
  {
   "cell_type": "code",
   "execution_count": 16,
   "metadata": {},
   "outputs": [],
   "source": [
    "y_predict_count = LR.predict(x_test_count)"
   ]
  },
  {
   "cell_type": "code",
   "execution_count": 17,
   "metadata": {},
   "outputs": [
    {
     "name": "stdout",
     "output_type": "stream",
     "text": [
      "12018\n"
     ]
    }
   ],
   "source": [
    "print(len(y_predict_count))"
   ]
  },
  {
   "cell_type": "code",
   "execution_count": 25,
   "metadata": {},
   "outputs": [
    {
     "name": "stdout",
     "output_type": "stream",
     "text": [
      "['SOUTH', 'NORTHEAST', 'SOUTH', 'SOUTH', 'NORTHEAST', 'NORTHEAST', 'SOUTH', 'SOUTH', 'NORTHEAST', 'SOUTH', 'SOUTH', 'NORTHEAST', 'NORTHEAST', 'NORTHEAST', 'NORTHEAST', 'SOUTH', 'SOUTH', 'SOUTH', 'NORTHEAST', 'SOUTH', 'SOUTH', 'SOUTH', 'SOUTH', 'SOUTH', 'SOUTH', 'NORTHEAST', 'SOUTH', 'SOUTH', 'NORTHEAST', 'SOUTH', 'SOUTH', 'SOUTH', 'SOUTH', 'NORTHEAST', 'SOUTH', 'SOUTH', 'NORTHEAST', 'NORTHEAST', 'NORTHEAST', 'NORTHEAST', 'SOUTH', 'SOUTH', 'SOUTH', 'NORTHEAST', 'SOUTH', 'SOUTH', 'MIDWEST', 'SOUTH', 'NORTHEAST', 'NORTHEAST', 'NORTHEAST', 'SOUTH', 'SOUTH', 'SOUTH', 'SOUTH', 'SOUTH', 'SOUTH', 'SOUTH', 'SOUTH', 'NORTHEAST', 'SOUTH', 'NORTHEAST', 'NORTHEAST', 'SOUTH', 'SOUTH', 'NORTHEAST', 'SOUTH', 'WEST', 'SOUTH', 'SOUTH', 'SOUTH', 'NORTHEAST', 'NORTHEAST', 'SOUTH', 'SOUTH', 'SOUTH', 'SOUTH', 'NORTHEAST', 'SOUTH', 'NORTHEAST', 'NORTHEAST', 'NORTHEAST', 'SOUTH', 'SOUTH', 'NORTHEAST', 'MIDWEST', 'NORTHEAST', 'SOUTH', 'SOUTH', 'NORTHEAST', 'NORTHEAST', 'SOUTH', 'SOUTH', 'SOUTH', 'SOUTH', 'SOUTH', 'NORTHEAST', 'NORTHEAST', 'SOUTH', 'NORTHEAST', 'NORTHEAST', 'NORTHEAST', 'SOUTH', 'SOUTH', 'NORTHEAST', 'NORTHEAST', 'NORTHEAST', 'NORTHEAST', 'NORTHEAST', 'NORTHEAST', 'NORTHEAST', 'NORTHEAST', 'NORTHEAST', 'SOUTH', 'SOUTH', 'NORTHEAST', 'NORTHEAST', 'SOUTH', 'NORTHEAST', 'NORTHEAST', 'NORTHEAST', 'SOUTH', 'NORTHEAST', 'NORTHEAST', 'SOUTH', 'SOUTH', 'SOUTH', 'NORTHEAST', 'NORTHEAST', 'SOUTH', 'SOUTH', 'NORTHEAST', 'NORTHEAST', 'SOUTH', 'NORTHEAST', 'NORTHEAST', 'NORTHEAST', 'SOUTH', 'WEST', 'NORTHEAST', 'NORTHEAST', 'NORTHEAST', 'SOUTH', 'SOUTH', 'SOUTH', 'SOUTH', 'NORTHEAST', 'SOUTH', 'WEST', 'SOUTH', 'SOUTH', 'NORTHEAST', 'SOUTH', 'NORTHEAST', 'SOUTH', 'WEST', 'SOUTH', 'SOUTH', 'SOUTH', 'SOUTH', 'SOUTH', 'NORTHEAST', 'SOUTH', 'NORTHEAST', 'SOUTH', 'NORTHEAST', 'NORTHEAST', 'SOUTH', 'NORTHEAST', 'SOUTH', 'NORTHEAST', 'NORTHEAST', 'SOUTH', 'NORTHEAST', 'NORTHEAST', 'NORTHEAST', 'NORTHEAST', 'NORTHEAST', 'NORTHEAST', 'NORTHEAST', 'NORTHEAST', 'SOUTH', 'NORTHEAST', 'NORTHEAST', 'NORTHEAST', 'NORTHEAST', 'NORTHEAST', 'NORTHEAST', 'NORTHEAST', 'NORTHEAST', 'NORTHEAST', 'SOUTH', 'NORTHEAST', 'NORTHEAST', 'SOUTH', 'NORTHEAST', 'NORTHEAST', 'NORTHEAST', 'NORTHEAST', 'NORTHEAST', 'NORTHEAST', 'NORTHEAST', 'NORTHEAST', 'NORTHEAST', 'NORTHEAST', 'NORTHEAST', 'NORTHEAST', 'NORTHEAST', 'NORTHEAST', 'NORTHEAST', 'NORTHEAST', 'SOUTH', 'NORTHEAST', 'SOUTH', 'NORTHEAST', 'SOUTH', 'SOUTH', 'SOUTH', 'NORTHEAST', 'SOUTH', 'SOUTH', 'NORTHEAST', 'SOUTH', 'NORTHEAST', 'NORTHEAST', 'SOUTH', 'SOUTH', 'SOUTH', 'NORTHEAST', 'SOUTH', 'NORTHEAST', 'SOUTH', 'SOUTH', 'SOUTH', 'SOUTH', 'SOUTH', 'SOUTH', 'WEST', 'SOUTH', 'NORTHEAST', 'WEST', 'SOUTH', 'NORTHEAST', 'NORTHEAST', 'NORTHEAST', 'SOUTH', 'SOUTH', 'NORTHEAST', 'NORTHEAST', 'NORTHEAST', 'SOUTH', 'WEST', 'SOUTH', 'SOUTH', 'SOUTH', 'NORTHEAST', 'NORTHEAST', 'SOUTH', 'SOUTH', 'SOUTH', 'SOUTH', 'NORTHEAST', 'NORTHEAST', 'NORTHEAST', 'SOUTH', 'SOUTH', 'SOUTH', 'SOUTH', 'SOUTH', 'SOUTH', 'SOUTH', 'SOUTH', 'NORTHEAST', 'NORTHEAST', 'SOUTH', 'SOUTH', 'SOUTH', 'SOUTH', 'SOUTH', 'SOUTH', 'SOUTH', 'SOUTH', 'NORTHEAST', 'SOUTH', 'NORTHEAST', 'SOUTH', 'WEST', 'SOUTH', 'NORTHEAST', 'SOUTH', 'SOUTH', 'NORTHEAST', 'SOUTH', 'SOUTH', 'NORTHEAST', 'SOUTH', 'SOUTH', 'NORTHEAST', 'SOUTH', 'NORTHEAST', 'NORTHEAST', 'NORTHEAST', 'SOUTH', 'NORTHEAST', 'NORTHEAST', 'SOUTH', 'SOUTH', 'NORTHEAST', 'NORTHEAST', 'SOUTH', 'NORTHEAST', 'NORTHEAST', 'SOUTH', 'NORTHEAST', 'NORTHEAST', 'NORTHEAST', 'NORTHEAST', 'NORTHEAST', 'NORTHEAST', 'NORTHEAST', 'NORTHEAST', 'SOUTH', 'NORTHEAST', 'NORTHEAST', 'NORTHEAST', 'SOUTH', 'SOUTH', 'SOUTH', 'SOUTH', 'SOUTH', 'NORTHEAST', 'NORTHEAST', 'SOUTH', 'SOUTH', 'SOUTH', 'SOUTH', 'NORTHEAST', 'NORTHEAST', 'SOUTH', 'NORTHEAST', 'SOUTH', 'SOUTH', 'SOUTH', 'SOUTH', 'NORTHEAST', 'NORTHEAST', 'NORTHEAST', 'SOUTH', 'NORTHEAST', 'NORTHEAST', 'SOUTH', 'NORTHEAST', 'SOUTH', 'NORTHEAST', 'SOUTH', 'SOUTH', 'WEST', 'NORTHEAST', 'SOUTH', 'NORTHEAST', 'SOUTH', 'SOUTH', 'SOUTH', 'NORTHEAST', 'SOUTH', 'SOUTH', 'NORTHEAST', 'SOUTH', 'SOUTH', 'SOUTH', 'SOUTH', 'SOUTH', 'NORTHEAST', 'SOUTH', 'SOUTH', 'SOUTH', 'SOUTH', 'NORTHEAST', 'SOUTH', 'NORTHEAST', 'SOUTH', 'SOUTH', 'NORTHEAST', 'SOUTH', 'SOUTH', 'SOUTH', 'NORTHEAST', 'NORTHEAST', 'NORTHEAST', 'SOUTH', 'NORTHEAST', 'SOUTH', 'NORTHEAST', 'NORTHEAST', 'NORTHEAST', 'NORTHEAST', 'NORTHEAST', 'SOUTH', 'SOUTH', 'NORTHEAST', 'NORTHEAST', 'NORTHEAST', 'SOUTH', 'NORTHEAST', 'NORTHEAST', 'NORTHEAST', 'MIDWEST', 'NORTHEAST', 'NORTHEAST', 'NORTHEAST', 'SOUTH', 'NORTHEAST', 'SOUTH', 'NORTHEAST', 'NORTHEAST', 'NORTHEAST', 'NORTHEAST', 'NORTHEAST', 'NORTHEAST', 'NORTHEAST', 'NORTHEAST', 'NORTHEAST', 'NORTHEAST', 'NORTHEAST', 'NORTHEAST', 'WEST', 'SOUTH', 'SOUTH', 'SOUTH', 'SOUTH', 'SOUTH', 'SOUTH', 'SOUTH', 'SOUTH', 'SOUTH', 'MIDWEST', 'SOUTH', 'NORTHEAST', 'SOUTH', 'SOUTH', 'NORTHEAST', 'SOUTH', 'SOUTH', 'NORTHEAST', 'SOUTH', 'SOUTH', 'SOUTH', 'SOUTH', 'SOUTH', 'SOUTH', 'SOUTH', 'SOUTH', 'SOUTH', 'SOUTH', 'SOUTH', 'SOUTH', 'NORTHEAST', 'SOUTH', 'SOUTH', 'SOUTH', 'SOUTH', 'SOUTH', 'NORTHEAST', 'NORTHEAST', 'NORTHEAST', 'NORTHEAST', 'NORTHEAST', 'SOUTH', 'NORTHEAST', 'NORTHEAST', 'SOUTH', 'NORTHEAST', 'SOUTH', 'NORTHEAST', 'NORTHEAST', 'SOUTH', 'NORTHEAST', 'NORTHEAST', 'NORTHEAST', 'NORTHEAST', 'NORTHEAST', 'NORTHEAST', 'SOUTH', 'SOUTH', 'NORTHEAST', 'NORTHEAST', 'NORTHEAST', 'NORTHEAST', 'SOUTH', 'NORTHEAST', 'SOUTH', 'NORTHEAST', 'NORTHEAST', 'NORTHEAST', 'SOUTH', 'SOUTH', 'NORTHEAST', 'NORTHEAST', 'SOUTH', 'SOUTH', 'SOUTH', 'SOUTH', 'SOUTH', 'SOUTH', 'NORTHEAST', 'NORTHEAST', 'SOUTH', 'SOUTH', 'SOUTH', 'SOUTH', 'SOUTH', 'SOUTH', 'SOUTH', 'NORTHEAST', 'SOUTH', 'NORTHEAST', 'SOUTH', 'NORTHEAST', 'NORTHEAST', 'NORTHEAST', 'SOUTH', 'SOUTH', 'NORTHEAST', 'SOUTH', 'SOUTH', 'SOUTH', 'SOUTH', 'NORTHEAST', 'SOUTH', 'WEST', 'SOUTH', 'SOUTH', 'SOUTH', 'SOUTH', 'SOUTH', 'NORTHEAST', 'SOUTH', 'NORTHEAST', 'SOUTH', 'SOUTH', 'NORTHEAST', 'SOUTH', 'SOUTH', 'SOUTH', 'NORTHEAST', 'NORTHEAST', 'NORTHEAST', 'SOUTH', 'NORTHEAST', 'NORTHEAST', 'SOUTH', 'NORTHEAST', 'NORTHEAST', 'NORTHEAST', 'SOUTH', 'SOUTH', 'NORTHEAST', 'NORTHEAST', 'SOUTH', 'SOUTH', 'NORTHEAST', 'SOUTH', 'NORTHEAST', 'SOUTH', 'SOUTH', 'NORTHEAST', 'NORTHEAST', 'NORTHEAST', 'NORTHEAST', 'SOUTH', 'SOUTH', 'SOUTH', 'NORTHEAST', 'SOUTH', 'SOUTH', 'SOUTH', 'SOUTH', 'SOUTH', 'NORTHEAST', 'NORTHEAST', 'SOUTH', 'NORTHEAST', 'SOUTH', 'NORTHEAST', 'SOUTH', 'SOUTH', 'SOUTH', 'SOUTH', 'SOUTH', 'NORTHEAST', 'SOUTH', 'SOUTH', 'NORTHEAST', 'MIDWEST', 'NORTHEAST', 'NORTHEAST', 'NORTHEAST', 'NORTHEAST', 'NORTHEAST', 'NORTHEAST', 'SOUTH', 'SOUTH', 'SOUTH', 'SOUTH', 'SOUTH', 'SOUTH', 'SOUTH', 'NORTHEAST', 'SOUTH', 'SOUTH', 'NORTHEAST', 'SOUTH', 'SOUTH', 'SOUTH', 'SOUTH', 'SOUTH', 'SOUTH', 'SOUTH', 'SOUTH', 'SOUTH', 'SOUTH', 'NORTHEAST', 'NORTHEAST', 'NORTHEAST', 'NORTHEAST', 'SOUTH', 'NORTHEAST', 'SOUTH', 'NORTHEAST', 'SOUTH', 'NORTHEAST', 'SOUTH', 'SOUTH', 'SOUTH', 'NORTHEAST', 'SOUTH', 'NORTHEAST', 'NORTHEAST', 'NORTHEAST', 'NORTHEAST', 'SOUTH', 'NORTHEAST', 'SOUTH', 'NORTHEAST', 'NORTHEAST', 'SOUTH', 'SOUTH', 'NORTHEAST', 'NORTHEAST', 'SOUTH', 'SOUTH', 'NORTHEAST', 'NORTHEAST', 'SOUTH', 'NORTHEAST', 'NORTHEAST', 'NORTHEAST', 'SOUTH', 'NORTHEAST', 'SOUTH', 'SOUTH', 'SOUTH', 'SOUTH', 'SOUTH', 'NORTHEAST', 'NORTHEAST', 'NORTHEAST', 'SOUTH', 'SOUTH', 'NORTHEAST', 'NORTHEAST', 'SOUTH', 'SOUTH', 'NORTHEAST', 'SOUTH', 'SOUTH', 'SOUTH', 'SOUTH', 'NORTHEAST', 'NORTHEAST', 'SOUTH', 'NORTHEAST', 'SOUTH', 'SOUTH', 'SOUTH', 'SOUTH', 'SOUTH', 'SOUTH', 'SOUTH', 'SOUTH', 'SOUTH', 'NORTHEAST', 'NORTHEAST', 'NORTHEAST', 'NORTHEAST', 'NORTHEAST', 'SOUTH', 'SOUTH', 'SOUTH', 'SOUTH', 'SOUTH', 'SOUTH', 'SOUTH', 'SOUTH', 'NORTHEAST', 'SOUTH', 'SOUTH', 'SOUTH', 'SOUTH', 'WEST', 'SOUTH', 'SOUTH', 'SOUTH', 'SOUTH', 'NORTHEAST', 'NORTHEAST', 'SOUTH', 'SOUTH', 'SOUTH', 'SOUTH', 'NORTHEAST', 'SOUTH', 'SOUTH', 'SOUTH', 'NORTHEAST', 'SOUTH', 'SOUTH', 'NORTHEAST', 'SOUTH', 'NORTHEAST', 'SOUTH', 'SOUTH', 'SOUTH', 'SOUTH', 'SOUTH', 'SOUTH', 'SOUTH', 'NORTHEAST', 'SOUTH', 'NORTHEAST', 'NORTHEAST', 'NORTHEAST', 'SOUTH', 'NORTHEAST', 'SOUTH', 'SOUTH', 'SOUTH', 'SOUTH', 'NORTHEAST', 'SOUTH', 'NORTHEAST', 'SOUTH', 'NORTHEAST', 'SOUTH', 'SOUTH', 'SOUTH', 'NORTHEAST', 'SOUTH', 'SOUTH', 'SOUTH', 'SOUTH', 'SOUTH', 'SOUTH', 'NORTHEAST', 'SOUTH', 'SOUTH', 'SOUTH', 'SOUTH', 'SOUTH', 'SOUTH', 'NORTHEAST', 'SOUTH', 'NORTHEAST', 'SOUTH', 'NORTHEAST', 'NORTHEAST', 'NORTHEAST', 'SOUTH', 'SOUTH', 'SOUTH', 'WEST', 'NORTHEAST', 'NORTHEAST', 'SOUTH', 'SOUTH', 'SOUTH', 'NORTHEAST', 'NORTHEAST', 'SOUTH', 'SOUTH', 'SOUTH', 'NORTHEAST', 'SOUTH', 'NORTHEAST', 'SOUTH', 'NORTHEAST', 'NORTHEAST', 'SOUTH', 'NORTHEAST', 'SOUTH', 'NORTHEAST', 'NORTHEAST', 'NORTHEAST', 'NORTHEAST', 'NORTHEAST', 'NORTHEAST', 'NORTHEAST', 'NORTHEAST', 'NORTHEAST', 'NORTHEAST', 'NORTHEAST', 'NORTHEAST', 'SOUTH', 'NORTHEAST', 'NORTHEAST', 'NORTHEAST', 'NORTHEAST', 'NORTHEAST', 'NORTHEAST', 'NORTHEAST', 'NORTHEAST', 'SOUTH', 'SOUTH', 'SOUTH', 'SOUTH', 'WEST', 'SOUTH', 'NORTHEAST', 'SOUTH', 'NORTHEAST', 'SOUTH', 'WEST', 'SOUTH', 'NORTHEAST', 'SOUTH', 'SOUTH', 'NORTHEAST', 'SOUTH', 'SOUTH', 'NORTHEAST', 'SOUTH', 'SOUTH', 'NORTHEAST', 'SOUTH', 'NORTHEAST', 'SOUTH', 'SOUTH', 'SOUTH', 'NORTHEAST', 'SOUTH', 'NORTHEAST', 'SOUTH', 'SOUTH', 'NORTHEAST', 'SOUTH', 'NORTHEAST', 'SOUTH', 'NORTHEAST', 'MIDWEST', 'SOUTH', 'NORTHEAST', 'NORTHEAST', 'SOUTH', 'SOUTH', 'NORTHEAST', 'SOUTH', 'SOUTH', 'SOUTH', 'SOUTH', 'NORTHEAST', 'SOUTH', 'WEST', 'NORTHEAST', 'SOUTH', 'SOUTH', 'NORTHEAST', 'SOUTH', 'SOUTH', 'SOUTH', 'NORTHEAST', 'SOUTH', 'NORTHEAST', 'SOUTH', 'NORTHEAST', 'SOUTH', 'SOUTH', 'SOUTH', 'SOUTH', 'WEST', 'NORTHEAST', 'NORTHEAST', 'SOUTH', 'NORTHEAST', 'SOUTH', 'SOUTH', 'SOUTH', 'SOUTH', 'SOUTH', 'SOUTH', 'SOUTH', 'SOUTH', 'SOUTH', 'SOUTH', 'SOUTH', 'SOUTH', 'SOUTH', 'NORTHEAST', 'SOUTH', 'NORTHEAST', 'SOUTH', 'NORTHEAST', 'NORTHEAST', 'NORTHEAST', 'NORTHEAST', 'NORTHEAST', 'NORTHEAST', 'SOUTH', 'NORTHEAST', 'SOUTH', 'NORTHEAST', 'NORTHEAST', 'NORTHEAST', 'NORTHEAST', 'SOUTH', 'NORTHEAST', 'NORTHEAST', 'NORTHEAST', 'NORTHEAST', 'NORTHEAST', 'SOUTH', 'NORTHEAST', 'NORTHEAST', 'SOUTH', 'SOUTH', 'NORTHEAST', 'NORTHEAST', 'NORTHEAST', 'NORTHEAST', 'NORTHEAST', 'NORTHEAST', 'NORTHEAST', 'NORTHEAST', 'NORTHEAST', 'NORTHEAST', 'NORTHEAST', 'NORTHEAST', 'NORTHEAST', 'NORTHEAST', 'NORTHEAST', 'NORTHEAST', 'NORTHEAST', 'NORTHEAST', 'NORTHEAST', 'NORTHEAST', 'NORTHEAST', 'SOUTH', 'SOUTH', 'NORTHEAST', 'NORTHEAST', 'SOUTH', 'NORTHEAST', 'NORTHEAST', 'NORTHEAST', 'NORTHEAST', 'NORTHEAST', 'NORTHEAST', 'SOUTH', 'NORTHEAST', 'NORTHEAST', 'NORTHEAST', 'NORTHEAST', 'SOUTH', 'SOUTH', 'SOUTH', 'WEST', 'SOUTH', 'SOUTH', 'NORTHEAST', 'SOUTH', 'SOUTH', 'SOUTH', 'NORTHEAST', 'SOUTH', 'SOUTH', 'SOUTH', 'NORTHEAST', 'SOUTH', 'SOUTH', 'SOUTH', 'SOUTH', 'SOUTH', 'MIDWEST', 'SOUTH', 'SOUTH', 'NORTHEAST', 'SOUTH', 'SOUTH', 'NORTHEAST', 'SOUTH', 'SOUTH', 'NORTHEAST', 'NORTHEAST', 'WEST', 'NORTHEAST', 'NORTHEAST', 'SOUTH', 'SOUTH', 'SOUTH', 'SOUTH', 'SOUTH', 'SOUTH', 'SOUTH', 'SOUTH', 'SOUTH', 'SOUTH', 'SOUTH', 'SOUTH', 'SOUTH', 'NORTHEAST', 'SOUTH', 'SOUTH', 'SOUTH', 'NORTHEAST', 'SOUTH', 'NORTHEAST', 'NORTHEAST', 'NORTHEAST', 'SOUTH', 'NORTHEAST', 'SOUTH', 'NORTHEAST', 'SOUTH', 'SOUTH', 'NORTHEAST', 'MIDWEST', 'SOUTH', 'SOUTH', 'NORTHEAST', 'NORTHEAST', 'NORTHEAST', 'NORTHEAST', 'NORTHEAST', 'NORTHEAST', 'NORTHEAST', 'NORTHEAST', 'NORTHEAST', 'NORTHEAST', 'NORTHEAST', 'NORTHEAST', 'NORTHEAST', 'SOUTH', 'NORTHEAST', 'SOUTH', 'NORTHEAST', 'NORTHEAST', 'NORTHEAST', 'NORTHEAST', 'SOUTH', 'NORTHEAST', 'NORTHEAST', 'NORTHEAST', 'NORTHEAST', 'NORTHEAST', 'SOUTH', 'NORTHEAST', 'NORTHEAST', 'NORTHEAST', 'SOUTH', 'NORTHEAST', 'NORTHEAST', 'NORTHEAST', 'NORTHEAST', 'SOUTH', 'SOUTH', 'NORTHEAST', 'SOUTH', 'NORTHEAST', 'NORTHEAST', 'NORTHEAST', 'NORTHEAST', 'NORTHEAST', 'SOUTH', 'SOUTH', 'NORTHEAST', 'NORTHEAST', 'NORTHEAST', 'SOUTH', 'SOUTH', 'NORTHEAST', 'SOUTH', 'WEST', 'SOUTH', 'SOUTH', 'NORTHEAST', 'SOUTH', 'NORTHEAST', 'NORTHEAST', 'SOUTH', 'NORTHEAST', 'SOUTH', 'NORTHEAST', 'SOUTH', 'NORTHEAST', 'NORTHEAST', 'NORTHEAST', 'SOUTH', 'SOUTH', 'NORTHEAST', 'NORTHEAST', 'NORTHEAST', 'NORTHEAST', 'SOUTH', 'NORTHEAST', 'NORTHEAST', 'NORTHEAST', 'SOUTH', 'NORTHEAST', 'NORTHEAST', 'NORTHEAST', 'NORTHEAST', 'SOUTH', 'WEST', 'NORTHEAST', 'NORTHEAST', 'NORTHEAST', 'SOUTH', 'NORTHEAST', 'SOUTH', 'SOUTH', 'NORTHEAST', 'NORTHEAST', 'NORTHEAST', 'NORTHEAST', 'WEST', 'SOUTH', 'NORTHEAST', 'SOUTH', 'SOUTH', 'NORTHEAST', 'NORTHEAST', 'SOUTH', 'SOUTH', 'NORTHEAST', 'SOUTH', 'SOUTH', 'NORTHEAST', 'NORTHEAST', 'SOUTH', 'NORTHEAST', 'NORTHEAST', 'NORTHEAST', 'NORTHEAST', 'SOUTH', 'SOUTH', 'SOUTH', 'NORTHEAST', 'SOUTH', 'SOUTH', 'NORTHEAST', 'NORTHEAST', 'SOUTH', 'NORTHEAST', 'NORTHEAST', 'SOUTH', 'NORTHEAST', 'NORTHEAST', 'NORTHEAST', 'SOUTH', 'NORTHEAST', 'NORTHEAST', 'WEST', 'SOUTH', 'SOUTH', 'NORTHEAST', 'SOUTH', 'SOUTH', 'NORTHEAST', 'NORTHEAST', 'NORTHEAST', 'NORTHEAST', 'SOUTH', 'NORTHEAST', 'NORTHEAST', 'NORTHEAST', 'SOUTH', 'NORTHEAST', 'SOUTH', 'NORTHEAST', 'SOUTH', 'NORTHEAST', 'NORTHEAST', 'NORTHEAST', 'NORTHEAST', 'NORTHEAST', 'NORTHEAST', 'NORTHEAST', 'SOUTH', 'NORTHEAST', 'NORTHEAST', 'SOUTH', 'SOUTH', 'NORTHEAST', 'NORTHEAST', 'NORTHEAST', 'NORTHEAST', 'NORTHEAST', 'NORTHEAST', 'NORTHEAST', 'NORTHEAST', 'NORTHEAST', 'NORTHEAST', 'NORTHEAST', 'NORTHEAST', 'NORTHEAST', 'NORTHEAST', 'NORTHEAST', 'NORTHEAST', 'NORTHEAST', 'NORTHEAST', 'NORTHEAST', 'SOUTH', 'SOUTH', 'NORTHEAST', 'NORTHEAST', 'NORTHEAST', 'NORTHEAST', 'NORTHEAST', 'NORTHEAST', 'NORTHEAST', 'SOUTH', 'NORTHEAST', 'NORTHEAST', 'NORTHEAST', 'NORTHEAST', 'NORTHEAST', 'NORTHEAST', 'NORTHEAST', 'NORTHEAST', 'SOUTH', 'NORTHEAST', 'NORTHEAST', 'NORTHEAST', 'NORTHEAST', 'SOUTH', 'SOUTH', 'SOUTH', 'NORTHEAST', 'SOUTH', 'NORTHEAST', 'NORTHEAST', 'NORTHEAST', 'NORTHEAST', 'NORTHEAST', 'NORTHEAST', 'NORTHEAST', 'NORTHEAST', 'NORTHEAST', 'NORTHEAST', 'NORTHEAST', 'SOUTH', 'NORTHEAST', 'NORTHEAST', 'NORTHEAST', 'NORTHEAST', 'NORTHEAST', 'NORTHEAST', 'NORTHEAST', 'NORTHEAST', 'NORTHEAST', 'NORTHEAST', 'NORTHEAST', 'NORTHEAST', 'NORTHEAST', 'SOUTH', 'NORTHEAST', 'NORTHEAST', 'NORTHEAST', 'NORTHEAST', 'NORTHEAST', 'SOUTH', 'NORTHEAST', 'SOUTH', 'SOUTH', 'SOUTH', 'SOUTH', 'SOUTH', 'SOUTH', 'NORTHEAST', 'NORTHEAST', 'SOUTH', 'NORTHEAST', 'SOUTH', 'NORTHEAST', 'NORTHEAST', 'NORTHEAST', 'NORTHEAST', 'SOUTH', 'SOUTH', 'SOUTH', 'SOUTH', 'NORTHEAST', 'SOUTH', 'SOUTH', 'SOUTH', 'SOUTH', 'SOUTH', 'SOUTH', 'SOUTH', 'SOUTH', 'NORTHEAST', 'SOUTH', 'NORTHEAST', 'SOUTH', 'SOUTH', 'SOUTH', 'NORTHEAST', 'SOUTH', 'NORTHEAST', 'SOUTH', 'NORTHEAST', 'NORTHEAST', 'NORTHEAST', 'SOUTH', 'NORTHEAST', 'SOUTH', 'SOUTH', 'NORTHEAST', 'NORTHEAST', 'NORTHEAST', 'NORTHEAST', 'SOUTH', 'MIDWEST', 'NORTHEAST', 'SOUTH', 'NORTHEAST', 'NORTHEAST', 'NORTHEAST', 'SOUTH', 'SOUTH', 'SOUTH', 'NORTHEAST', 'SOUTH', 'SOUTH', 'NORTHEAST', 'SOUTH', 'SOUTH', 'NORTHEAST', 'SOUTH', 'NORTHEAST', 'NORTHEAST', 'SOUTH', 'SOUTH', 'NORTHEAST', 'NORTHEAST', 'NORTHEAST', 'SOUTH', 'NORTHEAST', 'NORTHEAST', 'NORTHEAST', 'MIDWEST', 'SOUTH', 'NORTHEAST', 'SOUTH', 'NORTHEAST', 'NORTHEAST', 'NORTHEAST', 'NORTHEAST', 'SOUTH', 'NORTHEAST', 'SOUTH', 'NORTHEAST', 'SOUTH', 'NORTHEAST', 'NORTHEAST', 'SOUTH', 'WEST', 'NORTHEAST', 'SOUTH', 'SOUTH', 'NORTHEAST', 'SOUTH', 'SOUTH', 'SOUTH', 'NORTHEAST', 'NORTHEAST', 'NORTHEAST', 'NORTHEAST', 'SOUTH', 'SOUTH', 'NORTHEAST', 'SOUTH', 'NORTHEAST', 'SOUTH', 'NORTHEAST', 'SOUTH', 'SOUTH', 'SOUTH', 'NORTHEAST', 'SOUTH', 'SOUTH', 'NORTHEAST', 'NORTHEAST', 'NORTHEAST', 'SOUTH', 'NORTHEAST', 'NORTHEAST', 'SOUTH', 'SOUTH', 'SOUTH', 'NORTHEAST', 'SOUTH', 'SOUTH', 'NORTHEAST', 'SOUTH', 'NORTHEAST', 'NORTHEAST', 'NORTHEAST', 'NORTHEAST', 'NORTHEAST', 'SOUTH', 'NORTHEAST', 'SOUTH', 'SOUTH', 'NORTHEAST', 'SOUTH', 'NORTHEAST', 'SOUTH', 'NORTHEAST', 'NORTHEAST', 'SOUTH', 'NORTHEAST', 'NORTHEAST', 'NORTHEAST', 'NORTHEAST', 'NORTHEAST', 'SOUTH', 'NORTHEAST', 'NORTHEAST', 'SOUTH', 'SOUTH', 'NORTHEAST', 'NORTHEAST', 'NORTHEAST', 'NORTHEAST', 'NORTHEAST', 'NORTHEAST', 'NORTHEAST', 'NORTHEAST', 'SOUTH', 'NORTHEAST', 'NORTHEAST', 'NORTHEAST', 'NORTHEAST', 'SOUTH', 'NORTHEAST', 'SOUTH', 'NORTHEAST', 'NORTHEAST', 'NORTHEAST', 'NORTHEAST', 'SOUTH', 'SOUTH', 'NORTHEAST', 'SOUTH', 'SOUTH', 'NORTHEAST', 'SOUTH', 'SOUTH', 'SOUTH', 'SOUTH', 'NORTHEAST', 'SOUTH', 'NORTHEAST', 'SOUTH', 'SOUTH', 'SOUTH', 'SOUTH', 'SOUTH', 'SOUTH', 'SOUTH', 'MIDWEST', 'SOUTH', 'SOUTH', 'SOUTH', 'SOUTH', 'SOUTH', 'NORTHEAST', 'SOUTH', 'SOUTH', 'NORTHEAST', 'NORTHEAST', 'NORTHEAST', 'SOUTH', 'SOUTH', 'SOUTH', 'SOUTH', 'SOUTH', 'NORTHEAST', 'SOUTH', 'SOUTH', 'SOUTH', 'SOUTH', 'NORTHEAST', 'NORTHEAST', 'SOUTH', 'SOUTH', 'SOUTH', 'NORTHEAST', 'SOUTH', 'SOUTH', 'SOUTH', 'SOUTH', 'SOUTH', 'SOUTH', 'SOUTH', 'NORTHEAST', 'NORTHEAST', 'SOUTH', 'NORTHEAST', 'SOUTH', 'SOUTH', 'NORTHEAST', 'SOUTH', 'SOUTH', 'SOUTH', 'SOUTH', 'SOUTH', 'SOUTH', 'SOUTH', 'NORTHEAST', 'SOUTH', 'SOUTH', 'NORTHEAST', 'NORTHEAST', 'NORTHEAST', 'SOUTH', 'SOUTH', 'SOUTH', 'SOUTH', 'NORTHEAST', 'NORTHEAST', 'NORTHEAST', 'NORTHEAST', 'SOUTH', 'NORTHEAST', 'SOUTH', 'NORTHEAST', 'NORTHEAST', 'NORTHEAST', 'NORTHEAST', 'NORTHEAST', 'NORTHEAST', 'SOUTH', 'SOUTH', 'SOUTH', 'SOUTH', 'SOUTH', 'SOUTH', 'NORTHEAST', 'SOUTH', 'NORTHEAST', 'NORTHEAST', 'SOUTH', 'NORTHEAST', 'SOUTH', 'SOUTH', 'SOUTH', 'SOUTH', 'NORTHEAST', 'NORTHEAST', 'SOUTH', 'SOUTH', 'SOUTH', 'SOUTH', 'SOUTH', 'SOUTH', 'NORTHEAST', 'SOUTH', 'NORTHEAST', 'SOUTH', 'NORTHEAST', 'NORTHEAST', 'NORTHEAST', 'NORTHEAST', 'SOUTH', 'NORTHEAST', 'NORTHEAST', 'NORTHEAST', 'SOUTH', 'NORTHEAST', 'NORTHEAST', 'NORTHEAST', 'NORTHEAST', 'NORTHEAST', 'NORTHEAST', 'NORTHEAST', 'SOUTH', 'NORTHEAST', 'SOUTH', 'SOUTH', 'NORTHEAST', 'NORTHEAST', 'SOUTH', 'NORTHEAST', 'NORTHEAST', 'SOUTH', 'SOUTH', 'NORTHEAST', 'SOUTH', 'SOUTH', 'NORTHEAST', 'NORTHEAST', 'NORTHEAST', 'SOUTH', 'SOUTH', 'NORTHEAST', 'SOUTH', 'SOUTH', 'SOUTH', 'SOUTH', 'NORTHEAST', 'NORTHEAST', 'NORTHEAST', 'NORTHEAST', 'NORTHEAST', 'NORTHEAST', 'SOUTH', 'SOUTH', 'SOUTH', 'SOUTH', 'NORTHEAST', 'NORTHEAST', 'NORTHEAST', 'NORTHEAST', 'SOUTH', 'NORTHEAST', 'NORTHEAST', 'SOUTH', 'NORTHEAST', 'SOUTH', 'NORTHEAST', 'NORTHEAST', 'NORTHEAST', 'NORTHEAST', 'SOUTH', 'SOUTH', 'NORTHEAST', 'NORTHEAST', 'MIDWEST', 'SOUTH', 'NORTHEAST', 'SOUTH', 'NORTHEAST', 'NORTHEAST', 'NORTHEAST', 'SOUTH', 'SOUTH', 'SOUTH', 'NORTHEAST', 'SOUTH', 'NORTHEAST', 'SOUTH', 'NORTHEAST', 'SOUTH', 'NORTHEAST', 'SOUTH', 'SOUTH', 'SOUTH', 'NORTHEAST', 'SOUTH', 'NORTHEAST', 'NORTHEAST', 'NORTHEAST', 'NORTHEAST', 'SOUTH', 'SOUTH', 'NORTHEAST', 'NORTHEAST', 'NORTHEAST', 'SOUTH', 'NORTHEAST', 'NORTHEAST', 'SOUTH', 'SOUTH', 'SOUTH', 'NORTHEAST', 'SOUTH', 'NORTHEAST', 'SOUTH', 'SOUTH', 'NORTHEAST', 'SOUTH', 'SOUTH', 'SOUTH', 'SOUTH', 'SOUTH', 'SOUTH', 'WEST', 'SOUTH', 'SOUTH', 'SOUTH', 'NORTHEAST', 'SOUTH', 'NORTHEAST', 'NORTHEAST', 'SOUTH', 'SOUTH', 'SOUTH', 'SOUTH', 'SOUTH', 'SOUTH', 'SOUTH', 'NORTHEAST', 'SOUTH', 'SOUTH', 'SOUTH', 'NORTHEAST', 'SOUTH', 'SOUTH', 'SOUTH', 'SOUTH', 'NORTHEAST', 'SOUTH', 'SOUTH', 'SOUTH', 'NORTHEAST', 'NORTHEAST', 'NORTHEAST', 'NORTHEAST', 'SOUTH', 'SOUTH', 'NORTHEAST', 'SOUTH', 'SOUTH', 'NORTHEAST', 'NORTHEAST', 'SOUTH', 'NORTHEAST', 'SOUTH', 'SOUTH', 'NORTHEAST', 'NORTHEAST', 'SOUTH', 'SOUTH', 'SOUTH', 'SOUTH', 'NORTHEAST', 'NORTHEAST', 'NORTHEAST', 'SOUTH', 'NORTHEAST', 'SOUTH', 'SOUTH', 'NORTHEAST', 'SOUTH', 'NORTHEAST', 'NORTHEAST', 'SOUTH', 'SOUTH', 'SOUTH', 'SOUTH', 'NORTHEAST', 'SOUTH', 'WEST', 'SOUTH', 'SOUTH', 'SOUTH', 'SOUTH', 'SOUTH', 'SOUTH', 'NORTHEAST', 'SOUTH', 'SOUTH', 'SOUTH', 'SOUTH', 'SOUTH', 'SOUTH', 'SOUTH', 'SOUTH', 'SOUTH', 'NORTHEAST', 'NORTHEAST', 'SOUTH', 'NORTHEAST', 'SOUTH', 'SOUTH', 'NORTHEAST', 'NORTHEAST', 'NORTHEAST', 'SOUTH', 'NORTHEAST', 'NORTHEAST', 'NORTHEAST', 'NORTHEAST', 'NORTHEAST', 'SOUTH', 'NORTHEAST', 'SOUTH', 'SOUTH', 'NORTHEAST', 'NORTHEAST', 'SOUTH', 'WEST', 'NORTHEAST', 'NORTHEAST', 'NORTHEAST', 'SOUTH', 'NORTHEAST', 'SOUTH', 'SOUTH', 'SOUTH', 'NORTHEAST', 'SOUTH', 'SOUTH', 'NORTHEAST', 'NORTHEAST', 'NORTHEAST', 'NORTHEAST', 'SOUTH', 'SOUTH', 'SOUTH', 'SOUTH', 'NORTHEAST', 'NORTHEAST', 'NORTHEAST', 'SOUTH', 'NORTHEAST', 'SOUTH', 'NORTHEAST', 'SOUTH', 'SOUTH', 'NORTHEAST', 'NORTHEAST', 'NORTHEAST', 'NORTHEAST', 'SOUTH', 'NORTHEAST', 'NORTHEAST', 'SOUTH', 'NORTHEAST', 'SOUTH', 'SOUTH', 'NORTHEAST', 'NORTHEAST', 'NORTHEAST', 'NORTHEAST', 'SOUTH', 'NORTHEAST', 'NORTHEAST', 'NORTHEAST', 'NORTHEAST', 'NORTHEAST', 'NORTHEAST', 'NORTHEAST', 'NORTHEAST', 'SOUTH', 'SOUTH', 'NORTHEAST', 'NORTHEAST', 'SOUTH', 'NORTHEAST', 'NORTHEAST', 'NORTHEAST', 'NORTHEAST', 'NORTHEAST', 'SOUTH', 'NORTHEAST', 'SOUTH', 'SOUTH', 'NORTHEAST', 'SOUTH', 'SOUTH', 'NORTHEAST', 'SOUTH', 'NORTHEAST', 'NORTHEAST', 'SOUTH', 'NORTHEAST', 'NORTHEAST', 'SOUTH', 'SOUTH', 'SOUTH', 'SOUTH', 'SOUTH', 'SOUTH', 'SOUTH', 'NORTHEAST', 'NORTHEAST', 'SOUTH', 'SOUTH', 'SOUTH', 'SOUTH', 'NORTHEAST', 'SOUTH', 'NORTHEAST', 'SOUTH', 'NORTHEAST', 'SOUTH', 'SOUTH', 'SOUTH', 'NORTHEAST', 'SOUTH', 'SOUTH', 'SOUTH', 'NORTHEAST', 'SOUTH', 'SOUTH', 'SOUTH', 'NORTHEAST', 'NORTHEAST', 'SOUTH', 'SOUTH', 'SOUTH', 'SOUTH', 'SOUTH', 'SOUTH', 'SOUTH', 'SOUTH', 'SOUTH', 'SOUTH', 'NORTHEAST', 'NORTHEAST', 'NORTHEAST', 'SOUTH', 'NORTHEAST', 'NORTHEAST', 'NORTHEAST', 'NORTHEAST', 'NORTHEAST', 'SOUTH', 'NORTHEAST', 'SOUTH', 'SOUTH', 'NORTHEAST', 'NORTHEAST', 'NORTHEAST', 'NORTHEAST', 'NORTHEAST', 'SOUTH', 'NORTHEAST', 'NORTHEAST', 'NORTHEAST', 'NORTHEAST', 'NORTHEAST', 'SOUTH', 'NORTHEAST', 'NORTHEAST', 'NORTHEAST', 'NORTHEAST', 'NORTHEAST', 'NORTHEAST', 'NORTHEAST', 'NORTHEAST', 'NORTHEAST', 'NORTHEAST', 'NORTHEAST', 'SOUTH', 'SOUTH', 'NORTHEAST', 'NORTHEAST', 'NORTHEAST', 'NORTHEAST', 'NORTHEAST', 'NORTHEAST', 'NORTHEAST', 'NORTHEAST', 'SOUTH', 'NORTHEAST', 'NORTHEAST', 'NORTHEAST', 'SOUTH', 'NORTHEAST', 'SOUTH', 'NORTHEAST', 'NORTHEAST', 'NORTHEAST', 'NORTHEAST', 'NORTHEAST', 'NORTHEAST', 'NORTHEAST', 'NORTHEAST', 'SOUTH', 'SOUTH', 'NORTHEAST', 'NORTHEAST', 'NORTHEAST', 'SOUTH', 'NORTHEAST', 'NORTHEAST', 'NORTHEAST', 'NORTHEAST', 'NORTHEAST', 'SOUTH', 'NORTHEAST', 'NORTHEAST', 'NORTHEAST', 'NORTHEAST', 'NORTHEAST', 'NORTHEAST', 'NORTHEAST', 'NORTHEAST', 'NORTHEAST', 'SOUTH', 'NORTHEAST', 'SOUTH', 'NORTHEAST', 'SOUTH', 'SOUTH', 'NORTHEAST', 'NORTHEAST', 'NORTHEAST', 'SOUTH', 'NORTHEAST', 'SOUTH', 'NORTHEAST', 'NORTHEAST', 'NORTHEAST', 'NORTHEAST', 'SOUTH', 'NORTHEAST', 'SOUTH', 'SOUTH', 'NORTHEAST', 'NORTHEAST', 'NORTHEAST', 'SOUTH', 'NORTHEAST', 'SOUTH', 'SOUTH', 'NORTHEAST', 'NORTHEAST', 'NORTHEAST', 'SOUTH', 'SOUTH', 'NORTHEAST', 'SOUTH', 'NORTHEAST', 'NORTHEAST', 'SOUTH', 'NORTHEAST', 'SOUTH', 'SOUTH', 'SOUTH', 'NORTHEAST', 'SOUTH', 'MIDWEST', 'NORTHEAST', 'MIDWEST', 'MIDWEST', 'SOUTH', 'SOUTH', 'SOUTH', 'NORTHEAST', 'NORTHEAST', 'NORTHEAST', 'NORTHEAST', 'NORTHEAST', 'NORTHEAST', 'NORTHEAST', 'NORTHEAST', 'NORTHEAST', 'NORTHEAST', 'NORTHEAST', 'SOUTH', 'SOUTH', 'NORTHEAST', 'NORTHEAST', 'NORTHEAST', 'NORTHEAST', 'NORTHEAST', 'SOUTH', 'NORTHEAST', 'NORTHEAST', 'SOUTH', 'SOUTH', 'NORTHEAST', 'SOUTH', 'NORTHEAST', 'NORTHEAST', 'NORTHEAST', 'NORTHEAST', 'SOUTH', 'SOUTH', 'SOUTH', 'NORTHEAST', 'SOUTH', 'SOUTH', 'NORTHEAST', 'NORTHEAST', 'NORTHEAST', 'NORTHEAST', 'NORTHEAST', 'SOUTH', 'SOUTH', 'NORTHEAST', 'NORTHEAST', 'NORTHEAST', 'NORTHEAST', 'NORTHEAST', 'SOUTH', 'SOUTH', 'SOUTH', 'SOUTH', 'SOUTH', 'SOUTH', 'SOUTH', 'SOUTH', 'NORTHEAST', 'NORTHEAST', 'NORTHEAST', 'NORTHEAST', 'NORTHEAST', 'SOUTH', 'SOUTH', 'NORTHEAST', 'SOUTH', 'SOUTH', 'SOUTH', 'NORTHEAST', 'NORTHEAST', 'SOUTH', 'SOUTH', 'NORTHEAST', 'SOUTH', 'NORTHEAST', 'NORTHEAST', 'SOUTH', 'NORTHEAST', 'SOUTH', 'NORTHEAST', 'SOUTH', 'SOUTH', 'SOUTH', 'NORTHEAST', 'SOUTH', 'SOUTH', 'NORTHEAST', 'SOUTH', 'NORTHEAST', 'NORTHEAST', 'SOUTH', 'SOUTH', 'NORTHEAST', 'NORTHEAST', 'NORTHEAST', 'NORTHEAST', 'NORTHEAST', 'SOUTH', 'SOUTH', 'NORTHEAST', 'NORTHEAST', 'NORTHEAST', 'SOUTH', 'SOUTH', 'SOUTH', 'NORTHEAST', 'NORTHEAST', 'NORTHEAST', 'SOUTH', 'NORTHEAST', 'NORTHEAST', 'NORTHEAST', 'NORTHEAST', 'NORTHEAST', 'NORTHEAST', 'SOUTH', 'NORTHEAST', 'SOUTH', 'SOUTH', 'NORTHEAST', 'NORTHEAST', 'NORTHEAST', 'NORTHEAST', 'NORTHEAST', 'SOUTH', 'NORTHEAST', 'SOUTH', 'NORTHEAST', 'WEST', 'NORTHEAST', 'NORTHEAST', 'WEST', 'SOUTH', 'SOUTH', 'NORTHEAST', 'WEST', 'SOUTH', 'NORTHEAST', 'SOUTH', 'SOUTH', 'NORTHEAST', 'SOUTH', 'SOUTH', 'NORTHEAST', 'NORTHEAST', 'SOUTH', 'NORTHEAST', 'SOUTH', 'SOUTH', 'NORTHEAST', 'NORTHEAST', 'SOUTH', 'NORTHEAST', 'NORTHEAST', 'SOUTH', 'SOUTH', 'NORTHEAST', 'NORTHEAST', 'SOUTH', 'NORTHEAST', 'NORTHEAST', 'SOUTH', 'NORTHEAST', 'SOUTH', 'NORTHEAST', 'SOUTH', 'NORTHEAST', 'SOUTH', 'NORTHEAST', 'NORTHEAST', 'SOUTH', 'NORTHEAST', 'SOUTH', 'NORTHEAST', 'NORTHEAST', 'SOUTH', 'NORTHEAST', 'NORTHEAST', 'SOUTH', 'NORTHEAST', 'NORTHEAST', 'SOUTH', 'NORTHEAST', 'NORTHEAST', 'NORTHEAST', 'SOUTH', 'NORTHEAST', 'NORTHEAST', 'SOUTH', 'NORTHEAST', 'SOUTH', 'NORTHEAST', 'SOUTH', 'NORTHEAST', 'SOUTH', 'NORTHEAST', 'NORTHEAST', 'NORTHEAST', 'NORTHEAST', 'SOUTH', 'NORTHEAST', 'NORTHEAST', 'NORTHEAST', 'SOUTH', 'NORTHEAST', 'NORTHEAST', 'NORTHEAST', 'NORTHEAST', 'SOUTH', 'NORTHEAST', 'SOUTH', 'NORTHEAST', 'NORTHEAST', 'NORTHEAST', 'SOUTH', 'SOUTH', 'NORTHEAST', 'NORTHEAST', 'NORTHEAST', 'NORTHEAST', 'NORTHEAST', 'SOUTH', 'NORTHEAST', 'SOUTH', 'NORTHEAST', 'NORTHEAST', 'NORTHEAST', 'SOUTH', 'SOUTH', 'NORTHEAST', 'NORTHEAST', 'SOUTH', 'SOUTH', 'MIDWEST', 'MIDWEST', 'NORTHEAST', 'MIDWEST', 'NORTHEAST', 'NORTHEAST', 'NORTHEAST', 'NORTHEAST', 'SOUTH', 'SOUTH', 'SOUTH', 'SOUTH', 'SOUTH', 'SOUTH', 'NORTHEAST', 'SOUTH', 'SOUTH', 'SOUTH', 'NORTHEAST', 'NORTHEAST', 'SOUTH', 'SOUTH', 'SOUTH', 'NORTHEAST', 'SOUTH', 'NORTHEAST', 'NORTHEAST', 'SOUTH', 'SOUTH', 'SOUTH', 'SOUTH', 'SOUTH', 'SOUTH', 'SOUTH', 'SOUTH', 'SOUTH', 'NORTHEAST', 'NORTHEAST', 'SOUTH', 'NORTHEAST', 'NORTHEAST', 'NORTHEAST', 'NORTHEAST', 'NORTHEAST', 'NORTHEAST', 'NORTHEAST', 'SOUTH', 'SOUTH', 'NORTHEAST', 'NORTHEAST', 'NORTHEAST', 'NORTHEAST', 'SOUTH', 'NORTHEAST', 'NORTHEAST', 'NORTHEAST', 'NORTHEAST', 'NORTHEAST', 'SOUTH', 'NORTHEAST', 'SOUTH', 'NORTHEAST', 'NORTHEAST', 'NORTHEAST', 'NORTHEAST', 'NORTHEAST', 'SOUTH', 'SOUTH', 'NORTHEAST', 'NORTHEAST', 'NORTHEAST', 'NORTHEAST', 'NORTHEAST', 'NORTHEAST', 'SOUTH', 'NORTHEAST', 'NORTHEAST', 'SOUTH', 'SOUTH', 'NORTHEAST', 'NORTHEAST', 'NORTHEAST', 'SOUTH', 'NORTHEAST', 'SOUTH', 'NORTHEAST', 'NORTHEAST', 'SOUTH', 'SOUTH', 'SOUTH', 'NORTHEAST', 'NORTHEAST', 'NORTHEAST', 'NORTHEAST', 'SOUTH', 'NORTHEAST', 'NORTHEAST', 'NORTHEAST', 'NORTHEAST', 'NORTHEAST', 'NORTHEAST', 'NORTHEAST', 'SOUTH', 'NORTHEAST', 'NORTHEAST', 'NORTHEAST', 'NORTHEAST', 'SOUTH', 'SOUTH', 'NORTHEAST', 'NORTHEAST', 'SOUTH', 'SOUTH', 'NORTHEAST', 'NORTHEAST', 'NORTHEAST', 'SOUTH', 'NORTHEAST', 'NORTHEAST', 'NORTHEAST', 'NORTHEAST', 'NORTHEAST', 'NORTHEAST', 'NORTHEAST', 'SOUTH', 'NORTHEAST', 'NORTHEAST', 'NORTHEAST', 'WEST', 'SOUTH', 'SOUTH', 'NORTHEAST', 'NORTHEAST', 'SOUTH', 'NORTHEAST', 'SOUTH', 'SOUTH', 'SOUTH', 'NORTHEAST', 'NORTHEAST', 'SOUTH', 'SOUTH', 'NORTHEAST', 'SOUTH', 'SOUTH', 'SOUTH', 'SOUTH', 'SOUTH', 'SOUTH', 'SOUTH', 'NORTHEAST', 'WEST', 'SOUTH', 'SOUTH', 'SOUTH', 'SOUTH', 'SOUTH', 'SOUTH', 'SOUTH', 'SOUTH', 'SOUTH', 'SOUTH', 'NORTHEAST', 'SOUTH', 'NORTHEAST', 'SOUTH', 'NORTHEAST', 'SOUTH', 'NORTHEAST', 'SOUTH', 'SOUTH', 'NORTHEAST', 'NORTHEAST', 'SOUTH', 'SOUTH', 'SOUTH', 'SOUTH', 'SOUTH', 'NORTHEAST', 'SOUTH', 'SOUTH', 'NORTHEAST', 'NORTHEAST', 'SOUTH', 'NORTHEAST', 'SOUTH', 'NORTHEAST', 'SOUTH', 'NORTHEAST', 'SOUTH', 'NORTHEAST', 'NORTHEAST', 'NORTHEAST', 'NORTHEAST', 'NORTHEAST', 'NORTHEAST', 'NORTHEAST', 'SOUTH', 'NORTHEAST', 'NORTHEAST', 'NORTHEAST', 'SOUTH', 'NORTHEAST', 'SOUTH', 'NORTHEAST', 'SOUTH', 'SOUTH', 'NORTHEAST', 'SOUTH', 'SOUTH', 'NORTHEAST', 'NORTHEAST', 'SOUTH', 'SOUTH', 'SOUTH', 'SOUTH', 'SOUTH', 'SOUTH', 'SOUTH', 'SOUTH', 'NORTHEAST', 'SOUTH', 'NORTHEAST', 'SOUTH', 'WEST', 'NORTHEAST', 'SOUTH', 'NORTHEAST', 'SOUTH', 'NORTHEAST', 'SOUTH', 'SOUTH', 'NORTHEAST', 'NORTHEAST', 'SOUTH', 'SOUTH', 'NORTHEAST', 'NORTHEAST', 'NORTHEAST', 'SOUTH', 'SOUTH', 'NORTHEAST', 'NORTHEAST', 'NORTHEAST', 'SOUTH', 'SOUTH', 'NORTHEAST', 'NORTHEAST', 'NORTHEAST', 'SOUTH', 'NORTHEAST', 'NORTHEAST', 'SOUTH', 'NORTHEAST', 'NORTHEAST', 'SOUTH', 'SOUTH', 'SOUTH', 'SOUTH', 'SOUTH', 'NORTHEAST', 'NORTHEAST', 'NORTHEAST', 'NORTHEAST', 'SOUTH', 'NORTHEAST', 'NORTHEAST', 'NORTHEAST', 'SOUTH', 'SOUTH', 'SOUTH', 'NORTHEAST', 'SOUTH', 'SOUTH', 'SOUTH', 'NORTHEAST', 'SOUTH', 'NORTHEAST', 'SOUTH', 'NORTHEAST', 'NORTHEAST', 'SOUTH', 'SOUTH', 'NORTHEAST', 'NORTHEAST', 'NORTHEAST', 'NORTHEAST', 'SOUTH', 'NORTHEAST', 'NORTHEAST', 'SOUTH', 'NORTHEAST', 'SOUTH', 'NORTHEAST', 'NORTHEAST', 'NORTHEAST', 'SOUTH', 'SOUTH', 'NORTHEAST', 'SOUTH', 'NORTHEAST', 'SOUTH', 'SOUTH', 'SOUTH', 'NORTHEAST', 'SOUTH', 'SOUTH', 'NORTHEAST', 'SOUTH', 'SOUTH', 'SOUTH', 'SOUTH', 'SOUTH', 'SOUTH', 'NORTHEAST', 'SOUTH', 'SOUTH', 'SOUTH', 'SOUTH', 'SOUTH', 'SOUTH', 'SOUTH', 'SOUTH', 'SOUTH', 'SOUTH', 'SOUTH', 'SOUTH', 'SOUTH', 'SOUTH', 'NORTHEAST', 'NORTHEAST', 'NORTHEAST', 'SOUTH', 'SOUTH', 'WEST', 'NORTHEAST', 'NORTHEAST', 'NORTHEAST', 'NORTHEAST', 'SOUTH', 'SOUTH', 'SOUTH', 'NORTHEAST', 'SOUTH', 'SOUTH', 'NORTHEAST', 'SOUTH', 'SOUTH', 'SOUTH', 'SOUTH', 'SOUTH', 'SOUTH', 'SOUTH', 'NORTHEAST', 'NORTHEAST', 'SOUTH', 'NORTHEAST', 'NORTHEAST', 'NORTHEAST', 'SOUTH', 'NORTHEAST', 'NORTHEAST', 'SOUTH', 'SOUTH', 'SOUTH', 'SOUTH', 'SOUTH', 'SOUTH', 'SOUTH', 'SOUTH', 'SOUTH', 'SOUTH', 'SOUTH', 'SOUTH', 'SOUTH', 'NORTHEAST', 'SOUTH', 'NORTHEAST', 'SOUTH', 'SOUTH', 'SOUTH', 'NORTHEAST', 'SOUTH', 'SOUTH', 'SOUTH', 'SOUTH', 'SOUTH', 'NORTHEAST', 'SOUTH', 'SOUTH', 'NORTHEAST', 'SOUTH', 'SOUTH', 'NORTHEAST', 'SOUTH', 'NORTHEAST', 'SOUTH', 'SOUTH', 'SOUTH', 'SOUTH', 'SOUTH', 'SOUTH', 'SOUTH', 'SOUTH', 'SOUTH', 'NORTHEAST', 'SOUTH', 'SOUTH', 'NORTHEAST', 'NORTHEAST', 'SOUTH', 'NORTHEAST', 'NORTHEAST', 'SOUTH', 'SOUTH', 'SOUTH', 'SOUTH', 'SOUTH', 'NORTHEAST', 'SOUTH', 'SOUTH', 'SOUTH', 'NORTHEAST', 'NORTHEAST', 'SOUTH', 'NORTHEAST', 'SOUTH', 'SOUTH', 'SOUTH', 'NORTHEAST', 'SOUTH', 'SOUTH', 'SOUTH', 'NORTHEAST', 'SOUTH', 'SOUTH', 'SOUTH', 'NORTHEAST', 'NORTHEAST', 'SOUTH', 'SOUTH', 'SOUTH', 'NORTHEAST', 'SOUTH', 'SOUTH', 'SOUTH', 'NORTHEAST', 'SOUTH', 'NORTHEAST', 'NORTHEAST', 'SOUTH', 'NORTHEAST', 'SOUTH', 'SOUTH', 'NORTHEAST', 'SOUTH', 'SOUTH', 'SOUTH', 'SOUTH', 'NORTHEAST', 'NORTHEAST', 'NORTHEAST', 'NORTHEAST', 'NORTHEAST', 'NORTHEAST', 'NORTHEAST', 'NORTHEAST', 'SOUTH', 'NORTHEAST', 'NORTHEAST', 'NORTHEAST', 'NORTHEAST', 'NORTHEAST', 'NORTHEAST', 'NORTHEAST', 'NORTHEAST', 'NORTHEAST', 'NORTHEAST', 'SOUTH', 'NORTHEAST', 'NORTHEAST', 'SOUTH', 'NORTHEAST', 'NORTHEAST', 'NORTHEAST', 'NORTHEAST', 'SOUTH', 'NORTHEAST', 'NORTHEAST', 'NORTHEAST', 'NORTHEAST', 'NORTHEAST', 'NORTHEAST', 'NORTHEAST', 'SOUTH', 'NORTHEAST', 'NORTHEAST', 'MIDWEST', 'NORTHEAST', 'NORTHEAST', 'NORTHEAST', 'NORTHEAST', 'SOUTH', 'NORTHEAST', 'NORTHEAST', 'NORTHEAST', 'NORTHEAST', 'SOUTH', 'NORTHEAST', 'NORTHEAST', 'NORTHEAST', 'NORTHEAST', 'NORTHEAST', 'NORTHEAST', 'NORTHEAST', 'NORTHEAST', 'NORTHEAST', 'NORTHEAST', 'SOUTH', 'WEST', 'NORTHEAST', 'NORTHEAST', 'NORTHEAST', 'NORTHEAST', 'NORTHEAST', 'NORTHEAST', 'NORTHEAST', 'NORTHEAST', 'NORTHEAST', 'NORTHEAST', 'SOUTH', 'NORTHEAST', 'NORTHEAST', 'SOUTH', 'SOUTH', 'SOUTH', 'SOUTH', 'NORTHEAST', 'NORTHEAST', 'NORTHEAST', 'NORTHEAST', 'NORTHEAST', 'NORTHEAST', 'NORTHEAST', 'NORTHEAST', 'NORTHEAST', 'NORTHEAST', 'NORTHEAST', 'NORTHEAST', 'NORTHEAST', 'NORTHEAST', 'NORTHEAST', 'NORTHEAST', 'NORTHEAST', 'NORTHEAST', 'SOUTH', 'SOUTH', 'NORTHEAST', 'SOUTH', 'SOUTH', 'SOUTH', 'SOUTH', 'NORTHEAST', 'NORTHEAST', 'MIDWEST', 'SOUTH', 'SOUTH', 'NORTHEAST', 'SOUTH', 'SOUTH', 'NORTHEAST', 'NORTHEAST', 'SOUTH', 'NORTHEAST', 'SOUTH', 'SOUTH', 'SOUTH', 'NORTHEAST', 'NORTHEAST', 'NORTHEAST', 'SOUTH', 'SOUTH', 'NORTHEAST', 'SOUTH', 'NORTHEAST', 'NORTHEAST', 'NORTHEAST', 'NORTHEAST', 'SOUTH', 'SOUTH', 'NORTHEAST', 'SOUTH', 'NORTHEAST', 'SOUTH', 'NORTHEAST', 'NORTHEAST', 'SOUTH', 'NORTHEAST', 'SOUTH', 'NORTHEAST', 'NORTHEAST', 'SOUTH', 'SOUTH', 'SOUTH', 'NORTHEAST', 'SOUTH', 'SOUTH', 'SOUTH', 'SOUTH', 'SOUTH', 'SOUTH', 'SOUTH', 'SOUTH', 'SOUTH', 'SOUTH', 'SOUTH', 'NORTHEAST', 'SOUTH', 'MIDWEST', 'NORTHEAST', 'SOUTH', 'SOUTH', 'SOUTH', 'NORTHEAST', 'NORTHEAST', 'SOUTH', 'SOUTH', 'NORTHEAST', 'NORTHEAST', 'SOUTH', 'NORTHEAST', 'SOUTH', 'NORTHEAST', 'WEST', 'NORTHEAST', 'SOUTH', 'NORTHEAST', 'NORTHEAST', 'SOUTH', 'SOUTH', 'NORTHEAST', 'SOUTH', 'NORTHEAST', 'NORTHEAST', 'NORTHEAST', 'SOUTH', 'NORTHEAST', 'NORTHEAST', 'SOUTH', 'NORTHEAST', 'SOUTH', 'NORTHEAST', 'SOUTH', 'NORTHEAST', 'NORTHEAST', 'NORTHEAST', 'NORTHEAST', 'SOUTH', 'SOUTH', 'SOUTH', 'NORTHEAST', 'NORTHEAST', 'SOUTH', 'NORTHEAST', 'NORTHEAST', 'SOUTH', 'NORTHEAST', 'NORTHEAST', 'SOUTH', 'NORTHEAST', 'NORTHEAST', 'NORTHEAST', 'NORTHEAST', 'NORTHEAST', 'SOUTH', 'NORTHEAST', 'SOUTH', 'NORTHEAST', 'SOUTH', 'NORTHEAST', 'SOUTH', 'NORTHEAST', 'SOUTH', 'NORTHEAST', 'NORTHEAST', 'NORTHEAST', 'NORTHEAST', 'SOUTH', 'SOUTH', 'SOUTH', 'WEST', 'SOUTH', 'NORTHEAST', 'SOUTH', 'SOUTH', 'SOUTH', 'SOUTH', 'SOUTH', 'SOUTH', 'SOUTH', 'NORTHEAST', 'SOUTH', 'SOUTH', 'SOUTH', 'WEST', 'NORTHEAST', 'NORTHEAST', 'MIDWEST', 'NORTHEAST', 'NORTHEAST', 'SOUTH', 'NORTHEAST', 'SOUTH', 'NORTHEAST', 'NORTHEAST', 'NORTHEAST', 'NORTHEAST', 'NORTHEAST', 'SOUTH', 'NORTHEAST', 'NORTHEAST', 'SOUTH', 'NORTHEAST', 'NORTHEAST', 'NORTHEAST', 'SOUTH', 'NORTHEAST', 'SOUTH', 'NORTHEAST', 'SOUTH', 'SOUTH', 'NORTHEAST', 'SOUTH', 'SOUTH', 'SOUTH', 'SOUTH', 'SOUTH', 'NORTHEAST', 'SOUTH', 'SOUTH', 'SOUTH', 'SOUTH', 'SOUTH', 'SOUTH', 'NORTHEAST', 'NORTHEAST', 'NORTHEAST', 'NORTHEAST', 'NORTHEAST', 'NORTHEAST', 'NORTHEAST', 'SOUTH', 'SOUTH', 'SOUTH', 'SOUTH', 'SOUTH', 'SOUTH', 'SOUTH', 'SOUTH', 'SOUTH', 'SOUTH', 'SOUTH', 'SOUTH', 'SOUTH', 'SOUTH', 'NORTHEAST', 'SOUTH', 'SOUTH', 'NORTHEAST', 'SOUTH', 'SOUTH', 'SOUTH', 'SOUTH', 'NORTHEAST', 'SOUTH', 'SOUTH', 'SOUTH', 'NORTHEAST', 'NORTHEAST', 'SOUTH', 'SOUTH', 'SOUTH', 'NORTHEAST', 'SOUTH', 'SOUTH', 'SOUTH', 'SOUTH', 'SOUTH', 'SOUTH', 'SOUTH', 'NORTHEAST', 'SOUTH', 'NORTHEAST', 'MIDWEST', 'MIDWEST', 'NORTHEAST', 'SOUTH', 'NORTHEAST', 'NORTHEAST', 'NORTHEAST', 'SOUTH', 'WEST', 'SOUTH', 'NORTHEAST', 'SOUTH', 'SOUTH', 'SOUTH', 'SOUTH', 'NORTHEAST', 'SOUTH', 'SOUTH', 'NORTHEAST', 'NORTHEAST', 'NORTHEAST', 'NORTHEAST', 'SOUTH', 'NORTHEAST', 'SOUTH', 'SOUTH', 'SOUTH', 'NORTHEAST', 'SOUTH', 'SOUTH', 'SOUTH', 'SOUTH', 'NORTHEAST', 'SOUTH', 'SOUTH', 'SOUTH', 'MIDWEST', 'NORTHEAST', 'NORTHEAST', 'NORTHEAST', 'SOUTH', 'SOUTH', 'SOUTH', 'SOUTH', 'SOUTH', 'SOUTH', 'SOUTH', 'NORTHEAST', 'SOUTH', 'SOUTH', 'NORTHEAST', 'SOUTH', 'NORTHEAST', 'SOUTH', 'SOUTH', 'SOUTH', 'SOUTH', 'NORTHEAST', 'SOUTH', 'SOUTH', 'NORTHEAST', 'NORTHEAST', 'NORTHEAST', 'NORTHEAST', 'SOUTH', 'NORTHEAST', 'NORTHEAST', 'NORTHEAST', 'NORTHEAST', 'NORTHEAST', 'NORTHEAST', 'SOUTH', 'SOUTH', 'NORTHEAST', 'NORTHEAST', 'SOUTH', 'NORTHEAST', 'NORTHEAST', 'NORTHEAST', 'NORTHEAST', 'SOUTH', 'NORTHEAST', 'NORTHEAST', 'NORTHEAST', 'NORTHEAST', 'SOUTH', 'SOUTH', 'NORTHEAST', 'SOUTH', 'SOUTH', 'SOUTH', 'NORTHEAST', 'SOUTH', 'NORTHEAST', 'SOUTH', 'SOUTH', 'SOUTH', 'SOUTH', 'NORTHEAST', 'SOUTH', 'SOUTH', 'NORTHEAST', 'NORTHEAST', 'SOUTH', 'SOUTH', 'NORTHEAST', 'SOUTH', 'SOUTH', 'SOUTH', 'NORTHEAST', 'SOUTH', 'SOUTH', 'SOUTH', 'NORTHEAST', 'SOUTH', 'NORTHEAST', 'SOUTH', 'NORTHEAST', 'SOUTH', 'SOUTH', 'SOUTH', 'SOUTH', 'SOUTH', 'SOUTH', 'NORTHEAST', 'SOUTH', 'SOUTH', 'NORTHEAST', 'SOUTH', 'SOUTH', 'SOUTH', 'SOUTH', 'SOUTH', 'NORTHEAST', 'NORTHEAST', 'SOUTH', 'SOUTH', 'SOUTH', 'WEST', 'NORTHEAST', 'SOUTH', 'SOUTH', 'SOUTH', 'NORTHEAST', 'SOUTH', 'NORTHEAST', 'SOUTH', 'SOUTH', 'SOUTH', 'SOUTH', 'SOUTH', 'SOUTH', 'NORTHEAST', 'SOUTH', 'SOUTH', 'NORTHEAST', 'SOUTH', 'SOUTH', 'SOUTH', 'NORTHEAST', 'SOUTH', 'NORTHEAST', 'SOUTH', 'NORTHEAST', 'SOUTH', 'NORTHEAST', 'SOUTH', 'MIDWEST', 'SOUTH', 'SOUTH', 'SOUTH', 'SOUTH', 'SOUTH', 'NORTHEAST', 'NORTHEAST', 'SOUTH', 'SOUTH', 'SOUTH', 'SOUTH', 'SOUTH', 'NORTHEAST', 'NORTHEAST', 'SOUTH', 'NORTHEAST', 'SOUTH', 'SOUTH', 'SOUTH', 'SOUTH', 'NORTHEAST', 'SOUTH', 'SOUTH', 'NORTHEAST', 'NORTHEAST', 'NORTHEAST', 'NORTHEAST', 'SOUTH', 'SOUTH', 'NORTHEAST', 'NORTHEAST', 'SOUTH', 'SOUTH', 'SOUTH', 'NORTHEAST', 'NORTHEAST', 'NORTHEAST', 'SOUTH', 'NORTHEAST', 'SOUTH', 'SOUTH', 'NORTHEAST', 'NORTHEAST', 'SOUTH', 'NORTHEAST', 'SOUTH', 'NORTHEAST', 'NORTHEAST', 'NORTHEAST', 'NORTHEAST', 'NORTHEAST', 'NORTHEAST', 'NORTHEAST', 'NORTHEAST', 'SOUTH', 'NORTHEAST', 'NORTHEAST', 'NORTHEAST', 'SOUTH', 'SOUTH', 'NORTHEAST', 'SOUTH', 'NORTHEAST', 'SOUTH', 'NORTHEAST', 'SOUTH', 'NORTHEAST', 'SOUTH', 'MIDWEST', 'NORTHEAST', 'NORTHEAST', 'NORTHEAST', 'NORTHEAST', 'SOUTH', 'SOUTH', 'SOUTH', 'SOUTH', 'SOUTH', 'NORTHEAST', 'SOUTH', 'SOUTH', 'SOUTH', 'SOUTH', 'NORTHEAST', 'NORTHEAST', 'SOUTH', 'SOUTH', 'SOUTH', 'NORTHEAST', 'NORTHEAST', 'SOUTH', 'SOUTH', 'SOUTH', 'NORTHEAST', 'SOUTH', 'NORTHEAST', 'SOUTH', 'NORTHEAST', 'SOUTH', 'SOUTH', 'NORTHEAST', 'SOUTH', 'NORTHEAST', 'SOUTH', 'NORTHEAST', 'SOUTH', 'NORTHEAST', 'NORTHEAST', 'NORTHEAST', 'NORTHEAST', 'NORTHEAST', 'NORTHEAST', 'NORTHEAST', 'NORTHEAST', 'SOUTH', 'NORTHEAST', 'NORTHEAST', 'SOUTH', 'NORTHEAST', 'WEST', 'NORTHEAST', 'NORTHEAST', 'NORTHEAST', 'SOUTH', 'NORTHEAST', 'NORTHEAST', 'NORTHEAST', 'NORTHEAST', 'NORTHEAST', 'NORTHEAST', 'NORTHEAST', 'MIDWEST', 'NORTHEAST', 'SOUTH', 'NORTHEAST', 'NORTHEAST', 'SOUTH', 'NORTHEAST', 'SOUTH', 'NORTHEAST', 'NORTHEAST', 'NORTHEAST', 'SOUTH', 'SOUTH', 'NORTHEAST', 'SOUTH', 'SOUTH', 'NORTHEAST', 'SOUTH', 'SOUTH', 'NORTHEAST', 'SOUTH', 'NORTHEAST', 'NORTHEAST', 'NORTHEAST', 'NORTHEAST', 'SOUTH', 'NORTHEAST', 'NORTHEAST', 'NORTHEAST', 'NORTHEAST', 'SOUTH', 'NORTHEAST', 'NORTHEAST', 'SOUTH', 'SOUTH', 'SOUTH', 'SOUTH', 'NORTHEAST', 'SOUTH', 'NORTHEAST', 'NORTHEAST', 'SOUTH', 'NORTHEAST', 'NORTHEAST', 'NORTHEAST', 'NORTHEAST', 'SOUTH', 'SOUTH', 'SOUTH', 'SOUTH', 'SOUTH', 'NORTHEAST', 'SOUTH', 'NORTHEAST', 'NORTHEAST', 'SOUTH', 'SOUTH', 'SOUTH', 'NORTHEAST', 'SOUTH', 'NORTHEAST', 'NORTHEAST', 'SOUTH', 'NORTHEAST', 'SOUTH', 'NORTHEAST', 'NORTHEAST', 'NORTHEAST', 'MIDWEST', 'NORTHEAST', 'NORTHEAST', 'SOUTH', 'NORTHEAST', 'SOUTH', 'SOUTH', 'SOUTH', 'NORTHEAST', 'SOUTH', 'NORTHEAST', 'NORTHEAST', 'NORTHEAST', 'NORTHEAST', 'NORTHEAST', 'NORTHEAST', 'SOUTH', 'SOUTH', 'NORTHEAST', 'SOUTH', 'NORTHEAST', 'SOUTH', 'SOUTH', 'NORTHEAST', 'NORTHEAST', 'NORTHEAST', 'NORTHEAST', 'SOUTH', 'SOUTH', 'NORTHEAST', 'NORTHEAST', 'SOUTH', 'SOUTH', 'SOUTH', 'SOUTH', 'SOUTH', 'NORTHEAST', 'NORTHEAST', 'NORTHEAST', 'SOUTH', 'NORTHEAST', 'SOUTH', 'NORTHEAST', 'SOUTH', 'NORTHEAST', 'SOUTH', 'SOUTH', 'NORTHEAST', 'NORTHEAST', 'NORTHEAST', 'SOUTH', 'NORTHEAST', 'SOUTH', 'SOUTH', 'NORTHEAST', 'SOUTH', 'WEST', 'SOUTH', 'NORTHEAST', 'NORTHEAST', 'NORTHEAST', 'NORTHEAST', 'NORTHEAST', 'SOUTH', 'SOUTH', 'SOUTH', 'SOUTH', 'SOUTH', 'SOUTH', 'NORTHEAST', 'SOUTH', 'NORTHEAST', 'NORTHEAST', 'SOUTH', 'NORTHEAST', 'NORTHEAST', 'SOUTH', 'NORTHEAST', 'NORTHEAST', 'NORTHEAST', 'NORTHEAST', 'NORTHEAST', 'NORTHEAST', 'NORTHEAST', 'SOUTH', 'NORTHEAST', 'NORTHEAST', 'NORTHEAST', 'SOUTH', 'SOUTH', 'SOUTH', 'NORTHEAST', 'NORTHEAST', 'SOUTH', 'SOUTH', 'NORTHEAST', 'SOUTH', 'SOUTH', 'NORTHEAST', 'SOUTH', 'NORTHEAST', 'NORTHEAST', 'SOUTH', 'SOUTH', 'SOUTH', 'SOUTH', 'WEST', 'SOUTH', 'SOUTH', 'SOUTH', 'SOUTH', 'SOUTH', 'SOUTH', 'NORTHEAST', 'WEST', 'SOUTH', 'NORTHEAST', 'SOUTH', 'NORTHEAST', 'SOUTH', 'SOUTH', 'SOUTH', 'NORTHEAST', 'NORTHEAST', 'SOUTH', 'SOUTH', 'SOUTH', 'NORTHEAST', 'NORTHEAST', 'NORTHEAST', 'SOUTH', 'SOUTH', 'SOUTH', 'NORTHEAST', 'SOUTH', 'NORTHEAST', 'NORTHEAST', 'WEST', 'NORTHEAST', 'SOUTH', 'SOUTH', 'SOUTH', 'SOUTH', 'NORTHEAST', 'NORTHEAST', 'SOUTH', 'SOUTH', 'SOUTH', 'NORTHEAST', 'SOUTH', 'SOUTH', 'NORTHEAST', 'NORTHEAST', 'NORTHEAST', 'SOUTH', 'SOUTH', 'NORTHEAST', 'NORTHEAST', 'NORTHEAST', 'WEST', 'SOUTH', 'NORTHEAST', 'SOUTH', 'SOUTH', 'SOUTH', 'SOUTH', 'NORTHEAST', 'SOUTH', 'WEST', 'SOUTH', 'NORTHEAST', 'SOUTH', 'NORTHEAST', 'NORTHEAST', 'NORTHEAST', 'NORTHEAST', 'SOUTH', 'SOUTH', 'SOUTH', 'SOUTH', 'SOUTH', 'NORTHEAST', 'SOUTH', 'SOUTH', 'NORTHEAST', 'SOUTH', 'SOUTH', 'NORTHEAST', 'SOUTH', 'NORTHEAST', 'SOUTH', 'SOUTH', 'SOUTH', 'SOUTH', 'SOUTH', 'NORTHEAST', 'SOUTH', 'SOUTH', 'SOUTH', 'SOUTH', 'MIDWEST', 'SOUTH', 'SOUTH', 'SOUTH', 'SOUTH', 'SOUTH', 'SOUTH', 'SOUTH', 'SOUTH', 'SOUTH', 'NORTHEAST', 'SOUTH', 'SOUTH', 'SOUTH', 'SOUTH', 'SOUTH', 'SOUTH', 'SOUTH', 'SOUTH', 'SOUTH', 'SOUTH', 'SOUTH', 'SOUTH', 'SOUTH', 'SOUTH', 'SOUTH', 'NORTHEAST', 'NORTHEAST', 'NORTHEAST', 'MIDWEST', 'NORTHEAST', 'SOUTH', 'NORTHEAST', 'SOUTH', 'SOUTH', 'SOUTH', 'SOUTH', 'NORTHEAST', 'SOUTH', 'SOUTH', 'SOUTH', 'NORTHEAST', 'NORTHEAST', 'SOUTH', 'SOUTH', 'SOUTH', 'SOUTH', 'NORTHEAST', 'SOUTH', 'SOUTH', 'SOUTH', 'SOUTH', 'NORTHEAST', 'SOUTH', 'SOUTH', 'SOUTH', 'SOUTH', 'SOUTH', 'SOUTH', 'SOUTH', 'SOUTH', 'SOUTH', 'SOUTH', 'SOUTH', 'SOUTH', 'NORTHEAST', 'NORTHEAST', 'NORTHEAST', 'NORTHEAST', 'SOUTH', 'NORTHEAST', 'SOUTH', 'NORTHEAST', 'SOUTH', 'SOUTH', 'NORTHEAST', 'NORTHEAST', 'NORTHEAST', 'SOUTH', 'WEST', 'SOUTH', 'SOUTH', 'SOUTH', 'NORTHEAST', 'NORTHEAST', 'SOUTH', 'SOUTH', 'NORTHEAST', 'NORTHEAST', 'SOUTH', 'NORTHEAST', 'SOUTH', 'NORTHEAST', 'SOUTH', 'NORTHEAST', 'SOUTH', 'SOUTH', 'NORTHEAST', 'MIDWEST', 'NORTHEAST', 'SOUTH', 'SOUTH', 'NORTHEAST', 'NORTHEAST', 'SOUTH', 'SOUTH', 'SOUTH', 'SOUTH', 'SOUTH', 'SOUTH', 'NORTHEAST', 'NORTHEAST', 'SOUTH', 'SOUTH', 'SOUTH', 'SOUTH', 'SOUTH', 'SOUTH', 'SOUTH', 'SOUTH', 'SOUTH', 'SOUTH', 'NORTHEAST', 'SOUTH', 'SOUTH', 'SOUTH', 'SOUTH', 'SOUTH', 'NORTHEAST', 'NORTHEAST', 'NORTHEAST', 'SOUTH', 'NORTHEAST', 'NORTHEAST', 'NORTHEAST', 'SOUTH', 'SOUTH', 'NORTHEAST', 'NORTHEAST', 'SOUTH', 'SOUTH', 'NORTHEAST', 'SOUTH', 'SOUTH', 'NORTHEAST', 'SOUTH', 'SOUTH', 'SOUTH', 'SOUTH', 'NORTHEAST', 'SOUTH', 'SOUTH', 'SOUTH', 'NORTHEAST', 'SOUTH', 'NORTHEAST', 'SOUTH', 'NORTHEAST', 'SOUTH', 'NORTHEAST', 'NORTHEAST', 'SOUTH', 'SOUTH', 'NORTHEAST', 'SOUTH', 'SOUTH', 'NORTHEAST', 'NORTHEAST', 'SOUTH', 'SOUTH', 'SOUTH', 'NORTHEAST', 'SOUTH', 'SOUTH', 'NORTHEAST', 'SOUTH', 'NORTHEAST', 'NORTHEAST', 'SOUTH', 'NORTHEAST', 'NORTHEAST', 'NORTHEAST', 'SOUTH', 'SOUTH', 'SOUTH', 'NORTHEAST', 'NORTHEAST', 'NORTHEAST', 'SOUTH', 'NORTHEAST', 'WEST', 'NORTHEAST', 'SOUTH', 'SOUTH', 'SOUTH', 'SOUTH', 'NORTHEAST', 'NORTHEAST', 'SOUTH', 'NORTHEAST', 'SOUTH', 'SOUTH', 'NORTHEAST', 'NORTHEAST', 'SOUTH', 'NORTHEAST', 'SOUTH', 'NORTHEAST', 'NORTHEAST', 'NORTHEAST', 'SOUTH', 'SOUTH', 'SOUTH', 'NORTHEAST', 'SOUTH', 'NORTHEAST', 'SOUTH', 'SOUTH', 'SOUTH', 'NORTHEAST', 'NORTHEAST', 'NORTHEAST', 'SOUTH', 'NORTHEAST', 'NORTHEAST', 'SOUTH', 'NORTHEAST', 'NORTHEAST', 'NORTHEAST', 'NORTHEAST', 'SOUTH', 'NORTHEAST', 'SOUTH', 'SOUTH', 'SOUTH', 'NORTHEAST', 'SOUTH', 'NORTHEAST', 'NORTHEAST', 'NORTHEAST', 'NORTHEAST', 'NORTHEAST', 'SOUTH', 'NORTHEAST', 'NORTHEAST', 'SOUTH', 'NORTHEAST', 'SOUTH', 'SOUTH', 'NORTHEAST', 'SOUTH', 'NORTHEAST', 'NORTHEAST', 'SOUTH', 'SOUTH', 'SOUTH', 'SOUTH', 'NORTHEAST', 'SOUTH', 'NORTHEAST', 'NORTHEAST', 'NORTHEAST', 'NORTHEAST', 'SOUTH', 'NORTHEAST', 'NORTHEAST', 'NORTHEAST', 'NORTHEAST', 'NORTHEAST', 'NORTHEAST', 'NORTHEAST', 'NORTHEAST', 'NORTHEAST', 'NORTHEAST', 'NORTHEAST', 'NORTHEAST', 'SOUTH', 'NORTHEAST', 'NORTHEAST', 'NORTHEAST', 'SOUTH', 'NORTHEAST', 'SOUTH', 'SOUTH', 'SOUTH', 'SOUTH', 'SOUTH', 'SOUTH', 'NORTHEAST', 'SOUTH', 'SOUTH', 'SOUTH', 'SOUTH', 'SOUTH', 'SOUTH', 'SOUTH', 'NORTHEAST', 'NORTHEAST', 'SOUTH', 'SOUTH', 'SOUTH', 'SOUTH', 'SOUTH', 'SOUTH', 'SOUTH', 'NORTHEAST', 'SOUTH', 'SOUTH', 'SOUTH', 'SOUTH', 'NORTHEAST', 'SOUTH', 'SOUTH', 'SOUTH', 'SOUTH', 'SOUTH', 'SOUTH', 'SOUTH', 'SOUTH', 'SOUTH', 'SOUTH', 'SOUTH', 'SOUTH', 'SOUTH', 'SOUTH', 'SOUTH', 'SOUTH', 'SOUTH', 'SOUTH', 'SOUTH', 'SOUTH', 'SOUTH', 'SOUTH', 'NORTHEAST', 'SOUTH', 'NORTHEAST', 'SOUTH', 'NORTHEAST', 'SOUTH', 'SOUTH', 'NORTHEAST', 'SOUTH', 'NORTHEAST', 'SOUTH', 'NORTHEAST', 'NORTHEAST', 'NORTHEAST', 'NORTHEAST', 'NORTHEAST', 'SOUTH', 'SOUTH', 'NORTHEAST', 'SOUTH', 'SOUTH', 'SOUTH', 'SOUTH', 'SOUTH', 'SOUTH', 'NORTHEAST', 'NORTHEAST', 'NORTHEAST', 'NORTHEAST', 'SOUTH', 'NORTHEAST', 'NORTHEAST', 'NORTHEAST', 'SOUTH', 'SOUTH', 'SOUTH', 'NORTHEAST', 'SOUTH', 'NORTHEAST', 'SOUTH', 'WEST', 'SOUTH', 'WEST', 'NORTHEAST', 'NORTHEAST', 'NORTHEAST', 'SOUTH', 'NORTHEAST', 'NORTHEAST', 'SOUTH', 'SOUTH', 'WEST', 'NORTHEAST', 'SOUTH', 'SOUTH', 'SOUTH', 'NORTHEAST', 'SOUTH', 'NORTHEAST', 'SOUTH', 'SOUTH', 'NORTHEAST', 'SOUTH', 'WEST', 'SOUTH', 'SOUTH', 'SOUTH', 'WEST', 'NORTHEAST', 'SOUTH', 'SOUTH', 'NORTHEAST', 'NORTHEAST', 'SOUTH', 'NORTHEAST', 'NORTHEAST', 'NORTHEAST', 'SOUTH', 'NORTHEAST', 'SOUTH', 'SOUTH', 'NORTHEAST', 'SOUTH', 'SOUTH', 'SOUTH', 'NORTHEAST', 'SOUTH', 'SOUTH', 'SOUTH', 'MIDWEST', 'NORTHEAST', 'SOUTH', 'SOUTH', 'SOUTH', 'SOUTH', 'SOUTH', 'SOUTH', 'NORTHEAST', 'NORTHEAST', 'NORTHEAST', 'NORTHEAST', 'SOUTH', 'NORTHEAST', 'NORTHEAST', 'NORTHEAST', 'NORTHEAST', 'NORTHEAST', 'NORTHEAST', 'NORTHEAST', 'SOUTH', 'NORTHEAST', 'SOUTH', 'SOUTH', 'SOUTH', 'SOUTH', 'NORTHEAST', 'NORTHEAST', 'NORTHEAST', 'NORTHEAST', 'NORTHEAST', 'NORTHEAST', 'NORTHEAST', 'NORTHEAST', 'NORTHEAST', 'SOUTH', 'NORTHEAST', 'NORTHEAST', 'NORTHEAST', 'NORTHEAST', 'SOUTH', 'SOUTH', 'SOUTH', 'SOUTH', 'NORTHEAST', 'NORTHEAST', 'NORTHEAST', 'SOUTH', 'SOUTH', 'NORTHEAST', 'SOUTH', 'SOUTH', 'NORTHEAST', 'NORTHEAST', 'NORTHEAST', 'NORTHEAST', 'NORTHEAST', 'NORTHEAST', 'NORTHEAST', 'NORTHEAST', 'NORTHEAST', 'SOUTH', 'NORTHEAST', 'NORTHEAST', 'NORTHEAST', 'SOUTH', 'NORTHEAST', 'SOUTH', 'NORTHEAST', 'NORTHEAST', 'SOUTH', 'NORTHEAST', 'NORTHEAST', 'NORTHEAST', 'NORTHEAST', 'SOUTH', 'NORTHEAST', 'NORTHEAST', 'SOUTH', 'SOUTH', 'SOUTH', 'SOUTH', 'SOUTH', 'SOUTH', 'NORTHEAST', 'SOUTH', 'SOUTH', 'SOUTH', 'SOUTH', 'NORTHEAST', 'SOUTH', 'NORTHEAST', 'SOUTH', 'NORTHEAST', 'SOUTH', 'NORTHEAST', 'SOUTH', 'SOUTH', 'NORTHEAST', 'NORTHEAST', 'SOUTH', 'NORTHEAST', 'SOUTH', 'NORTHEAST', 'SOUTH', 'SOUTH', 'SOUTH', 'SOUTH', 'SOUTH', 'NORTHEAST', 'SOUTH', 'SOUTH', 'SOUTH', 'NORTHEAST', 'SOUTH', 'SOUTH', 'SOUTH', 'NORTHEAST', 'SOUTH', 'SOUTH', 'SOUTH', 'SOUTH', 'NORTHEAST', 'MIDWEST', 'SOUTH', 'SOUTH', 'SOUTH', 'SOUTH', 'NORTHEAST', 'SOUTH', 'NORTHEAST', 'NORTHEAST', 'SOUTH', 'SOUTH', 'NORTHEAST', 'NORTHEAST', 'NORTHEAST', 'NORTHEAST', 'SOUTH', 'SOUTH', 'SOUTH', 'SOUTH', 'NORTHEAST', 'NORTHEAST', 'NORTHEAST', 'NORTHEAST', 'NORTHEAST', 'SOUTH', 'SOUTH', 'NORTHEAST', 'NORTHEAST', 'SOUTH', 'NORTHEAST', 'NORTHEAST', 'NORTHEAST', 'NORTHEAST', 'NORTHEAST', 'SOUTH', 'NORTHEAST', 'NORTHEAST', 'NORTHEAST', 'NORTHEAST', 'NORTHEAST', 'NORTHEAST', 'NORTHEAST', 'SOUTH', 'SOUTH', 'SOUTH', 'NORTHEAST', 'SOUTH', 'NORTHEAST', 'NORTHEAST', 'NORTHEAST', 'SOUTH', 'NORTHEAST', 'SOUTH', 'SOUTH', 'SOUTH', 'NORTHEAST', 'NORTHEAST', 'NORTHEAST', 'SOUTH', 'SOUTH', 'SOUTH', 'NORTHEAST', 'SOUTH', 'SOUTH', 'NORTHEAST', 'SOUTH', 'SOUTH', 'SOUTH', 'SOUTH', 'NORTHEAST', 'NORTHEAST', 'SOUTH', 'SOUTH', 'SOUTH', 'SOUTH', 'SOUTH', 'NORTHEAST', 'SOUTH', 'SOUTH', 'NORTHEAST', 'SOUTH', 'SOUTH', 'NORTHEAST', 'NORTHEAST', 'SOUTH', 'SOUTH', 'SOUTH', 'NORTHEAST', 'SOUTH', 'SOUTH', 'SOUTH', 'SOUTH', 'SOUTH', 'SOUTH', 'SOUTH', 'SOUTH', 'NORTHEAST', 'SOUTH', 'NORTHEAST', 'SOUTH', 'SOUTH', 'NORTHEAST', 'SOUTH', 'SOUTH', 'SOUTH', 'SOUTH', 'SOUTH', 'SOUTH', 'SOUTH', 'SOUTH', 'SOUTH', 'SOUTH', 'SOUTH', 'SOUTH', 'NORTHEAST', 'SOUTH', 'SOUTH', 'SOUTH', 'SOUTH', 'SOUTH', 'SOUTH', 'SOUTH', 'SOUTH', 'NORTHEAST', 'SOUTH', 'NORTHEAST', 'NORTHEAST', 'NORTHEAST', 'NORTHEAST', 'NORTHEAST', 'NORTHEAST', 'SOUTH', 'NORTHEAST', 'NORTHEAST', 'SOUTH', 'NORTHEAST', 'SOUTH', 'NORTHEAST', 'SOUTH', 'NORTHEAST', 'NORTHEAST', 'SOUTH', 'NORTHEAST', 'NORTHEAST', 'NORTHEAST', 'SOUTH', 'NORTHEAST', 'NORTHEAST', 'MIDWEST', 'NORTHEAST', 'SOUTH', 'NORTHEAST', 'SOUTH', 'MIDWEST', 'SOUTH', 'SOUTH', 'MIDWEST', 'NORTHEAST', 'SOUTH', 'WEST', 'NORTHEAST', 'SOUTH', 'SOUTH', 'SOUTH', 'SOUTH', 'SOUTH', 'SOUTH', 'NORTHEAST', 'SOUTH', 'SOUTH', 'SOUTH', 'SOUTH', 'SOUTH', 'SOUTH', 'NORTHEAST', 'SOUTH', 'SOUTH', 'SOUTH', 'NORTHEAST', 'MIDWEST', 'SOUTH', 'NORTHEAST', 'NORTHEAST', 'SOUTH', 'NORTHEAST', 'SOUTH', 'SOUTH', 'SOUTH', 'SOUTH', 'SOUTH', 'SOUTH', 'SOUTH', 'SOUTH', 'SOUTH', 'SOUTH', 'NORTHEAST', 'SOUTH', 'NORTHEAST', 'SOUTH', 'NORTHEAST', 'NORTHEAST', 'SOUTH', 'SOUTH', 'SOUTH', 'NORTHEAST', 'NORTHEAST', 'SOUTH', 'SOUTH', 'NORTHEAST', 'SOUTH', 'SOUTH', 'WEST', 'SOUTH', 'SOUTH', 'SOUTH', 'SOUTH', 'SOUTH', 'WEST', 'SOUTH', 'SOUTH', 'NORTHEAST', 'WEST', 'NORTHEAST', 'NORTHEAST', 'NORTHEAST', 'NORTHEAST', 'NORTHEAST', 'SOUTH', 'SOUTH', 'NORTHEAST', 'SOUTH', 'NORTHEAST', 'SOUTH', 'SOUTH', 'NORTHEAST', 'NORTHEAST', 'SOUTH', 'SOUTH', 'SOUTH', 'NORTHEAST', 'SOUTH', 'SOUTH', 'NORTHEAST', 'SOUTH', 'NORTHEAST', 'SOUTH', 'NORTHEAST', 'SOUTH', 'NORTHEAST', 'NORTHEAST', 'SOUTH', 'SOUTH', 'SOUTH', 'SOUTH', 'SOUTH', 'SOUTH', 'SOUTH', 'NORTHEAST', 'SOUTH', 'SOUTH', 'NORTHEAST', 'NORTHEAST', 'SOUTH', 'NORTHEAST', 'NORTHEAST', 'NORTHEAST', 'SOUTH', 'SOUTH', 'SOUTH', 'SOUTH', 'SOUTH', 'NORTHEAST', 'NORTHEAST', 'NORTHEAST', 'SOUTH', 'SOUTH', 'NORTHEAST', 'SOUTH', 'SOUTH', 'NORTHEAST', 'NORTHEAST', 'NORTHEAST', 'SOUTH', 'SOUTH', 'SOUTH', 'SOUTH', 'NORTHEAST', 'SOUTH', 'SOUTH', 'NORTHEAST', 'NORTHEAST', 'SOUTH', 'NORTHEAST', 'SOUTH', 'SOUTH', 'NORTHEAST', 'NORTHEAST', 'NORTHEAST', 'SOUTH', 'SOUTH', 'SOUTH', 'SOUTH', 'NORTHEAST', 'MIDWEST', 'SOUTH', 'SOUTH', 'SOUTH', 'SOUTH', 'NORTHEAST', 'NORTHEAST', 'SOUTH', 'SOUTH', 'NORTHEAST', 'SOUTH', 'NORTHEAST', 'NORTHEAST', 'SOUTH', 'SOUTH', 'NORTHEAST', 'MIDWEST', 'SOUTH', 'NORTHEAST', 'NORTHEAST', 'NORTHEAST', 'SOUTH', 'SOUTH', 'NORTHEAST', 'SOUTH', 'SOUTH', 'SOUTH', 'NORTHEAST', 'SOUTH', 'NORTHEAST', 'SOUTH', 'SOUTH', 'SOUTH', 'SOUTH', 'NORTHEAST', 'NORTHEAST', 'SOUTH', 'SOUTH', 'SOUTH', 'NORTHEAST', 'NORTHEAST', 'NORTHEAST', 'NORTHEAST', 'SOUTH', 'NORTHEAST', 'NORTHEAST', 'NORTHEAST', 'NORTHEAST', 'NORTHEAST', 'NORTHEAST', 'NORTHEAST', 'NORTHEAST', 'NORTHEAST', 'SOUTH', 'SOUTH', 'SOUTH', 'NORTHEAST', 'NORTHEAST', 'NORTHEAST', 'NORTHEAST', 'NORTHEAST', 'NORTHEAST', 'NORTHEAST', 'SOUTH', 'NORTHEAST', 'NORTHEAST', 'NORTHEAST', 'NORTHEAST', 'NORTHEAST', 'SOUTH', 'NORTHEAST', 'SOUTH', 'NORTHEAST', 'SOUTH', 'NORTHEAST', 'SOUTH', 'NORTHEAST', 'NORTHEAST', 'SOUTH', 'NORTHEAST', 'NORTHEAST', 'NORTHEAST', 'NORTHEAST', 'NORTHEAST', 'SOUTH', 'SOUTH', 'SOUTH', 'SOUTH', 'NORTHEAST', 'NORTHEAST', 'NORTHEAST', 'NORTHEAST', 'SOUTH', 'NORTHEAST', 'NORTHEAST', 'SOUTH', 'NORTHEAST', 'NORTHEAST', 'NORTHEAST', 'NORTHEAST', 'NORTHEAST', 'NORTHEAST', 'NORTHEAST', 'NORTHEAST', 'NORTHEAST', 'SOUTH', 'SOUTH', 'NORTHEAST', 'SOUTH', 'SOUTH', 'NORTHEAST', 'SOUTH', 'NORTHEAST', 'NORTHEAST', 'NORTHEAST', 'SOUTH', 'SOUTH', 'NORTHEAST', 'SOUTH', 'SOUTH', 'NORTHEAST', 'SOUTH', 'SOUTH', 'SOUTH', 'SOUTH', 'SOUTH', 'SOUTH', 'SOUTH', 'SOUTH', 'NORTHEAST', 'NORTHEAST', 'SOUTH', 'SOUTH', 'SOUTH', 'SOUTH', 'NORTHEAST', 'SOUTH', 'NORTHEAST', 'NORTHEAST', 'SOUTH', 'SOUTH', 'NORTHEAST', 'NORTHEAST', 'WEST', 'SOUTH', 'WEST', 'SOUTH', 'SOUTH', 'NORTHEAST', 'SOUTH', 'NORTHEAST', 'WEST', 'NORTHEAST', 'SOUTH', 'WEST', 'WEST', 'SOUTH', 'SOUTH', 'SOUTH', 'SOUTH', 'SOUTH', 'MIDWEST', 'SOUTH', 'NORTHEAST', 'NORTHEAST', 'WEST', 'SOUTH', 'NORTHEAST', 'SOUTH', 'SOUTH', 'WEST', 'MIDWEST', 'WEST', 'SOUTH', 'SOUTH', 'SOUTH', 'WEST', 'SOUTH', 'WEST', 'NORTHEAST', 'SOUTH', 'SOUTH', 'SOUTH', 'SOUTH', 'SOUTH', 'NORTHEAST', 'SOUTH', 'SOUTH', 'NORTHEAST', 'SOUTH', 'SOUTH', 'NORTHEAST', 'NORTHEAST', 'SOUTH', 'NORTHEAST', 'SOUTH', 'SOUTH', 'SOUTH', 'SOUTH', 'SOUTH', 'NORTHEAST', 'SOUTH', 'SOUTH', 'SOUTH', 'SOUTH', 'SOUTH', 'NORTHEAST', 'NORTHEAST', 'NORTHEAST', 'SOUTH', 'SOUTH', 'SOUTH', 'SOUTH', 'NORTHEAST', 'SOUTH', 'SOUTH', 'SOUTH', 'NORTHEAST', 'NORTHEAST', 'NORTHEAST', 'NORTHEAST', 'NORTHEAST', 'NORTHEAST', 'NORTHEAST', 'NORTHEAST', 'NORTHEAST', 'SOUTH', 'NORTHEAST', 'NORTHEAST', 'SOUTH', 'NORTHEAST', 'NORTHEAST', 'SOUTH', 'SOUTH', 'NORTHEAST', 'SOUTH', 'SOUTH', 'WEST', 'NORTHEAST', 'NORTHEAST', 'NORTHEAST', 'NORTHEAST', 'NORTHEAST', 'NORTHEAST', 'NORTHEAST', 'WEST', 'NORTHEAST', 'NORTHEAST', 'NORTHEAST', 'SOUTH', 'NORTHEAST', 'SOUTH', 'NORTHEAST', 'WEST', 'SOUTH', 'SOUTH', 'NORTHEAST', 'NORTHEAST', 'NORTHEAST', 'SOUTH', 'NORTHEAST', 'SOUTH', 'NORTHEAST', 'SOUTH', 'NORTHEAST', 'NORTHEAST', 'SOUTH', 'NORTHEAST', 'SOUTH', 'NORTHEAST', 'NORTHEAST', 'NORTHEAST', 'NORTHEAST', 'SOUTH', 'NORTHEAST', 'SOUTH', 'NORTHEAST', 'NORTHEAST', 'NORTHEAST', 'NORTHEAST', 'SOUTH', 'SOUTH', 'NORTHEAST', 'NORTHEAST', 'SOUTH', 'SOUTH', 'SOUTH', 'NORTHEAST', 'NORTHEAST', 'SOUTH', 'NORTHEAST', 'NORTHEAST', 'SOUTH', 'SOUTH', 'SOUTH', 'NORTHEAST', 'SOUTH', 'NORTHEAST', 'SOUTH', 'NORTHEAST', 'NORTHEAST', 'NORTHEAST', 'NORTHEAST', 'WEST', 'NORTHEAST', 'SOUTH', 'SOUTH', 'NORTHEAST', 'NORTHEAST', 'SOUTH', 'NORTHEAST', 'NORTHEAST', 'NORTHEAST', 'SOUTH', 'SOUTH', 'NORTHEAST', 'SOUTH', 'NORTHEAST', 'NORTHEAST', 'NORTHEAST', 'NORTHEAST', 'SOUTH', 'SOUTH', 'NORTHEAST', 'SOUTH', 'SOUTH', 'SOUTH', 'SOUTH', 'SOUTH', 'SOUTH', 'NORTHEAST', 'SOUTH', 'NORTHEAST', 'SOUTH', 'NORTHEAST', 'NORTHEAST', 'SOUTH', 'NORTHEAST', 'SOUTH', 'SOUTH', 'SOUTH', 'SOUTH', 'NORTHEAST', 'SOUTH', 'NORTHEAST', 'SOUTH', 'NORTHEAST', 'SOUTH', 'NORTHEAST', 'NORTHEAST', 'SOUTH', 'SOUTH', 'NORTHEAST', 'WEST', 'NORTHEAST', 'NORTHEAST', 'SOUTH', 'SOUTH', 'SOUTH', 'NORTHEAST', 'SOUTH', 'NORTHEAST', 'NORTHEAST', 'NORTHEAST', 'SOUTH', 'SOUTH', 'SOUTH', 'SOUTH', 'NORTHEAST', 'SOUTH', 'NORTHEAST', 'SOUTH', 'SOUTH', 'SOUTH', 'NORTHEAST', 'NORTHEAST', 'SOUTH', 'SOUTH', 'NORTHEAST', 'NORTHEAST', 'SOUTH', 'NORTHEAST', 'SOUTH', 'SOUTH', 'SOUTH', 'NORTHEAST', 'NORTHEAST', 'SOUTH', 'NORTHEAST', 'NORTHEAST', 'SOUTH', 'WEST', 'SOUTH', 'SOUTH', 'NORTHEAST', 'SOUTH', 'SOUTH', 'SOUTH', 'NORTHEAST', 'NORTHEAST', 'NORTHEAST', 'NORTHEAST', 'SOUTH', 'NORTHEAST', 'NORTHEAST', 'NORTHEAST', 'NORTHEAST', 'NORTHEAST', 'NORTHEAST', 'NORTHEAST', 'NORTHEAST', 'SOUTH', 'NORTHEAST', 'SOUTH', 'SOUTH', 'SOUTH', 'SOUTH', 'NORTHEAST', 'SOUTH', 'NORTHEAST', 'NORTHEAST', 'SOUTH', 'NORTHEAST', 'NORTHEAST', 'SOUTH', 'NORTHEAST', 'SOUTH', 'NORTHEAST', 'NORTHEAST', 'NORTHEAST', 'NORTHEAST', 'NORTHEAST', 'NORTHEAST', 'NORTHEAST', 'NORTHEAST', 'MIDWEST', 'SOUTH', 'NORTHEAST', 'NORTHEAST', 'NORTHEAST', 'SOUTH', 'NORTHEAST', 'SOUTH', 'SOUTH', 'SOUTH', 'NORTHEAST', 'SOUTH', 'SOUTH', 'NORTHEAST', 'SOUTH', 'SOUTH', 'NORTHEAST', 'SOUTH', 'NORTHEAST', 'SOUTH', 'NORTHEAST', 'SOUTH', 'SOUTH', 'NORTHEAST', 'NORTHEAST', 'SOUTH', 'NORTHEAST', 'SOUTH', 'SOUTH', 'NORTHEAST', 'NORTHEAST', 'SOUTH', 'NORTHEAST', 'NORTHEAST', 'SOUTH', 'SOUTH', 'SOUTH', 'SOUTH', 'SOUTH', 'SOUTH', 'NORTHEAST', 'NORTHEAST', 'SOUTH', 'SOUTH', 'SOUTH', 'SOUTH', 'SOUTH', 'SOUTH', 'SOUTH', 'NORTHEAST', 'SOUTH', 'NORTHEAST', 'NORTHEAST', 'SOUTH', 'NORTHEAST', 'SOUTH', 'SOUTH', 'SOUTH', 'SOUTH', 'SOUTH', 'NORTHEAST', 'NORTHEAST', 'SOUTH', 'NORTHEAST', 'NORTHEAST', 'NORTHEAST', 'SOUTH', 'SOUTH', 'SOUTH', 'NORTHEAST', 'NORTHEAST', 'SOUTH', 'SOUTH', 'SOUTH', 'NORTHEAST', 'NORTHEAST', 'SOUTH', 'NORTHEAST', 'NORTHEAST', 'SOUTH', 'SOUTH', 'NORTHEAST', 'NORTHEAST', 'SOUTH', 'NORTHEAST', 'SOUTH', 'MIDWEST', 'WEST', 'SOUTH', 'NORTHEAST', 'SOUTH', 'NORTHEAST', 'SOUTH', 'NORTHEAST', 'SOUTH', 'NORTHEAST', 'SOUTH', 'NORTHEAST', 'SOUTH', 'SOUTH', 'NORTHEAST', 'SOUTH', 'SOUTH', 'NORTHEAST', 'WEST', 'NORTHEAST', 'NORTHEAST', 'SOUTH', 'NORTHEAST', 'NORTHEAST', 'SOUTH', 'SOUTH', 'SOUTH', 'SOUTH', 'SOUTH', 'NORTHEAST', 'SOUTH', 'SOUTH', 'SOUTH', 'NORTHEAST', 'SOUTH', 'SOUTH', 'SOUTH', 'NORTHEAST', 'NORTHEAST', 'SOUTH', 'SOUTH', 'SOUTH', 'MIDWEST', 'NORTHEAST', 'SOUTH', 'SOUTH', 'SOUTH', 'SOUTH', 'SOUTH', 'MIDWEST', 'NORTHEAST', 'SOUTH', 'SOUTH', 'SOUTH', 'NORTHEAST', 'NORTHEAST', 'NORTHEAST', 'NORTHEAST', 'NORTHEAST', 'NORTHEAST', 'NORTHEAST', 'SOUTH', 'SOUTH', 'SOUTH', 'NORTHEAST', 'NORTHEAST', 'SOUTH', 'SOUTH', 'NORTHEAST', 'SOUTH', 'NORTHEAST', 'NORTHEAST', 'NORTHEAST', 'SOUTH', 'NORTHEAST', 'SOUTH', 'SOUTH', 'NORTHEAST', 'NORTHEAST', 'WEST', 'SOUTH', 'NORTHEAST', 'NORTHEAST', 'NORTHEAST', 'NORTHEAST', 'SOUTH', 'SOUTH', 'SOUTH', 'SOUTH', 'NORTHEAST', 'SOUTH', 'SOUTH', 'NORTHEAST', 'NORTHEAST', 'SOUTH', 'NORTHEAST', 'NORTHEAST', 'SOUTH', 'SOUTH', 'SOUTH', 'NORTHEAST', 'SOUTH', 'SOUTH', 'NORTHEAST', 'NORTHEAST', 'SOUTH', 'NORTHEAST', 'SOUTH', 'SOUTH', 'NORTHEAST', 'NORTHEAST', 'SOUTH', 'NORTHEAST', 'NORTHEAST', 'NORTHEAST', 'NORTHEAST', 'SOUTH', 'SOUTH', 'SOUTH', 'SOUTH', 'NORTHEAST', 'SOUTH', 'NORTHEAST', 'SOUTH', 'SOUTH', 'SOUTH', 'NORTHEAST', 'SOUTH', 'SOUTH', 'SOUTH', 'NORTHEAST', 'NORTHEAST', 'NORTHEAST', 'NORTHEAST', 'NORTHEAST', 'SOUTH', 'NORTHEAST', 'SOUTH', 'NORTHEAST', 'NORTHEAST', 'NORTHEAST', 'SOUTH', 'NORTHEAST', 'NORTHEAST', 'NORTHEAST', 'SOUTH', 'SOUTH', 'NORTHEAST', 'SOUTH', 'NORTHEAST', 'SOUTH', 'SOUTH', 'NORTHEAST', 'SOUTH', 'NORTHEAST', 'NORTHEAST', 'NORTHEAST', 'NORTHEAST', 'NORTHEAST', 'NORTHEAST', 'SOUTH', 'SOUTH', 'SOUTH', 'NORTHEAST', 'SOUTH', 'NORTHEAST', 'SOUTH', 'SOUTH', 'SOUTH', 'SOUTH', 'NORTHEAST', 'NORTHEAST', 'SOUTH', 'SOUTH', 'NORTHEAST', 'NORTHEAST', 'NORTHEAST', 'SOUTH', 'SOUTH', 'SOUTH', 'NORTHEAST', 'SOUTH', 'SOUTH', 'NORTHEAST', 'SOUTH', 'NORTHEAST', 'NORTHEAST', 'NORTHEAST', 'SOUTH', 'SOUTH', 'SOUTH', 'SOUTH', 'NORTHEAST', 'NORTHEAST', 'NORTHEAST', 'SOUTH', 'NORTHEAST', 'SOUTH', 'SOUTH', 'NORTHEAST', 'NORTHEAST', 'SOUTH', 'SOUTH', 'NORTHEAST', 'NORTHEAST', 'SOUTH', 'SOUTH', 'SOUTH', 'NORTHEAST', 'NORTHEAST', 'NORTHEAST', 'SOUTH', 'SOUTH', 'SOUTH', 'SOUTH', 'NORTHEAST', 'NORTHEAST', 'SOUTH', 'NORTHEAST', 'NORTHEAST', 'SOUTH', 'SOUTH', 'SOUTH', 'NORTHEAST', 'NORTHEAST', 'SOUTH', 'SOUTH', 'NORTHEAST', 'SOUTH', 'NORTHEAST', 'SOUTH', 'NORTHEAST', 'SOUTH', 'SOUTH', 'NORTHEAST', 'SOUTH', 'NORTHEAST', 'NORTHEAST', 'SOUTH', 'SOUTH', 'NORTHEAST', 'NORTHEAST', 'SOUTH', 'SOUTH', 'SOUTH', 'SOUTH', 'SOUTH', 'NORTHEAST', 'NORTHEAST', 'SOUTH', 'SOUTH', 'NORTHEAST', 'SOUTH', 'SOUTH', 'SOUTH', 'SOUTH', 'NORTHEAST', 'NORTHEAST', 'NORTHEAST', 'NORTHEAST', 'SOUTH', 'NORTHEAST', 'SOUTH', 'NORTHEAST', 'NORTHEAST', 'NORTHEAST', 'NORTHEAST', 'NORTHEAST', 'SOUTH', 'SOUTH', 'NORTHEAST', 'NORTHEAST', 'NORTHEAST', 'NORTHEAST', 'NORTHEAST', 'SOUTH', 'SOUTH', 'NORTHEAST', 'NORTHEAST', 'NORTHEAST', 'SOUTH', 'NORTHEAST', 'SOUTH', 'NORTHEAST', 'NORTHEAST', 'WEST', 'SOUTH', 'SOUTH', 'SOUTH', 'SOUTH', 'NORTHEAST', 'NORTHEAST', 'SOUTH', 'NORTHEAST', 'NORTHEAST', 'NORTHEAST', 'NORTHEAST', 'NORTHEAST', 'NORTHEAST', 'SOUTH', 'SOUTH', 'NORTHEAST', 'SOUTH', 'SOUTH', 'SOUTH', 'NORTHEAST', 'NORTHEAST', 'NORTHEAST', 'NORTHEAST', 'NORTHEAST', 'NORTHEAST', 'SOUTH', 'SOUTH', 'NORTHEAST', 'SOUTH', 'NORTHEAST', 'SOUTH', 'NORTHEAST', 'WEST', 'SOUTH', 'SOUTH', 'NORTHEAST', 'SOUTH', 'NORTHEAST', 'SOUTH', 'WEST', 'SOUTH', 'WEST', 'NORTHEAST', 'SOUTH', 'NORTHEAST', 'NORTHEAST', 'NORTHEAST', 'SOUTH', 'NORTHEAST', 'NORTHEAST', 'NORTHEAST', 'SOUTH', 'NORTHEAST', 'SOUTH', 'SOUTH', 'SOUTH', 'NORTHEAST', 'SOUTH', 'SOUTH', 'SOUTH', 'SOUTH', 'NORTHEAST', 'SOUTH', 'SOUTH', 'SOUTH', 'SOUTH', 'SOUTH', 'SOUTH', 'NORTHEAST', 'SOUTH', 'NORTHEAST', 'NORTHEAST', 'NORTHEAST', 'NORTHEAST', 'SOUTH', 'NORTHEAST', 'SOUTH', 'SOUTH', 'WEST', 'NORTHEAST', 'SOUTH', 'SOUTH', 'SOUTH', 'SOUTH', 'SOUTH', 'NORTHEAST', 'SOUTH', 'SOUTH', 'NORTHEAST', 'SOUTH', 'SOUTH', 'NORTHEAST', 'SOUTH', 'NORTHEAST', 'NORTHEAST', 'NORTHEAST', 'SOUTH', 'NORTHEAST', 'SOUTH', 'NORTHEAST', 'SOUTH', 'SOUTH', 'SOUTH', 'SOUTH', 'NORTHEAST', 'SOUTH', 'SOUTH', 'SOUTH', 'SOUTH', 'NORTHEAST', 'SOUTH', 'NORTHEAST', 'SOUTH', 'SOUTH', 'NORTHEAST', 'NORTHEAST', 'NORTHEAST', 'NORTHEAST', 'NORTHEAST', 'NORTHEAST', 'SOUTH', 'NORTHEAST', 'SOUTH', 'NORTHEAST', 'SOUTH', 'SOUTH', 'NORTHEAST', 'SOUTH', 'SOUTH', 'NORTHEAST', 'NORTHEAST', 'NORTHEAST', 'NORTHEAST', 'NORTHEAST', 'SOUTH', 'SOUTH', 'NORTHEAST', 'SOUTH', 'NORTHEAST', 'NORTHEAST', 'NORTHEAST', 'NORTHEAST', 'NORTHEAST', 'WEST', 'WEST', 'SOUTH', 'NORTHEAST', 'SOUTH', 'SOUTH', 'NORTHEAST', 'NORTHEAST', 'SOUTH', 'SOUTH', 'NORTHEAST', 'SOUTH', 'SOUTH', 'WEST', 'NORTHEAST', 'SOUTH', 'NORTHEAST', 'SOUTH', 'SOUTH', 'SOUTH', 'SOUTH', 'SOUTH', 'NORTHEAST', 'NORTHEAST', 'NORTHEAST', 'NORTHEAST', 'NORTHEAST', 'SOUTH', 'SOUTH', 'NORTHEAST', 'SOUTH', 'SOUTH', 'SOUTH', 'NORTHEAST', 'SOUTH', 'NORTHEAST', 'SOUTH', 'SOUTH', 'SOUTH', 'SOUTH', 'NORTHEAST', 'NORTHEAST', 'SOUTH', 'NORTHEAST', 'NORTHEAST', 'NORTHEAST', 'SOUTH', 'NORTHEAST', 'NORTHEAST', 'NORTHEAST', 'SOUTH', 'SOUTH', 'SOUTH', 'SOUTH', 'SOUTH', 'NORTHEAST', 'NORTHEAST', 'SOUTH', 'NORTHEAST', 'SOUTH', 'SOUTH', 'SOUTH', 'SOUTH', 'SOUTH', 'SOUTH', 'NORTHEAST', 'NORTHEAST', 'SOUTH', 'NORTHEAST', 'SOUTH', 'NORTHEAST', 'SOUTH', 'MIDWEST', 'NORTHEAST', 'SOUTH', 'SOUTH', 'SOUTH', 'SOUTH', 'SOUTH', 'SOUTH', 'SOUTH', 'SOUTH', 'SOUTH', 'SOUTH', 'NORTHEAST', 'NORTHEAST', 'NORTHEAST', 'NORTHEAST', 'SOUTH', 'SOUTH', 'SOUTH', 'SOUTH', 'NORTHEAST', 'NORTHEAST', 'NORTHEAST', 'NORTHEAST', 'NORTHEAST', 'NORTHEAST', 'SOUTH', 'NORTHEAST', 'NORTHEAST', 'NORTHEAST', 'SOUTH', 'NORTHEAST', 'SOUTH', 'NORTHEAST', 'SOUTH', 'SOUTH', 'SOUTH', 'NORTHEAST', 'SOUTH', 'NORTHEAST', 'NORTHEAST', 'NORTHEAST', 'SOUTH', 'NORTHEAST', 'NORTHEAST', 'NORTHEAST', 'MIDWEST', 'SOUTH', 'NORTHEAST', 'WEST', 'SOUTH', 'SOUTH', 'NORTHEAST', 'NORTHEAST', 'NORTHEAST', 'NORTHEAST', 'SOUTH', 'SOUTH', 'SOUTH', 'SOUTH', 'SOUTH', 'SOUTH', 'SOUTH', 'SOUTH', 'SOUTH', 'SOUTH', 'SOUTH', 'SOUTH', 'SOUTH', 'NORTHEAST', 'SOUTH', 'SOUTH', 'SOUTH', 'NORTHEAST', 'SOUTH', 'NORTHEAST', 'SOUTH', 'NORTHEAST', 'SOUTH', 'SOUTH', 'NORTHEAST', 'NORTHEAST', 'NORTHEAST', 'WEST', 'SOUTH', 'NORTHEAST', 'NORTHEAST', 'NORTHEAST', 'NORTHEAST', 'NORTHEAST', 'SOUTH', 'NORTHEAST', 'SOUTH', 'NORTHEAST', 'NORTHEAST', 'NORTHEAST', 'NORTHEAST', 'NORTHEAST', 'NORTHEAST', 'NORTHEAST', 'SOUTH', 'NORTHEAST', 'NORTHEAST', 'SOUTH', 'NORTHEAST', 'NORTHEAST', 'NORTHEAST', 'NORTHEAST', 'SOUTH', 'NORTHEAST', 'SOUTH', 'NORTHEAST', 'NORTHEAST', 'NORTHEAST', 'NORTHEAST', 'NORTHEAST', 'SOUTH', 'NORTHEAST', 'SOUTH', 'SOUTH', 'NORTHEAST', 'SOUTH', 'NORTHEAST', 'NORTHEAST', 'NORTHEAST', 'SOUTH', 'SOUTH', 'SOUTH', 'NORTHEAST', 'SOUTH', 'NORTHEAST', 'NORTHEAST', 'SOUTH', 'SOUTH', 'NORTHEAST', 'NORTHEAST', 'SOUTH', 'WEST', 'NORTHEAST', 'NORTHEAST', 'NORTHEAST', 'NORTHEAST', 'SOUTH', 'SOUTH', 'NORTHEAST', 'NORTHEAST', 'NORTHEAST', 'SOUTH', 'SOUTH', 'NORTHEAST', 'SOUTH', 'SOUTH', 'WEST', 'WEST', 'SOUTH', 'SOUTH', 'SOUTH', 'SOUTH', 'SOUTH', 'SOUTH', 'NORTHEAST', 'NORTHEAST', 'SOUTH', 'NORTHEAST', 'NORTHEAST', 'NORTHEAST', 'NORTHEAST', 'SOUTH', 'NORTHEAST', 'SOUTH', 'NORTHEAST', 'SOUTH', 'SOUTH', 'SOUTH', 'SOUTH', 'SOUTH', 'SOUTH', 'SOUTH', 'WEST', 'SOUTH', 'NORTHEAST', 'NORTHEAST', 'SOUTH', 'NORTHEAST', 'SOUTH', 'NORTHEAST', 'SOUTH', 'SOUTH', 'NORTHEAST', 'SOUTH', 'NORTHEAST', 'SOUTH', 'SOUTH', 'SOUTH', 'NORTHEAST', 'SOUTH', 'SOUTH', 'SOUTH', 'SOUTH', 'SOUTH', 'SOUTH', 'NORTHEAST', 'NORTHEAST', 'NORTHEAST', 'NORTHEAST', 'NORTHEAST', 'SOUTH', 'SOUTH', 'SOUTH', 'NORTHEAST', 'SOUTH', 'SOUTH', 'SOUTH', 'SOUTH', 'NORTHEAST', 'SOUTH', 'SOUTH', 'SOUTH', 'NORTHEAST', 'SOUTH', 'NORTHEAST', 'NORTHEAST', 'NORTHEAST', 'NORTHEAST', 'SOUTH', 'SOUTH', 'SOUTH', 'SOUTH', 'SOUTH', 'SOUTH', 'NORTHEAST', 'NORTHEAST', 'NORTHEAST', 'SOUTH', 'NORTHEAST', 'NORTHEAST', 'SOUTH', 'SOUTH', 'SOUTH', 'SOUTH', 'SOUTH', 'SOUTH', 'SOUTH', 'SOUTH', 'SOUTH', 'SOUTH', 'SOUTH', 'NORTHEAST', 'SOUTH', 'SOUTH', 'SOUTH', 'SOUTH', 'MIDWEST', 'SOUTH', 'SOUTH', 'WEST', 'NORTHEAST', 'SOUTH', 'SOUTH', 'SOUTH', 'SOUTH', 'SOUTH', 'NORTHEAST', 'SOUTH', 'SOUTH', 'SOUTH', 'SOUTH', 'SOUTH', 'NORTHEAST', 'NORTHEAST', 'SOUTH', 'SOUTH', 'NORTHEAST', 'NORTHEAST', 'SOUTH', 'NORTHEAST', 'NORTHEAST', 'NORTHEAST', 'SOUTH', 'SOUTH', 'NORTHEAST', 'SOUTH', 'SOUTH', 'NORTHEAST', 'SOUTH', 'NORTHEAST', 'SOUTH', 'NORTHEAST', 'SOUTH', 'NORTHEAST', 'SOUTH', 'SOUTH', 'SOUTH', 'SOUTH', 'NORTHEAST', 'NORTHEAST', 'NORTHEAST', 'SOUTH', 'NORTHEAST', 'SOUTH', 'NORTHEAST', 'SOUTH', 'NORTHEAST', 'SOUTH', 'SOUTH', 'SOUTH', 'SOUTH', 'NORTHEAST', 'SOUTH', 'SOUTH', 'SOUTH', 'SOUTH', 'SOUTH', 'SOUTH', 'SOUTH', 'SOUTH', 'NORTHEAST', 'NORTHEAST', 'NORTHEAST', 'SOUTH', 'SOUTH', 'SOUTH', 'NORTHEAST', 'SOUTH', 'NORTHEAST', 'SOUTH', 'NORTHEAST', 'SOUTH', 'NORTHEAST', 'NORTHEAST', 'SOUTH', 'NORTHEAST', 'NORTHEAST', 'SOUTH', 'NORTHEAST', 'NORTHEAST', 'SOUTH', 'SOUTH', 'NORTHEAST', 'NORTHEAST', 'NORTHEAST', 'NORTHEAST', 'SOUTH', 'SOUTH', 'NORTHEAST', 'NORTHEAST', 'NORTHEAST', 'NORTHEAST', 'SOUTH', 'NORTHEAST', 'SOUTH', 'NORTHEAST', 'NORTHEAST', 'NORTHEAST', 'NORTHEAST', 'NORTHEAST', 'NORTHEAST', 'NORTHEAST', 'NORTHEAST', 'SOUTH', 'NORTHEAST', 'NORTHEAST', 'SOUTH', 'NORTHEAST', 'NORTHEAST', 'NORTHEAST', 'SOUTH', 'SOUTH', 'NORTHEAST', 'SOUTH', 'SOUTH', 'NORTHEAST', 'NORTHEAST', 'NORTHEAST', 'SOUTH', 'NORTHEAST', 'NORTHEAST', 'NORTHEAST', 'SOUTH', 'NORTHEAST', 'NORTHEAST', 'SOUTH', 'NORTHEAST', 'NORTHEAST', 'SOUTH', 'NORTHEAST', 'SOUTH', 'NORTHEAST', 'NORTHEAST', 'NORTHEAST', 'NORTHEAST', 'NORTHEAST', 'NORTHEAST', 'NORTHEAST', 'SOUTH', 'NORTHEAST', 'NORTHEAST', 'NORTHEAST', 'NORTHEAST', 'NORTHEAST', 'SOUTH', 'SOUTH', 'NORTHEAST', 'SOUTH', 'NORTHEAST', 'SOUTH', 'NORTHEAST', 'NORTHEAST', 'NORTHEAST', 'NORTHEAST', 'NORTHEAST', 'NORTHEAST', 'NORTHEAST', 'SOUTH', 'NORTHEAST', 'NORTHEAST', 'NORTHEAST', 'NORTHEAST', 'NORTHEAST', 'NORTHEAST', 'SOUTH', 'SOUTH', 'NORTHEAST', 'NORTHEAST', 'NORTHEAST', 'NORTHEAST', 'NORTHEAST', 'NORTHEAST', 'NORTHEAST', 'SOUTH', 'SOUTH', 'NORTHEAST', 'NORTHEAST', 'NORTHEAST', 'NORTHEAST', 'NORTHEAST', 'SOUTH', 'SOUTH', 'NORTHEAST', 'NORTHEAST', 'NORTHEAST', 'SOUTH', 'SOUTH', 'NORTHEAST', 'SOUTH', 'NORTHEAST', 'NORTHEAST', 'SOUTH', 'NORTHEAST', 'NORTHEAST', 'SOUTH', 'SOUTH', 'SOUTH', 'NORTHEAST', 'NORTHEAST', 'NORTHEAST', 'NORTHEAST', 'NORTHEAST', 'NORTHEAST', 'SOUTH', 'NORTHEAST', 'SOUTH', 'NORTHEAST', 'NORTHEAST', 'NORTHEAST', 'SOUTH', 'SOUTH', 'NORTHEAST', 'SOUTH', 'NORTHEAST', 'NORTHEAST', 'NORTHEAST', 'SOUTH', 'NORTHEAST', 'NORTHEAST', 'NORTHEAST', 'SOUTH', 'SOUTH', 'SOUTH', 'SOUTH', 'SOUTH', 'SOUTH', 'NORTHEAST', 'NORTHEAST', 'SOUTH', 'NORTHEAST', 'SOUTH', 'NORTHEAST', 'NORTHEAST', 'SOUTH', 'NORTHEAST', 'NORTHEAST', 'NORTHEAST', 'SOUTH', 'NORTHEAST', 'SOUTH', 'SOUTH', 'SOUTH', 'SOUTH', 'NORTHEAST', 'NORTHEAST', 'NORTHEAST', 'NORTHEAST', 'SOUTH', 'SOUTH', 'SOUTH', 'NORTHEAST', 'NORTHEAST', 'NORTHEAST', 'SOUTH', 'NORTHEAST', 'NORTHEAST', 'NORTHEAST', 'NORTHEAST', 'NORTHEAST', 'SOUTH', 'SOUTH', 'SOUTH', 'NORTHEAST', 'NORTHEAST', 'NORTHEAST', 'SOUTH', 'NORTHEAST', 'NORTHEAST', 'SOUTH', 'SOUTH', 'NORTHEAST', 'SOUTH', 'MIDWEST', 'SOUTH', 'NORTHEAST', 'NORTHEAST', 'SOUTH', 'NORTHEAST', 'NORTHEAST', 'SOUTH', 'NORTHEAST', 'NORTHEAST', 'NORTHEAST', 'NORTHEAST', 'NORTHEAST', 'NORTHEAST', 'NORTHEAST', 'NORTHEAST', 'NORTHEAST', 'NORTHEAST', 'NORTHEAST', 'NORTHEAST', 'SOUTH', 'NORTHEAST', 'NORTHEAST', 'SOUTH', 'NORTHEAST', 'NORTHEAST', 'SOUTH', 'NORTHEAST', 'NORTHEAST', 'NORTHEAST', 'WEST', 'NORTHEAST', 'NORTHEAST', 'SOUTH', 'SOUTH', 'SOUTH', 'NORTHEAST', 'NORTHEAST', 'SOUTH', 'NORTHEAST', 'NORTHEAST', 'SOUTH', 'NORTHEAST', 'NORTHEAST', 'SOUTH', 'SOUTH', 'NORTHEAST', 'SOUTH', 'WEST', 'SOUTH', 'NORTHEAST', 'SOUTH', 'SOUTH', 'NORTHEAST', 'SOUTH', 'SOUTH', 'SOUTH', 'SOUTH', 'NORTHEAST', 'MIDWEST', 'SOUTH', 'SOUTH', 'SOUTH', 'NORTHEAST', 'NORTHEAST', 'NORTHEAST', 'NORTHEAST', 'NORTHEAST', 'SOUTH', 'SOUTH', 'NORTHEAST', 'SOUTH', 'SOUTH', 'SOUTH', 'NORTHEAST', 'NORTHEAST', 'NORTHEAST', 'SOUTH', 'NORTHEAST', 'NORTHEAST', 'SOUTH', 'SOUTH', 'NORTHEAST', 'NORTHEAST', 'SOUTH', 'NORTHEAST', 'SOUTH', 'NORTHEAST', 'SOUTH', 'SOUTH', 'NORTHEAST', 'NORTHEAST', 'NORTHEAST', 'NORTHEAST', 'NORTHEAST', 'SOUTH', 'SOUTH', 'SOUTH', 'NORTHEAST', 'NORTHEAST', 'NORTHEAST', 'NORTHEAST', 'SOUTH', 'SOUTH', 'NORTHEAST', 'SOUTH', 'NORTHEAST', 'NORTHEAST', 'NORTHEAST', 'SOUTH', 'NORTHEAST', 'NORTHEAST', 'NORTHEAST', 'NORTHEAST', 'NORTHEAST', 'SOUTH', 'NORTHEAST', 'NORTHEAST', 'NORTHEAST', 'NORTHEAST', 'NORTHEAST', 'NORTHEAST', 'NORTHEAST', 'NORTHEAST', 'NORTHEAST', 'NORTHEAST', 'SOUTH', 'NORTHEAST', 'NORTHEAST', 'NORTHEAST', 'NORTHEAST', 'NORTHEAST', 'NORTHEAST', 'NORTHEAST', 'SOUTH', 'SOUTH', 'NORTHEAST', 'NORTHEAST', 'SOUTH', 'NORTHEAST', 'NORTHEAST', 'SOUTH', 'NORTHEAST', 'NORTHEAST', 'NORTHEAST', 'NORTHEAST', 'NORTHEAST', 'NORTHEAST', 'NORTHEAST', 'SOUTH', 'NORTHEAST', 'NORTHEAST', 'NORTHEAST', 'NORTHEAST', 'SOUTH', 'SOUTH', 'NORTHEAST', 'NORTHEAST', 'SOUTH', 'NORTHEAST', 'SOUTH', 'NORTHEAST', 'NORTHEAST', 'SOUTH', 'NORTHEAST', 'NORTHEAST', 'NORTHEAST', 'NORTHEAST', 'NORTHEAST', 'NORTHEAST', 'NORTHEAST', 'NORTHEAST', 'NORTHEAST', 'NORTHEAST', 'SOUTH', 'NORTHEAST', 'NORTHEAST', 'NORTHEAST', 'SOUTH', 'NORTHEAST', 'NORTHEAST', 'NORTHEAST', 'NORTHEAST', 'NORTHEAST', 'NORTHEAST', 'NORTHEAST', 'NORTHEAST', 'NORTHEAST', 'NORTHEAST', 'NORTHEAST', 'NORTHEAST', 'NORTHEAST', 'NORTHEAST', 'NORTHEAST', 'NORTHEAST', 'NORTHEAST', 'NORTHEAST', 'NORTHEAST', 'NORTHEAST', 'NORTHEAST', 'NORTHEAST', 'SOUTH', 'NORTHEAST', 'NORTHEAST', 'NORTHEAST', 'NORTHEAST', 'SOUTH', 'NORTHEAST', 'NORTHEAST', 'NORTHEAST', 'NORTHEAST', 'NORTHEAST', 'NORTHEAST', 'NORTHEAST', 'SOUTH', 'NORTHEAST', 'NORTHEAST', 'NORTHEAST', 'NORTHEAST', 'NORTHEAST', 'NORTHEAST', 'NORTHEAST', 'SOUTH', 'NORTHEAST', 'NORTHEAST', 'NORTHEAST', 'NORTHEAST', 'NORTHEAST', 'NORTHEAST', 'NORTHEAST', 'SOUTH', 'SOUTH', 'NORTHEAST', 'NORTHEAST', 'SOUTH', 'NORTHEAST', 'SOUTH', 'NORTHEAST', 'SOUTH', 'NORTHEAST', 'SOUTH', 'NORTHEAST', 'NORTHEAST', 'SOUTH', 'NORTHEAST', 'NORTHEAST', 'NORTHEAST', 'NORTHEAST', 'SOUTH', 'NORTHEAST', 'NORTHEAST', 'SOUTH', 'SOUTH', 'NORTHEAST', 'NORTHEAST', 'SOUTH', 'NORTHEAST', 'SOUTH', 'SOUTH', 'SOUTH', 'NORTHEAST', 'NORTHEAST', 'NORTHEAST', 'NORTHEAST', 'NORTHEAST', 'NORTHEAST', 'SOUTH', 'NORTHEAST', 'SOUTH', 'NORTHEAST', 'NORTHEAST', 'NORTHEAST', 'SOUTH', 'SOUTH', 'SOUTH', 'SOUTH', 'SOUTH', 'NORTHEAST', 'SOUTH', 'NORTHEAST', 'NORTHEAST', 'NORTHEAST', 'NORTHEAST', 'NORTHEAST', 'SOUTH', 'SOUTH', 'NORTHEAST', 'SOUTH', 'SOUTH', 'SOUTH', 'NORTHEAST', 'NORTHEAST', 'NORTHEAST', 'NORTHEAST', 'NORTHEAST', 'SOUTH', 'NORTHEAST', 'NORTHEAST', 'SOUTH', 'SOUTH', 'NORTHEAST', 'NORTHEAST', 'SOUTH', 'NORTHEAST', 'NORTHEAST', 'SOUTH', 'NORTHEAST', 'SOUTH', 'NORTHEAST', 'NORTHEAST', 'SOUTH', 'SOUTH', 'SOUTH', 'SOUTH', 'NORTHEAST', 'SOUTH', 'SOUTH', 'SOUTH', 'NORTHEAST', 'SOUTH', 'NORTHEAST', 'SOUTH', 'NORTHEAST', 'SOUTH', 'NORTHEAST', 'NORTHEAST', 'NORTHEAST', 'NORTHEAST', 'SOUTH', 'NORTHEAST', 'NORTHEAST', 'SOUTH', 'SOUTH', 'NORTHEAST', 'SOUTH', 'SOUTH', 'NORTHEAST', 'SOUTH', 'NORTHEAST', 'SOUTH', 'NORTHEAST', 'NORTHEAST', 'NORTHEAST', 'NORTHEAST', 'NORTHEAST', 'NORTHEAST', 'SOUTH', 'NORTHEAST', 'NORTHEAST', 'NORTHEAST', 'NORTHEAST', 'SOUTH', 'NORTHEAST', 'NORTHEAST', 'NORTHEAST', 'SOUTH', 'NORTHEAST', 'NORTHEAST', 'SOUTH', 'NORTHEAST', 'NORTHEAST', 'SOUTH', 'NORTHEAST', 'SOUTH', 'NORTHEAST', 'SOUTH', 'NORTHEAST', 'SOUTH', 'SOUTH', 'NORTHEAST', 'SOUTH', 'SOUTH', 'NORTHEAST', 'SOUTH', 'NORTHEAST', 'NORTHEAST', 'SOUTH', 'NORTHEAST', 'NORTHEAST', 'SOUTH', 'SOUTH', 'NORTHEAST', 'NORTHEAST', 'NORTHEAST', 'SOUTH', 'NORTHEAST', 'NORTHEAST', 'NORTHEAST', 'SOUTH', 'NORTHEAST', 'NORTHEAST', 'NORTHEAST', 'NORTHEAST', 'NORTHEAST', 'WEST', 'NORTHEAST', 'NORTHEAST', 'NORTHEAST', 'NORTHEAST', 'NORTHEAST', 'SOUTH', 'NORTHEAST', 'NORTHEAST', 'NORTHEAST', 'NORTHEAST', 'SOUTH', 'NORTHEAST', 'NORTHEAST', 'NORTHEAST', 'SOUTH', 'SOUTH', 'NORTHEAST', 'NORTHEAST', 'NORTHEAST', 'NORTHEAST', 'NORTHEAST', 'NORTHEAST', 'NORTHEAST', 'NORTHEAST', 'SOUTH', 'NORTHEAST', 'NORTHEAST', 'SOUTH', 'NORTHEAST', 'SOUTH', 'SOUTH', 'NORTHEAST', 'SOUTH', 'NORTHEAST', 'SOUTH', 'SOUTH', 'NORTHEAST', 'NORTHEAST', 'SOUTH', 'NORTHEAST', 'SOUTH', 'SOUTH', 'NORTHEAST', 'SOUTH', 'NORTHEAST', 'NORTHEAST', 'NORTHEAST', 'NORTHEAST', 'NORTHEAST', 'NORTHEAST', 'NORTHEAST', 'NORTHEAST', 'NORTHEAST', 'NORTHEAST', 'SOUTH', 'NORTHEAST', 'NORTHEAST', 'SOUTH', 'NORTHEAST', 'NORTHEAST', 'NORTHEAST', 'NORTHEAST', 'NORTHEAST', 'SOUTH', 'NORTHEAST', 'NORTHEAST', 'NORTHEAST', 'NORTHEAST', 'NORTHEAST', 'NORTHEAST', 'NORTHEAST', 'NORTHEAST', 'SOUTH', 'NORTHEAST', 'NORTHEAST', 'NORTHEAST', 'NORTHEAST', 'NORTHEAST', 'NORTHEAST', 'NORTHEAST', 'SOUTH', 'NORTHEAST', 'NORTHEAST', 'NORTHEAST', 'NORTHEAST', 'SOUTH', 'NORTHEAST', 'NORTHEAST', 'NORTHEAST', 'NORTHEAST', 'NORTHEAST', 'SOUTH', 'SOUTH', 'NORTHEAST', 'NORTHEAST', 'NORTHEAST', 'SOUTH', 'NORTHEAST', 'SOUTH', 'SOUTH', 'SOUTH', 'NORTHEAST', 'SOUTH', 'NORTHEAST', 'SOUTH', 'SOUTH', 'SOUTH', 'SOUTH', 'SOUTH', 'SOUTH', 'SOUTH', 'NORTHEAST', 'NORTHEAST', 'WEST', 'SOUTH', 'SOUTH', 'SOUTH', 'SOUTH', 'SOUTH', 'SOUTH', 'SOUTH', 'SOUTH', 'NORTHEAST', 'NORTHEAST', 'NORTHEAST', 'SOUTH', 'SOUTH', 'SOUTH', 'SOUTH', 'SOUTH', 'SOUTH', 'SOUTH', 'SOUTH', 'SOUTH', 'NORTHEAST', 'SOUTH', 'SOUTH', 'SOUTH', 'SOUTH', 'SOUTH', 'SOUTH', 'SOUTH', 'NORTHEAST', 'SOUTH', 'SOUTH', 'SOUTH', 'SOUTH', 'NORTHEAST', 'SOUTH', 'SOUTH', 'NORTHEAST', 'SOUTH', 'SOUTH', 'NORTHEAST', 'SOUTH', 'SOUTH', 'SOUTH', 'SOUTH', 'SOUTH', 'SOUTH', 'SOUTH', 'NORTHEAST', 'SOUTH', 'SOUTH', 'NORTHEAST', 'SOUTH', 'NORTHEAST', 'NORTHEAST', 'SOUTH', 'NORTHEAST', 'SOUTH', 'SOUTH', 'SOUTH', 'NORTHEAST', 'SOUTH', 'NORTHEAST', 'NORTHEAST', 'SOUTH', 'NORTHEAST', 'SOUTH', 'NORTHEAST', 'SOUTH', 'NORTHEAST', 'SOUTH', 'SOUTH', 'NORTHEAST', 'SOUTH', 'NORTHEAST', 'SOUTH', 'SOUTH', 'SOUTH', 'NORTHEAST', 'SOUTH', 'WEST', 'SOUTH', 'SOUTH', 'NORTHEAST', 'SOUTH', 'SOUTH', 'NORTHEAST', 'SOUTH', 'SOUTH', 'NORTHEAST', 'SOUTH', 'SOUTH', 'NORTHEAST', 'SOUTH', 'SOUTH', 'SOUTH', 'SOUTH', 'SOUTH', 'SOUTH', 'NORTHEAST', 'SOUTH', 'SOUTH', 'NORTHEAST', 'NORTHEAST', 'SOUTH', 'NORTHEAST', 'NORTHEAST', 'NORTHEAST', 'SOUTH', 'NORTHEAST', 'SOUTH', 'SOUTH', 'NORTHEAST', 'SOUTH', 'NORTHEAST', 'NORTHEAST', 'NORTHEAST', 'SOUTH', 'NORTHEAST', 'NORTHEAST', 'NORTHEAST', 'NORTHEAST', 'SOUTH', 'SOUTH', 'NORTHEAST', 'NORTHEAST', 'NORTHEAST', 'NORTHEAST', 'NORTHEAST', 'SOUTH', 'NORTHEAST', 'NORTHEAST', 'SOUTH', 'NORTHEAST', 'SOUTH', 'SOUTH', 'SOUTH', 'SOUTH', 'NORTHEAST', 'NORTHEAST', 'SOUTH', 'SOUTH', 'NORTHEAST', 'NORTHEAST', 'NORTHEAST', 'SOUTH', 'SOUTH', 'SOUTH', 'NORTHEAST', 'SOUTH', 'SOUTH', 'SOUTH', 'SOUTH', 'SOUTH', 'SOUTH', 'SOUTH', 'SOUTH', 'SOUTH', 'NORTHEAST', 'SOUTH', 'SOUTH', 'SOUTH', 'SOUTH', 'NORTHEAST', 'NORTHEAST', 'NORTHEAST', 'SOUTH', 'NORTHEAST', 'SOUTH', 'NORTHEAST', 'SOUTH', 'SOUTH', 'NORTHEAST', 'NORTHEAST', 'SOUTH', 'SOUTH', 'NORTHEAST', 'SOUTH', 'SOUTH', 'NORTHEAST', 'NORTHEAST', 'SOUTH', 'NORTHEAST', 'SOUTH', 'NORTHEAST', 'NORTHEAST', 'NORTHEAST', 'NORTHEAST', 'NORTHEAST', 'NORTHEAST', 'SOUTH', 'NORTHEAST', 'NORTHEAST', 'NORTHEAST', 'NORTHEAST', 'NORTHEAST', 'NORTHEAST', 'NORTHEAST', 'NORTHEAST', 'NORTHEAST', 'NORTHEAST', 'SOUTH', 'SOUTH', 'SOUTH', 'SOUTH', 'SOUTH', 'NORTHEAST', 'SOUTH', 'NORTHEAST', 'NORTHEAST', 'SOUTH', 'NORTHEAST', 'NORTHEAST', 'NORTHEAST', 'SOUTH', 'NORTHEAST', 'SOUTH', 'SOUTH', 'SOUTH', 'NORTHEAST', 'SOUTH', 'WEST', 'NORTHEAST', 'SOUTH', 'NORTHEAST', 'NORTHEAST', 'SOUTH', 'SOUTH', 'NORTHEAST', 'SOUTH', 'SOUTH', 'SOUTH', 'NORTHEAST', 'NORTHEAST', 'NORTHEAST', 'SOUTH', 'NORTHEAST', 'MIDWEST', 'NORTHEAST', 'SOUTH', 'NORTHEAST', 'NORTHEAST', 'SOUTH', 'NORTHEAST', 'NORTHEAST', 'MIDWEST', 'SOUTH', 'SOUTH', 'NORTHEAST', 'SOUTH', 'SOUTH', 'NORTHEAST', 'SOUTH', 'NORTHEAST', 'NORTHEAST', 'SOUTH', 'NORTHEAST', 'SOUTH', 'SOUTH', 'SOUTH', 'SOUTH', 'SOUTH', 'NORTHEAST', 'NORTHEAST', 'SOUTH', 'NORTHEAST', 'SOUTH', 'NORTHEAST', 'NORTHEAST', 'NORTHEAST', 'NORTHEAST', 'NORTHEAST', 'NORTHEAST', 'SOUTH', 'NORTHEAST', 'SOUTH', 'NORTHEAST', 'SOUTH', 'SOUTH', 'NORTHEAST', 'SOUTH', 'NORTHEAST', 'SOUTH', 'NORTHEAST', 'SOUTH', 'SOUTH', 'NORTHEAST', 'NORTHEAST', 'NORTHEAST', 'NORTHEAST', 'NORTHEAST', 'SOUTH', 'SOUTH', 'MIDWEST', 'SOUTH', 'SOUTH', 'NORTHEAST', 'SOUTH', 'SOUTH', 'SOUTH', 'SOUTH', 'NORTHEAST', 'MIDWEST', 'SOUTH', 'SOUTH', 'SOUTH', 'NORTHEAST', 'SOUTH', 'SOUTH', 'SOUTH', 'SOUTH', 'SOUTH', 'SOUTH', 'SOUTH', 'SOUTH', 'SOUTH', 'SOUTH', 'SOUTH', 'SOUTH', 'NORTHEAST', 'NORTHEAST', 'SOUTH', 'NORTHEAST', 'SOUTH', 'SOUTH', 'SOUTH', 'SOUTH', 'SOUTH', 'SOUTH', 'SOUTH', 'NORTHEAST', 'SOUTH', 'NORTHEAST', 'NORTHEAST', 'SOUTH', 'SOUTH', 'NORTHEAST', 'SOUTH', 'SOUTH', 'SOUTH', 'SOUTH', 'SOUTH', 'SOUTH', 'SOUTH', 'SOUTH', 'NORTHEAST', 'SOUTH', 'SOUTH', 'SOUTH', 'NORTHEAST', 'SOUTH', 'SOUTH', 'SOUTH', 'NORTHEAST', 'SOUTH', 'NORTHEAST', 'SOUTH', 'SOUTH', 'SOUTH', 'SOUTH', 'SOUTH', 'SOUTH', 'SOUTH', 'NORTHEAST', 'SOUTH', 'SOUTH', 'SOUTH', 'NORTHEAST', 'SOUTH', 'NORTHEAST', 'NORTHEAST', 'SOUTH', 'SOUTH', 'NORTHEAST', 'NORTHEAST', 'SOUTH', 'SOUTH', 'SOUTH', 'SOUTH', 'SOUTH', 'NORTHEAST', 'NORTHEAST', 'NORTHEAST', 'SOUTH', 'SOUTH', 'SOUTH', 'SOUTH', 'SOUTH', 'NORTHEAST', 'SOUTH', 'SOUTH', 'SOUTH', 'NORTHEAST', 'NORTHEAST', 'NORTHEAST', 'NORTHEAST', 'NORTHEAST', 'NORTHEAST', 'NORTHEAST', 'SOUTH', 'NORTHEAST', 'SOUTH', 'NORTHEAST', 'SOUTH', 'NORTHEAST', 'SOUTH', 'SOUTH', 'SOUTH', 'SOUTH', 'NORTHEAST', 'NORTHEAST', 'NORTHEAST', 'SOUTH', 'NORTHEAST', 'SOUTH', 'SOUTH', 'NORTHEAST', 'SOUTH', 'SOUTH', 'SOUTH', 'NORTHEAST', 'SOUTH', 'NORTHEAST', 'NORTHEAST', 'NORTHEAST', 'SOUTH', 'SOUTH', 'SOUTH', 'SOUTH', 'SOUTH', 'NORTHEAST', 'SOUTH', 'SOUTH', 'SOUTH', 'SOUTH', 'SOUTH', 'NORTHEAST', 'NORTHEAST', 'NORTHEAST', 'SOUTH', 'SOUTH', 'SOUTH', 'SOUTH', 'SOUTH', 'SOUTH', 'NORTHEAST', 'SOUTH', 'SOUTH', 'NORTHEAST', 'SOUTH', 'SOUTH', 'SOUTH', 'NORTHEAST', 'SOUTH', 'NORTHEAST', 'SOUTH', 'NORTHEAST', 'SOUTH', 'NORTHEAST', 'SOUTH', 'SOUTH', 'SOUTH', 'SOUTH', 'NORTHEAST', 'NORTHEAST', 'NORTHEAST', 'SOUTH', 'NORTHEAST', 'SOUTH', 'SOUTH', 'NORTHEAST', 'NORTHEAST', 'NORTHEAST', 'SOUTH', 'NORTHEAST', 'NORTHEAST', 'NORTHEAST', 'NORTHEAST', 'NORTHEAST', 'NORTHEAST', 'SOUTH', 'NORTHEAST', 'NORTHEAST', 'NORTHEAST', 'SOUTH', 'SOUTH', 'NORTHEAST', 'SOUTH', 'NORTHEAST', 'SOUTH', 'NORTHEAST', 'SOUTH', 'SOUTH', 'NORTHEAST', 'SOUTH', 'SOUTH', 'SOUTH', 'SOUTH', 'NORTHEAST', 'SOUTH', 'NORTHEAST', 'NORTHEAST', 'SOUTH', 'NORTHEAST', 'SOUTH', 'NORTHEAST', 'SOUTH', 'NORTHEAST', 'SOUTH', 'SOUTH', 'SOUTH', 'SOUTH', 'SOUTH', 'SOUTH', 'SOUTH', 'NORTHEAST', 'NORTHEAST', 'SOUTH', 'NORTHEAST', 'NORTHEAST', 'SOUTH', 'NORTHEAST', 'SOUTH', 'SOUTH', 'NORTHEAST', 'MIDWEST', 'SOUTH', 'SOUTH', 'NORTHEAST', 'NORTHEAST', 'SOUTH', 'SOUTH', 'SOUTH', 'SOUTH', 'SOUTH', 'SOUTH', 'NORTHEAST', 'NORTHEAST', 'NORTHEAST', 'SOUTH', 'NORTHEAST', 'NORTHEAST', 'SOUTH', 'SOUTH', 'SOUTH', 'SOUTH', 'NORTHEAST', 'NORTHEAST', 'SOUTH', 'NORTHEAST', 'NORTHEAST', 'NORTHEAST', 'SOUTH', 'SOUTH', 'SOUTH', 'SOUTH', 'NORTHEAST', 'NORTHEAST', 'NORTHEAST', 'SOUTH', 'SOUTH', 'SOUTH', 'NORTHEAST', 'SOUTH', 'SOUTH', 'MIDWEST', 'SOUTH', 'SOUTH', 'NORTHEAST', 'SOUTH', 'SOUTH', 'SOUTH', 'SOUTH', 'NORTHEAST', 'SOUTH', 'SOUTH', 'SOUTH', 'NORTHEAST', 'SOUTH', 'SOUTH', 'NORTHEAST', 'NORTHEAST', 'SOUTH', 'SOUTH', 'SOUTH', 'SOUTH', 'SOUTH', 'SOUTH', 'NORTHEAST', 'SOUTH', 'SOUTH', 'NORTHEAST', 'SOUTH', 'NORTHEAST', 'NORTHEAST', 'SOUTH', 'SOUTH', 'SOUTH', 'NORTHEAST', 'SOUTH', 'NORTHEAST', 'NORTHEAST', 'NORTHEAST', 'SOUTH', 'SOUTH', 'SOUTH', 'NORTHEAST', 'SOUTH', 'NORTHEAST', 'NORTHEAST', 'NORTHEAST', 'SOUTH', 'NORTHEAST', 'NORTHEAST', 'NORTHEAST', 'NORTHEAST', 'NORTHEAST', 'NORTHEAST', 'NORTHEAST', 'NORTHEAST', 'NORTHEAST', 'NORTHEAST', 'NORTHEAST', 'SOUTH', 'NORTHEAST', 'SOUTH', 'SOUTH', 'NORTHEAST', 'NORTHEAST', 'NORTHEAST', 'WEST', 'NORTHEAST', 'NORTHEAST', 'NORTHEAST', 'NORTHEAST', 'WEST', 'SOUTH', 'NORTHEAST', 'NORTHEAST', 'NORTHEAST', 'SOUTH', 'NORTHEAST', 'NORTHEAST', 'NORTHEAST', 'NORTHEAST', 'NORTHEAST', 'NORTHEAST', 'NORTHEAST', 'NORTHEAST', 'NORTHEAST', 'NORTHEAST', 'NORTHEAST', 'NORTHEAST', 'NORTHEAST', 'NORTHEAST', 'NORTHEAST', 'NORTHEAST', 'NORTHEAST', 'NORTHEAST', 'SOUTH', 'NORTHEAST', 'SOUTH', 'NORTHEAST', 'NORTHEAST', 'SOUTH', 'SOUTH', 'NORTHEAST', 'NORTHEAST', 'NORTHEAST', 'NORTHEAST', 'NORTHEAST', 'NORTHEAST', 'NORTHEAST', 'NORTHEAST', 'NORTHEAST', 'NORTHEAST', 'SOUTH', 'NORTHEAST', 'SOUTH', 'SOUTH', 'SOUTH', 'SOUTH', 'SOUTH', 'SOUTH', 'NORTHEAST', 'NORTHEAST', 'SOUTH', 'SOUTH', 'SOUTH', 'NORTHEAST', 'SOUTH', 'NORTHEAST', 'SOUTH', 'SOUTH', 'SOUTH', 'NORTHEAST', 'SOUTH', 'SOUTH', 'SOUTH', 'SOUTH', 'NORTHEAST', 'NORTHEAST', 'SOUTH', 'SOUTH', 'SOUTH', 'NORTHEAST', 'NORTHEAST', 'SOUTH', 'NORTHEAST', 'NORTHEAST', 'SOUTH', 'SOUTH', 'NORTHEAST', 'NORTHEAST', 'NORTHEAST', 'NORTHEAST', 'NORTHEAST', 'NORTHEAST', 'NORTHEAST', 'NORTHEAST', 'NORTHEAST', 'NORTHEAST', 'NORTHEAST', 'NORTHEAST', 'NORTHEAST', 'NORTHEAST', 'NORTHEAST', 'SOUTH', 'NORTHEAST', 'NORTHEAST', 'SOUTH', 'NORTHEAST', 'NORTHEAST', 'NORTHEAST', 'NORTHEAST', 'NORTHEAST', 'NORTHEAST', 'NORTHEAST', 'NORTHEAST', 'NORTHEAST', 'NORTHEAST', 'NORTHEAST', 'NORTHEAST', 'NORTHEAST', 'NORTHEAST', 'NORTHEAST', 'NORTHEAST', 'NORTHEAST', 'NORTHEAST', 'NORTHEAST', 'NORTHEAST', 'NORTHEAST', 'NORTHEAST', 'SOUTH', 'NORTHEAST', 'SOUTH', 'NORTHEAST', 'NORTHEAST', 'SOUTH', 'NORTHEAST', 'NORTHEAST', 'NORTHEAST', 'NORTHEAST', 'NORTHEAST', 'NORTHEAST', 'NORTHEAST', 'NORTHEAST', 'NORTHEAST', 'NORTHEAST', 'NORTHEAST', 'NORTHEAST', 'NORTHEAST', 'NORTHEAST', 'NORTHEAST', 'NORTHEAST', 'NORTHEAST', 'NORTHEAST', 'SOUTH', 'NORTHEAST', 'SOUTH', 'SOUTH', 'NORTHEAST', 'NORTHEAST', 'NORTHEAST', 'NORTHEAST', 'NORTHEAST', 'NORTHEAST', 'NORTHEAST', 'SOUTH', 'SOUTH', 'SOUTH', 'WEST', 'SOUTH', 'SOUTH', 'SOUTH', 'NORTHEAST', 'NORTHEAST', 'NORTHEAST', 'NORTHEAST', 'SOUTH', 'SOUTH', 'NORTHEAST', 'SOUTH', 'NORTHEAST', 'SOUTH', 'SOUTH', 'NORTHEAST', 'NORTHEAST', 'SOUTH', 'NORTHEAST', 'NORTHEAST', 'SOUTH', 'NORTHEAST', 'SOUTH', 'SOUTH', 'SOUTH', 'NORTHEAST', 'SOUTH', 'NORTHEAST', 'SOUTH', 'NORTHEAST', 'SOUTH', 'SOUTH', 'SOUTH', 'SOUTH', 'SOUTH', 'NORTHEAST', 'SOUTH', 'NORTHEAST', 'NORTHEAST', 'SOUTH', 'SOUTH', 'SOUTH', 'SOUTH', 'SOUTH', 'SOUTH', 'NORTHEAST', 'NORTHEAST', 'NORTHEAST', 'NORTHEAST', 'NORTHEAST', 'NORTHEAST', 'NORTHEAST', 'NORTHEAST', 'NORTHEAST', 'NORTHEAST', 'NORTHEAST', 'SOUTH', 'NORTHEAST', 'NORTHEAST', 'SOUTH', 'NORTHEAST', 'SOUTH', 'NORTHEAST', 'NORTHEAST', 'NORTHEAST', 'NORTHEAST', 'SOUTH', 'NORTHEAST', 'NORTHEAST', 'NORTHEAST', 'NORTHEAST', 'NORTHEAST', 'NORTHEAST', 'SOUTH', 'NORTHEAST', 'NORTHEAST', 'NORTHEAST', 'SOUTH', 'NORTHEAST', 'SOUTH', 'SOUTH', 'SOUTH', 'SOUTH', 'NORTHEAST', 'SOUTH', 'NORTHEAST', 'NORTHEAST', 'NORTHEAST', 'NORTHEAST', 'NORTHEAST', 'SOUTH', 'NORTHEAST', 'SOUTH', 'SOUTH', 'NORTHEAST', 'NORTHEAST', 'NORTHEAST', 'SOUTH', 'SOUTH', 'SOUTH', 'NORTHEAST', 'SOUTH', 'SOUTH', 'SOUTH', 'SOUTH', 'NORTHEAST', 'SOUTH', 'NORTHEAST', 'SOUTH', 'SOUTH', 'NORTHEAST', 'SOUTH', 'SOUTH', 'SOUTH', 'NORTHEAST', 'NORTHEAST', 'NORTHEAST', 'NORTHEAST', 'SOUTH', 'SOUTH', 'SOUTH', 'NORTHEAST', 'MIDWEST', 'SOUTH', 'NORTHEAST', 'SOUTH', 'NORTHEAST', 'SOUTH', 'NORTHEAST', 'SOUTH', 'SOUTH', 'NORTHEAST', 'NORTHEAST', 'SOUTH', 'NORTHEAST', 'SOUTH', 'SOUTH', 'NORTHEAST', 'NORTHEAST', 'NORTHEAST', 'SOUTH', 'SOUTH', 'NORTHEAST', 'SOUTH', 'SOUTH', 'NORTHEAST', 'NORTHEAST', 'NORTHEAST', 'NORTHEAST', 'SOUTH', 'SOUTH', 'NORTHEAST', 'NORTHEAST', 'SOUTH', 'NORTHEAST', 'NORTHEAST', 'NORTHEAST', 'NORTHEAST', 'NORTHEAST', 'NORTHEAST', 'NORTHEAST', 'NORTHEAST', 'SOUTH', 'NORTHEAST', 'SOUTH', 'SOUTH', 'NORTHEAST', 'NORTHEAST', 'NORTHEAST', 'SOUTH', 'SOUTH', 'NORTHEAST', 'NORTHEAST', 'NORTHEAST', 'NORTHEAST', 'NORTHEAST', 'NORTHEAST', 'NORTHEAST', 'NORTHEAST', 'NORTHEAST', 'NORTHEAST', 'NORTHEAST', 'NORTHEAST', 'NORTHEAST', 'NORTHEAST', 'NORTHEAST', 'NORTHEAST', 'NORTHEAST', 'NORTHEAST', 'NORTHEAST', 'NORTHEAST', 'NORTHEAST', 'NORTHEAST', 'NORTHEAST', 'NORTHEAST', 'NORTHEAST', 'SOUTH', 'NORTHEAST', 'SOUTH', 'SOUTH', 'NORTHEAST', 'NORTHEAST', 'SOUTH', 'SOUTH', 'NORTHEAST', 'NORTHEAST', 'NORTHEAST', 'NORTHEAST', 'SOUTH', 'SOUTH', 'NORTHEAST', 'SOUTH', 'SOUTH', 'NORTHEAST', 'NORTHEAST', 'SOUTH', 'NORTHEAST', 'NORTHEAST', 'NORTHEAST', 'NORTHEAST', 'NORTHEAST', 'NORTHEAST', 'NORTHEAST', 'NORTHEAST', 'NORTHEAST', 'SOUTH', 'NORTHEAST', 'NORTHEAST', 'NORTHEAST', 'NORTHEAST', 'SOUTH', 'SOUTH', 'SOUTH', 'NORTHEAST', 'SOUTH', 'SOUTH', 'NORTHEAST', 'NORTHEAST', 'SOUTH', 'SOUTH', 'NORTHEAST', 'SOUTH', 'NORTHEAST', 'NORTHEAST', 'SOUTH', 'SOUTH', 'SOUTH', 'SOUTH', 'NORTHEAST', 'SOUTH', 'SOUTH', 'SOUTH', 'SOUTH', 'SOUTH', 'SOUTH', 'NORTHEAST', 'NORTHEAST', 'SOUTH', 'NORTHEAST', 'NORTHEAST', 'SOUTH', 'NORTHEAST', 'NORTHEAST', 'SOUTH', 'MIDWEST', 'SOUTH', 'SOUTH', 'NORTHEAST', 'NORTHEAST', 'SOUTH', 'SOUTH', 'SOUTH', 'NORTHEAST', 'NORTHEAST', 'NORTHEAST', 'SOUTH', 'NORTHEAST', 'SOUTH', 'SOUTH', 'SOUTH', 'SOUTH', 'SOUTH', 'SOUTH', 'SOUTH', 'SOUTH', 'NORTHEAST', 'SOUTH', 'SOUTH', 'SOUTH', 'SOUTH', 'NORTHEAST', 'NORTHEAST', 'SOUTH', 'NORTHEAST', 'SOUTH', 'SOUTH', 'SOUTH', 'SOUTH', 'SOUTH', 'NORTHEAST', 'WEST', 'NORTHEAST', 'NORTHEAST', 'NORTHEAST', 'SOUTH', 'NORTHEAST', 'NORTHEAST', 'SOUTH', 'SOUTH', 'NORTHEAST', 'SOUTH', 'SOUTH', 'SOUTH', 'WEST', 'NORTHEAST', 'NORTHEAST', 'WEST', 'WEST', 'SOUTH', 'WEST', 'SOUTH', 'SOUTH', 'NORTHEAST', 'NORTHEAST', 'NORTHEAST', 'NORTHEAST', 'SOUTH', 'SOUTH', 'WEST', 'SOUTH', 'SOUTH', 'NORTHEAST', 'NORTHEAST', 'SOUTH', 'SOUTH', 'SOUTH', 'SOUTH', 'NORTHEAST', 'SOUTH', 'NORTHEAST', 'SOUTH', 'NORTHEAST', 'NORTHEAST', 'SOUTH', 'SOUTH', 'NORTHEAST', 'NORTHEAST', 'SOUTH', 'NORTHEAST', 'NORTHEAST', 'NORTHEAST', 'NORTHEAST', 'NORTHEAST', 'NORTHEAST', 'NORTHEAST', 'SOUTH', 'NORTHEAST', 'NORTHEAST', 'NORTHEAST', 'SOUTH', 'WEST', 'SOUTH', 'NORTHEAST', 'NORTHEAST', 'SOUTH', 'SOUTH', 'SOUTH', 'WEST', 'SOUTH', 'NORTHEAST', 'SOUTH', 'NORTHEAST', 'SOUTH', 'SOUTH', 'SOUTH', 'SOUTH', 'NORTHEAST', 'NORTHEAST', 'SOUTH', 'SOUTH', 'SOUTH', 'NORTHEAST', 'SOUTH', 'SOUTH', 'SOUTH', 'NORTHEAST', 'SOUTH', 'NORTHEAST', 'SOUTH', 'SOUTH', 'WEST', 'NORTHEAST', 'NORTHEAST', 'SOUTH', 'NORTHEAST', 'SOUTH', 'SOUTH', 'SOUTH', 'SOUTH', 'SOUTH', 'SOUTH', 'SOUTH', 'SOUTH', 'SOUTH', 'NORTHEAST', 'WEST', 'SOUTH', 'SOUTH', 'SOUTH', 'NORTHEAST', 'NORTHEAST', 'NORTHEAST', 'NORTHEAST', 'SOUTH', 'NORTHEAST', 'SOUTH', 'NORTHEAST', 'SOUTH', 'NORTHEAST', 'NORTHEAST', 'SOUTH', 'NORTHEAST', 'NORTHEAST', 'SOUTH', 'SOUTH', 'NORTHEAST', 'NORTHEAST', 'SOUTH', 'NORTHEAST', 'NORTHEAST', 'NORTHEAST', 'SOUTH', 'NORTHEAST', 'NORTHEAST', 'SOUTH', 'SOUTH', 'SOUTH', 'NORTHEAST', 'NORTHEAST', 'SOUTH', 'SOUTH', 'NORTHEAST', 'NORTHEAST', 'NORTHEAST', 'NORTHEAST', 'NORTHEAST', 'NORTHEAST', 'NORTHEAST', 'NORTHEAST', 'NORTHEAST', 'NORTHEAST', 'NORTHEAST', 'SOUTH', 'SOUTH', 'NORTHEAST', 'NORTHEAST', 'NORTHEAST', 'NORTHEAST', 'NORTHEAST', 'SOUTH', 'SOUTH', 'NORTHEAST', 'NORTHEAST', 'NORTHEAST', 'SOUTH', 'NORTHEAST', 'SOUTH', 'SOUTH', 'NORTHEAST', 'NORTHEAST', 'SOUTH', 'NORTHEAST', 'SOUTH', 'SOUTH', 'SOUTH', 'SOUTH', 'SOUTH', 'NORTHEAST', 'SOUTH', 'SOUTH', 'WEST', 'SOUTH', 'SOUTH', 'SOUTH', 'SOUTH', 'SOUTH', 'SOUTH', 'SOUTH', 'SOUTH', 'NORTHEAST', 'SOUTH', 'SOUTH', 'NORTHEAST', 'NORTHEAST', 'NORTHEAST', 'NORTHEAST', 'NORTHEAST', 'NORTHEAST', 'WEST', 'NORTHEAST', 'NORTHEAST', 'NORTHEAST', 'NORTHEAST', 'NORTHEAST', 'NORTHEAST', 'NORTHEAST', 'NORTHEAST', 'NORTHEAST', 'NORTHEAST', 'NORTHEAST', 'SOUTH', 'NORTHEAST', 'WEST', 'NORTHEAST', 'NORTHEAST', 'NORTHEAST', 'NORTHEAST', 'NORTHEAST', 'NORTHEAST', 'NORTHEAST', 'NORTHEAST', 'NORTHEAST', 'NORTHEAST', 'NORTHEAST', 'NORTHEAST', 'NORTHEAST', 'NORTHEAST', 'NORTHEAST', 'NORTHEAST', 'NORTHEAST', 'NORTHEAST', 'NORTHEAST', 'SOUTH', 'NORTHEAST', 'NORTHEAST', 'SOUTH', 'SOUTH', 'NORTHEAST', 'NORTHEAST', 'SOUTH', 'NORTHEAST', 'NORTHEAST', 'NORTHEAST', 'SOUTH', 'NORTHEAST', 'NORTHEAST', 'SOUTH', 'NORTHEAST', 'NORTHEAST', 'NORTHEAST', 'SOUTH', 'NORTHEAST', 'NORTHEAST', 'NORTHEAST', 'NORTHEAST', 'NORTHEAST', 'SOUTH', 'NORTHEAST', 'NORTHEAST', 'NORTHEAST', 'NORTHEAST', 'SOUTH', 'NORTHEAST', 'SOUTH', 'NORTHEAST', 'NORTHEAST', 'SOUTH', 'NORTHEAST', 'NORTHEAST', 'NORTHEAST', 'NORTHEAST', 'NORTHEAST', 'NORTHEAST', 'NORTHEAST', 'NORTHEAST', 'NORTHEAST', 'NORTHEAST', 'SOUTH', 'NORTHEAST', 'NORTHEAST', 'SOUTH', 'SOUTH', 'SOUTH', 'SOUTH', 'NORTHEAST', 'SOUTH', 'SOUTH', 'NORTHEAST', 'NORTHEAST', 'NORTHEAST', 'NORTHEAST', 'NORTHEAST', 'SOUTH', 'NORTHEAST', 'SOUTH', 'SOUTH', 'SOUTH', 'SOUTH', 'SOUTH', 'SOUTH', 'SOUTH', 'SOUTH', 'NORTHEAST', 'SOUTH', 'WEST', 'SOUTH', 'SOUTH', 'WEST', 'SOUTH', 'SOUTH', 'SOUTH', 'SOUTH', 'SOUTH', 'SOUTH', 'SOUTH', 'SOUTH', 'SOUTH', 'SOUTH', 'SOUTH', 'MIDWEST', 'SOUTH', 'NORTHEAST', 'SOUTH', 'SOUTH', 'SOUTH', 'SOUTH', 'SOUTH', 'SOUTH', 'SOUTH', 'SOUTH', 'NORTHEAST', 'SOUTH', 'SOUTH', 'SOUTH', 'SOUTH', 'SOUTH', 'SOUTH', 'SOUTH', 'SOUTH', 'SOUTH', 'SOUTH', 'SOUTH', 'SOUTH', 'SOUTH', 'NORTHEAST', 'NORTHEAST', 'NORTHEAST', 'NORTHEAST', 'NORTHEAST', 'NORTHEAST', 'NORTHEAST', 'NORTHEAST', 'NORTHEAST', 'NORTHEAST', 'NORTHEAST', 'NORTHEAST', 'NORTHEAST', 'SOUTH', 'NORTHEAST', 'NORTHEAST', 'NORTHEAST', 'NORTHEAST', 'NORTHEAST', 'SOUTH', 'NORTHEAST', 'NORTHEAST', 'NORTHEAST', 'NORTHEAST', 'SOUTH', 'NORTHEAST', 'NORTHEAST', 'NORTHEAST', 'NORTHEAST', 'NORTHEAST', 'NORTHEAST', 'NORTHEAST', 'SOUTH', 'NORTHEAST', 'NORTHEAST', 'NORTHEAST', 'NORTHEAST', 'NORTHEAST', 'NORTHEAST', 'NORTHEAST', 'SOUTH', 'SOUTH', 'NORTHEAST', 'SOUTH', 'SOUTH', 'NORTHEAST', 'SOUTH', 'SOUTH', 'NORTHEAST', 'SOUTH', 'NORTHEAST', 'SOUTH', 'SOUTH', 'NORTHEAST', 'SOUTH', 'SOUTH', 'NORTHEAST', 'NORTHEAST', 'SOUTH', 'NORTHEAST', 'SOUTH', 'SOUTH', 'SOUTH', 'SOUTH', 'SOUTH', 'SOUTH', 'SOUTH', 'SOUTH', 'SOUTH', 'SOUTH', 'NORTHEAST', 'SOUTH', 'NORTHEAST', 'NORTHEAST', 'SOUTH', 'SOUTH', 'SOUTH', 'SOUTH', 'SOUTH', 'SOUTH', 'SOUTH', 'SOUTH', 'NORTHEAST', 'SOUTH', 'NORTHEAST', 'SOUTH', 'NORTHEAST', 'SOUTH', 'SOUTH', 'SOUTH', 'SOUTH', 'NORTHEAST', 'SOUTH', 'SOUTH', 'NORTHEAST', 'SOUTH', 'SOUTH', 'SOUTH', 'NORTHEAST', 'SOUTH', 'NORTHEAST', 'SOUTH', 'SOUTH', 'SOUTH', 'SOUTH', 'NORTHEAST', 'NORTHEAST', 'NORTHEAST', 'WEST', 'NORTHEAST', 'NORTHEAST', 'SOUTH', 'SOUTH', 'SOUTH', 'MIDWEST', 'NORTHEAST', 'SOUTH', 'NORTHEAST', 'NORTHEAST', 'NORTHEAST', 'SOUTH', 'NORTHEAST', 'NORTHEAST', 'WEST', 'SOUTH', 'NORTHEAST', 'NORTHEAST', 'NORTHEAST', 'NORTHEAST', 'NORTHEAST', 'SOUTH', 'NORTHEAST', 'SOUTH', 'NORTHEAST', 'SOUTH', 'NORTHEAST', 'NORTHEAST', 'NORTHEAST', 'NORTHEAST', 'NORTHEAST', 'NORTHEAST', 'SOUTH', 'NORTHEAST', 'SOUTH', 'NORTHEAST', 'NORTHEAST', 'SOUTH', 'SOUTH', 'SOUTH', 'NORTHEAST', 'NORTHEAST', 'SOUTH', 'SOUTH', 'NORTHEAST', 'SOUTH', 'SOUTH', 'NORTHEAST', 'SOUTH', 'NORTHEAST', 'NORTHEAST', 'NORTHEAST', 'SOUTH', 'SOUTH', 'NORTHEAST', 'NORTHEAST', 'SOUTH', 'NORTHEAST', 'NORTHEAST', 'NORTHEAST', 'NORTHEAST', 'NORTHEAST', 'SOUTH', 'NORTHEAST', 'SOUTH', 'NORTHEAST', 'SOUTH', 'NORTHEAST', 'SOUTH', 'SOUTH', 'NORTHEAST', 'NORTHEAST', 'NORTHEAST', 'NORTHEAST', 'NORTHEAST', 'NORTHEAST', 'NORTHEAST', 'NORTHEAST', 'NORTHEAST', 'NORTHEAST', 'NORTHEAST', 'NORTHEAST', 'NORTHEAST', 'SOUTH', 'NORTHEAST', 'SOUTH', 'SOUTH', 'NORTHEAST', 'NORTHEAST', 'SOUTH', 'NORTHEAST', 'NORTHEAST', 'SOUTH', 'NORTHEAST', 'SOUTH', 'SOUTH', 'SOUTH', 'NORTHEAST', 'SOUTH', 'NORTHEAST', 'NORTHEAST', 'NORTHEAST', 'NORTHEAST', 'SOUTH', 'NORTHEAST', 'NORTHEAST', 'NORTHEAST', 'NORTHEAST', 'NORTHEAST', 'NORTHEAST', 'NORTHEAST', 'NORTHEAST', 'NORTHEAST', 'SOUTH', 'SOUTH', 'NORTHEAST', 'NORTHEAST', 'NORTHEAST', 'NORTHEAST', 'SOUTH', 'NORTHEAST', 'SOUTH', 'SOUTH', 'SOUTH', 'SOUTH', 'SOUTH', 'NORTHEAST', 'NORTHEAST', 'NORTHEAST', 'SOUTH', 'NORTHEAST', 'WEST', 'NORTHEAST', 'SOUTH', 'SOUTH', 'WEST', 'NORTHEAST', 'NORTHEAST', 'NORTHEAST', 'NORTHEAST', 'SOUTH', 'NORTHEAST', 'SOUTH', 'SOUTH', 'NORTHEAST', 'NORTHEAST', 'SOUTH', 'NORTHEAST', 'NORTHEAST', 'NORTHEAST', 'NORTHEAST', 'SOUTH', 'SOUTH', 'SOUTH', 'SOUTH', 'SOUTH', 'NORTHEAST', 'SOUTH', 'SOUTH', 'NORTHEAST', 'SOUTH', 'SOUTH', 'NORTHEAST', 'NORTHEAST', 'SOUTH', 'SOUTH', 'SOUTH', 'NORTHEAST', 'NORTHEAST', 'SOUTH', 'NORTHEAST', 'NORTHEAST', 'NORTHEAST', 'SOUTH', 'SOUTH', 'NORTHEAST', 'NORTHEAST', 'NORTHEAST', 'NORTHEAST', 'SOUTH', 'SOUTH', 'NORTHEAST', 'NORTHEAST', 'SOUTH', 'SOUTH', 'SOUTH', 'SOUTH', 'SOUTH', 'SOUTH', 'SOUTH', 'SOUTH', 'NORTHEAST', 'NORTHEAST', 'NORTHEAST', 'SOUTH', 'SOUTH', 'NORTHEAST', 'SOUTH', 'SOUTH', 'SOUTH', 'SOUTH', 'NORTHEAST', 'SOUTH', 'SOUTH', 'SOUTH', 'SOUTH', 'NORTHEAST', 'NORTHEAST', 'SOUTH', 'NORTHEAST', 'NORTHEAST', 'NORTHEAST', 'SOUTH', 'SOUTH', 'NORTHEAST', 'NORTHEAST', 'NORTHEAST', 'NORTHEAST', 'SOUTH', 'SOUTH', 'NORTHEAST', 'SOUTH', 'NORTHEAST', 'SOUTH', 'NORTHEAST', 'NORTHEAST', 'NORTHEAST', 'SOUTH', 'SOUTH', 'SOUTH', 'NORTHEAST', 'WEST', 'SOUTH', 'NORTHEAST', 'NORTHEAST', 'NORTHEAST', 'NORTHEAST', 'NORTHEAST', 'NORTHEAST', 'NORTHEAST', 'NORTHEAST', 'NORTHEAST', 'NORTHEAST', 'SOUTH', 'NORTHEAST', 'NORTHEAST', 'NORTHEAST', 'SOUTH', 'NORTHEAST', 'NORTHEAST', 'NORTHEAST', 'WEST', 'NORTHEAST', 'NORTHEAST', 'SOUTH', 'SOUTH', 'NORTHEAST', 'NORTHEAST', 'SOUTH', 'NORTHEAST', 'NORTHEAST', 'SOUTH', 'NORTHEAST', 'NORTHEAST', 'SOUTH', 'NORTHEAST', 'SOUTH', 'NORTHEAST', 'NORTHEAST', 'NORTHEAST', 'NORTHEAST', 'NORTHEAST', 'NORTHEAST', 'NORTHEAST', 'NORTHEAST', 'NORTHEAST', 'NORTHEAST', 'NORTHEAST', 'NORTHEAST', 'NORTHEAST', 'NORTHEAST', 'SOUTH', 'NORTHEAST', 'SOUTH', 'NORTHEAST', 'SOUTH', 'SOUTH', 'SOUTH', 'SOUTH', 'SOUTH', 'SOUTH', 'SOUTH', 'SOUTH', 'SOUTH', 'NORTHEAST', 'NORTHEAST', 'SOUTH', 'SOUTH', 'NORTHEAST', 'SOUTH', 'WEST', 'WEST', 'SOUTH', 'NORTHEAST', 'SOUTH', 'SOUTH', 'SOUTH', 'SOUTH', 'SOUTH', 'SOUTH', 'NORTHEAST', 'NORTHEAST', 'MIDWEST', 'NORTHEAST', 'NORTHEAST', 'SOUTH', 'MIDWEST', 'SOUTH', 'SOUTH', 'NORTHEAST', 'SOUTH', 'SOUTH', 'NORTHEAST', 'NORTHEAST', 'NORTHEAST', 'SOUTH', 'SOUTH', 'SOUTH', 'NORTHEAST', 'SOUTH', 'SOUTH', 'NORTHEAST', 'SOUTH', 'NORTHEAST', 'NORTHEAST', 'NORTHEAST', 'SOUTH', 'NORTHEAST', 'SOUTH', 'SOUTH', 'NORTHEAST', 'SOUTH', 'NORTHEAST', 'NORTHEAST', 'NORTHEAST', 'SOUTH', 'SOUTH', 'SOUTH', 'NORTHEAST', 'SOUTH', 'SOUTH', 'SOUTH', 'SOUTH', 'SOUTH', 'SOUTH', 'NORTHEAST', 'SOUTH', 'SOUTH', 'SOUTH', 'NORTHEAST', 'SOUTH', 'NORTHEAST', 'SOUTH', 'NORTHEAST', 'WEST', 'SOUTH', 'NORTHEAST', 'SOUTH', 'NORTHEAST', 'SOUTH', 'NORTHEAST', 'SOUTH', 'NORTHEAST', 'NORTHEAST', 'NORTHEAST', 'WEST', 'SOUTH', 'SOUTH', 'NORTHEAST', 'SOUTH', 'SOUTH', 'SOUTH', 'SOUTH', 'SOUTH', 'NORTHEAST', 'SOUTH', 'SOUTH', 'SOUTH', 'SOUTH', 'SOUTH', 'SOUTH', 'NORTHEAST', 'NORTHEAST', 'NORTHEAST', 'SOUTH', 'SOUTH', 'NORTHEAST', 'SOUTH', 'SOUTH', 'SOUTH', 'SOUTH', 'NORTHEAST', 'NORTHEAST', 'NORTHEAST', 'SOUTH', 'NORTHEAST', 'SOUTH', 'SOUTH', 'SOUTH', 'SOUTH', 'NORTHEAST', 'SOUTH', 'NORTHEAST', 'SOUTH', 'SOUTH', 'NORTHEAST', 'SOUTH', 'SOUTH', 'SOUTH', 'SOUTH', 'SOUTH', 'SOUTH', 'SOUTH', 'SOUTH', 'NORTHEAST', 'SOUTH', 'NORTHEAST', 'SOUTH', 'SOUTH', 'SOUTH', 'NORTHEAST', 'NORTHEAST', 'SOUTH', 'SOUTH', 'SOUTH', 'SOUTH', 'SOUTH', 'SOUTH', 'NORTHEAST', 'NORTHEAST', 'SOUTH', 'SOUTH', 'SOUTH', 'SOUTH', 'SOUTH', 'NORTHEAST', 'SOUTH', 'SOUTH', 'SOUTH', 'SOUTH', 'SOUTH', 'WEST', 'NORTHEAST', 'NORTHEAST', 'SOUTH', 'SOUTH', 'SOUTH', 'SOUTH', 'NORTHEAST', 'SOUTH', 'SOUTH', 'NORTHEAST', 'SOUTH', 'NORTHEAST', 'SOUTH', 'NORTHEAST', 'NORTHEAST', 'NORTHEAST', 'SOUTH', 'NORTHEAST', 'NORTHEAST', 'SOUTH', 'NORTHEAST', 'NORTHEAST', 'SOUTH', 'NORTHEAST', 'NORTHEAST', 'NORTHEAST', 'WEST', 'SOUTH', 'NORTHEAST', 'NORTHEAST', 'NORTHEAST', 'NORTHEAST', 'NORTHEAST', 'NORTHEAST', 'NORTHEAST', 'NORTHEAST', 'NORTHEAST', 'NORTHEAST', 'NORTHEAST', 'NORTHEAST', 'NORTHEAST', 'NORTHEAST', 'NORTHEAST', 'NORTHEAST', 'NORTHEAST', 'NORTHEAST', 'NORTHEAST', 'NORTHEAST', 'NORTHEAST', 'NORTHEAST', 'NORTHEAST', 'NORTHEAST', 'NORTHEAST', 'NORTHEAST', 'NORTHEAST', 'NORTHEAST', 'NORTHEAST', 'NORTHEAST', 'NORTHEAST', 'NORTHEAST', 'NORTHEAST', 'NORTHEAST', 'NORTHEAST', 'NORTHEAST', 'NORTHEAST', 'NORTHEAST', 'SOUTH', 'NORTHEAST', 'NORTHEAST', 'SOUTH', 'SOUTH', 'SOUTH', 'SOUTH', 'NORTHEAST', 'NORTHEAST', 'SOUTH', 'SOUTH', 'SOUTH', 'SOUTH', 'SOUTH', 'NORTHEAST', 'SOUTH', 'SOUTH', 'SOUTH', 'SOUTH', 'NORTHEAST', 'SOUTH', 'NORTHEAST', 'NORTHEAST', 'SOUTH', 'SOUTH', 'SOUTH', 'SOUTH', 'SOUTH', 'SOUTH', 'NORTHEAST', 'SOUTH', 'SOUTH', 'SOUTH', 'SOUTH', 'NORTHEAST', 'NORTHEAST', 'NORTHEAST', 'SOUTH', 'NORTHEAST', 'SOUTH', 'NORTHEAST', 'SOUTH', 'NORTHEAST', 'NORTHEAST', 'SOUTH', 'NORTHEAST', 'NORTHEAST', 'NORTHEAST', 'NORTHEAST', 'SOUTH', 'NORTHEAST', 'WEST', 'NORTHEAST', 'SOUTH', 'NORTHEAST', 'WEST', 'WEST', 'NORTHEAST', 'NORTHEAST', 'NORTHEAST', 'NORTHEAST', 'NORTHEAST', 'NORTHEAST', 'NORTHEAST', 'SOUTH', 'NORTHEAST', 'SOUTH', 'SOUTH', 'WEST', 'SOUTH', 'WEST', 'SOUTH', 'SOUTH', 'SOUTH', 'SOUTH', 'NORTHEAST', 'SOUTH', 'SOUTH', 'NORTHEAST', 'SOUTH', 'NORTHEAST', 'SOUTH', 'NORTHEAST', 'SOUTH', 'SOUTH', 'SOUTH', 'NORTHEAST', 'SOUTH', 'SOUTH', 'SOUTH', 'SOUTH', 'SOUTH', 'SOUTH', 'NORTHEAST', 'SOUTH', 'SOUTH', 'SOUTH', 'NORTHEAST', 'SOUTH', 'SOUTH', 'SOUTH', 'NORTHEAST', 'SOUTH', 'SOUTH', 'SOUTH', 'SOUTH', 'SOUTH', 'NORTHEAST', 'SOUTH', 'SOUTH', 'SOUTH', 'NORTHEAST', 'SOUTH', 'SOUTH', 'NORTHEAST', 'SOUTH', 'NORTHEAST', 'SOUTH', 'SOUTH', 'NORTHEAST', 'SOUTH', 'SOUTH', 'SOUTH', 'NORTHEAST', 'SOUTH', 'SOUTH', 'NORTHEAST', 'SOUTH', 'SOUTH', 'SOUTH', 'SOUTH', 'SOUTH', 'SOUTH', 'NORTHEAST', 'NORTHEAST', 'SOUTH', 'NORTHEAST', 'SOUTH', 'NORTHEAST', 'SOUTH', 'SOUTH', 'SOUTH', 'SOUTH', 'NORTHEAST', 'SOUTH', 'NORTHEAST', 'SOUTH', 'NORTHEAST', 'SOUTH', 'SOUTH', 'SOUTH', 'NORTHEAST', 'SOUTH', 'SOUTH', 'SOUTH', 'SOUTH', 'NORTHEAST', 'SOUTH', 'SOUTH', 'NORTHEAST', 'SOUTH', 'NORTHEAST', 'SOUTH', 'SOUTH', 'NORTHEAST', 'SOUTH', 'SOUTH', 'SOUTH', 'SOUTH', 'SOUTH', 'NORTHEAST', 'NORTHEAST', 'SOUTH', 'SOUTH', 'SOUTH', 'SOUTH', 'NORTHEAST', 'NORTHEAST', 'SOUTH', 'SOUTH', 'SOUTH', 'SOUTH', 'WEST', 'NORTHEAST', 'SOUTH', 'NORTHEAST', 'SOUTH', 'NORTHEAST', 'NORTHEAST', 'MIDWEST', 'SOUTH', 'SOUTH', 'SOUTH', 'SOUTH', 'SOUTH', 'SOUTH', 'SOUTH', 'NORTHEAST', 'NORTHEAST', 'NORTHEAST', 'SOUTH', 'SOUTH', 'SOUTH', 'SOUTH', 'SOUTH', 'SOUTH', 'NORTHEAST', 'SOUTH', 'NORTHEAST', 'SOUTH', 'SOUTH', 'SOUTH', 'SOUTH', 'NORTHEAST', 'SOUTH', 'SOUTH', 'NORTHEAST', 'NORTHEAST', 'SOUTH', 'NORTHEAST', 'SOUTH', 'SOUTH', 'SOUTH', 'SOUTH', 'SOUTH', 'SOUTH', 'NORTHEAST', 'SOUTH', 'SOUTH', 'SOUTH', 'NORTHEAST', 'SOUTH', 'NORTHEAST', 'NORTHEAST', 'MIDWEST', 'NORTHEAST', 'NORTHEAST', 'SOUTH', 'SOUTH', 'SOUTH', 'NORTHEAST', 'SOUTH', 'NORTHEAST', 'NORTHEAST', 'SOUTH', 'NORTHEAST', 'NORTHEAST', 'NORTHEAST', 'NORTHEAST', 'NORTHEAST', 'SOUTH', 'SOUTH', 'SOUTH', 'NORTHEAST', 'SOUTH', 'WEST', 'SOUTH', 'SOUTH', 'SOUTH', 'SOUTH', 'NORTHEAST', 'SOUTH', 'NORTHEAST', 'NORTHEAST', 'SOUTH', 'SOUTH', 'SOUTH', 'SOUTH', 'SOUTH', 'SOUTH', 'NORTHEAST', 'NORTHEAST', 'NORTHEAST', 'SOUTH', 'SOUTH', 'NORTHEAST', 'NORTHEAST', 'SOUTH', 'NORTHEAST', 'NORTHEAST', 'NORTHEAST', 'SOUTH', 'NORTHEAST', 'SOUTH', 'NORTHEAST', 'SOUTH', 'SOUTH', 'NORTHEAST', 'SOUTH', 'SOUTH', 'NORTHEAST', 'NORTHEAST', 'NORTHEAST', 'SOUTH', 'NORTHEAST', 'SOUTH', 'SOUTH', 'SOUTH', 'SOUTH', 'NORTHEAST', 'SOUTH', 'NORTHEAST', 'SOUTH', 'SOUTH', 'SOUTH', 'NORTHEAST', 'SOUTH', 'SOUTH', 'NORTHEAST', 'NORTHEAST', 'NORTHEAST', 'SOUTH', 'NORTHEAST', 'SOUTH', 'SOUTH', 'NORTHEAST', 'SOUTH', 'WEST', 'NORTHEAST', 'NORTHEAST', 'SOUTH', 'SOUTH', 'SOUTH', 'SOUTH', 'SOUTH', 'SOUTH', 'SOUTH', 'SOUTH', 'NORTHEAST', 'NORTHEAST', 'SOUTH', 'NORTHEAST', 'NORTHEAST', 'NORTHEAST', 'NORTHEAST', 'SOUTH', 'NORTHEAST', 'NORTHEAST', 'SOUTH', 'SOUTH', 'SOUTH', 'NORTHEAST', 'NORTHEAST', 'NORTHEAST', 'NORTHEAST', 'WEST', 'NORTHEAST', 'NORTHEAST', 'SOUTH', 'SOUTH', 'SOUTH', 'NORTHEAST', 'NORTHEAST', 'SOUTH', 'WEST', 'SOUTH', 'WEST', 'NORTHEAST', 'NORTHEAST', 'NORTHEAST', 'WEST', 'NORTHEAST', 'NORTHEAST', 'SOUTH', 'SOUTH', 'NORTHEAST', 'NORTHEAST', 'NORTHEAST', 'SOUTH', 'NORTHEAST', 'NORTHEAST', 'SOUTH', 'NORTHEAST', 'NORTHEAST', 'NORTHEAST', 'SOUTH', 'NORTHEAST', 'NORTHEAST', 'NORTHEAST', 'SOUTH', 'SOUTH', 'NORTHEAST', 'SOUTH', 'WEST', 'SOUTH', 'NORTHEAST', 'SOUTH', 'NORTHEAST', 'NORTHEAST', 'NORTHEAST', 'SOUTH', 'SOUTH', 'SOUTH', 'SOUTH', 'SOUTH', 'SOUTH', 'NORTHEAST', 'NORTHEAST', 'NORTHEAST', 'SOUTH', 'NORTHEAST', 'SOUTH', 'SOUTH', 'NORTHEAST', 'SOUTH', 'SOUTH', 'NORTHEAST', 'NORTHEAST', 'NORTHEAST', 'NORTHEAST', 'SOUTH', 'SOUTH', 'SOUTH', 'NORTHEAST', 'SOUTH', 'SOUTH', 'SOUTH', 'SOUTH', 'SOUTH', 'SOUTH', 'NORTHEAST', 'SOUTH', 'NORTHEAST', 'NORTHEAST', 'SOUTH', 'SOUTH', 'SOUTH', 'SOUTH', 'NORTHEAST', 'SOUTH', 'SOUTH', 'NORTHEAST', 'SOUTH', 'MIDWEST', 'SOUTH', 'SOUTH', 'SOUTH', 'SOUTH', 'NORTHEAST', 'SOUTH', 'MIDWEST', 'SOUTH', 'SOUTH', 'SOUTH', 'SOUTH', 'NORTHEAST', 'NORTHEAST', 'NORTHEAST', 'NORTHEAST', 'SOUTH', 'NORTHEAST', 'SOUTH', 'NORTHEAST', 'SOUTH', 'SOUTH', 'SOUTH', 'SOUTH', 'NORTHEAST', 'NORTHEAST', 'SOUTH', 'NORTHEAST', 'SOUTH', 'SOUTH', 'SOUTH', 'SOUTH', 'NORTHEAST', 'NORTHEAST', 'NORTHEAST', 'SOUTH', 'NORTHEAST', 'NORTHEAST', 'NORTHEAST', 'SOUTH', 'SOUTH', 'SOUTH', 'SOUTH', 'SOUTH', 'NORTHEAST', 'NORTHEAST', 'SOUTH', 'SOUTH', 'NORTHEAST', 'NORTHEAST', 'SOUTH', 'SOUTH', 'NORTHEAST', 'MIDWEST', 'SOUTH', 'SOUTH', 'SOUTH', 'SOUTH', 'SOUTH', 'SOUTH', 'MIDWEST', 'SOUTH', 'SOUTH', 'NORTHEAST', 'SOUTH', 'SOUTH', 'NORTHEAST', 'SOUTH', 'SOUTH', 'NORTHEAST', 'SOUTH', 'SOUTH', 'SOUTH', 'NORTHEAST', 'NORTHEAST', 'SOUTH', 'SOUTH', 'NORTHEAST', 'SOUTH', 'NORTHEAST', 'SOUTH', 'SOUTH', 'SOUTH', 'SOUTH', 'WEST', 'SOUTH', 'SOUTH', 'SOUTH', 'NORTHEAST', 'NORTHEAST', 'SOUTH', 'NORTHEAST', 'SOUTH', 'SOUTH', 'SOUTH', 'NORTHEAST', 'NORTHEAST', 'NORTHEAST', 'SOUTH', 'SOUTH', 'NORTHEAST', 'SOUTH', 'NORTHEAST', 'SOUTH', 'SOUTH', 'SOUTH', 'SOUTH', 'NORTHEAST', 'SOUTH', 'SOUTH', 'SOUTH', 'SOUTH', 'SOUTH', 'SOUTH', 'NORTHEAST', 'SOUTH', 'SOUTH', 'SOUTH', 'NORTHEAST', 'SOUTH', 'NORTHEAST', 'SOUTH', 'SOUTH', 'SOUTH', 'NORTHEAST', 'NORTHEAST', 'SOUTH', 'NORTHEAST', 'NORTHEAST', 'SOUTH', 'SOUTH', 'SOUTH', 'SOUTH', 'SOUTH', 'NORTHEAST', 'SOUTH', 'SOUTH', 'SOUTH', 'SOUTH', 'NORTHEAST', 'SOUTH', 'SOUTH', 'NORTHEAST', 'NORTHEAST', 'SOUTH', 'SOUTH', 'SOUTH', 'SOUTH', 'SOUTH', 'SOUTH', 'SOUTH', 'SOUTH', 'NORTHEAST', 'SOUTH', 'SOUTH', 'SOUTH', 'NORTHEAST', 'SOUTH', 'WEST', 'NORTHEAST', 'SOUTH', 'NORTHEAST', 'NORTHEAST', 'SOUTH', 'NORTHEAST', 'WEST', 'SOUTH', 'SOUTH', 'NORTHEAST', 'NORTHEAST', 'SOUTH', 'SOUTH', 'SOUTH', 'NORTHEAST', 'NORTHEAST', 'NORTHEAST', 'WEST', 'SOUTH', 'NORTHEAST', 'SOUTH', 'SOUTH', 'SOUTH', 'WEST', 'NORTHEAST', 'SOUTH', 'SOUTH', 'SOUTH', 'SOUTH', 'NORTHEAST', 'NORTHEAST', 'WEST', 'SOUTH', 'SOUTH', 'SOUTH', 'SOUTH', 'SOUTH', 'WEST', 'NORTHEAST', 'NORTHEAST', 'NORTHEAST', 'NORTHEAST', 'SOUTH', 'NORTHEAST', 'SOUTH', 'NORTHEAST', 'NORTHEAST', 'SOUTH', 'NORTHEAST', 'SOUTH', 'NORTHEAST', 'SOUTH', 'SOUTH', 'SOUTH', 'SOUTH', 'NORTHEAST', 'SOUTH', 'SOUTH', 'SOUTH', 'NORTHEAST', 'NORTHEAST', 'NORTHEAST', 'NORTHEAST', 'NORTHEAST', 'SOUTH', 'NORTHEAST', 'NORTHEAST', 'NORTHEAST', 'NORTHEAST', 'NORTHEAST', 'SOUTH', 'NORTHEAST', 'NORTHEAST', 'NORTHEAST', 'SOUTH', 'NORTHEAST', 'NORTHEAST', 'SOUTH', 'NORTHEAST', 'NORTHEAST', 'NORTHEAST', 'NORTHEAST', 'NORTHEAST', 'SOUTH', 'NORTHEAST', 'SOUTH', 'SOUTH', 'NORTHEAST', 'SOUTH', 'NORTHEAST', 'SOUTH', 'SOUTH', 'NORTHEAST', 'NORTHEAST', 'NORTHEAST', 'SOUTH', 'SOUTH', 'SOUTH', 'SOUTH', 'SOUTH', 'SOUTH', 'SOUTH', 'SOUTH', 'SOUTH', 'SOUTH', 'SOUTH', 'NORTHEAST', 'NORTHEAST', 'SOUTH', 'SOUTH', 'NORTHEAST', 'NORTHEAST', 'SOUTH', 'WEST', 'WEST', 'SOUTH', 'NORTHEAST', 'NORTHEAST', 'SOUTH', 'NORTHEAST', 'SOUTH', 'NORTHEAST', 'NORTHEAST', 'SOUTH', 'SOUTH', 'SOUTH', 'NORTHEAST', 'NORTHEAST', 'SOUTH', 'NORTHEAST', 'SOUTH', 'SOUTH', 'WEST', 'SOUTH', 'SOUTH', 'NORTHEAST', 'SOUTH', 'SOUTH', 'SOUTH', 'NORTHEAST', 'NORTHEAST', 'SOUTH', 'SOUTH', 'SOUTH', 'SOUTH', 'SOUTH', 'SOUTH', 'SOUTH', 'SOUTH', 'NORTHEAST', 'SOUTH', 'SOUTH', 'NORTHEAST', 'SOUTH', 'NORTHEAST', 'NORTHEAST', 'NORTHEAST', 'NORTHEAST', 'NORTHEAST', 'NORTHEAST', 'NORTHEAST', 'NORTHEAST', 'NORTHEAST', 'NORTHEAST', 'NORTHEAST', 'SOUTH', 'SOUTH', 'NORTHEAST', 'NORTHEAST', 'SOUTH', 'NORTHEAST', 'SOUTH', 'SOUTH', 'SOUTH', 'NORTHEAST', 'NORTHEAST', 'NORTHEAST', 'SOUTH', 'NORTHEAST', 'SOUTH', 'NORTHEAST', 'NORTHEAST', 'SOUTH', 'SOUTH', 'SOUTH', 'SOUTH', 'WEST', 'SOUTH', 'NORTHEAST', 'NORTHEAST', 'NORTHEAST', 'SOUTH', 'SOUTH', 'SOUTH', 'SOUTH', 'SOUTH', 'SOUTH', 'SOUTH', 'SOUTH', 'NORTHEAST', 'SOUTH', 'SOUTH', 'NORTHEAST', 'WEST', 'SOUTH', 'NORTHEAST', 'NORTHEAST', 'SOUTH', 'SOUTH', 'SOUTH', 'SOUTH', 'SOUTH', 'NORTHEAST', 'SOUTH', 'SOUTH', 'NORTHEAST', 'NORTHEAST', 'NORTHEAST', 'SOUTH', 'NORTHEAST', 'SOUTH', 'SOUTH', 'NORTHEAST', 'NORTHEAST', 'NORTHEAST', 'NORTHEAST', 'SOUTH', 'SOUTH', 'SOUTH', 'NORTHEAST', 'SOUTH', 'NORTHEAST', 'SOUTH', 'SOUTH', 'NORTHEAST', 'NORTHEAST', 'SOUTH', 'NORTHEAST', 'NORTHEAST', 'NORTHEAST', 'SOUTH', 'SOUTH', 'SOUTH', 'NORTHEAST', 'SOUTH', 'SOUTH', 'NORTHEAST', 'SOUTH', 'NORTHEAST', 'NORTHEAST', 'NORTHEAST', 'NORTHEAST', 'SOUTH', 'SOUTH', 'NORTHEAST', 'SOUTH', 'SOUTH', 'NORTHEAST', 'NORTHEAST', 'SOUTH', 'NORTHEAST', 'NORTHEAST', 'SOUTH', 'NORTHEAST', 'NORTHEAST', 'NORTHEAST', 'SOUTH', 'NORTHEAST', 'NORTHEAST', 'SOUTH', 'SOUTH', 'NORTHEAST', 'SOUTH', 'SOUTH', 'NORTHEAST', 'SOUTH', 'NORTHEAST', 'NORTHEAST', 'SOUTH', 'SOUTH', 'SOUTH', 'NORTHEAST', 'SOUTH', 'NORTHEAST', 'SOUTH', 'NORTHEAST', 'NORTHEAST', 'NORTHEAST', 'NORTHEAST', 'SOUTH', 'NORTHEAST', 'SOUTH', 'NORTHEAST', 'NORTHEAST', 'NORTHEAST', 'NORTHEAST', 'NORTHEAST', 'SOUTH', 'NORTHEAST', 'NORTHEAST', 'SOUTH', 'SOUTH', 'SOUTH', 'NORTHEAST', 'NORTHEAST', 'SOUTH', 'NORTHEAST', 'NORTHEAST', 'NORTHEAST', 'NORTHEAST', 'NORTHEAST', 'NORTHEAST', 'NORTHEAST', 'SOUTH', 'NORTHEAST', 'NORTHEAST', 'SOUTH', 'SOUTH', 'SOUTH', 'SOUTH', 'SOUTH', 'NORTHEAST', 'SOUTH', 'SOUTH', 'SOUTH', 'SOUTH', 'NORTHEAST', 'NORTHEAST', 'SOUTH', 'SOUTH', 'NORTHEAST', 'SOUTH', 'SOUTH', 'SOUTH', 'SOUTH', 'NORTHEAST', 'NORTHEAST', 'SOUTH', 'SOUTH', 'SOUTH', 'SOUTH', 'NORTHEAST', 'SOUTH', 'NORTHEAST', 'SOUTH', 'SOUTH', 'SOUTH', 'NORTHEAST', 'SOUTH', 'SOUTH', 'SOUTH', 'NORTHEAST', 'SOUTH', 'NORTHEAST', 'NORTHEAST', 'SOUTH', 'SOUTH', 'SOUTH', 'SOUTH', 'SOUTH', 'NORTHEAST', 'SOUTH', 'SOUTH', 'SOUTH', 'NORTHEAST', 'NORTHEAST', 'NORTHEAST', 'NORTHEAST', 'SOUTH', 'NORTHEAST', 'SOUTH', 'SOUTH', 'SOUTH', 'SOUTH', 'SOUTH', 'SOUTH', 'WEST', 'SOUTH', 'SOUTH', 'SOUTH', 'SOUTH', 'SOUTH', 'SOUTH', 'NORTHEAST', 'SOUTH', 'SOUTH', 'SOUTH', 'SOUTH', 'NORTHEAST', 'NORTHEAST', 'NORTHEAST', 'SOUTH', 'SOUTH', 'SOUTH', 'SOUTH', 'SOUTH', 'SOUTH', 'SOUTH', 'NORTHEAST', 'SOUTH', 'SOUTH', 'WEST', 'SOUTH', 'SOUTH', 'NORTHEAST', 'SOUTH', 'SOUTH', 'NORTHEAST', 'SOUTH', 'SOUTH', 'NORTHEAST', 'SOUTH', 'SOUTH', 'WEST', 'NORTHEAST', 'SOUTH', 'SOUTH', 'SOUTH', 'SOUTH', 'NORTHEAST', 'SOUTH', 'NORTHEAST', 'SOUTH', 'NORTHEAST', 'SOUTH', 'NORTHEAST', 'NORTHEAST', 'NORTHEAST', 'NORTHEAST', 'SOUTH', 'NORTHEAST', 'WEST', 'NORTHEAST', 'NORTHEAST', 'NORTHEAST', 'SOUTH', 'SOUTH', 'NORTHEAST', 'SOUTH', 'SOUTH', 'SOUTH', 'SOUTH', 'NORTHEAST', 'NORTHEAST', 'NORTHEAST', 'NORTHEAST', 'NORTHEAST', 'NORTHEAST', 'SOUTH', 'SOUTH', 'NORTHEAST', 'NORTHEAST', 'NORTHEAST', 'SOUTH', 'NORTHEAST', 'SOUTH', 'NORTHEAST', 'SOUTH', 'NORTHEAST', 'NORTHEAST', 'SOUTH', 'SOUTH', 'NORTHEAST', 'NORTHEAST', 'SOUTH', 'SOUTH', 'SOUTH', 'SOUTH', 'SOUTH', 'NORTHEAST', 'NORTHEAST', 'NORTHEAST', 'NORTHEAST', 'NORTHEAST', 'NORTHEAST', 'SOUTH', 'SOUTH', 'SOUTH', 'NORTHEAST', 'WEST', 'NORTHEAST', 'NORTHEAST', 'SOUTH', 'SOUTH', 'SOUTH', 'SOUTH', 'NORTHEAST', 'SOUTH', 'SOUTH', 'SOUTH', 'SOUTH', 'SOUTH', 'WEST', 'NORTHEAST', 'NORTHEAST', 'NORTHEAST', 'NORTHEAST', 'SOUTH', 'SOUTH', 'SOUTH', 'NORTHEAST', 'SOUTH', 'SOUTH', 'NORTHEAST', 'SOUTH', 'SOUTH', 'SOUTH', 'SOUTH', 'SOUTH', 'SOUTH', 'NORTHEAST', 'SOUTH', 'NORTHEAST', 'SOUTH', 'SOUTH', 'NORTHEAST', 'SOUTH', 'SOUTH', 'NORTHEAST', 'NORTHEAST', 'NORTHEAST', 'WEST', 'NORTHEAST', 'SOUTH', 'SOUTH', 'NORTHEAST', 'SOUTH', 'NORTHEAST', 'SOUTH', 'NORTHEAST', 'NORTHEAST', 'NORTHEAST', 'SOUTH', 'SOUTH', 'SOUTH', 'NORTHEAST', 'NORTHEAST', 'NORTHEAST', 'SOUTH', 'SOUTH', 'SOUTH', 'NORTHEAST', 'SOUTH', 'SOUTH', 'NORTHEAST', 'SOUTH', 'SOUTH', 'NORTHEAST', 'NORTHEAST', 'SOUTH', 'SOUTH', 'SOUTH', 'SOUTH', 'SOUTH', 'SOUTH', 'NORTHEAST', 'NORTHEAST', 'SOUTH', 'NORTHEAST', 'SOUTH', 'NORTHEAST', 'SOUTH', 'NORTHEAST', 'SOUTH', 'SOUTH', 'SOUTH', 'NORTHEAST', 'NORTHEAST', 'NORTHEAST', 'SOUTH', 'SOUTH', 'SOUTH', 'SOUTH', 'SOUTH', 'SOUTH', 'SOUTH', 'SOUTH', 'SOUTH', 'SOUTH', 'NORTHEAST', 'NORTHEAST', 'NORTHEAST', 'NORTHEAST', 'SOUTH', 'SOUTH', 'SOUTH', 'SOUTH', 'SOUTH', 'SOUTH', 'SOUTH', 'SOUTH', 'NORTHEAST', 'NORTHEAST', 'MIDWEST', 'NORTHEAST', 'SOUTH', 'NORTHEAST', 'NORTHEAST', 'NORTHEAST', 'NORTHEAST', 'SOUTH', 'SOUTH', 'SOUTH', 'SOUTH', 'SOUTH', 'NORTHEAST', 'NORTHEAST', 'NORTHEAST', 'WEST', 'SOUTH', 'SOUTH', 'NORTHEAST', 'SOUTH', 'SOUTH', 'SOUTH', 'SOUTH', 'SOUTH', 'SOUTH', 'NORTHEAST', 'SOUTH', 'NORTHEAST', 'SOUTH', 'SOUTH', 'SOUTH', 'NORTHEAST', 'SOUTH', 'SOUTH', 'NORTHEAST', 'SOUTH', 'NORTHEAST', 'SOUTH', 'SOUTH', 'SOUTH', 'NORTHEAST', 'SOUTH', 'NORTHEAST', 'NORTHEAST', 'NORTHEAST', 'NORTHEAST', 'WEST', 'NORTHEAST', 'NORTHEAST', 'NORTHEAST', 'NORTHEAST', 'NORTHEAST', 'NORTHEAST', 'SOUTH', 'NORTHEAST', 'NORTHEAST', 'SOUTH', 'NORTHEAST', 'SOUTH', 'NORTHEAST', 'SOUTH', 'NORTHEAST', 'SOUTH', 'SOUTH', 'SOUTH', 'SOUTH', 'NORTHEAST', 'NORTHEAST', 'SOUTH', 'NORTHEAST', 'SOUTH', 'SOUTH', 'SOUTH', 'SOUTH', 'NORTHEAST', 'NORTHEAST', 'SOUTH', 'NORTHEAST', 'SOUTH', 'SOUTH', 'SOUTH', 'SOUTH', 'NORTHEAST', 'SOUTH', 'SOUTH', 'SOUTH', 'NORTHEAST', 'SOUTH', 'SOUTH', 'SOUTH', 'SOUTH', 'SOUTH', 'NORTHEAST', 'NORTHEAST', 'NORTHEAST', 'NORTHEAST', 'NORTHEAST', 'SOUTH', 'SOUTH', 'NORTHEAST', 'SOUTH', 'SOUTH', 'NORTHEAST', 'SOUTH', 'SOUTH', 'NORTHEAST', 'SOUTH', 'NORTHEAST', 'NORTHEAST', 'SOUTH', 'NORTHEAST', 'SOUTH', 'SOUTH', 'SOUTH', 'NORTHEAST', 'SOUTH', 'NORTHEAST', 'SOUTH', 'SOUTH', 'NORTHEAST', 'NORTHEAST', 'NORTHEAST', 'SOUTH', 'NORTHEAST', 'NORTHEAST', 'NORTHEAST', 'NORTHEAST', 'NORTHEAST', 'SOUTH', 'WEST', 'NORTHEAST', 'NORTHEAST', 'WEST', 'SOUTH', 'NORTHEAST', 'NORTHEAST', 'NORTHEAST', 'SOUTH', 'SOUTH', 'NORTHEAST', 'SOUTH', 'SOUTH', 'NORTHEAST', 'SOUTH', 'SOUTH', 'NORTHEAST', 'NORTHEAST', 'SOUTH', 'NORTHEAST', 'NORTHEAST', 'NORTHEAST', 'SOUTH', 'SOUTH', 'NORTHEAST', 'NORTHEAST', 'NORTHEAST', 'NORTHEAST', 'MIDWEST', 'NORTHEAST', 'SOUTH', 'SOUTH', 'SOUTH', 'NORTHEAST', 'NORTHEAST', 'NORTHEAST', 'WEST', 'NORTHEAST', 'NORTHEAST', 'NORTHEAST', 'SOUTH', 'SOUTH', 'NORTHEAST', 'NORTHEAST', 'NORTHEAST', 'NORTHEAST', 'SOUTH', 'NORTHEAST', 'WEST', 'SOUTH', 'NORTHEAST', 'NORTHEAST', 'SOUTH', 'SOUTH', 'NORTHEAST', 'NORTHEAST', 'NORTHEAST', 'NORTHEAST', 'SOUTH', 'SOUTH', 'NORTHEAST', 'SOUTH', 'NORTHEAST', 'NORTHEAST', 'SOUTH', 'NORTHEAST', 'SOUTH', 'SOUTH', 'SOUTH', 'SOUTH', 'NORTHEAST', 'SOUTH', 'NORTHEAST', 'SOUTH', 'SOUTH', 'NORTHEAST', 'NORTHEAST', 'NORTHEAST', 'NORTHEAST', 'NORTHEAST', 'NORTHEAST', 'SOUTH', 'SOUTH', 'SOUTH', 'SOUTH', 'SOUTH', 'SOUTH', 'SOUTH', 'NORTHEAST', 'SOUTH', 'WEST', 'SOUTH', 'SOUTH', 'SOUTH', 'NORTHEAST', 'NORTHEAST', 'SOUTH', 'NORTHEAST', 'NORTHEAST', 'NORTHEAST', 'SOUTH', 'SOUTH', 'SOUTH', 'SOUTH', 'NORTHEAST', 'NORTHEAST', 'SOUTH', 'NORTHEAST', 'SOUTH', 'SOUTH', 'SOUTH', 'NORTHEAST', 'NORTHEAST', 'SOUTH', 'SOUTH', 'NORTHEAST', 'NORTHEAST', 'NORTHEAST', 'SOUTH', 'SOUTH', 'NORTHEAST', 'NORTHEAST', 'SOUTH', 'SOUTH', 'SOUTH', 'NORTHEAST', 'NORTHEAST', 'SOUTH', 'SOUTH', 'NORTHEAST', 'NORTHEAST', 'NORTHEAST', 'SOUTH', 'NORTHEAST', 'NORTHEAST', 'SOUTH', 'NORTHEAST', 'SOUTH', 'SOUTH', 'MIDWEST', 'SOUTH', 'SOUTH', 'NORTHEAST', 'SOUTH', 'SOUTH', 'NORTHEAST', 'NORTHEAST', 'SOUTH', 'NORTHEAST', 'NORTHEAST', 'SOUTH', 'NORTHEAST', 'NORTHEAST', 'NORTHEAST', 'SOUTH', 'NORTHEAST', 'NORTHEAST', 'SOUTH', 'SOUTH', 'NORTHEAST', 'NORTHEAST', 'NORTHEAST', 'NORTHEAST', 'NORTHEAST', 'NORTHEAST', 'SOUTH', 'NORTHEAST', 'NORTHEAST', 'NORTHEAST', 'SOUTH', 'SOUTH', 'SOUTH', 'SOUTH', 'NORTHEAST', 'NORTHEAST', 'NORTHEAST', 'SOUTH', 'SOUTH', 'SOUTH', 'NORTHEAST', 'SOUTH', 'SOUTH', 'SOUTH', 'SOUTH', 'SOUTH', 'SOUTH', 'SOUTH', 'NORTHEAST', 'SOUTH', 'SOUTH', 'SOUTH', 'NORTHEAST', 'SOUTH', 'SOUTH', 'SOUTH', 'SOUTH', 'NORTHEAST', 'NORTHEAST', 'NORTHEAST', 'NORTHEAST', 'SOUTH', 'NORTHEAST', 'NORTHEAST', 'NORTHEAST', 'NORTHEAST', 'SOUTH', 'NORTHEAST', 'NORTHEAST', 'NORTHEAST', 'NORTHEAST', 'NORTHEAST', 'NORTHEAST', 'NORTHEAST', 'NORTHEAST', 'SOUTH', 'NORTHEAST', 'NORTHEAST', 'NORTHEAST', 'NORTHEAST', 'SOUTH', 'NORTHEAST', 'SOUTH', 'NORTHEAST', 'NORTHEAST', 'SOUTH', 'SOUTH', 'SOUTH', 'SOUTH', 'SOUTH', 'SOUTH', 'SOUTH', 'SOUTH', 'SOUTH', 'SOUTH', 'SOUTH', 'SOUTH', 'MIDWEST', 'SOUTH', 'SOUTH', 'SOUTH', 'SOUTH', 'SOUTH', 'SOUTH', 'SOUTH', 'SOUTH', 'SOUTH', 'NORTHEAST', 'SOUTH', 'SOUTH', 'WEST', 'SOUTH', 'SOUTH', 'SOUTH', 'SOUTH', 'SOUTH', 'SOUTH', 'SOUTH', 'SOUTH', 'NORTHEAST', 'SOUTH', 'SOUTH', 'SOUTH', 'SOUTH', 'NORTHEAST', 'NORTHEAST', 'NORTHEAST', 'SOUTH', 'NORTHEAST', 'SOUTH', 'NORTHEAST', 'SOUTH', 'NORTHEAST', 'SOUTH', 'NORTHEAST', 'SOUTH', 'SOUTH', 'SOUTH', 'NORTHEAST', 'SOUTH', 'NORTHEAST', 'SOUTH', 'SOUTH', 'SOUTH', 'WEST', 'SOUTH', 'WEST', 'SOUTH', 'SOUTH', 'NORTHEAST', 'NORTHEAST', 'NORTHEAST', 'SOUTH', 'SOUTH', 'SOUTH', 'NORTHEAST', 'SOUTH', 'SOUTH', 'SOUTH', 'SOUTH', 'NORTHEAST', 'NORTHEAST', 'SOUTH', 'NORTHEAST', 'SOUTH', 'SOUTH', 'NORTHEAST', 'SOUTH', 'SOUTH', 'SOUTH', 'SOUTH', 'NORTHEAST', 'NORTHEAST', 'SOUTH', 'NORTHEAST', 'NORTHEAST', 'NORTHEAST', 'NORTHEAST', 'WEST', 'NORTHEAST', 'NORTHEAST', 'SOUTH', 'NORTHEAST', 'NORTHEAST', 'SOUTH', 'NORTHEAST', 'SOUTH', 'SOUTH', 'SOUTH', 'SOUTH', 'SOUTH', 'NORTHEAST', 'SOUTH', 'NORTHEAST', 'NORTHEAST', 'SOUTH', 'NORTHEAST', 'NORTHEAST', 'SOUTH', 'NORTHEAST', 'SOUTH', 'NORTHEAST', 'NORTHEAST', 'SOUTH', 'SOUTH', 'NORTHEAST', 'SOUTH', 'NORTHEAST', 'NORTHEAST', 'SOUTH', 'NORTHEAST', 'NORTHEAST', 'NORTHEAST', 'NORTHEAST', 'NORTHEAST', 'NORTHEAST', 'NORTHEAST', 'NORTHEAST', 'NORTHEAST', 'SOUTH', 'NORTHEAST', 'NORTHEAST', 'SOUTH', 'SOUTH', 'SOUTH', 'SOUTH', 'SOUTH', 'SOUTH', 'SOUTH', 'SOUTH', 'SOUTH', 'SOUTH', 'SOUTH', 'NORTHEAST', 'SOUTH', 'NORTHEAST', 'SOUTH', 'SOUTH', 'SOUTH', 'SOUTH', 'SOUTH', 'SOUTH', 'SOUTH', 'SOUTH', 'SOUTH', 'NORTHEAST', 'SOUTH', 'SOUTH', 'SOUTH', 'SOUTH', 'NORTHEAST', 'SOUTH', 'SOUTH', 'SOUTH', 'SOUTH', 'SOUTH', 'NORTHEAST', 'SOUTH', 'SOUTH', 'SOUTH', 'SOUTH', 'SOUTH', 'SOUTH', 'SOUTH', 'SOUTH', 'SOUTH', 'MIDWEST', 'NORTHEAST', 'SOUTH', 'NORTHEAST', 'NORTHEAST', 'SOUTH', 'SOUTH', 'NORTHEAST', 'SOUTH', 'SOUTH', 'SOUTH', 'SOUTH', 'NORTHEAST', 'NORTHEAST', 'NORTHEAST', 'SOUTH', 'SOUTH', 'NORTHEAST', 'SOUTH', 'NORTHEAST', 'NORTHEAST', 'SOUTH', 'SOUTH', 'SOUTH', 'NORTHEAST', 'SOUTH', 'NORTHEAST', 'SOUTH', 'SOUTH', 'NORTHEAST', 'NORTHEAST', 'SOUTH', 'SOUTH', 'SOUTH', 'NORTHEAST', 'SOUTH', 'SOUTH', 'NORTHEAST', 'NORTHEAST', 'NORTHEAST', 'SOUTH', 'SOUTH', 'SOUTH', 'NORTHEAST', 'SOUTH', 'NORTHEAST', 'SOUTH', 'SOUTH', 'NORTHEAST', 'NORTHEAST', 'NORTHEAST', 'SOUTH', 'NORTHEAST', 'SOUTH', 'SOUTH', 'NORTHEAST', 'SOUTH', 'NORTHEAST', 'NORTHEAST', 'NORTHEAST', 'NORTHEAST', 'NORTHEAST', 'SOUTH', 'NORTHEAST', 'SOUTH', 'SOUTH', 'NORTHEAST', 'SOUTH', 'SOUTH', 'NORTHEAST', 'NORTHEAST', 'NORTHEAST', 'SOUTH', 'SOUTH', 'NORTHEAST', 'NORTHEAST', 'SOUTH', 'SOUTH', 'SOUTH', 'SOUTH', 'SOUTH', 'SOUTH', 'SOUTH', 'SOUTH', 'NORTHEAST', 'NORTHEAST', 'SOUTH', 'NORTHEAST', 'NORTHEAST', 'SOUTH', 'WEST', 'SOUTH', 'NORTHEAST', 'SOUTH', 'SOUTH', 'NORTHEAST', 'SOUTH', 'NORTHEAST', 'NORTHEAST', 'SOUTH', 'NORTHEAST', 'NORTHEAST', 'NORTHEAST', 'NORTHEAST', 'SOUTH', 'NORTHEAST', 'SOUTH', 'SOUTH', 'WEST', 'NORTHEAST', 'SOUTH', 'SOUTH', 'SOUTH', 'NORTHEAST', 'NORTHEAST', 'SOUTH', 'NORTHEAST', 'SOUTH', 'NORTHEAST', 'SOUTH', 'SOUTH', 'NORTHEAST', 'SOUTH', 'SOUTH', 'NORTHEAST', 'NORTHEAST', 'SOUTH', 'SOUTH', 'NORTHEAST', 'SOUTH', 'SOUTH', 'SOUTH', 'SOUTH', 'NORTHEAST', 'NORTHEAST', 'SOUTH', 'SOUTH', 'NORTHEAST', 'SOUTH', 'WEST', 'SOUTH', 'SOUTH', 'SOUTH', 'NORTHEAST', 'SOUTH', 'SOUTH', 'NORTHEAST', 'SOUTH', 'SOUTH', 'NORTHEAST', 'SOUTH', 'NORTHEAST', 'NORTHEAST', 'NORTHEAST', 'SOUTH', 'NORTHEAST', 'SOUTH', 'SOUTH', 'SOUTH', 'SOUTH', 'WEST', 'SOUTH', 'SOUTH', 'SOUTH', 'SOUTH', 'NORTHEAST', 'SOUTH', 'SOUTH', 'NORTHEAST', 'SOUTH', 'SOUTH', 'NORTHEAST', 'NORTHEAST', 'SOUTH', 'SOUTH', 'SOUTH', 'SOUTH', 'SOUTH', 'SOUTH', 'SOUTH', 'NORTHEAST', 'SOUTH', 'SOUTH', 'SOUTH', 'SOUTH', 'NORTHEAST', 'SOUTH', 'SOUTH', 'SOUTH', 'SOUTH', 'NORTHEAST', 'SOUTH', 'NORTHEAST', 'NORTHEAST', 'SOUTH', 'SOUTH', 'SOUTH', 'SOUTH', 'NORTHEAST', 'NORTHEAST', 'SOUTH', 'SOUTH', 'NORTHEAST', 'NORTHEAST', 'SOUTH', 'NORTHEAST', 'SOUTH', 'SOUTH', 'SOUTH', 'SOUTH', 'NORTHEAST', 'SOUTH', 'SOUTH', 'SOUTH', 'SOUTH', 'SOUTH', 'NORTHEAST', 'SOUTH', 'SOUTH', 'SOUTH', 'NORTHEAST', 'SOUTH', 'NORTHEAST', 'SOUTH', 'SOUTH', 'SOUTH', 'NORTHEAST', 'NORTHEAST', 'NORTHEAST', 'SOUTH', 'SOUTH', 'SOUTH', 'SOUTH', 'SOUTH', 'SOUTH', 'NORTHEAST', 'NORTHEAST', 'SOUTH', 'SOUTH', 'SOUTH', 'NORTHEAST', 'SOUTH', 'NORTHEAST', 'SOUTH', 'SOUTH', 'SOUTH', 'SOUTH', 'SOUTH', 'SOUTH', 'NORTHEAST', 'SOUTH', 'SOUTH', 'SOUTH', 'NORTHEAST', 'SOUTH', 'SOUTH', 'NORTHEAST', 'SOUTH', 'SOUTH', 'SOUTH', 'SOUTH', 'SOUTH', 'WEST', 'NORTHEAST', 'SOUTH', 'MIDWEST', 'SOUTH', 'SOUTH', 'NORTHEAST', 'SOUTH', 'SOUTH', 'SOUTH', 'NORTHEAST', 'SOUTH', 'NORTHEAST', 'SOUTH', 'SOUTH', 'SOUTH', 'SOUTH', 'NORTHEAST', 'NORTHEAST', 'NORTHEAST', 'NORTHEAST', 'SOUTH', 'NORTHEAST', 'SOUTH', 'SOUTH', 'SOUTH', 'WEST', 'SOUTH', 'SOUTH', 'NORTHEAST', 'SOUTH', 'NORTHEAST', 'MIDWEST', 'NORTHEAST', 'SOUTH', 'SOUTH', 'SOUTH', 'NORTHEAST', 'SOUTH', 'SOUTH', 'NORTHEAST', 'WEST', 'SOUTH', 'NORTHEAST', 'SOUTH', 'NORTHEAST', 'NORTHEAST', 'SOUTH', 'SOUTH', 'SOUTH', 'NORTHEAST', 'SOUTH', 'SOUTH', 'SOUTH', 'NORTHEAST', 'NORTHEAST', 'SOUTH', 'SOUTH', 'SOUTH', 'SOUTH', 'SOUTH', 'SOUTH', 'SOUTH', 'SOUTH', 'SOUTH', 'NORTHEAST', 'NORTHEAST', 'NORTHEAST', 'NORTHEAST', 'SOUTH', 'SOUTH', 'NORTHEAST', 'SOUTH', 'SOUTH', 'NORTHEAST', 'SOUTH', 'NORTHEAST', 'NORTHEAST', 'SOUTH', 'NORTHEAST', 'NORTHEAST', 'NORTHEAST', 'SOUTH', 'SOUTH', 'NORTHEAST', 'SOUTH', 'SOUTH', 'NORTHEAST', 'NORTHEAST', 'SOUTH', 'SOUTH', 'SOUTH', 'SOUTH', 'NORTHEAST', 'SOUTH', 'SOUTH', 'SOUTH', 'WEST', 'NORTHEAST', 'SOUTH', 'NORTHEAST', 'SOUTH', 'NORTHEAST', 'NORTHEAST', 'SOUTH', 'SOUTH', 'SOUTH', 'SOUTH', 'SOUTH', 'NORTHEAST', 'NORTHEAST', 'SOUTH', 'SOUTH', 'SOUTH', 'SOUTH', 'NORTHEAST', 'NORTHEAST', 'SOUTH', 'SOUTH', 'SOUTH', 'NORTHEAST', 'SOUTH', 'SOUTH', 'NORTHEAST', 'SOUTH', 'SOUTH', 'NORTHEAST', 'NORTHEAST', 'SOUTH', 'NORTHEAST', 'SOUTH', 'SOUTH', 'SOUTH', 'MIDWEST', 'SOUTH', 'NORTHEAST', 'SOUTH', 'SOUTH', 'SOUTH', 'NORTHEAST', 'NORTHEAST', 'NORTHEAST', 'SOUTH', 'SOUTH', 'SOUTH', 'SOUTH', 'NORTHEAST', 'SOUTH', 'SOUTH', 'SOUTH', 'SOUTH', 'SOUTH', 'NORTHEAST', 'SOUTH', 'SOUTH', 'MIDWEST', 'SOUTH', 'SOUTH', 'NORTHEAST', 'SOUTH', 'SOUTH', 'NORTHEAST', 'SOUTH', 'NORTHEAST', 'SOUTH', 'SOUTH', 'SOUTH', 'SOUTH', 'SOUTH', 'NORTHEAST', 'SOUTH', 'SOUTH', 'SOUTH', 'SOUTH', 'NORTHEAST', 'NORTHEAST', 'NORTHEAST', 'SOUTH', 'SOUTH', 'NORTHEAST', 'SOUTH', 'NORTHEAST', 'SOUTH', 'SOUTH', 'NORTHEAST', 'NORTHEAST', 'NORTHEAST', 'NORTHEAST', 'SOUTH', 'NORTHEAST', 'SOUTH', 'NORTHEAST', 'SOUTH', 'NORTHEAST', 'NORTHEAST', 'NORTHEAST', 'NORTHEAST', 'NORTHEAST', 'NORTHEAST', 'NORTHEAST', 'NORTHEAST', 'NORTHEAST', 'NORTHEAST', 'NORTHEAST', 'NORTHEAST', 'NORTHEAST', 'SOUTH', 'NORTHEAST', 'NORTHEAST', 'NORTHEAST', 'NORTHEAST', 'NORTHEAST', 'NORTHEAST', 'NORTHEAST', 'SOUTH', 'SOUTH', 'NORTHEAST', 'NORTHEAST', 'SOUTH', 'NORTHEAST', 'NORTHEAST', 'NORTHEAST', 'SOUTH', 'NORTHEAST', 'SOUTH', 'NORTHEAST', 'SOUTH', 'NORTHEAST', 'NORTHEAST', 'NORTHEAST', 'NORTHEAST', 'NORTHEAST', 'NORTHEAST', 'NORTHEAST', 'NORTHEAST', 'NORTHEAST', 'NORTHEAST', 'SOUTH', 'SOUTH', 'SOUTH', 'NORTHEAST', 'NORTHEAST', 'NORTHEAST', 'NORTHEAST', 'NORTHEAST', 'NORTHEAST', 'SOUTH', 'NORTHEAST', 'NORTHEAST', 'NORTHEAST', 'NORTHEAST', 'NORTHEAST', 'NORTHEAST', 'NORTHEAST', 'NORTHEAST', 'NORTHEAST', 'NORTHEAST', 'NORTHEAST', 'SOUTH', 'NORTHEAST', 'NORTHEAST', 'SOUTH', 'SOUTH', 'SOUTH', 'SOUTH', 'NORTHEAST', 'SOUTH', 'SOUTH', 'SOUTH', 'SOUTH', 'SOUTH', 'NORTHEAST', 'SOUTH', 'NORTHEAST', 'SOUTH', 'SOUTH', 'NORTHEAST', 'NORTHEAST', 'NORTHEAST', 'SOUTH', 'NORTHEAST', 'SOUTH', 'SOUTH', 'SOUTH', 'NORTHEAST', 'SOUTH', 'NORTHEAST', 'SOUTH', 'SOUTH', 'SOUTH', 'NORTHEAST', 'SOUTH', 'SOUTH', 'SOUTH', 'NORTHEAST', 'NORTHEAST', 'SOUTH', 'NORTHEAST', 'NORTHEAST', 'NORTHEAST', 'NORTHEAST', 'NORTHEAST', 'NORTHEAST', 'SOUTH', 'NORTHEAST', 'SOUTH', 'SOUTH', 'SOUTH', 'NORTHEAST', 'SOUTH', 'NORTHEAST', 'SOUTH', 'SOUTH', 'SOUTH', 'NORTHEAST', 'SOUTH', 'NORTHEAST', 'NORTHEAST', 'SOUTH', 'NORTHEAST', 'SOUTH', 'NORTHEAST', 'SOUTH', 'NORTHEAST', 'SOUTH', 'NORTHEAST', 'NORTHEAST', 'SOUTH', 'NORTHEAST', 'SOUTH', 'SOUTH', 'SOUTH', 'SOUTH', 'NORTHEAST', 'SOUTH', 'NORTHEAST', 'NORTHEAST', 'SOUTH', 'SOUTH', 'SOUTH', 'SOUTH', 'SOUTH', 'NORTHEAST', 'SOUTH', 'SOUTH', 'NORTHEAST', 'NORTHEAST', 'SOUTH', 'SOUTH', 'SOUTH', 'NORTHEAST', 'SOUTH', 'SOUTH', 'NORTHEAST', 'SOUTH', 'SOUTH', 'NORTHEAST', 'SOUTH', 'SOUTH', 'SOUTH', 'SOUTH', 'SOUTH', 'NORTHEAST', 'SOUTH', 'NORTHEAST', 'SOUTH', 'SOUTH', 'SOUTH', 'SOUTH', 'SOUTH', 'SOUTH', 'SOUTH', 'NORTHEAST', 'SOUTH', 'NORTHEAST', 'SOUTH', 'SOUTH', 'NORTHEAST', 'SOUTH', 'NORTHEAST', 'NORTHEAST', 'SOUTH', 'SOUTH', 'SOUTH', 'SOUTH', 'SOUTH', 'SOUTH', 'NORTHEAST', 'SOUTH', 'NORTHEAST', 'SOUTH', 'SOUTH', 'SOUTH', 'SOUTH', 'SOUTH', 'SOUTH', 'SOUTH', 'NORTHEAST', 'SOUTH', 'SOUTH', 'SOUTH', 'NORTHEAST', 'SOUTH', 'SOUTH', 'SOUTH', 'SOUTH', 'SOUTH', 'NORTHEAST', 'SOUTH', 'SOUTH', 'SOUTH', 'NORTHEAST', 'NORTHEAST', 'SOUTH', 'SOUTH', 'NORTHEAST', 'NORTHEAST', 'SOUTH', 'SOUTH', 'SOUTH', 'SOUTH', 'SOUTH', 'SOUTH', 'SOUTH', 'NORTHEAST', 'SOUTH', 'SOUTH', 'SOUTH', 'SOUTH', 'NORTHEAST', 'SOUTH', 'SOUTH', 'NORTHEAST', 'SOUTH', 'SOUTH', 'SOUTH', 'WEST', 'SOUTH', 'SOUTH', 'SOUTH', 'SOUTH', 'SOUTH', 'NORTHEAST', 'SOUTH', 'SOUTH', 'SOUTH', 'SOUTH', 'SOUTH', 'SOUTH', 'SOUTH', 'NORTHEAST', 'SOUTH', 'SOUTH', 'SOUTH', 'SOUTH', 'SOUTH', 'NORTHEAST', 'SOUTH', 'NORTHEAST', 'NORTHEAST', 'NORTHEAST', 'NORTHEAST', 'NORTHEAST', 'SOUTH', 'SOUTH', 'NORTHEAST', 'SOUTH', 'NORTHEAST', 'NORTHEAST', 'NORTHEAST', 'SOUTH', 'SOUTH', 'SOUTH', 'NORTHEAST', 'NORTHEAST', 'SOUTH', 'NORTHEAST', 'WEST', 'SOUTH', 'NORTHEAST', 'SOUTH', 'MIDWEST', 'SOUTH', 'NORTHEAST', 'NORTHEAST', 'SOUTH', 'SOUTH', 'SOUTH', 'SOUTH', 'SOUTH', 'SOUTH', 'NORTHEAST', 'NORTHEAST', 'SOUTH', 'SOUTH', 'SOUTH', 'SOUTH', 'SOUTH', 'NORTHEAST', 'SOUTH', 'SOUTH', 'SOUTH', 'SOUTH', 'NORTHEAST', 'SOUTH', 'NORTHEAST', 'NORTHEAST', 'NORTHEAST', 'NORTHEAST', 'SOUTH', 'SOUTH', 'NORTHEAST', 'SOUTH', 'SOUTH', 'NORTHEAST', 'NORTHEAST', 'SOUTH', 'NORTHEAST', 'SOUTH', 'SOUTH', 'NORTHEAST', 'NORTHEAST', 'NORTHEAST', 'NORTHEAST', 'NORTHEAST', 'NORTHEAST', 'SOUTH', 'NORTHEAST', 'NORTHEAST', 'SOUTH', 'NORTHEAST', 'SOUTH', 'SOUTH', 'NORTHEAST', 'SOUTH', 'NORTHEAST', 'SOUTH', 'NORTHEAST', 'NORTHEAST', 'SOUTH', 'NORTHEAST', 'SOUTH', 'SOUTH', 'SOUTH', 'SOUTH', 'NORTHEAST', 'SOUTH', 'SOUTH', 'WEST', 'SOUTH', 'SOUTH', 'SOUTH', 'NORTHEAST', 'NORTHEAST', 'NORTHEAST', 'SOUTH', 'SOUTH', 'SOUTH', 'NORTHEAST', 'SOUTH', 'NORTHEAST', 'SOUTH', 'SOUTH', 'SOUTH', 'SOUTH', 'SOUTH', 'SOUTH', 'NORTHEAST', 'SOUTH', 'SOUTH', 'SOUTH', 'SOUTH', 'NORTHEAST', 'SOUTH', 'SOUTH', 'SOUTH', 'NORTHEAST', 'SOUTH', 'SOUTH', 'SOUTH', 'NORTHEAST', 'SOUTH', 'NORTHEAST', 'NORTHEAST', 'SOUTH', 'SOUTH', 'SOUTH', 'SOUTH', 'SOUTH', 'SOUTH', 'SOUTH', 'SOUTH', 'SOUTH', 'SOUTH', 'SOUTH', 'SOUTH', 'SOUTH', 'SOUTH', 'NORTHEAST', 'SOUTH', 'SOUTH', 'SOUTH', 'NORTHEAST', 'SOUTH', 'NORTHEAST', 'SOUTH', 'NORTHEAST', 'NORTHEAST', 'SOUTH', 'SOUTH', 'NORTHEAST', 'SOUTH', 'NORTHEAST', 'NORTHEAST', 'SOUTH', 'SOUTH', 'SOUTH', 'WEST', 'SOUTH', 'NORTHEAST', 'NORTHEAST', 'SOUTH', 'NORTHEAST', 'SOUTH', 'NORTHEAST', 'NORTHEAST', 'NORTHEAST', 'SOUTH', 'SOUTH', 'NORTHEAST', 'NORTHEAST', 'NORTHEAST', 'NORTHEAST', 'SOUTH', 'NORTHEAST', 'SOUTH', 'SOUTH', 'WEST', 'MIDWEST', 'SOUTH', 'SOUTH', 'SOUTH', 'SOUTH', 'NORTHEAST', 'NORTHEAST', 'NORTHEAST', 'NORTHEAST', 'SOUTH', 'NORTHEAST', 'NORTHEAST', 'SOUTH', 'SOUTH', 'NORTHEAST', 'NORTHEAST', 'SOUTH', 'SOUTH', 'SOUTH', 'SOUTH', 'NORTHEAST', 'SOUTH', 'SOUTH', 'WEST', 'SOUTH', 'NORTHEAST', 'SOUTH', 'NORTHEAST', 'SOUTH', 'SOUTH', 'SOUTH', 'SOUTH', 'SOUTH', 'SOUTH', 'NORTHEAST', 'SOUTH', 'NORTHEAST', 'SOUTH', 'NORTHEAST', 'NORTHEAST', 'NORTHEAST', 'SOUTH', 'SOUTH', 'SOUTH', 'SOUTH', 'SOUTH', 'SOUTH', 'SOUTH', 'NORTHEAST', 'SOUTH', 'NORTHEAST', 'MIDWEST', 'NORTHEAST', 'NORTHEAST', 'NORTHEAST', 'NORTHEAST', 'NORTHEAST', 'NORTHEAST', 'NORTHEAST', 'SOUTH', 'SOUTH', 'NORTHEAST', 'WEST', 'SOUTH', 'SOUTH', 'NORTHEAST', 'WEST', 'NORTHEAST', 'WEST', 'SOUTH', 'NORTHEAST', 'NORTHEAST', 'SOUTH', 'NORTHEAST', 'SOUTH', 'WEST', 'NORTHEAST', 'SOUTH', 'SOUTH', 'SOUTH', 'SOUTH', 'SOUTH', 'SOUTH', 'SOUTH', 'SOUTH', 'SOUTH', 'SOUTH', 'SOUTH', 'SOUTH', 'SOUTH', 'SOUTH', 'SOUTH', 'SOUTH', 'SOUTH', 'SOUTH', 'SOUTH', 'SOUTH', 'SOUTH', 'SOUTH', 'SOUTH', 'SOUTH', 'SOUTH', 'NORTHEAST', 'SOUTH', 'SOUTH', 'SOUTH', 'SOUTH', 'SOUTH', 'SOUTH', 'SOUTH', 'SOUTH', 'SOUTH', 'SOUTH', 'SOUTH', 'SOUTH', 'SOUTH', 'SOUTH', 'NORTHEAST', 'SOUTH', 'SOUTH', 'SOUTH', 'SOUTH', 'SOUTH', 'SOUTH', 'SOUTH', 'SOUTH', 'SOUTH', 'SOUTH', 'NORTHEAST', 'SOUTH', 'SOUTH', 'SOUTH', 'SOUTH', 'SOUTH', 'SOUTH', 'SOUTH', 'SOUTH', 'SOUTH', 'SOUTH', 'SOUTH', 'SOUTH', 'SOUTH', 'SOUTH', 'SOUTH', 'SOUTH', 'SOUTH', 'SOUTH', 'NORTHEAST', 'SOUTH', 'SOUTH', 'SOUTH', 'SOUTH', 'NORTHEAST', 'SOUTH', 'NORTHEAST', 'SOUTH', 'NORTHEAST', 'SOUTH', 'SOUTH', 'NORTHEAST', 'NORTHEAST', 'SOUTH', 'NORTHEAST', 'SOUTH', 'SOUTH', 'NORTHEAST', 'SOUTH', 'NORTHEAST', 'NORTHEAST', 'NORTHEAST', 'SOUTH', 'SOUTH', 'SOUTH', 'SOUTH', 'NORTHEAST', 'NORTHEAST', 'SOUTH', 'SOUTH', 'SOUTH', 'NORTHEAST', 'SOUTH', 'SOUTH', 'NORTHEAST', 'SOUTH', 'SOUTH', 'SOUTH', 'SOUTH', 'SOUTH', 'NORTHEAST', 'SOUTH', 'SOUTH', 'SOUTH', 'NORTHEAST', 'SOUTH', 'SOUTH', 'SOUTH', 'SOUTH', 'SOUTH', 'SOUTH', 'SOUTH', 'SOUTH', 'MIDWEST', 'NORTHEAST', 'SOUTH', 'SOUTH', 'SOUTH', 'SOUTH', 'SOUTH', 'NORTHEAST', 'SOUTH', 'SOUTH', 'SOUTH', 'SOUTH', 'NORTHEAST', 'SOUTH', 'SOUTH', 'SOUTH', 'SOUTH', 'SOUTH', 'SOUTH', 'SOUTH', 'SOUTH', 'SOUTH', 'SOUTH', 'SOUTH', 'SOUTH', 'NORTHEAST', 'SOUTH', 'NORTHEAST', 'NORTHEAST', 'SOUTH', 'NORTHEAST', 'NORTHEAST', 'NORTHEAST', 'SOUTH', 'SOUTH', 'NORTHEAST', 'SOUTH', 'SOUTH', 'NORTHEAST', 'NORTHEAST', 'NORTHEAST', 'WEST', 'NORTHEAST', 'SOUTH', 'SOUTH', 'SOUTH', 'SOUTH', 'NORTHEAST', 'NORTHEAST', 'SOUTH', 'SOUTH', 'SOUTH', 'NORTHEAST', 'NORTHEAST', 'NORTHEAST', 'NORTHEAST', 'SOUTH', 'SOUTH', 'SOUTH', 'NORTHEAST', 'NORTHEAST', 'SOUTH', 'SOUTH', 'NORTHEAST', 'SOUTH', 'NORTHEAST', 'NORTHEAST', 'NORTHEAST', 'SOUTH', 'SOUTH', 'NORTHEAST', 'NORTHEAST', 'SOUTH', 'SOUTH', 'NORTHEAST', 'NORTHEAST', 'NORTHEAST', 'NORTHEAST', 'SOUTH', 'NORTHEAST', 'NORTHEAST', 'SOUTH', 'SOUTH', 'NORTHEAST', 'SOUTH', 'SOUTH', 'NORTHEAST', 'NORTHEAST', 'SOUTH', 'SOUTH', 'SOUTH', 'NORTHEAST', 'NORTHEAST', 'NORTHEAST', 'NORTHEAST', 'SOUTH', 'SOUTH', 'MIDWEST', 'NORTHEAST', 'NORTHEAST', 'NORTHEAST', 'NORTHEAST', 'NORTHEAST', 'SOUTH', 'SOUTH', 'SOUTH', 'SOUTH', 'SOUTH', 'NORTHEAST', 'SOUTH', 'NORTHEAST', 'NORTHEAST', 'SOUTH', 'NORTHEAST', 'NORTHEAST', 'NORTHEAST', 'NORTHEAST', 'NORTHEAST', 'NORTHEAST', 'NORTHEAST', 'NORTHEAST', 'SOUTH', 'NORTHEAST', 'SOUTH', 'SOUTH', 'SOUTH', 'SOUTH', 'WEST', 'SOUTH', 'SOUTH', 'SOUTH', 'NORTHEAST', 'SOUTH', 'NORTHEAST', 'SOUTH', 'SOUTH', 'SOUTH', 'NORTHEAST', 'SOUTH', 'SOUTH', 'NORTHEAST', 'SOUTH', 'SOUTH', 'SOUTH', 'SOUTH', 'NORTHEAST', 'SOUTH', 'NORTHEAST', 'NORTHEAST', 'NORTHEAST', 'NORTHEAST', 'SOUTH', 'SOUTH', 'SOUTH', 'SOUTH', 'SOUTH', 'NORTHEAST', 'SOUTH', 'SOUTH', 'SOUTH', 'NORTHEAST', 'SOUTH', 'SOUTH', 'SOUTH', 'SOUTH', 'SOUTH', 'SOUTH', 'SOUTH', 'NORTHEAST', 'SOUTH', 'SOUTH', 'SOUTH', 'SOUTH', 'NORTHEAST', 'SOUTH', 'SOUTH', 'NORTHEAST', 'SOUTH', 'SOUTH', 'SOUTH', 'SOUTH', 'SOUTH', 'SOUTH', 'SOUTH', 'SOUTH', 'SOUTH', 'NORTHEAST', 'SOUTH', 'NORTHEAST', 'SOUTH', 'SOUTH', 'NORTHEAST', 'NORTHEAST', 'NORTHEAST', 'SOUTH', 'SOUTH', 'SOUTH', 'SOUTH', 'SOUTH', 'NORTHEAST', 'NORTHEAST', 'NORTHEAST', 'NORTHEAST', 'NORTHEAST', 'NORTHEAST', 'NORTHEAST', 'SOUTH', 'SOUTH', 'NORTHEAST', 'SOUTH', 'SOUTH', 'SOUTH', 'SOUTH', 'SOUTH', 'NORTHEAST', 'NORTHEAST', 'NORTHEAST', 'NORTHEAST', 'SOUTH', 'NORTHEAST', 'SOUTH', 'NORTHEAST', 'NORTHEAST', 'NORTHEAST', 'NORTHEAST', 'NORTHEAST', 'NORTHEAST', 'NORTHEAST', 'NORTHEAST', 'NORTHEAST', 'NORTHEAST', 'NORTHEAST', 'NORTHEAST', 'NORTHEAST', 'SOUTH', 'SOUTH', 'SOUTH', 'SOUTH', 'NORTHEAST', 'NORTHEAST', 'SOUTH', 'NORTHEAST', 'SOUTH', 'NORTHEAST', 'NORTHEAST', 'SOUTH', 'NORTHEAST', 'SOUTH', 'NORTHEAST', 'NORTHEAST', 'SOUTH', 'NORTHEAST', 'SOUTH', 'NORTHEAST', 'MIDWEST', 'NORTHEAST', 'SOUTH', 'NORTHEAST', 'SOUTH', 'NORTHEAST', 'NORTHEAST', 'SOUTH', 'SOUTH', 'NORTHEAST', 'SOUTH', 'NORTHEAST', 'NORTHEAST', 'SOUTH', 'NORTHEAST', 'NORTHEAST', 'NORTHEAST', 'SOUTH', 'NORTHEAST', 'NORTHEAST', 'SOUTH', 'SOUTH', 'SOUTH', 'SOUTH', 'NORTHEAST', 'SOUTH', 'NORTHEAST', 'SOUTH', 'SOUTH', 'NORTHEAST', 'NORTHEAST', 'SOUTH', 'SOUTH', 'NORTHEAST', 'SOUTH', 'SOUTH', 'SOUTH', 'SOUTH', 'NORTHEAST', 'SOUTH', 'SOUTH', 'SOUTH', 'SOUTH', 'SOUTH', 'SOUTH', 'SOUTH', 'NORTHEAST', 'SOUTH', 'NORTHEAST', 'SOUTH', 'SOUTH', 'SOUTH', 'SOUTH', 'SOUTH', 'NORTHEAST', 'NORTHEAST', 'NORTHEAST', 'NORTHEAST', 'SOUTH', 'NORTHEAST', 'SOUTH', 'SOUTH', 'MIDWEST', 'SOUTH', 'NORTHEAST', 'WEST', 'SOUTH', 'SOUTH', 'SOUTH', 'SOUTH', 'WEST', 'WEST', 'SOUTH', 'SOUTH', 'SOUTH', 'NORTHEAST', 'NORTHEAST', 'SOUTH', 'SOUTH', 'SOUTH', 'SOUTH', 'SOUTH', 'SOUTH', 'SOUTH', 'SOUTH', 'NORTHEAST', 'SOUTH', 'SOUTH', 'SOUTH', 'SOUTH', 'NORTHEAST', 'NORTHEAST', 'NORTHEAST', 'SOUTH', 'SOUTH', 'SOUTH', 'SOUTH', 'SOUTH', 'SOUTH', 'SOUTH', 'SOUTH', 'SOUTH', 'SOUTH', 'SOUTH', 'SOUTH', 'SOUTH', 'SOUTH', 'SOUTH', 'SOUTH', 'SOUTH', 'SOUTH', 'SOUTH', 'SOUTH', 'SOUTH', 'SOUTH', 'NORTHEAST', 'SOUTH', 'NORTHEAST', 'SOUTH', 'SOUTH', 'SOUTH', 'SOUTH', 'NORTHEAST', 'SOUTH', 'SOUTH', 'SOUTH', 'SOUTH', 'SOUTH', 'SOUTH', 'SOUTH', 'SOUTH', 'SOUTH', 'SOUTH', 'SOUTH', 'SOUTH', 'NORTHEAST', 'SOUTH', 'NORTHEAST', 'WEST', 'NORTHEAST', 'SOUTH', 'NORTHEAST', 'SOUTH', 'NORTHEAST', 'NORTHEAST', 'NORTHEAST', 'SOUTH', 'SOUTH', 'NORTHEAST', 'NORTHEAST', 'SOUTH', 'NORTHEAST', 'SOUTH', 'SOUTH', 'NORTHEAST', 'SOUTH', 'SOUTH', 'SOUTH', 'SOUTH', 'SOUTH', 'SOUTH', 'SOUTH', 'SOUTH', 'NORTHEAST', 'SOUTH', 'SOUTH', 'SOUTH', 'NORTHEAST', 'SOUTH', 'SOUTH', 'SOUTH', 'SOUTH', 'SOUTH', 'SOUTH', 'SOUTH', 'SOUTH', 'NORTHEAST', 'NORTHEAST', 'NORTHEAST', 'SOUTH', 'NORTHEAST', 'NORTHEAST', 'NORTHEAST', 'NORTHEAST', 'NORTHEAST', 'NORTHEAST', 'SOUTH', 'SOUTH', 'NORTHEAST', 'NORTHEAST', 'SOUTH', 'SOUTH', 'NORTHEAST', 'SOUTH', 'NORTHEAST', 'SOUTH', 'SOUTH', 'NORTHEAST', 'SOUTH', 'SOUTH', 'NORTHEAST', 'SOUTH', 'SOUTH', 'SOUTH', 'SOUTH', 'NORTHEAST', 'NORTHEAST', 'SOUTH', 'NORTHEAST', 'NORTHEAST', 'NORTHEAST', 'NORTHEAST', 'NORTHEAST', 'NORTHEAST', 'NORTHEAST', 'NORTHEAST', 'NORTHEAST', 'NORTHEAST', 'SOUTH', 'NORTHEAST', 'NORTHEAST', 'NORTHEAST', 'SOUTH', 'NORTHEAST', 'SOUTH', 'SOUTH', 'NORTHEAST', 'NORTHEAST', 'SOUTH', 'SOUTH', 'NORTHEAST', 'NORTHEAST', 'SOUTH', 'SOUTH', 'SOUTH', 'NORTHEAST', 'NORTHEAST', 'SOUTH', 'NORTHEAST', 'SOUTH', 'SOUTH', 'NORTHEAST', 'NORTHEAST', 'NORTHEAST', 'NORTHEAST', 'SOUTH', 'SOUTH', 'SOUTH', 'SOUTH', 'SOUTH', 'SOUTH', 'SOUTH', 'SOUTH', 'NORTHEAST', 'SOUTH', 'SOUTH', 'SOUTH', 'SOUTH', 'SOUTH', 'SOUTH', 'SOUTH', 'NORTHEAST', 'NORTHEAST', 'NORTHEAST', 'SOUTH', 'NORTHEAST', 'SOUTH', 'NORTHEAST', 'SOUTH', 'SOUTH', 'NORTHEAST', 'WEST', 'SOUTH', 'NORTHEAST', 'NORTHEAST', 'SOUTH', 'NORTHEAST', 'SOUTH', 'SOUTH', 'NORTHEAST', 'NORTHEAST', 'NORTHEAST', 'NORTHEAST', 'NORTHEAST', 'WEST', 'NORTHEAST', 'SOUTH', 'WEST', 'SOUTH', 'SOUTH', 'SOUTH', 'NORTHEAST', 'SOUTH', 'NORTHEAST', 'NORTHEAST', 'NORTHEAST', 'NORTHEAST', 'SOUTH', 'WEST', 'NORTHEAST', 'WEST', 'SOUTH', 'SOUTH', 'SOUTH', 'NORTHEAST', 'NORTHEAST', 'NORTHEAST', 'NORTHEAST', 'NORTHEAST', 'SOUTH', 'SOUTH', 'NORTHEAST', 'NORTHEAST', 'NORTHEAST', 'SOUTH', 'NORTHEAST', 'NORTHEAST', 'NORTHEAST', 'NORTHEAST', 'NORTHEAST', 'NORTHEAST', 'NORTHEAST', 'SOUTH', 'NORTHEAST', 'NORTHEAST', 'NORTHEAST', 'NORTHEAST', 'SOUTH', 'NORTHEAST', 'SOUTH', 'NORTHEAST', 'NORTHEAST', 'NORTHEAST']\n"
     ]
    }
   ],
   "source": [
    "y_predict = list(y_predict_count)\n",
    "print(y_predict)"
   ]
  },
  {
   "cell_type": "code",
   "execution_count": 27,
   "metadata": {},
   "outputs": [],
   "source": [
    "import csv\n",
    "\n",
    "\n",
    "# name of csv file\n",
    "filename = \"y_predict_count.csv\"\n",
    "\n",
    "id_count = 0\n",
    "\n",
    "# create a file\n",
    "f = open (filename, 'x')\n",
    "\n",
    "# writing to csv file\n",
    "with open(filename, 'w', newline='') as csvfile:\n",
    "    fields = ['id', 'region']\n",
    "    \n",
    "    thewriter = csv.DictWriter(csvfile, fieldnames=fields)\n",
    "    \n",
    "    thewriter.writeheader()\n",
    "    \n",
    "    for i in range(len(y_predict)):\n",
    "        id_count += 1\n",
    "        thewriter.writerow({'id': id_count, 'region': y_predict[i]})"
   ]
  },
  {
   "cell_type": "markdown",
   "metadata": {},
   "source": [
    "# Training Model - Multi-Layer Perceptron (MLP)"
   ]
  },
  {
   "cell_type": "code",
   "execution_count": 33,
   "metadata": {},
   "outputs": [],
   "source": [
    "from sklearn.neural_network import MLPClassifier\n",
    "\n",
    "mlp = MLPClassifier(max_iter=2000)\n",
    "\n",
    "mlp.fit(x_train_count, y_train_count)\n",
    "\n",
    "y_mlp_count = mlp.predict(x_dev_count)"
   ]
  },
  {
   "cell_type": "code",
   "execution_count": 34,
   "metadata": {},
   "outputs": [
    {
     "name": "stdout",
     "output_type": "stream",
     "text": [
      "[array([[-0.11574715,  0.25065723, -0.0864412 , ..., -0.35194764,\n",
      "         0.09201767,  0.20204672],\n",
      "       [-0.06320828, -0.04948128,  0.16775718, ..., -0.12952351,\n",
      "        -0.31519508,  0.2802715 ],\n",
      "       [-0.11539862, -0.50339257,  0.22717305, ...,  0.90837512,\n",
      "        -0.70160645,  0.51814071],\n",
      "       ...,\n",
      "       [-0.08439192,  0.16945733, -0.40590394, ...,  0.31468836,\n",
      "        -0.09941297,  0.65590632],\n",
      "       [ 0.16930954, -0.3002652 , -0.27370342, ..., -0.03816459,\n",
      "        -0.06483399, -0.34949345],\n",
      "       [-0.0965506 , -0.41344271, -0.61403323, ..., -0.47975609,\n",
      "        -0.18793058,  0.18611702]]), array([[-6.05344417e-01, -2.52096247e+00,  1.57251485e+00,\n",
      "         1.71813914e+00],\n",
      "       [ 1.96887665e+00,  1.32302992e+00,  9.96065448e-01,\n",
      "        -6.26862375e+00],\n",
      "       [ 5.99074914e-01,  2.61763217e+00, -4.70643313e+00,\n",
      "         2.49363624e+00],\n",
      "       [ 2.30432060e+00, -2.92237047e+00,  2.24231533e+00,\n",
      "        -1.87586078e+00],\n",
      "       [-2.35812948e+00,  1.80170437e+00, -2.20062906e+00,\n",
      "         3.05524206e+00],\n",
      "       [ 3.26272917e+00, -4.22612776e+00,  1.57703213e+00,\n",
      "        -3.17302092e-01],\n",
      "       [-4.06617655e-01,  1.70006777e+00,  2.00200165e+00,\n",
      "        -4.70591392e+00],\n",
      "       [-3.04030410e+00, -2.07981151e+00,  1.89885280e+00,\n",
      "         2.73810759e+00],\n",
      "       [-3.31292752e+00,  2.98932967e+00, -3.56278466e-01,\n",
      "        -1.96705504e+00],\n",
      "       [-4.42776994e+00,  2.95016757e+00, -1.17185250e+00,\n",
      "         1.14948763e+00],\n",
      "       [ 6.24249703e-02, -3.62798897e+00,  6.18716796e-01,\n",
      "         3.88745537e+00],\n",
      "       [-3.60258450e+00,  1.15567494e+00,  2.21084385e+00,\n",
      "        -2.65141113e+00],\n",
      "       [ 1.80689927e+00, -2.35786668e+00, -3.08477022e+00,\n",
      "         5.75527521e+00],\n",
      "       [-6.88491740e-01, -3.50663278e+00,  1.43813638e+00,\n",
      "         3.14767878e+00],\n",
      "       [ 5.30541234e+00, -3.49752243e+00, -4.35958861e-01,\n",
      "        -5.63128147e-01],\n",
      "       [ 1.32914561e+00,  3.11351327e+00, -2.89009686e+00,\n",
      "        -1.31016762e+00],\n",
      "       [ 1.77939939e+00,  2.16242541e+00,  5.44092954e-01,\n",
      "        -5.99147492e+00],\n",
      "       [-2.47079300e+00,  4.13314540e+00, -2.83148212e+00,\n",
      "         8.11069163e-02],\n",
      "       [-4.83617107e+00,  2.92157468e+00,  1.59474812e+00,\n",
      "        -2.66918968e+00],\n",
      "       [ 1.62793159e+00, -4.51825194e+00,  9.06633141e-01,\n",
      "         2.84456816e+00],\n",
      "       [ 4.61368307e+00,  1.47669866e+00, -5.46019794e+00,\n",
      "         5.31356055e-01],\n",
      "       [ 2.73335275e+00,  2.90065628e+00, -2.87226763e+00,\n",
      "        -2.93722472e+00],\n",
      "       [-2.11590594e+00,  1.91369987e+00,  2.42006217e+00,\n",
      "        -4.68884096e+00],\n",
      "       [ 1.10352582e-01, -2.32022731e+00,  2.22405456e+00,\n",
      "        -2.76357170e-01],\n",
      "       [ 6.25565962e+00, -3.27866821e+00, -1.30868341e+00,\n",
      "        -1.37411601e+00],\n",
      "       [ 3.20864303e+00,  3.86314083e+00, -4.26006261e+00,\n",
      "        -1.72058173e+00],\n",
      "       [-1.02324291e+00,  2.32286309e+00, -2.98010205e+00,\n",
      "         2.03819465e+00],\n",
      "       [-5.79114472e+00,  1.74208338e+00,  2.02527190e+00,\n",
      "         3.29381402e-01],\n",
      "       [-1.77082151e+00, -5.53743676e-01, -2.61703535e+00,\n",
      "         5.05397064e+00],\n",
      "       [ 1.10557482e+00, -2.10981014e+00,  2.70682894e+00,\n",
      "        -2.43181004e+00],\n",
      "       [-5.80221238e-01, -2.19448081e+00,  2.96064687e+00,\n",
      "        -6.07327991e-01],\n",
      "       [-1.97114793e+00,  1.32887540e+00, -1.85088606e+00,\n",
      "         2.59539041e+00],\n",
      "       [-5.86371874e-01, -3.07487176e+00,  1.76920551e-02,\n",
      "         4.35718943e+00],\n",
      "       [ 4.33215237e+00, -3.83752981e+00, -1.61530527e+00,\n",
      "         3.14941372e+00],\n",
      "       [-5.06504997e-01,  3.24895497e+00, -2.92063953e+00,\n",
      "        -1.98932725e-02],\n",
      "       [ 2.85238046e+00,  2.45120570e+00, -1.17001701e+00,\n",
      "        -5.28141637e+00],\n",
      "       [-4.64949320e+00, -1.12578648e+00,  1.66646382e+00,\n",
      "         3.18113036e+00],\n",
      "       [ 3.30915517e-01,  2.34300129e+00, -3.69696862e+00,\n",
      "         1.73778898e+00],\n",
      "       [-2.37280201e+00,  1.51306832e+00,  2.80233498e+00,\n",
      "        -4.07405096e+00],\n",
      "       [ 9.07497317e-01,  2.38407387e+00, -1.88129766e-01,\n",
      "        -4.26926113e+00],\n",
      "       [ 2.32497583e+00, -3.90601757e+00,  1.90822333e+00,\n",
      "         2.90046583e-01],\n",
      "       [-3.15976979e+00, -5.47401095e-01,  3.10191395e+00,\n",
      "        -1.09675956e+00],\n",
      "       [ 2.69864513e+00, -5.53387372e+00,  4.68554371e-01,\n",
      "         3.31315279e+00],\n",
      "       [ 1.78043583e+00, -3.98238782e+00,  1.82345690e+00,\n",
      "         1.78870296e+00],\n",
      "       [ 2.94695412e+00, -2.29485524e-01, -5.76582467e+00,\n",
      "         4.56152740e+00],\n",
      "       [ 4.21798996e-01,  6.18879696e-01,  2.73689382e+00,\n",
      "        -5.91455924e+00],\n",
      "       [-2.38802820e+00,  1.78573516e+00,  2.23561567e+00,\n",
      "        -3.70138879e+00],\n",
      "       [-2.44818278e+00,  1.94395742e+00,  1.20527940e+00,\n",
      "        -3.87819912e+00],\n",
      "       [ 3.71575569e+00, -3.59978909e+00,  1.86961798e+00,\n",
      "        -2.70869131e+00],\n",
      "       [ 3.48563974e+00,  3.49789916e+00, -6.99643157e+00,\n",
      "         6.59592177e-01],\n",
      "       [-1.09049194e+00, -2.59532245e+00,  2.73807145e+00,\n",
      "         6.96724116e-01],\n",
      "       [-5.11982378e+00,  2.32864980e+00,  4.37157267e-01,\n",
      "         3.05834986e-01],\n",
      "       [ 2.96768976e+00, -6.72139943e-01, -4.09662262e+00,\n",
      "         3.67814628e+00],\n",
      "       [ 3.52769038e+00,  2.16754373e+00, -4.70745045e+00,\n",
      "         4.02454526e-01],\n",
      "       [ 6.61602666e+00, -1.68035416e+00, -1.70806868e+00,\n",
      "        -2.51418103e+00],\n",
      "       [ 4.10052953e+00,  1.99641474e+00, -1.77578847e+00,\n",
      "        -6.10539487e+00],\n",
      "       [ 4.15912873e+00,  2.66534265e+00, -5.52076278e+00,\n",
      "        -1.43624012e+00],\n",
      "       [ 1.92115454e+00, -5.47334160e+00,  3.21684493e+00,\n",
      "         5.44941652e-01],\n",
      "       [ 1.50587050e+00,  3.23738106e+00, -4.49567978e+00,\n",
      "         8.57778782e-01],\n",
      "       [ 8.62737664e-01, -3.63270917e+00,  1.89480421e+00,\n",
      "         1.75540695e+00],\n",
      "       [ 4.63177671e+00, -2.84669943e+00, -3.71397504e+00,\n",
      "         3.66264797e+00],\n",
      "       [ 3.17727223e-02,  2.97820119e+00, -1.12634148e+00,\n",
      "        -2.80227277e+00],\n",
      "       [-3.89859270e+00,  3.19677765e+00, -3.22969433e-01,\n",
      "        -5.48475332e-01],\n",
      "       [ 7.43654859e-01,  7.32025872e-01, -3.49976398e+00,\n",
      "         3.21682808e+00],\n",
      "       [-5.92306664e+00,  1.65466774e+00, -6.48300651e-03,\n",
      "         2.45818890e+00],\n",
      "       [-3.93287723e+00,  2.86481234e+00,  7.45769967e-01,\n",
      "        -1.88695156e+00],\n",
      "       [-5.48404899e-03,  2.97486170e+00, -1.85415479e+00,\n",
      "        -1.54925763e+00],\n",
      "       [ 2.70079601e+00,  3.19872691e+00, -5.19837832e+00,\n",
      "        -2.92614167e-01],\n",
      "       [ 5.33140837e-01, -3.44341325e+00,  1.50458362e+00,\n",
      "         2.32375015e+00],\n",
      "       [-2.02539926e+00,  3.06386154e+00, -2.83493385e+00,\n",
      "         2.08727547e+00],\n",
      "       [ 1.07378997e+00, -3.16841006e+00, -2.03091362e+00,\n",
      "         5.06006641e+00],\n",
      "       [ 4.85926150e+00, -4.47956832e+00, -8.13381846e-01,\n",
      "         1.85759252e+00],\n",
      "       [-5.76119448e+00,  5.11218340e-01,  1.30018229e+00,\n",
      "         2.65086340e+00],\n",
      "       [ 4.17073733e+00, -4.31776208e+00,  2.51957151e+00,\n",
      "        -2.87772274e+00],\n",
      "       [-6.58866951e+00,  1.58846786e+00,  1.61726847e+00,\n",
      "        -6.33814801e-02],\n",
      "       [-2.01397383e+00,  2.61837517e+00,  8.42409039e-01,\n",
      "        -4.13809307e+00],\n",
      "       [-6.35636078e+00,  5.73038385e-01,  7.68573735e-01,\n",
      "         3.12925319e+00],\n",
      "       [ 2.37648821e+00,  2.51547192e+00, -1.95771695e+00,\n",
      "        -3.37948349e+00],\n",
      "       [ 2.51569342e+00, -4.21135863e+00, -2.71347373e-01,\n",
      "         3.00616288e+00],\n",
      "       [ 2.70642334e+00, -3.35211326e-01,  1.38249194e+00,\n",
      "        -4.77678915e+00],\n",
      "       [-2.78064947e+00, -1.98047749e+00,  2.55641786e+00,\n",
      "         1.16034795e+00],\n",
      "       [ 5.50207777e-01, -4.82769681e+00,  3.16219765e+00,\n",
      "         1.35489428e+00],\n",
      "       [ 1.20313258e+00, -1.57319634e+00,  2.62366272e+00,\n",
      "        -3.27881772e+00],\n",
      "       [ 3.85976532e+00, -2.11830082e+00,  1.48564664e+00,\n",
      "        -2.84468740e+00],\n",
      "       [ 4.10537523e+00, -4.83265448e+00, -1.46169672e+00,\n",
      "         3.08424036e+00],\n",
      "       [-1.78855112e-01, -3.70526751e+00,  1.90657012e+00,\n",
      "         2.06138781e+00],\n",
      "       [-6.46159045e+00,  8.55115147e-01,  1.30102478e+00,\n",
      "         1.95777270e+00],\n",
      "       [ 3.40627615e-01,  3.39407400e+00, -3.70789227e+00,\n",
      "         5.03579294e-01],\n",
      "       [-5.04880222e-01,  1.88140270e+00, -3.52173242e+00,\n",
      "         2.72428152e+00],\n",
      "       [-4.54241383e-01, -1.32811045e+00,  3.03659214e+00,\n",
      "        -2.75169889e+00],\n",
      "       [ 3.38271905e-01, -5.62664486e-01,  2.73739908e+00,\n",
      "        -3.93621464e+00],\n",
      "       [ 2.82685605e+00,  7.72341193e-01,  9.23393393e-01,\n",
      "        -5.73323567e+00],\n",
      "       [-6.31246612e+00,  2.23963155e+00,  1.11568619e+00,\n",
      "         2.00872310e-01],\n",
      "       [-1.09725978e+00,  2.94840518e+00, -2.67827282e+00,\n",
      "         4.31841795e-01],\n",
      "       [-4.81247465e+00,  7.71301421e-01,  3.40004394e+00,\n",
      "        -2.11135143e+00],\n",
      "       [-1.59124269e+00,  1.62556592e+00,  2.10157790e+00,\n",
      "        -3.34713422e+00],\n",
      "       [-5.92789421e+00,  1.49161559e+00,  1.51039093e-01,\n",
      "         2.51902444e+00],\n",
      "       [-5.18026807e+00,  3.11877105e-02, -4.59289568e-01,\n",
      "         4.09363290e+00],\n",
      "       [-3.37867577e-01, -2.52009595e+00,  2.69423747e+00,\n",
      "        -3.48304354e-01],\n",
      "       [ 3.75160153e+00,  6.07908160e-02,  1.02696959e+00,\n",
      "        -5.20375092e+00]])]\n",
      "3\n"
     ]
    }
   ],
   "source": [
    "print(mlp.coefs_)\n",
    "print(mlp.n_layers_)"
   ]
  },
  {
   "cell_type": "code",
   "execution_count": 35,
   "metadata": {
    "scrolled": true
   },
   "outputs": [
    {
     "name": "stdout",
     "output_type": "stream",
     "text": [
      "              precision    recall  f1-score   support\n",
      "\n",
      "     MIDWEST       0.13      0.11      0.12      1484\n",
      "   NORTHEAST       0.46      0.49      0.47      4295\n",
      "       SOUTH       0.40      0.40      0.40      4266\n",
      "        WEST       0.14      0.13      0.13      1430\n",
      "\n",
      "    accuracy                           0.36     11475\n",
      "   macro avg       0.28      0.28      0.28     11475\n",
      "weighted avg       0.35      0.36      0.36     11475\n",
      "\n"
     ]
    }
   ],
   "source": [
    "print(classification_report(y_dev_count, y_mlp_count, target_names = ['MIDWEST', 'NORTHEAST', 'SOUTH', 'WEST']))"
   ]
  },
  {
   "cell_type": "markdown",
   "metadata": {},
   "source": [
    "# Training Model - Random Forest (RF)"
   ]
  },
  {
   "cell_type": "code",
   "execution_count": 37,
   "metadata": {},
   "outputs": [],
   "source": [
    "from sklearn.ensemble import RandomForestClassifier\n",
    "\n",
    "rf = RandomForestClassifier()\n",
    "\n",
    "rf.fit(x_train_count, y_train_count)\n",
    "\n",
    "y_rf_count = rf.predict(x_dev_count)"
   ]
  },
  {
   "cell_type": "code",
   "execution_count": 38,
   "metadata": {},
   "outputs": [
    {
     "name": "stdout",
     "output_type": "stream",
     "text": [
      "              precision    recall  f1-score   support\n",
      "\n",
      "     MIDWEST       0.17      0.04      0.06      1484\n",
      "   NORTHEAST       0.46      0.57      0.51      4295\n",
      "       SOUTH       0.42      0.53      0.47      4266\n",
      "        WEST       0.14      0.04      0.07      1430\n",
      "\n",
      "    accuracy                           0.42     11475\n",
      "   macro avg       0.30      0.29      0.28     11475\n",
      "weighted avg       0.37      0.42      0.38     11475\n",
      "\n",
      "Accuracy:  0.4203921568627451\n"
     ]
    }
   ],
   "source": [
    "print(classification_report(y_dev_count, y_rf_count, target_names = ['MIDWEST', 'NORTHEAST', 'SOUTH', 'WEST']))\n",
    "print(\"Accuracy: \", rf.score(x_dev_count, y_dev_count))"
   ]
  }
 ],
 "metadata": {
  "kernelspec": {
   "display_name": "Python 3",
   "language": "python",
   "name": "python3"
  },
  "language_info": {
   "codemirror_mode": {
    "name": "ipython",
    "version": 3
   },
   "file_extension": ".py",
   "mimetype": "text/x-python",
   "name": "python",
   "nbconvert_exporter": "python",
   "pygments_lexer": "ipython3",
   "version": "3.8.5"
  }
 },
 "nbformat": 4,
 "nbformat_minor": 4
}
