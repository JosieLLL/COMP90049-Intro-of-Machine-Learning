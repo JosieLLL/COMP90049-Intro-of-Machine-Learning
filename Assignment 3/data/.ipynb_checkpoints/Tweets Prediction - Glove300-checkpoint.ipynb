{
 "cells": [
  {
   "cell_type": "markdown",
   "metadata": {},
   "source": [
    "# Loading Vocabulary (All Features )"
   ]
  },
  {
   "cell_type": "code",
   "execution_count": 2,
   "metadata": {},
   "outputs": [
    {
     "name": "stdout",
     "output_type": "stream",
     "text": [
      "['!', '\"', '#', '#amitheonlyone', '#andthenwehadsex', '#bears', '#beforeidie', '#betmessedupwhen', '#bgc', '#chancesare', '#dead', '#dontjudgeme', '#everydayiwakeup', '#fact', '#fail', '#famusextape', '#fb', '#ff', '#follow', '#followfriday', '#howwouldyoufeel', '#ibelieve', '#icheatedbecause', '#imjustsayin', '#imjustsaying', '#inhighschool', '#irefuseto', '#itsnotcool', '#itsnotokay', '#letsbereal', '#mewithoutyouislike', '#notcool', '#nowplayin', '#nowplaying', '#np', '#placesiwannahavesex', '#pow', '#random', '#randomthought', '#randomthoughts', '#realgrandmas', '#realtalk', '#realthugs', '#shoutout', '#shoutouts', '#smh', '#teamblackberry', '#thatisall', '#thingsassholesdo', '#tinc2', '#tt', '#tweetsidgafabout', '#twitterafterdark', '#unotfromthehoodif', '#whatwouldyourather', '$', '%', '&', \"'\", '(', '(:', ')', '*', '+', ',', '-', '--->', '-->', '->', '.', '. .', '. . .', '..', '...', '/', '0', '1', '10', '100', '11', '12', '13', '15', '16', '18', '1st', '2', '20', '2010', '21', '24', '25', '2day', '2morrow', '2nd', '2night', '2nite', '3', '30', '3d', '3rd', '4', '40', '45', '4real', '5', '50', '5th', '6', '7', '8', '9', ':', ':(', ':)', ':-(', ':-)', ':-/', ':-d', ':-p', ':/', '::', ':d', ':p', ';', ';)', ';-)', '<', '<-', '<--', '<---', '<3', '=', '=(', '=)', '=/', '=]', '=d', '=p', '>', '?', '@', '@user_0e9a8962', '@user_21fe2e90', '@user_559b1bbb', '@user_5aac9e88', '@user_6163949a', '@user_a400b1fb', '@user_a8349405', '@user_c8613ca2', '[', ']', '^', '_', '__', '___', '`', 'able', 'absolutely', 'abt', 'account', 'act', 'actin', 'acting', 'action', 'actually', 'add', 'admit', 'afraid', 'afternoon', 'age', 'ago', 'agree', 'agreed', 'ah', 'ahead', 'ahh', 'ahhh', 'ahhhh', 'aight', 'aim', \"ain't\", 'aint', 'air', 'aka', 'al', 'album', 'alcohol', 'alice', 'alive', 'alll', 'alot', 'alright', 'amazing', 'amber', 'amen', 'america', 'american', 'angry', 'annie', 'annoying', 'answer', 'anybody', 'anymore', 'anytime', 'anyways', 'app', 'apparently', 'apple', 'appreciate', 'april', 'area', \"aren't\", 'arm', 'arms', 'artist', 'asap', 'asian', 'ask', 'asked', 'askin', 'asking', 'asleep', 'ass', 'asshole', 'ate', 'atl', 'atlanta', 'atleast', 'attention', 'attitude', 'aunt', 'avatar', 'ave', 'aw', 'awake', 'away', 'awesome', 'aww', 'awww', 'awwww', 'awwwww', 'ay', 'aye', 'azz', 'b', 'b4', 'babe', 'babes', 'babies', 'baby', 'bac', 'background', 'bacon', 'bad', 'bag', 'bak', 'ball', 'balls', 'band', 'bang', 'bank', 'bar', 'basketball', 'bathroom', 'bb', 'bbl', 'bbm', 'bc', 'bcuz', 'bday', 'beach', 'beat', 'beats', 'beautiful', 'bed', 'beef', 'beer', 'bein', 'believe', 'bell', 'best', 'bestfriend', 'bestie', 'bet', 'betta', 'better', 'beyonce', 'bf', 'bff', 'bgc', 'bieber', 'big', 'bigger', 'biggest', 'bird', 'birthday', 'bit', 'bitch', 'bitches', 'bite', 'bk', 'black', 'blackberry', 'blah', 'blame', 'blast', 'bless', 'blessed', 'block', 'blog', 'blood', 'blow', 'blue', 'blunt', 'body', 'boi', 'bomb', 'boo', 'book', 'boots', 'booty', 'bored', 'boring', 'born', 'boss', 'bottle', 'bottles', 'bought', 'bout', 'bouta', 'box', 'boy', 'boyfriend', 'boys', 'boyz', 'bra', 'brain', 'brand', 'brb', 'bread', 'break', 'breakfast', 'breath', 'bring', 'bro', 'broke', 'brooklyn', 'brotha', 'brother', 'brothers', 'brought', 'brown', 'bruh', 'bt', 'btw', 'buddy', 'building', 'bullshit', 'bum', 'bunch', 'burger', 'burn', 'bus', 'business', 'bust', 'busy', 'butt', 'butter', 'button', 'buy', 'bye', 'c', 'cake', 'cali', 'called', 'callin', 'calling', 'calls', 'calm', 'came', 'camera', 'campus', \"can't\", 'candy', 'car', 'card', 'care', 'cares', 'cars', 'case', 'cash', 'cat', 'catch', 'caught', 'cause', 'cd', 'cell', 'center', 'certain', 'chance', 'change', 'changed', 'channel', 'charge', 'cheap', 'check', 'cheese', 'chest', 'chicago', 'chick', 'chicken', 'chicks', 'child', 'children', 'chill', 'chillen', 'chillin', 'chilling', 'chinese', 'chocolate', 'choice', 'choose', 'chris', 'chu', 'church', 'city', 'class', 'classes', 'classic', 'clean', 'cleaning', 'clearly', 'clock', 'close', 'closed', 'clothes', 'club', 'cnt', 'coach', 'coffee', 'cold', 'college', 'color', 'come', 'comes', 'comin', 'coming', 'comment', 'commercial', 'common', 'como', 'company', 'competition', 'complain', 'computer', 'concert', 'confused', 'congrats', 'contacts', 'continue', 'control', 'convo', 'coo', 'cook', 'cookies', 'cooking', 'cool', 'cop', 'copy', 'corner', 'couch', \"couldn't\", 'count', 'country', 'couple', 'course', 'court', 'cousin', 'cover', 'crack', 'crap', 'crazy', 'cream', 'credit', 'crew', 'crib', 'crush', 'crying', 'cud', 'cum', 'cup', 'currently', 'cus', 'cuss', 'cut', 'cute', 'cutie', 'cuz', 'cuzzo', 'd', 'da', 'dad', 'daddy', 'daily', 'dam', 'dammit', 'damn', 'dance', 'dancing', 'dang', 'dark', 'das', 'dat', 'date', 'dats', 'daughter', 'day', 'days', 'dc', 'dead', 'deadass', 'deal', 'dear', 'death', 'decided', 'deck', 'deep', 'def', 'deff', 'definitely', 'delete', 'dem', 'den', 'dere', 'dese', 'deserve', 'dey', 'dha', 'di', 'dick', 'did', \"didn't\", 'didnt', 'die', 'died', 'diff', 'difference', 'different', 'dig', 'dinner', 'dirty', 'dis', 'dj', 'dm', 'dnt', 'doe', 'does', \"doesn't\", 'doesnt', 'dog', 'dogs', 'doin', 'doing', 'dollar', 'dollars', \"don't\", 'dont', 'door', 'dope', 'double', 'doubt', 'download', 'dr', 'drake', 'drama', 'drank', 'dream', 'dreams', 'dress', 'dressed', 'drink', 'drinkin', 'drinking', 'drinks', 'drive', 'driving', 'drop', 'dropped', 'drunk', 'dry', 'dude', 'dudes', 'duh', 'duke', 'dumb', 'dunno', 'dvd', 'dwn', 'dying', 'e', 'earlier', 'early', 'earth', 'east', 'easy', 'eat', 'eatin', 'eating', 'eff', 'effin', 'eggs', 'eh', 'el', 'em', 'email', 'en', 'end', 'energy', 'english', 'enjoy', 'enjoying', 'episode', 'es', 'especially', 'espn', 'eva', 'event', 'everybody', 'everyday', 'everytime', 'evil', 'ex', 'exactly', 'excited', 'excuse', 'expect', 'experience', 'extra', 'eye', 'eyes', 'f', 'fa', 'fab', 'face', 'facebook', 'fact', 'fail', 'fake', 'fall', 'fam', 'family', 'famu', 'fan', 'fans', 'far', 'fashion', 'fast', 'fat', 'father', 'fault', 'fav', 'favorite', 'fb', 'fck', 'feed', 'feel', 'feelin', 'feeling', 'feelings', 'feels', 'feet', 'fell', 'fellas', 'felt', 'female', 'females', 'fight', 'figure', 'figured', 'finally', 'fine', 'finest', 'finger', 'fingers', 'finish', 'finished', 'finna', 'fish', 'fit', 'fix', 'flight', 'flocka', 'floor', 'florida', 'flow', 'fly', 'fml', 'focus', 'folks', 'follow', 'followed', 'follower', 'followers', 'followin', 'following', 'fone', 'food', 'fool', 'foot', 'football', 'forever', 'forget', 'forgot', 'formspring', 'forreal', 'forward', 'freak', 'freakin', 'free', 'fresh', 'friday', 'friend', 'friends', 'frm', 'ft', 'fuck', 'fucked', 'fuckin', 'fucking', 'fuckn', 'fucks', 'fuk', 'fun', 'funniest', 'funny', 'future', 'g', 'ga', 'gaga', 'game', 'games', 'gangsta', 'garden', 'gas', 'gave', 'gay', 'gets', 'gettin', 'getting', 'gettn', 'ghetto', 'gift', 'gimme', 'girl', 'girlfriend', 'girls', 'gives', 'givin', 'giving', 'glad', 'glass', 'gm', 'god', 'goes', 'goin', 'going', 'gon', 'gone', 'gonna', 'good', 'goodmorning', 'goodnight', 'google', 'gosh', 'got', 'gotta', 'gotten', 'grab', 'grade', 'grandma', 'great', 'green', 'grind', 'group', 'grow', 'grown', 'gt', 'gucci', 'gud', 'guess', 'gun', 'gunna', 'gurl', 'guy', 'guys', 'gym', 'h', 'ha', 'haha', 'hahah', 'hahaha', 'hahahah', 'hahahaha', 'hahahahaha', 'hair', 'half', 'hall', 'ham', 'hand', 'handle', 'hands', 'hang', 'happen', 'happened', 'happening', 'happens', 'happy', 'hard', 'harlem', 'hat', 'hate', 'hated', 'hater', 'haters', 'hates', 'hatin', 'hating', 'hav', \"haven't\", 'havent', 'havin', 'having', \"he'll\", \"he's\", 'head', 'headache', 'headed', 'heading', 'heads', 'hear', 'heard', 'hearing', 'heart', 'heat', 'heavy', 'heck', 'hehe', 'hehehe', 'hell', 'hella', 'hello', 'help', 'hes', 'hey', 'heyy', 'heyyy', 'hi', 'high', 'hilarious', 'hill', 'hip', 'history', 'hit', 'hittin', 'hmm', 'hmmm', 'hmmmm', 'hoe', 'hoes', 'hold', 'holding', 'holla', 'home', 'homework', 'homie', 'homies', 'homo', 'honest', 'honestly', 'honey', 'hood', 'hook', 'hop', 'hope', 'hopefully', 'hoping', 'horny', 'horrible', 'hospital', 'hot', 'hotel', 'hour', 'hours', 'house', \"how's\", 'hrs', 'hug', 'huge', 'hugs', 'huh', 'hun', 'hungry', 'hurry', 'hurt', 'hurts', 'husband', 'hush', 'hw', 'hype', \"i'd\", \"i'll\", \"i'm\", \"i've\", 'ice', 'icon', 'id', 'idc', 'idea', 'ideas', 'idk', 'idol', 'ight', 'ihop', 'ii', 'iight', 'ill', 'ily', 'im', 'ima', 'imagine', 'imma', 'important', 'info', 'inside', 'instead', 'interesting', 'internet', 'interview', 'invite', 'invited', 'iphone', 'ipod', 'ish', 'island', \"isn't\", 'isnt', \"it'll\", \"it's\", 'itz', 'ive', 'iz', 'j', 'jack', 'jackson', 'jail', 'jam', 'james', 'jay', 'jay-z', 'jealous', 'jeans', 'jeezy', 'jerk', 'jersey', 'jesus', 'jk', 'job', 'joe', 'john', 'join', 'joint', 'joke', 'jokes', 'jones', 'jst', 'judge', 'juice', 'jump', 'jus', 'juss', 'just', 'justin', 'k', 'kanye', 'kate', 'ke5fvg', 'keeps', 'kendra', 'kept', 'key', 'keys', 'kick', 'kicked', 'kid', 'kidding', 'kids', 'kill', 'killed', 'killin', 'killing', 'kim', 'kind', 'kinda', 'king', 'kiss', 'kitchen', 'kk', 'knew', 'kno', 'knock', 'know', 'knowing', 'known', 'knows', 'knw', 'kobe', 'kool', 'l', 'la', 'lab', 'ladies', 'lady', 'lakers', 'lame', 'laptop', 'lata', 'late', 'lately', 'later', 'laugh', 'laughing', 'law', 'lay', 'laying', 'lazy', 'lead', 'learn', 'learned', 'leave', 'leavin', 'leaving', 'lebron', 'left', 'legs', 'lemme', 'let', \"let's\", 'lets', 'level', 'library', 'lie', 'lied', 'lies', 'life', 'light', 'lik', 'like', 'liked', 'likes', 'lil', 'line', 'link', 'lip', 'lips', 'liquor', 'list', 'listen', 'listenin', 'listening', 'literally', 'little', 'live', 'lives', 'living', 'lls', 'lmao', 'lmaoo', 'lmaooo', 'lmaoooo', 'lmaooooo', 'lmbo', 'lmfao', 'lmfaoo', 'lmfaooo', 'lmfaoooo', 'lmfaooooo', 'lml', 'lmmfao', 'lo', 'locked', 'lol', 'loll', 'lolol', 'lolrt', 'lols', 'lolss', 'lolz', 'lolâ', 'long', 'longer', 'look', 'looked', 'lookin', 'looking', 'looks', 'loose', 'lord', 'los', 'lose', 'loser', 'lost', 'lot', 'lots', 'loud', 'love', 'loved', 'lovely', 'loves', 'loving', 'low', 'luck', 'lucky', 'lunch', 'luv', 'lying', 'm', 'ma', \"ma'am\", 'mac', 'mad', 'madd', 'magic', 'mah', 'main', 'major', 'make', 'makes', 'makin', 'making', 'mall', 'mama', 'man', 'mane', 'mann', 'march', 'married', 'martin', 'massage', 'math', 'matter', 'mayb', 'maybe', 'mcdonalds', 'mean', 'means', 'meant', 'meat', 'mee', 'meee', 'meet', 'meeting', 'meh', 'men', 'mention', 'mess', 'message', 'met', 'mexican', 'mi', 'mia', 'miami', 'michael', 'middle', 'mii', 'mike', 'milk', 'million', 'min', 'minaj', 'mind', 'mines', 'mins', 'minute', 'minutes', 'miss', 'missed', 'missing', 'mite', 'mix', 'mixtape', 'mmm', 'mo', 'model', 'mom', 'moment', 'momma', 'mommy', 'moms', 'monday', 'money', 'month', 'months', 'mood', 'mornin', 'morning', 'mother', 'mouth', 'movement', 'moves', 'movie', 'movies', 'moving', 'mph', 'mr', 'ms', 'music', 'myspace', 'myy', 'n', 'na', 'nah', 'nahh', 'nail', 'nails', 'naked', 'names', 'nap', 'nasty', 'natalie', 'natural', 'naw', 'nd', 'ne', 'near', 'neck', 'need', 'needa', 'needed', 'needs', 'negative', 'nephew', 'nerves', 'neva', 'new', 'news', 'nice', 'nicki', 'nigga', 'niggas', 'niggaz', 'night', 'nite', 'noe', 'noo', 'nooo', 'noooo', 'nope', 'normal', 'north', 'nose', 'note', 'nothin', 'notice', 'noticed', 'nt', 'number', 'nuthin', 'nuttin', 'nxt', 'ny', 'nyc', 'o', 'o_o', 'od', 'odee', 'office', 'official', 'officially', 'oh', 'ohh', 'ohhh', 'ohhhh', 'ok', 'okay', 'ol', 'old', 'older', 'omg', 'omw', 'ones', 'online', 'oo', 'ooh', 'ooo', 'oooh', 'oooo', 'oops', 'oovoo', 'open', 'orange', 'order', 'otha', 'outfit', 'outside', 'outta', 'ova', 'p', 'pack', 'page', 'paid', 'pain', 'pair', 'pandora', 'pants', 'paper', 'parents', 'park', 'parties', 'party', 'pass', 'passed', 'past', 'patron', 'pause', 'pay', 'paying', 'pct', 'peace', 'peeps', 'penis', 'people', 'perfect', 'period', 'pero', 'person', 'personal', 'philly', 'phone', 'phones', 'pic', 'pick', 'pics', 'picture', 'pictures', 'piece', 'pin', 'pink', 'piss', 'pissed', 'pizza', 'place', 'places', 'plan', 'plans', 'plate', 'play', 'played', 'player', 'playin', 'playing', 'pls', 'plus', 'plz', 'pm', 'point', 'points', 'police', 'poor', 'pop', 'poppin', 'pops', 'por', 'porn', 'possible', 'post', 'posted', 'pow', 'power', 'ppl', 'practice', 'pray', 'precious', 'pregnant', 'pretty', 'prob', 'probably', 'problem', 'problems', 'profile', 'prolly', 'promise', 'proud', 'public', 'pull', 'pulled', 'punch', 'punk', 'purple', 'push', 'pussy', 'puttin', 'putting', 'q', 'que', 'queen', 'queens', 'question', 'questions', 'quick', 'quiet', 'quit', 'quite', 'r', 'radio', 'rain', 'ran', 'random', 'rap', 'rapper', 'read', 'reading', 'ready', 'real', 'reality', 'realize', 'realized', 'really', 'reason', 'record', 'red', 'refuse', 'regular', 'relationship', 'relax', 'remember', 'remix', 'repeat', 'reply', 'respect', 'rest', 'return', 'retweet', 'rice', 'rich', 'rick', 'ride', 'riding', 'right', 'rihanna', 'ring', 'rip', 'rite', 'road', 'rock', 'rockin', 'rocks', 'roll', 'rollin', 'rolling', 'room', 'ross', 'round', 'row', 'rt', 'rude', 'rule', 'run', 'runnin', 'running', 's', 'sad', 'safe', 'said', 'salad', 'sale', 'sat', 'saturday', 'save', 'saw', 'say', 'sayin', 'saying', 'says', 'scared', 'scary', 'school', 'score', 'se', 'season', 'seat', 'second', 'seconds', 'secret', 'sed', 'seeing', 'seen', 'self', 'sell', 'send', 'sending', 'senior', 'sense', 'sent', 'seriously', 'service', 'set', 'sex', 'sexy', 'sh', 'shake', 'shakin', 'shall', 'shame', 'share', 'shawty', \"she's\", 'sheesh', 'shes', 'shirt', 'shit', 'shits', 'sho', 'shoes', 'shoot', 'shop', 'shopping', 'short', 'shorts', 'shorty', 'shot', 'shots', 'shoulda', \"shouldn't\", 'shout', 'shoutout', 'shower', 'showing', 'shows', 'shud', 'shut', 'shxt', 'shyt', 'si', 'sick', 'sigh', 'sign', 'silly', 'simple', 'sing', 'singing', 'single', 'sir', 'sis', 'sister', 'sit', 'site', 'sittin', 'sitting', 'situation', 'size', 'skin', 'skinny', 'skool', 'skype', 'slap', 'sleep', 'sleeping', 'sleepy', 'slow', 'smack', 'small', 'smart', 'smdh', 'smell', 'smells', 'smfh', 'smh', 'smhh', 'smile', 'smoke', 'smokin', 'snow', 'sold', 'somebody', 'somethin', 'son', 'song', 'songs', 'songz', 'soo', 'soon', 'sooo', 'soooo', 'sooooo', 'sorry', 'soul', 'sound', 'sounds', 'south', 'space', 'spanish', 'speak', 'speaking', 'special', 'spell', 'spend', 'spot', 'spring', 'st', 'stage', 'stand', 'star', 'start', 'started', 'starting', 'starts', 'state', 'station', 'status', 'stay', 'staying', 'steal', 'step', 'stfu', 'stick', 'stole', 'stomach', 'stop', 'stopped', 'store', 'story', 'str', 'straight', 'stranger', 'street', 'streets', 'stress', 'strong', 'stuck', 'studio', 'study', 'studying', 'stuff', 'stupid', 'style', 'success', 'suck', 'sucks', 'sugar', 'sum', 'sumbody', 'summer', 'sumthin', 'sun', 'sunday', 'sup', 'super', 'support', 'suppose', 'supposed', 'sure', 'swag', 'swear', 'sweat', 'sweet', 'sweetie', 'switch', 't', 'ta', 'taco', 'taken', 'takes', 'takin', 'taking', 'talk', 'talked', 'talkin', 'talking', 'talkn', 'tape', 'taste', 'tat', 'tatted', 'tattoo', 'taylor', 'te', 'tea', 'teach', 'teacher', 'team', 'tear', 'tears', 'teeth', 'tell', 'tellin', 'telling', 'tells', 'terrible', 'test', 'texas', 'text', 'th', 'tha', 'thang', 'thank', 'thanks', 'thanx', 'thas', \"that's\", 'thats', 'thee', \"there's\", \"they're\", 'thing', 'things', 'think', 'thinkin', 'thinking', 'thinks', 'thirsty', 'thnx', 'tho', 'thou', 'thought', 'thoughts', 'threw', 'throat', 'throw', 'tht', 'thts', 'thug', 'thursday', 'thx', 'ticket', 'tickets', 'tight', 'til', 'till', 'time', 'timeline', 'times', 'tired', 'tix', 'tlk', 'today', 'toes', 'told', 'tomorrow', 'tongue', 'tonight', 'tonite', 'took', 'tooo', 'toooo', 'topic', 'totally', 'touch', 'tough', 'tour', 'town', 'track', 'traffic', 'train', 'trash', 'treat', 'trending', 'trey', 'tried', 'trip', 'trippin', 'trouble', 'tru', 'truck', 'true', 'truly', 'trust', 'truth', 'try', 'tryin', 'trying', 'tryna', 'trynna', 'tt', 'tu', 'tuesday', 'tummy', 'tune', 'turn', 'turned', 'turnt', 'tv', 'tweeps', 'tweet', 'tweeted', 'tweetin', 'tweeting', 'tweets', 'twice', 'twin', 'twit', 'twitcon', 'twitpic', 'twitter', 'txt', 'ty', 'type', 'u', 'ugh', 'ughh', 'ughhh', 'ugly', 'uh', 'um', 'umm', 'ummm', 'ummmm', 'uncle', 'understand', 'unfollow', 'unless', 'upp', 'upset', 'ur', 'urs', 'urself', 'use', 'used', 'usher', 'using', 'usual', 'usually', 'uu', 'v', 'va', 'vacation', 'vegas', 'version', 'video', 'videos', 'visit', 'voice', 'vote', 'vs', 'w', 'wack', 'wah', 'wait', 'waitin', 'waiting', 'waka', 'wake', 'waking', 'walk', 'walked', 'walkin', 'walking', 'wall', 'wana', 'wanna', 'want', 'wanted', 'wants', 'warm', 'wash', \"wasn't\", 'wasnt', 'wass', 'wassup', 'waste', 'wasted', 'wat', 'watch', 'watched', 'watchin', 'watching', 'watchu', 'water', 'wats', 'watz', 'wave', 'way', 'wayne', 'ways', \"we'll\", \"we're\", 'weak', 'wear', 'wearing', 'weather', 'weave', 'wedding', 'wednesday', 'weed', 'week', 'weekend', 'weeks', 'weezy', 'weight', 'weird', 'welcome', 'wen', 'went', 'werd', 'west', 'wet', \"what's\", 'whats', \"where's\", 'whip', 'white', \"who's\", 'whoa', 'whore', 'wht', 'wid', 'wide', 'wife', 'wifey', 'wild', 'win', 'window', 'wine', 'wings', 'wink', 'winter', 'wish', 'wit', 'woke', 'woman', 'women', 'won', \"won't\", 'wonder', 'wonderful', 'wondering', 'wonderland', 'wont', 'word', 'words', 'wore', 'work', 'worked', 'workin', 'working', 'workout', 'works', 'world', 'worry', 'worse', 'worst', 'worth', 'woulda', \"wouldn't\", 'wouldnt', 'wow', 'wrd', 'write', 'writing', 'wrk', 'wrong', 'wrote', 'wtf', 'wth', 'wud', 'wussup', 'wut', 'wyd', 'x', 'xd', 'xoxo', 'y', \"y'all\", 'ya', \"ya'll\", 'yah', 'yal', 'yall', 'yay', 'yea', 'yeaa', 'yeah', 'yeahh', 'year', 'years', 'yep', 'yes', 'yess', 'yessir', 'yesss', 'yessss', 'yesterday', 'yo', 'yoo', 'yooo', 'yoooo', 'york', \"you'll\", \"you're\", \"you've\", 'young', 'youtube', 'youu', 'yr', 'yrs', 'yu', 'yuh', 'yummy', 'yup', 'yur', 'yuu', 'z', '{', '|', '}', '~', '\\x80', '\\x84', '\\x90', '\\x96', '\\x97', '\\x98', '\\x99', '\\x9c', '\\x9d', '¡', '¢', '¤', '¥', '¦', '©', '«', '°', '¹', 'º', '»', 'â', 'î']\n",
      "[0, 1, 2, 3, 4, 5, 6, 7, 8, 9, 10, 11, 12, 13, 14, 15, 16, 17, 18, 19, 20, 21, 22, 23, 24, 25, 26, 27, 28, 29, 30, 31, 32, 33, 34, 35, 36, 37, 38, 39, 40, 41, 42, 43, 44, 45, 46, 47, 48, 49, 50, 51, 52, 53, 54, 55, 56, 57, 58, 59, 60, 61, 62, 63, 64, 65, 66, 67, 68, 69, 70, 71, 72, 73, 74, 75, 76, 77, 78, 79, 80, 81, 82, 83, 84, 85, 86, 87, 88, 89, 90, 91, 92, 93, 94, 95, 96, 97, 98, 99, 100, 101, 102, 103, 104, 105, 106, 107, 108, 109, 110, 111, 112, 113, 114, 115, 116, 117, 118, 119, 120, 121, 122, 123, 124, 125, 126, 127, 128, 129, 130, 131, 132, 133, 134, 135, 136, 137, 138, 139, 140, 141, 142, 143, 144, 145, 146, 147, 148, 149, 150, 151, 152, 153, 154, 155, 156, 157, 158, 159, 160, 161, 162, 163, 164, 165, 166, 167, 168, 169, 170, 171, 172, 173, 174, 175, 176, 177, 178, 179, 180, 181, 182, 183, 184, 185, 186, 187, 188, 189, 190, 191, 192, 193, 194, 195, 196, 197, 198, 199, 200, 201, 202, 203, 204, 205, 206, 207, 208, 209, 210, 211, 212, 213, 214, 215, 216, 217, 218, 219, 220, 221, 222, 223, 224, 225, 226, 227, 228, 229, 230, 231, 232, 233, 234, 235, 236, 237, 238, 239, 240, 241, 242, 243, 244, 245, 246, 247, 248, 249, 250, 251, 252, 253, 254, 255, 256, 257, 258, 259, 260, 261, 262, 263, 264, 265, 266, 267, 268, 269, 270, 271, 272, 273, 274, 275, 276, 277, 278, 279, 280, 281, 282, 283, 284, 285, 286, 287, 288, 289, 290, 291, 292, 293, 294, 295, 296, 297, 298, 299, 300, 301, 302, 303, 304, 305, 306, 307, 308, 309, 310, 311, 312, 313, 314, 315, 316, 317, 318, 319, 320, 321, 322, 323, 324, 325, 326, 327, 328, 329, 330, 331, 332, 333, 334, 335, 336, 337, 338, 339, 340, 341, 342, 343, 344, 345, 346, 347, 348, 349, 350, 351, 352, 353, 354, 355, 356, 357, 358, 359, 360, 361, 362, 363, 364, 365, 366, 367, 368, 369, 370, 371, 372, 373, 374, 375, 376, 377, 378, 379, 380, 381, 382, 383, 384, 385, 386, 387, 388, 389, 390, 391, 392, 393, 394, 395, 396, 397, 398, 399, 400, 401, 402, 403, 404, 405, 406, 407, 408, 409, 410, 411, 412, 413, 414, 415, 416, 417, 418, 419, 420, 421, 422, 423, 424, 425, 426, 427, 428, 429, 430, 431, 432, 433, 434, 435, 436, 437, 438, 439, 440, 441, 442, 443, 444, 445, 446, 447, 448, 449, 450, 451, 452, 453, 454, 455, 456, 457, 458, 459, 460, 461, 462, 463, 464, 465, 466, 467, 468, 469, 470, 471, 472, 473, 474, 475, 476, 477, 478, 479, 480, 481, 482, 483, 484, 485, 486, 487, 488, 489, 490, 491, 492, 493, 494, 495, 496, 497, 498, 499, 500, 501, 502, 503, 504, 505, 506, 507, 508, 509, 510, 511, 512, 513, 514, 515, 516, 517, 518, 519, 520, 521, 522, 523, 524, 525, 526, 527, 528, 529, 530, 531, 532, 533, 534, 535, 536, 537, 538, 539, 540, 541, 542, 543, 544, 545, 546, 547, 548, 549, 550, 551, 552, 553, 554, 555, 556, 557, 558, 559, 560, 561, 562, 563, 564, 565, 566, 567, 568, 569, 570, 571, 572, 573, 574, 575, 576, 577, 578, 579, 580, 581, 582, 583, 584, 585, 586, 587, 588, 589, 590, 591, 592, 593, 594, 595, 596, 597, 598, 599, 600, 601, 602, 603, 604, 605, 606, 607, 608, 609, 610, 611, 612, 613, 614, 615, 616, 617, 618, 619, 620, 621, 622, 623, 624, 625, 626, 627, 628, 629, 630, 631, 632, 633, 634, 635, 636, 637, 638, 639, 640, 641, 642, 643, 644, 645, 646, 647, 648, 649, 650, 651, 652, 653, 654, 655, 656, 657, 658, 659, 660, 661, 662, 663, 664, 665, 666, 667, 668, 669, 670, 671, 672, 673, 674, 675, 676, 677, 678, 679, 680, 681, 682, 683, 684, 685, 686, 687, 688, 689, 690, 691, 692, 693, 694, 695, 696, 697, 698, 699, 700, 701, 702, 703, 704, 705, 706, 707, 708, 709, 710, 711, 712, 713, 714, 715, 716, 717, 718, 719, 720, 721, 722, 723, 724, 725, 726, 727, 728, 729, 730, 731, 732, 733, 734, 735, 736, 737, 738, 739, 740, 741, 742, 743, 744, 745, 746, 747, 748, 749, 750, 751, 752, 753, 754, 755, 756, 757, 758, 759, 760, 761, 762, 763, 764, 765, 766, 767, 768, 769, 770, 771, 772, 773, 774, 775, 776, 777, 778, 779, 780, 781, 782, 783, 784, 785, 786, 787, 788, 789, 790, 791, 792, 793, 794, 795, 796, 797, 798, 799, 800, 801, 802, 803, 804, 805, 806, 807, 808, 809, 810, 811, 812, 813, 814, 815, 816, 817, 818, 819, 820, 821, 822, 823, 824, 825, 826, 827, 828, 829, 830, 831, 832, 833, 834, 835, 836, 837, 838, 839, 840, 841, 842, 843, 844, 845, 846, 847, 848, 849, 850, 851, 852, 853, 854, 855, 856, 857, 858, 859, 860, 861, 862, 863, 864, 865, 866, 867, 868, 869, 870, 871, 872, 873, 874, 875, 876, 877, 878, 879, 880, 881, 882, 883, 884, 885, 886, 887, 888, 889, 890, 891, 892, 893, 894, 895, 896, 897, 898, 899, 900, 901, 902, 903, 904, 905, 906, 907, 908, 909, 910, 911, 912, 913, 914, 915, 916, 917, 918, 919, 920, 921, 922, 923, 924, 925, 926, 927, 928, 929, 930, 931, 932, 933, 934, 935, 936, 937, 938, 939, 940, 941, 942, 943, 944, 945, 946, 947, 948, 949, 950, 951, 952, 953, 954, 955, 956, 957, 958, 959, 960, 961, 962, 963, 964, 965, 966, 967, 968, 969, 970, 971, 972, 973, 974, 975, 976, 977, 978, 979, 980, 981, 982, 983, 984, 985, 986, 987, 988, 989, 990, 991, 992, 993, 994, 995, 996, 997, 998, 999, 1000, 1001, 1002, 1003, 1004, 1005, 1006, 1007, 1008, 1009, 1010, 1011, 1012, 1013, 1014, 1015, 1016, 1017, 1018, 1019, 1020, 1021, 1022, 1023, 1024, 1025, 1026, 1027, 1028, 1029, 1030, 1031, 1032, 1033, 1034, 1035, 1036, 1037, 1038, 1039, 1040, 1041, 1042, 1043, 1044, 1045, 1046, 1047, 1048, 1049, 1050, 1051, 1052, 1053, 1054, 1055, 1056, 1057, 1058, 1059, 1060, 1061, 1062, 1063, 1064, 1065, 1066, 1067, 1068, 1069, 1070, 1071, 1072, 1073, 1074, 1075, 1076, 1077, 1078, 1079, 1080, 1081, 1082, 1083, 1084, 1085, 1086, 1087, 1088, 1089, 1090, 1091, 1092, 1093, 1094, 1095, 1096, 1097, 1098, 1099, 1100, 1101, 1102, 1103, 1104, 1105, 1106, 1107, 1108, 1109, 1110, 1111, 1112, 1113, 1114, 1115, 1116, 1117, 1118, 1119, 1120, 1121, 1122, 1123, 1124, 1125, 1126, 1127, 1128, 1129, 1130, 1131, 1132, 1133, 1134, 1135, 1136, 1137, 1138, 1139, 1140, 1141, 1142, 1143, 1144, 1145, 1146, 1147, 1148, 1149, 1150, 1151, 1152, 1153, 1154, 1155, 1156, 1157, 1158, 1159, 1160, 1161, 1162, 1163, 1164, 1165, 1166, 1167, 1168, 1169, 1170, 1171, 1172, 1173, 1174, 1175, 1176, 1177, 1178, 1179, 1180, 1181, 1182, 1183, 1184, 1185, 1186, 1187, 1188, 1189, 1190, 1191, 1192, 1193, 1194, 1195, 1196, 1197, 1198, 1199, 1200, 1201, 1202, 1203, 1204, 1205, 1206, 1207, 1208, 1209, 1210, 1211, 1212, 1213, 1214, 1215, 1216, 1217, 1218, 1219, 1220, 1221, 1222, 1223, 1224, 1225, 1226, 1227, 1228, 1229, 1230, 1231, 1232, 1233, 1234, 1235, 1236, 1237, 1238, 1239, 1240, 1241, 1242, 1243, 1244, 1245, 1246, 1247, 1248, 1249, 1250, 1251, 1252, 1253, 1254, 1255, 1256, 1257, 1258, 1259, 1260, 1261, 1262, 1263, 1264, 1265, 1266, 1267, 1268, 1269, 1270, 1271, 1272, 1273, 1274, 1275, 1276, 1277, 1278, 1279, 1280, 1281, 1282, 1283, 1284, 1285, 1286, 1287, 1288, 1289, 1290, 1291, 1292, 1293, 1294, 1295, 1296, 1297, 1298, 1299, 1300, 1301, 1302, 1303, 1304, 1305, 1306, 1307, 1308, 1309, 1310, 1311, 1312, 1313, 1314, 1315, 1316, 1317, 1318, 1319, 1320, 1321, 1322, 1323, 1324, 1325, 1326, 1327, 1328, 1329, 1330, 1331, 1332, 1333, 1334, 1335, 1336, 1337, 1338, 1339, 1340, 1341, 1342, 1343, 1344, 1345, 1346, 1347, 1348, 1349, 1350, 1351, 1352, 1353, 1354, 1355, 1356, 1357, 1358, 1359, 1360, 1361, 1362, 1363, 1364, 1365, 1366, 1367, 1368, 1369, 1370, 1371, 1372, 1373, 1374, 1375, 1376, 1377, 1378, 1379, 1380, 1381, 1382, 1383, 1384, 1385, 1386, 1387, 1388, 1389, 1390, 1391, 1392, 1393, 1394, 1395, 1396, 1397, 1398, 1399, 1400, 1401, 1402, 1403, 1404, 1405, 1406, 1407, 1408, 1409, 1410, 1411, 1412, 1413, 1414, 1415, 1416, 1417, 1418, 1419, 1420, 1421, 1422, 1423, 1424, 1425, 1426, 1427, 1428, 1429, 1430, 1431, 1432, 1433, 1434, 1435, 1436, 1437, 1438, 1439, 1440, 1441, 1442, 1443, 1444, 1445, 1446, 1447, 1448, 1449, 1450, 1451, 1452, 1453, 1454, 1455, 1456, 1457, 1458, 1459, 1460, 1461, 1462, 1463, 1464, 1465, 1466, 1467, 1468, 1469, 1470, 1471, 1472, 1473, 1474, 1475, 1476, 1477, 1478, 1479, 1480, 1481, 1482, 1483, 1484, 1485, 1486, 1487, 1488, 1489, 1490, 1491, 1492, 1493, 1494, 1495, 1496, 1497, 1498, 1499, 1500, 1501, 1502, 1503, 1504, 1505, 1506, 1507, 1508, 1509, 1510, 1511, 1512, 1513, 1514, 1515, 1516, 1517, 1518, 1519, 1520, 1521, 1522, 1523, 1524, 1525, 1526, 1527, 1528, 1529, 1530, 1531, 1532, 1533, 1534, 1535, 1536, 1537, 1538, 1539, 1540, 1541, 1542, 1543, 1544, 1545, 1546, 1547, 1548, 1549, 1550, 1551, 1552, 1553, 1554, 1555, 1556, 1557, 1558, 1559, 1560, 1561, 1562, 1563, 1564, 1565, 1566, 1567, 1568, 1569, 1570, 1571, 1572, 1573, 1574, 1575, 1576, 1577, 1578, 1579, 1580, 1581, 1582, 1583, 1584, 1585, 1586, 1587, 1588, 1589, 1590, 1591, 1592, 1593, 1594, 1595, 1596, 1597, 1598, 1599, 1600, 1601, 1602, 1603, 1604, 1605, 1606, 1607, 1608, 1609, 1610, 1611, 1612, 1613, 1614, 1615, 1616, 1617, 1618, 1619, 1620, 1621, 1622, 1623, 1624, 1625, 1626, 1627, 1628, 1629, 1630, 1631, 1632, 1633, 1634, 1635, 1636, 1637, 1638, 1639, 1640, 1641, 1642, 1643, 1644, 1645, 1646, 1647, 1648, 1649, 1650, 1651, 1652, 1653, 1654, 1655, 1656, 1657, 1658, 1659, 1660, 1661, 1662, 1663, 1664, 1665, 1666, 1667, 1668, 1669, 1670, 1671, 1672, 1673, 1674, 1675, 1676, 1677, 1678, 1679, 1680, 1681, 1682, 1683, 1684, 1685, 1686, 1687, 1688, 1689, 1690, 1691, 1692, 1693, 1694, 1695, 1696, 1697, 1698, 1699, 1700, 1701, 1702, 1703, 1704, 1705, 1706, 1707, 1708, 1709, 1710, 1711, 1712, 1713, 1714, 1715, 1716, 1717, 1718, 1719, 1720, 1721, 1722, 1723, 1724, 1725, 1726, 1727, 1728, 1729, 1730, 1731, 1732, 1733, 1734, 1735, 1736, 1737, 1738, 1739, 1740, 1741, 1742, 1743, 1744, 1745, 1746, 1747, 1748, 1749, 1750, 1751, 1752, 1753, 1754, 1755, 1756, 1757, 1758, 1759, 1760, 1761, 1762, 1763, 1764, 1765, 1766, 1767, 1768, 1769, 1770, 1771, 1772, 1773, 1774, 1775, 1776, 1777, 1778, 1779, 1780, 1781, 1782, 1783, 1784, 1785, 1786, 1787, 1788, 1789, 1790, 1791, 1792, 1793, 1794, 1795, 1796, 1797, 1798, 1799, 1800, 1801, 1802, 1803, 1804, 1805, 1806, 1807, 1808, 1809, 1810, 1811, 1812, 1813, 1814, 1815, 1816, 1817, 1818, 1819, 1820, 1821, 1822, 1823, 1824, 1825, 1826, 1827, 1828, 1829, 1830, 1831, 1832, 1833, 1834, 1835, 1836, 1837, 1838, 1839, 1840, 1841, 1842, 1843, 1844, 1845, 1846, 1847, 1848, 1849, 1850, 1851, 1852, 1853, 1854, 1855, 1856, 1857, 1858, 1859, 1860, 1861, 1862, 1863, 1864, 1865, 1866, 1867, 1868, 1869, 1870, 1871, 1872, 1873, 1874, 1875, 1876, 1877, 1878, 1879, 1880, 1881, 1882, 1883, 1884, 1885, 1886, 1887, 1888, 1889, 1890, 1891, 1892, 1893, 1894, 1895, 1896, 1897, 1898, 1899, 1900, 1901, 1902, 1903, 1904, 1905, 1906, 1907, 1908, 1909, 1910, 1911, 1912, 1913, 1914, 1915, 1916, 1917, 1918, 1919, 1920, 1921, 1922, 1923, 1924, 1925, 1926, 1927, 1928, 1929, 1930, 1931, 1932, 1933, 1934, 1935, 1936, 1937, 1938, 1939, 1940, 1941, 1942, 1943, 1944, 1945, 1946, 1947, 1948, 1949, 1950, 1951, 1952, 1953, 1954, 1955, 1956, 1957, 1958, 1959, 1960, 1961, 1962, 1963, 1964, 1965, 1966, 1967, 1968, 1969, 1970, 1971, 1972, 1973, 1974, 1975, 1976, 1977, 1978, 1979, 1980, 1981, 1982, 1983, 1984, 1985, 1986, 1987, 1988, 1989, 1990, 1991, 1992, 1993, 1994, 1995, 1996, 1997, 1998, 1999, 2000, 2001, 2002, 2003, 2004, 2005, 2006, 2007, 2008, 2009, 2010, 2011, 2012, 2013, 2014, 2015, 2016, 2017, 2018, 2019, 2020, 2021, 2022, 2023, 2024, 2025, 2026, 2027, 2028, 2029, 2030, 2031, 2032, 2033, 2034, 2035, 2036, 2037]\n"
     ]
    }
   ],
   "source": [
    "features = []\n",
    "word_id = []\n",
    "\n",
    "vocab = open(\"vocab.txt\", mode = 'r')\n",
    "\n",
    "for line in vocab.readlines()[:]:\n",
    "    line = line.strip().split(\"\\t\")\n",
    "    features.append(line[0])\n",
    "    word_id.append(line[1])\n",
    "\n",
    "for i in range(len(word_id)):\n",
    "    word_id[i] = int(word_id[i])\n",
    "\n",
    "    \n",
    "print(features)\n",
    "print(word_id)\n",
    "assert(len(features) == len(word_id))"
   ]
  },
  {
   "cell_type": "markdown",
   "metadata": {},
   "source": [
    "# Data Pre-processing - glove300"
   ]
  },
  {
   "cell_type": "code",
   "execution_count": 3,
   "metadata": {},
   "outputs": [],
   "source": [
    "y_train_glove300 = []\n",
    "x_train_glove300 = []\n",
    "\n",
    "y_dev_glove300 = []\n",
    "x_dev_glove300 = []\n",
    "\n",
    "y_test_glove300 = []\n",
    "x_test_glove300 = []"
   ]
  },
  {
   "cell_type": "code",
   "execution_count": 4,
   "metadata": {},
   "outputs": [],
   "source": [
    "def load_data(filename, labels):\n",
    "    data = []\n",
    "    \n",
    "    glove300_data = open (filename, mode = 'r')\n",
    "    for line in glove300_data.readlines()[1:]:\n",
    "        line = line.strip().split(\",\")\n",
    "        label = line[0]\n",
    "        labels.append(label)\n",
    "        numbers = line[2].split()\n",
    "        data.append(numbers)\n",
    "        \n",
    "    return data"
   ]
  },
  {
   "cell_type": "code",
   "execution_count": 5,
   "metadata": {},
   "outputs": [],
   "source": [
    "def format_numbers(dataset):\n",
    "    for numbers in dataset:\n",
    "        for i in range(len(numbers)):\n",
    "            numbers[i] = float(numbers[i])\n",
    "        \n",
    "    return dataset"
   ]
  },
  {
   "cell_type": "code",
   "execution_count": 6,
   "metadata": {},
   "outputs": [],
   "source": [
    "# train_glove300\n",
    "train_glove300 = load_data(\"train_glove300.csv\", y_train_glove300)\n",
    "formatted_numbers = format_numbers(train_glove300)\n",
    "x_train_glove300 = formatted_numbers\n",
    "\n",
    "# dev_glove300\n",
    "dev_glove300 = load_data(\"dev_glove300.csv\", y_dev_glove300)\n",
    "formatted_numbers = format_numbers(dev_glove300)\n",
    "x_dev_glove300 = formatted_numbers\n",
    "\n",
    "# test_glove300\n",
    "test_glove300 = load_data(\"test_glove300.csv\", y_test_glove300)\n",
    "formatted_numbers = format_numbers(test_glove300)\n",
    "x_test_glove300 = formatted_numbers"
   ]
  },
  {
   "cell_type": "code",
   "execution_count": 7,
   "metadata": {},
   "outputs": [
    {
     "name": "stdout",
     "output_type": "stream",
     "text": [
      "133795\n",
      "11475\n",
      "12018\n"
     ]
    }
   ],
   "source": [
    "print(len(x_train_glove300))\n",
    "print(len(x_dev_glove300))\n",
    "print(len(x_test_glove300))"
   ]
  },
  {
   "cell_type": "code",
   "execution_count": 8,
   "metadata": {},
   "outputs": [
    {
     "name": "stdout",
     "output_type": "stream",
     "text": [
      "133795\n",
      "11475\n",
      "12018\n"
     ]
    }
   ],
   "source": [
    "print(len(y_train_glove300))\n",
    "print(len(y_dev_glove300))\n",
    "print(len(y_test_glove300))"
   ]
  },
  {
   "cell_type": "code",
   "execution_count": 9,
   "metadata": {},
   "outputs": [],
   "source": [
    "assert len(x_train_glove300)==len(y_train_glove300)\n",
    "assert len(x_dev_glove300)==len(y_dev_glove300)\n",
    "assert len(x_test_glove300)==len(y_test_glove300)"
   ]
  },
  {
   "cell_type": "markdown",
   "metadata": {},
   "source": [
    "# Training Model - Baseline (One-R)"
   ]
  },
  {
   "cell_type": "markdown",
   "metadata": {},
   "source": [
    "Feature Selection - Chi2"
   ]
  },
  {
   "cell_type": "code",
   "execution_count": 10,
   "metadata": {},
   "outputs": [
    {
     "ename": "ValueError",
     "evalue": "Input X must be non-negative.",
     "output_type": "error",
     "traceback": [
      "\u001b[0;31m---------------------------------------------------------------------------\u001b[0m",
      "\u001b[0;31mValueError\u001b[0m                                Traceback (most recent call last)",
      "\u001b[0;32m<ipython-input-10-e9ae8eeb7e68>\u001b[0m in \u001b[0;36m<module>\u001b[0;34m\u001b[0m\n\u001b[1;32m      4\u001b[0m \u001b[0mx2\u001b[0m \u001b[0;34m=\u001b[0m \u001b[0mSelectKBest\u001b[0m\u001b[0;34m(\u001b[0m\u001b[0mchi2\u001b[0m\u001b[0;34m,\u001b[0m \u001b[0mk\u001b[0m\u001b[0;34m=\u001b[0m\u001b[0;36m1\u001b[0m\u001b[0;34m)\u001b[0m\u001b[0;34m\u001b[0m\u001b[0;34m\u001b[0m\u001b[0m\n\u001b[1;32m      5\u001b[0m \u001b[0;34m\u001b[0m\u001b[0m\n\u001b[0;32m----> 6\u001b[0;31m \u001b[0mx2\u001b[0m\u001b[0;34m.\u001b[0m\u001b[0mfit_transform\u001b[0m\u001b[0;34m(\u001b[0m\u001b[0mx_train_glove300\u001b[0m\u001b[0;34m,\u001b[0m \u001b[0my_train_glove300\u001b[0m\u001b[0;34m)\u001b[0m\u001b[0;34m\u001b[0m\u001b[0;34m\u001b[0m\u001b[0m\n\u001b[0m\u001b[1;32m      7\u001b[0m \u001b[0mbest_feature_x2\u001b[0m \u001b[0;34m=\u001b[0m \u001b[0mx2\u001b[0m\u001b[0;34m.\u001b[0m\u001b[0mget_support\u001b[0m\u001b[0;34m(\u001b[0m\u001b[0mindices\u001b[0m\u001b[0;34m=\u001b[0m\u001b[0;32mTrue\u001b[0m\u001b[0;34m)\u001b[0m\u001b[0;34m\u001b[0m\u001b[0;34m\u001b[0m\u001b[0m\n",
      "\u001b[0;32m~/opt/anaconda3/lib/python3.8/site-packages/sklearn/base.py\u001b[0m in \u001b[0;36mfit_transform\u001b[0;34m(self, X, y, **fit_params)\u001b[0m\n\u001b[1;32m    691\u001b[0m         \u001b[0;32melse\u001b[0m\u001b[0;34m:\u001b[0m\u001b[0;34m\u001b[0m\u001b[0;34m\u001b[0m\u001b[0m\n\u001b[1;32m    692\u001b[0m             \u001b[0;31m# fit method of arity 2 (supervised transformation)\u001b[0m\u001b[0;34m\u001b[0m\u001b[0;34m\u001b[0m\u001b[0;34m\u001b[0m\u001b[0m\n\u001b[0;32m--> 693\u001b[0;31m             \u001b[0;32mreturn\u001b[0m \u001b[0mself\u001b[0m\u001b[0;34m.\u001b[0m\u001b[0mfit\u001b[0m\u001b[0;34m(\u001b[0m\u001b[0mX\u001b[0m\u001b[0;34m,\u001b[0m \u001b[0my\u001b[0m\u001b[0;34m,\u001b[0m \u001b[0;34m**\u001b[0m\u001b[0mfit_params\u001b[0m\u001b[0;34m)\u001b[0m\u001b[0;34m.\u001b[0m\u001b[0mtransform\u001b[0m\u001b[0;34m(\u001b[0m\u001b[0mX\u001b[0m\u001b[0;34m)\u001b[0m\u001b[0;34m\u001b[0m\u001b[0;34m\u001b[0m\u001b[0m\n\u001b[0m\u001b[1;32m    694\u001b[0m \u001b[0;34m\u001b[0m\u001b[0m\n\u001b[1;32m    695\u001b[0m \u001b[0;34m\u001b[0m\u001b[0m\n",
      "\u001b[0;32m~/opt/anaconda3/lib/python3.8/site-packages/sklearn/feature_selection/_univariate_selection.py\u001b[0m in \u001b[0;36mfit\u001b[0;34m(self, X, y)\u001b[0m\n\u001b[1;32m    351\u001b[0m \u001b[0;34m\u001b[0m\u001b[0m\n\u001b[1;32m    352\u001b[0m         \u001b[0mself\u001b[0m\u001b[0;34m.\u001b[0m\u001b[0m_check_params\u001b[0m\u001b[0;34m(\u001b[0m\u001b[0mX\u001b[0m\u001b[0;34m,\u001b[0m \u001b[0my\u001b[0m\u001b[0;34m)\u001b[0m\u001b[0;34m\u001b[0m\u001b[0;34m\u001b[0m\u001b[0m\n\u001b[0;32m--> 353\u001b[0;31m         \u001b[0mscore_func_ret\u001b[0m \u001b[0;34m=\u001b[0m \u001b[0mself\u001b[0m\u001b[0;34m.\u001b[0m\u001b[0mscore_func\u001b[0m\u001b[0;34m(\u001b[0m\u001b[0mX\u001b[0m\u001b[0;34m,\u001b[0m \u001b[0my\u001b[0m\u001b[0;34m)\u001b[0m\u001b[0;34m\u001b[0m\u001b[0;34m\u001b[0m\u001b[0m\n\u001b[0m\u001b[1;32m    354\u001b[0m         \u001b[0;32mif\u001b[0m \u001b[0misinstance\u001b[0m\u001b[0;34m(\u001b[0m\u001b[0mscore_func_ret\u001b[0m\u001b[0;34m,\u001b[0m \u001b[0;34m(\u001b[0m\u001b[0mlist\u001b[0m\u001b[0;34m,\u001b[0m \u001b[0mtuple\u001b[0m\u001b[0;34m)\u001b[0m\u001b[0;34m)\u001b[0m\u001b[0;34m:\u001b[0m\u001b[0;34m\u001b[0m\u001b[0;34m\u001b[0m\u001b[0m\n\u001b[1;32m    355\u001b[0m             \u001b[0mself\u001b[0m\u001b[0;34m.\u001b[0m\u001b[0mscores_\u001b[0m\u001b[0;34m,\u001b[0m \u001b[0mself\u001b[0m\u001b[0;34m.\u001b[0m\u001b[0mpvalues_\u001b[0m \u001b[0;34m=\u001b[0m \u001b[0mscore_func_ret\u001b[0m\u001b[0;34m\u001b[0m\u001b[0;34m\u001b[0m\u001b[0m\n",
      "\u001b[0;32m~/opt/anaconda3/lib/python3.8/site-packages/sklearn/feature_selection/_univariate_selection.py\u001b[0m in \u001b[0;36mchi2\u001b[0;34m(X, y)\u001b[0m\n\u001b[1;32m    215\u001b[0m     \u001b[0mX\u001b[0m \u001b[0;34m=\u001b[0m \u001b[0mcheck_array\u001b[0m\u001b[0;34m(\u001b[0m\u001b[0mX\u001b[0m\u001b[0;34m,\u001b[0m \u001b[0maccept_sparse\u001b[0m\u001b[0;34m=\u001b[0m\u001b[0;34m'csr'\u001b[0m\u001b[0;34m)\u001b[0m\u001b[0;34m\u001b[0m\u001b[0;34m\u001b[0m\u001b[0m\n\u001b[1;32m    216\u001b[0m     \u001b[0;32mif\u001b[0m \u001b[0mnp\u001b[0m\u001b[0;34m.\u001b[0m\u001b[0many\u001b[0m\u001b[0;34m(\u001b[0m\u001b[0;34m(\u001b[0m\u001b[0mX\u001b[0m\u001b[0;34m.\u001b[0m\u001b[0mdata\u001b[0m \u001b[0;32mif\u001b[0m \u001b[0missparse\u001b[0m\u001b[0;34m(\u001b[0m\u001b[0mX\u001b[0m\u001b[0;34m)\u001b[0m \u001b[0;32melse\u001b[0m \u001b[0mX\u001b[0m\u001b[0;34m)\u001b[0m \u001b[0;34m<\u001b[0m \u001b[0;36m0\u001b[0m\u001b[0;34m)\u001b[0m\u001b[0;34m:\u001b[0m\u001b[0;34m\u001b[0m\u001b[0;34m\u001b[0m\u001b[0m\n\u001b[0;32m--> 217\u001b[0;31m         \u001b[0;32mraise\u001b[0m \u001b[0mValueError\u001b[0m\u001b[0;34m(\u001b[0m\u001b[0;34m\"Input X must be non-negative.\"\u001b[0m\u001b[0;34m)\u001b[0m\u001b[0;34m\u001b[0m\u001b[0;34m\u001b[0m\u001b[0m\n\u001b[0m\u001b[1;32m    218\u001b[0m \u001b[0;34m\u001b[0m\u001b[0m\n\u001b[1;32m    219\u001b[0m     \u001b[0mY\u001b[0m \u001b[0;34m=\u001b[0m \u001b[0mLabelBinarizer\u001b[0m\u001b[0;34m(\u001b[0m\u001b[0;34m)\u001b[0m\u001b[0;34m.\u001b[0m\u001b[0mfit_transform\u001b[0m\u001b[0;34m(\u001b[0m\u001b[0my\u001b[0m\u001b[0;34m)\u001b[0m\u001b[0;34m\u001b[0m\u001b[0;34m\u001b[0m\u001b[0m\n",
      "\u001b[0;31mValueError\u001b[0m: Input X must be non-negative."
     ]
    }
   ],
   "source": [
    "import numpy as np\n",
    "from sklearn.feature_selection import SelectKBest, chi2\n",
    "\n",
    "x2 = SelectKBest(chi2, k=1)\n",
    "\n",
    "x2.fit_transform(x_train_glove300, y_train_glove300)\n",
    "best_feature_x2 = x2.get_support(indices=True)"
   ]
  },
  {
   "cell_type": "markdown",
   "metadata": {},
   "source": [
    "Feature Selection - MI"
   ]
  },
  {
   "cell_type": "code",
   "execution_count": 14,
   "metadata": {},
   "outputs": [],
   "source": [
    "from sklearn.feature_selection import mutual_info_classif\n",
    "\n",
    "mi = SelectKBest(score_func=mutual_info_classif, k=1)\n",
    "\n",
    "mi.fit_transform(x_train_glove300, y_train_glove300)\n",
    "best_feature_mi = mi.get_support(indices=True)"
   ]
  },
  {
   "cell_type": "code",
   "execution_count": 15,
   "metadata": {},
   "outputs": [
    {
     "name": "stdout",
     "output_type": "stream",
     "text": [
      "[254]\n"
     ]
    }
   ],
   "source": [
    "print(best_feature_mi)"
   ]
  },
  {
   "cell_type": "markdown",
   "metadata": {},
   "source": [
    "Apply One-R Model - dummy way"
   ]
  },
  {
   "cell_type": "code",
   "execution_count": 16,
   "metadata": {},
   "outputs": [],
   "source": [
    "def create_feature_column(features):\n",
    "    feature_column = []\n",
    "    for i in range(len(features[0])):\n",
    "        atts = []\n",
    "        for f in features:\n",
    "            atts.append(f[i])\n",
    "        feature_column.append(atts)\n",
    "        \n",
    "    return feature_column"
   ]
  },
  {
   "cell_type": "code",
   "execution_count": 17,
   "metadata": {},
   "outputs": [],
   "source": [
    "x_train_glove300_columns = create_feature_column(x_train_glove300)"
   ]
  },
  {
   "cell_type": "markdown",
   "metadata": {},
   "source": [
    "Using best feature selected by MI"
   ]
  },
  {
   "cell_type": "code",
   "execution_count": 24,
   "metadata": {},
   "outputs": [],
   "source": [
    "target_label = []\n",
    "for i in range(len(x_train_glove300_columns[254])):\n",
    "    if (x_train_glove300_columns[254][i] != 0):\n",
    "        target_label.append(y_train_glove300[i]) \n",
    "count_majority_label = Counter(target_label).most_common()[0][0]"
   ]
  },
  {
   "cell_type": "code",
   "execution_count": 25,
   "metadata": {},
   "outputs": [],
   "source": [
    "y_oneR_glove300_mi = [count_majority_label] * len(y_dev_glove300)"
   ]
  },
  {
   "cell_type": "code",
   "execution_count": 26,
   "metadata": {},
   "outputs": [
    {
     "name": "stdout",
     "output_type": "stream",
     "text": [
      "Accuracy:  0.37429193899782137\n"
     ]
    }
   ],
   "source": [
    "print(\"Accuracy: \", accuracy_score(y_dev_glove300, y_oneR_glove300_mi))"
   ]
  },
  {
   "cell_type": "code",
   "execution_count": 28,
   "metadata": {},
   "outputs": [
    {
     "name": "stdout",
     "output_type": "stream",
     "text": [
      "              precision    recall  f1-score   support\n",
      "\n",
      "     MIDWEST       0.00      0.00      0.00      1484\n",
      "   NORTHEAST       0.37      1.00      0.54      4295\n",
      "       SOUTH       0.00      0.00      0.00      4266\n",
      "        WEST       0.00      0.00      0.00      1430\n",
      "\n",
      "    accuracy                           0.37     11475\n",
      "   macro avg       0.09      0.25      0.14     11475\n",
      "weighted avg       0.14      0.37      0.20     11475\n",
      "\n"
     ]
    }
   ],
   "source": [
    "from sklearn.metrics import classification_report\n",
    "print(classification_report(y_dev_glove300, y_oneR_glove300_mi, target_names = ['MIDWEST', 'NORTHEAST', 'SOUTH', 'WEST']))"
   ]
  },
  {
   "cell_type": "markdown",
   "metadata": {},
   "source": [
    "Apply One-R Model - decision tree"
   ]
  },
  {
   "cell_type": "code",
   "execution_count": 11,
   "metadata": {},
   "outputs": [],
   "source": [
    "from sklearn.tree import DecisionTreeClassifier\n",
    "\n",
    "dt1 = DecisionTreeClassifier(max_depth=1)\n",
    "dt1.fit(x_train_glove300, y_train_glove300)\n",
    "y_oneR_glove300 = dt1.predict(x_dev_glove300)"
   ]
  },
  {
   "cell_type": "code",
   "execution_count": 13,
   "metadata": {},
   "outputs": [
    {
     "name": "stdout",
     "output_type": "stream",
     "text": [
      "              precision    recall  f1-score   support\n",
      "\n",
      "     MIDWEST       0.00      0.00      0.00      1484\n",
      "   NORTHEAST       0.46      0.38      0.42      4295\n",
      "       SOUTH       0.39      0.73      0.51      4266\n",
      "        WEST       0.00      0.00      0.00      1430\n",
      "\n",
      "    accuracy                           0.41     11475\n",
      "   macro avg       0.21      0.28      0.23     11475\n",
      "weighted avg       0.32      0.41      0.35     11475\n",
      "\n"
     ]
    },
    {
     "name": "stderr",
     "output_type": "stream",
     "text": [
      "/Users/lijiayi/opt/anaconda3/lib/python3.8/site-packages/sklearn/metrics/_classification.py:1221: UndefinedMetricWarning: Precision and F-score are ill-defined and being set to 0.0 in labels with no predicted samples. Use `zero_division` parameter to control this behavior.\n",
      "  _warn_prf(average, modifier, msg_start, len(result))\n"
     ]
    }
   ],
   "source": [
    "print(classification_report(y_dev_glove300, y_oneR_glove300, target_names = ['MIDWEST', 'NORTHEAST', 'SOUTH', 'WEST']))"
   ]
  },
  {
   "cell_type": "markdown",
   "metadata": {},
   "source": [
    "# Training Model - Logistic Regression (LR)"
   ]
  },
  {
   "cell_type": "code",
   "execution_count": 31,
   "metadata": {},
   "outputs": [
    {
     "name": "stdout",
     "output_type": "stream",
     "text": [
      "Accuracy:  0.4392156862745098\n"
     ]
    }
   ],
   "source": [
    "from sklearn.linear_model import LogisticRegression\n",
    "\n",
    "LR = LogisticRegression(max_iter=2000)\n",
    "\n",
    "LR.fit(x_train_glove300, y_train_glove300)\n",
    "\n",
    "y_LR_glove300 = LR.predict(x_dev_glove300)\n",
    "\n",
    "print(\"Accuracy: \", LR.score(x_dev_glove300, y_dev_glove300))"
   ]
  },
  {
   "cell_type": "code",
   "execution_count": 32,
   "metadata": {},
   "outputs": [
    {
     "name": "stdout",
     "output_type": "stream",
     "text": [
      "              precision    recall  f1-score   support\n",
      "\n",
      "     MIDWEST       0.00      0.00      0.00      1484\n",
      "   NORTHEAST       0.46      0.60      0.52      4295\n",
      "       SOUTH       0.42      0.57      0.48      4266\n",
      "        WEST       0.29      0.01      0.01      1430\n",
      "\n",
      "    accuracy                           0.44     11475\n",
      "   macro avg       0.29      0.30      0.25     11475\n",
      "weighted avg       0.36      0.44      0.38     11475\n",
      "\n",
      "Accuracy:  0.4392156862745098\n"
     ]
    }
   ],
   "source": [
    "print(classification_report(y_dev_glove300, y_LR_glove300, target_names = ['MIDWEST', 'NORTHEAST', 'SOUTH', 'WEST']))\n",
    "print(\"Accuracy: \", LR.score(x_dev_glove300, y_dev_glove300))"
   ]
  },
  {
   "cell_type": "code",
   "execution_count": 38,
   "metadata": {},
   "outputs": [
    {
     "name": "stdout",
     "output_type": "stream",
     "text": [
      "4\n"
     ]
    }
   ],
   "source": [
    "print(len(LR.coef_))"
   ]
  },
  {
   "cell_type": "markdown",
   "metadata": {},
   "source": [
    "# Training Model - Multi-Layer Perceptron (MLP)"
   ]
  },
  {
   "cell_type": "code",
   "execution_count": 39,
   "metadata": {},
   "outputs": [],
   "source": [
    "from sklearn.neural_network import MLPClassifier\n",
    "\n",
    "mlp = MLPClassifier(max_iter=2000)\n",
    "\n",
    "mlp.fit(x_train_glove300, y_train_glove300)\n",
    "\n",
    "y_mlp_glove300 = mlp.predict(x_dev_glove300)"
   ]
  },
  {
   "cell_type": "code",
   "execution_count": 40,
   "metadata": {},
   "outputs": [
    {
     "name": "stdout",
     "output_type": "stream",
     "text": [
      "[array([[-0.46969779, -0.14027967, -0.33404552, ..., -0.67953931,\n",
      "        -0.1476619 , -0.25979835],\n",
      "       [ 0.06735054, -0.33582795,  0.51972587, ..., -0.76532705,\n",
      "        -0.10693918, -0.78774603],\n",
      "       [-0.13068108,  0.0858553 , -0.53723502, ...,  0.4661437 ,\n",
      "        -0.58442601, -0.81659122],\n",
      "       ...,\n",
      "       [-0.33213257,  0.22291021, -0.12764399, ..., -0.67354664,\n",
      "         0.71375303, -0.7802404 ],\n",
      "       [ 1.13856125, -0.56538374, -0.31506158, ...,  0.16573275,\n",
      "         0.09879679, -0.89756741],\n",
      "       [ 0.00987707,  0.9159476 , -0.77693693, ..., -0.24964806,\n",
      "         0.84303853,  0.07221308]]), array([[-7.66689062e-02,  4.49351066e-01, -2.44757383e-01,\n",
      "        -2.62457848e-01],\n",
      "       [ 2.76817391e-01,  5.99045303e-02,  2.77647493e-01,\n",
      "        -5.71769224e-01],\n",
      "       [ 1.24625739e-02, -1.26394811e-01,  4.06162328e-01,\n",
      "        -2.02412548e-01],\n",
      "       [ 1.69903886e-01,  1.98971443e-01,  3.60096493e-01,\n",
      "        -6.46211389e-01],\n",
      "       [ 2.56940994e-01, -4.19059755e-01,  2.41844934e-01,\n",
      "         5.99813451e-02],\n",
      "       [-5.05362526e-01,  3.51526422e-01,  2.77551729e-01,\n",
      "        -2.29982144e-01],\n",
      "       [ 4.84304802e-01, -6.05819116e-01,  1.06248010e-01,\n",
      "         2.09318364e-02],\n",
      "       [-1.32690701e+00, -4.31825616e-01,  3.13117810e-01,\n",
      "         6.41242388e-01],\n",
      "       [ 1.04294377e+00,  8.26609566e-02,  9.16155802e-02,\n",
      "        -7.70203567e-01],\n",
      "       [-3.23414334e-01,  4.23983647e-01, -2.55184294e-01,\n",
      "         9.35762401e-02],\n",
      "       [-2.83520516e-01, -5.95283891e-01,  5.24617332e-01,\n",
      "         4.10708385e-01],\n",
      "       [-2.30943700e-02,  8.34572597e-02, -5.59213851e-01,\n",
      "         1.84523246e-01],\n",
      "       [ 3.43046443e-01, -7.19114634e-01,  1.97361396e-01,\n",
      "        -1.88763943e-01],\n",
      "       [ 3.81602254e-01, -4.98087202e-01,  1.75570717e-01,\n",
      "         4.02270846e-01],\n",
      "       [-1.49404586e-01,  3.93942504e-01, -2.57627402e-01,\n",
      "        -2.45010420e-01],\n",
      "       [-3.10849907e-02, -4.95954473e-01,  3.43136887e-01,\n",
      "         3.53122661e-01],\n",
      "       [-3.66325515e-01,  5.49712637e-01, -2.54855190e-01,\n",
      "        -7.21278890e-01],\n",
      "       [ 1.69358001e-01,  3.53253434e-01, -5.10376082e-01,\n",
      "         1.99087183e-02],\n",
      "       [-8.05987852e-02,  2.96206314e-01, -2.75553908e-01,\n",
      "        -1.85992513e-01],\n",
      "       [ 5.31138944e-01, -5.76847358e-01, -8.81987158e-02,\n",
      "         5.70873559e-01],\n",
      "       [ 1.00175897e+00, -4.68207205e-01, -2.22892176e-01,\n",
      "         2.27381831e-02],\n",
      "       [ 2.06050779e-01, -6.16334394e-01,  8.87830753e-02,\n",
      "         4.32124641e-01],\n",
      "       [ 5.15946939e-01,  1.74040319e-01, -7.84465671e-01,\n",
      "         6.32666601e-01],\n",
      "       [ 1.03442310e-01, -5.46701629e-02, -5.18354266e-01,\n",
      "         3.61196248e-01],\n",
      "       [-1.72641066e+00, -4.16615580e-02, -5.89915314e-02,\n",
      "         6.30611546e-01],\n",
      "       [-5.13445497e-01,  2.73031108e-01, -4.59962076e-01,\n",
      "         4.77819640e-01],\n",
      "       [-9.40467684e-01,  7.92825331e-01, -5.47906387e-01,\n",
      "         4.94678984e-01],\n",
      "       [ 3.37095222e-01, -8.44974139e-01,  6.13101223e-03,\n",
      "         1.02507793e+00],\n",
      "       [-9.67870276e-01,  6.95013741e-01, -3.63429556e-01,\n",
      "        -3.77201889e-01],\n",
      "       [-4.02860047e-01,  3.88715292e-01, -8.16263106e-02,\n",
      "        -4.16317623e-01],\n",
      "       [ 5.28799490e-02, -3.99816107e-01,  2.36674694e-02,\n",
      "         6.58249390e-01],\n",
      "       [-3.74261850e-01,  1.28063211e-01,  1.53785604e-01,\n",
      "         4.25095493e-01],\n",
      "       [-7.63080486e-02,  3.12211560e-01, -2.24869279e-02,\n",
      "        -3.68070722e-01],\n",
      "       [ 3.69225084e-01,  4.51932884e-01,  3.57514888e-01,\n",
      "        -1.60528809e+00],\n",
      "       [-5.81467560e-01,  1.59339966e-01,  8.32008190e-02,\n",
      "         2.21542942e-01],\n",
      "       [ 4.56964305e-01, -6.69669343e-01,  1.15004235e-01,\n",
      "         6.37598750e-01],\n",
      "       [-5.85312249e-01,  4.70183594e-01,  1.62841081e-01,\n",
      "         2.72522471e-01],\n",
      "       [-1.32160082e+00, -1.55457005e-01,  2.25538893e-01,\n",
      "         9.81429782e-01],\n",
      "       [-5.53804453e-01,  3.21992469e-01, -2.29171627e-01,\n",
      "        -3.46905108e-01],\n",
      "       [-1.91370536e-01,  3.59110894e-01,  1.16299411e-01,\n",
      "        -7.21881371e-01],\n",
      "       [ 5.34884370e-01,  4.32295537e-01, -8.21032968e-01,\n",
      "        -2.98158286e-01],\n",
      "       [ 9.82495355e-02, -6.02377127e-01,  6.23664843e-01,\n",
      "        -7.17807649e-02],\n",
      "       [-4.18620650e-01,  3.51913962e-01, -5.21680206e-01,\n",
      "         5.54348504e-01],\n",
      "       [-2.11979255e-01,  7.27182741e-01,  3.77967475e-01,\n",
      "        -1.23275124e+00],\n",
      "       [-2.80348755e-01,  4.93992430e-01, -2.52713548e-01,\n",
      "         1.43449685e-01],\n",
      "       [-3.04619098e-01,  1.83354480e-01,  2.94131625e-01,\n",
      "         2.08891333e-01],\n",
      "       [ 1.13735287e+00, -2.08373959e-01, -6.26543458e-01,\n",
      "        -5.57365982e-03],\n",
      "       [ 1.32299220e-01, -1.17274685e-01,  5.25116885e-02,\n",
      "        -6.51598838e-01],\n",
      "       [ 1.02616354e+00, -1.05236423e-01, -4.12036024e-01,\n",
      "        -1.06977401e+00],\n",
      "       [ 1.12158507e-01, -6.71783348e-01,  3.67377765e-01,\n",
      "         1.45372506e-01],\n",
      "       [-4.48328669e-01,  6.49512855e-01, -3.66822196e-01,\n",
      "        -4.00407334e-01],\n",
      "       [ 1.37775634e-01, -2.26774112e-01,  2.93128927e-01,\n",
      "        -2.73338621e-01],\n",
      "       [-5.42975118e-01,  3.92839255e-01,  3.98297878e-01,\n",
      "        -2.62616341e-01],\n",
      "       [ 2.20283040e-01, -5.72291602e-01,  2.68016926e-01,\n",
      "         9.14400384e-02],\n",
      "       [-5.93334331e-01,  4.15772621e-01, -1.13587929e-03,\n",
      "        -2.38625233e-01],\n",
      "       [-3.99512413e-01,  4.54429890e-01, -2.27135581e-01,\n",
      "         3.63227508e-02],\n",
      "       [-3.21705048e-02, -3.40159577e-01,  4.88977934e-01,\n",
      "         1.36125635e-01],\n",
      "       [ 1.16159062e-02, -6.98124849e-01,  7.33346070e-01,\n",
      "        -8.46710576e-02],\n",
      "       [-4.08221031e-01,  3.78443452e-01, -2.50393950e-01,\n",
      "         1.06227485e-01],\n",
      "       [ 1.42468403e-01,  3.28674383e-01,  1.62879409e-01,\n",
      "        -4.55505871e-01],\n",
      "       [ 1.36302453e-01, -2.99376285e-01,  3.97143401e-01,\n",
      "        -6.88107840e-02],\n",
      "       [ 3.05826682e-01, -6.37834067e-01, -3.59705009e-01,\n",
      "         4.93220735e-01],\n",
      "       [-5.48764353e-01,  3.80129070e-01,  3.02816910e-02,\n",
      "        -2.80916775e-01],\n",
      "       [ 2.93263841e-01, -3.56552736e-04,  1.02524439e-01,\n",
      "        -6.50396890e-01],\n",
      "       [ 1.94810252e-01,  4.20283145e-01, -4.52345784e-01,\n",
      "        -1.10597549e-01],\n",
      "       [-1.92614118e+00,  3.52253950e-01,  4.18335866e-02,\n",
      "         2.67435366e-01],\n",
      "       [ 3.27761881e-01, -7.13835437e-01,  6.45982510e-02,\n",
      "         4.52758430e-01],\n",
      "       [ 3.07775186e-02,  4.04901486e-01, -1.26585150e-01,\n",
      "        -6.13251014e-01],\n",
      "       [-4.66662580e-01,  4.47418323e-01, -2.89650586e-01,\n",
      "         1.44220009e-01],\n",
      "       [ 3.78356777e-01, -6.04712670e-01, -6.19240764e-02,\n",
      "         3.19241948e-01],\n",
      "       [ 2.72456041e-02,  7.61890048e-01, -3.73395717e-01,\n",
      "        -5.68184113e-01],\n",
      "       [ 4.16067111e-01, -3.48292994e-01,  2.00257773e-01,\n",
      "        -8.72766639e-02],\n",
      "       [ 6.30437679e-01,  5.79957696e-02, -7.17138425e-01,\n",
      "         2.94056996e-01],\n",
      "       [ 5.17143178e-01,  3.79469709e-01, -9.86594342e-01,\n",
      "         4.74447542e-01],\n",
      "       [ 1.53168366e-01, -7.01301226e-01,  1.15018764e-01,\n",
      "         2.53181657e-01],\n",
      "       [-3.40919429e-01,  3.86456809e-01, -3.70249461e-01,\n",
      "        -9.15162931e-02],\n",
      "       [-6.04343360e-01,  1.41583990e-01,  3.18599328e-01,\n",
      "         1.51633815e-01],\n",
      "       [-4.31295267e-02,  1.70867626e-01, -4.84002062e-01,\n",
      "         3.23010660e-01],\n",
      "       [ 9.21090081e-01, -1.13000014e-01,  3.81800067e-01,\n",
      "        -1.21997149e+00],\n",
      "       [ 1.83376153e-02, -6.55857000e-01,  2.39400893e-01,\n",
      "         5.77226298e-01],\n",
      "       [-3.31944092e-01,  5.44271586e-01, -3.26501131e-01,\n",
      "        -3.33081712e-02],\n",
      "       [-3.82426813e-01,  5.59246283e-01,  6.59212050e-01,\n",
      "        -1.30187461e+00],\n",
      "       [ 8.13695269e-01, -5.23579311e-01,  4.27791056e-01,\n",
      "        -5.45588674e-01],\n",
      "       [ 5.43289308e-01,  3.00363077e-01, -2.02562639e-01,\n",
      "        -8.61896980e-01],\n",
      "       [ 3.18413114e-03, -4.78481057e-01, -2.31950813e-01,\n",
      "         6.31860143e-01],\n",
      "       [-2.72143460e-01, -6.83986509e-01, -4.15188616e-01,\n",
      "         1.15030583e+00],\n",
      "       [ 5.55580042e-01, -3.98760582e-01, -2.19475120e-01,\n",
      "         4.42514723e-01],\n",
      "       [-1.37330306e+00,  2.40688056e-01,  3.56214356e-01,\n",
      "         8.47150418e-01],\n",
      "       [-4.45355700e-01, -7.21345234e-01, -7.68134030e-03,\n",
      "         1.10523802e+00],\n",
      "       [ 5.86712279e-02,  6.40023920e-01, -2.39180339e-01,\n",
      "        -1.12016365e-01],\n",
      "       [ 5.53573671e-01, -4.73840921e-02, -3.76336969e-01,\n",
      "         2.07405168e-01],\n",
      "       [-3.65148270e-01, -3.17691801e-01,  6.05527263e-01,\n",
      "        -2.01877002e-01],\n",
      "       [-8.87050112e-02, -2.96132657e-01,  5.30540131e-01,\n",
      "        -3.91952284e-01],\n",
      "       [ 1.98482132e-01,  1.31353150e-01,  3.39005636e-01,\n",
      "        -6.01550568e-01],\n",
      "       [-1.45223049e-01, -3.67216304e-01,  7.67195774e-01,\n",
      "        -6.63298531e-01],\n",
      "       [-6.80300230e-01,  4.32766276e-01, -1.27536984e-01,\n",
      "         1.46605818e-01],\n",
      "       [-4.09828031e-01, -6.32957322e-01,  3.17745816e-01,\n",
      "         3.73839442e-01],\n",
      "       [ 3.29779937e-01,  4.01726924e-01, -1.47034926e-01,\n",
      "        -5.58121950e-01],\n",
      "       [ 5.03384518e-01, -5.35355321e-01,  6.53420430e-02,\n",
      "         4.19755300e-01],\n",
      "       [ 7.12979464e-01, -1.77276073e-01,  6.43922980e-01,\n",
      "        -5.20580715e-01]])]\n",
      "3\n"
     ]
    }
   ],
   "source": [
    "print(mlp.coefs_)\n",
    "print(mlp.n_layers_)"
   ]
  },
  {
   "cell_type": "code",
   "execution_count": 41,
   "metadata": {},
   "outputs": [
    {
     "name": "stdout",
     "output_type": "stream",
     "text": [
      "              precision    recall  f1-score   support\n",
      "\n",
      "     MIDWEST       0.16      0.04      0.07      1484\n",
      "   NORTHEAST       0.46      0.50      0.48      4295\n",
      "       SOUTH       0.41      0.56      0.48      4266\n",
      "        WEST       0.14      0.06      0.08      1430\n",
      "\n",
      "    accuracy                           0.41     11475\n",
      "   macro avg       0.29      0.29      0.28     11475\n",
      "weighted avg       0.36      0.41      0.37     11475\n",
      "\n",
      "Accuracy:  0.40784313725490196\n"
     ]
    }
   ],
   "source": [
    "print(classification_report(y_dev_glove300, y_mlp_glove300, target_names = ['MIDWEST', 'NORTHEAST', 'SOUTH', 'WEST']))\n",
    "print(\"Accuracy: \", mlp.score(x_dev_glove300, y_dev_glove300))"
   ]
  },
  {
   "cell_type": "markdown",
   "metadata": {},
   "source": [
    "# Training Model - Random Forest (RF)"
   ]
  },
  {
   "cell_type": "code",
   "execution_count": 44,
   "metadata": {},
   "outputs": [],
   "source": [
    "from sklearn.ensemble import RandomForestClassifier\n",
    "\n",
    "rf = RandomForestClassifier()\n",
    "\n",
    "rf.fit(x_train_glove300, y_train_glove300)\n",
    "\n",
    "y_rf_glove300 = rf.predict(x_dev_glove300)"
   ]
  },
  {
   "cell_type": "code",
   "execution_count": 45,
   "metadata": {},
   "outputs": [
    {
     "name": "stdout",
     "output_type": "stream",
     "text": [
      "              precision    recall  f1-score   support\n",
      "\n",
      "     MIDWEST       0.15      0.01      0.01      1484\n",
      "   NORTHEAST       0.44      0.60      0.51      4295\n",
      "       SOUTH       0.42      0.53      0.47      4266\n",
      "        WEST       0.11      0.01      0.01      1430\n",
      "\n",
      "    accuracy                           0.43     11475\n",
      "   macro avg       0.28      0.29      0.25     11475\n",
      "weighted avg       0.35      0.43      0.37     11475\n",
      "\n",
      "Accuracy:  0.425359477124183\n"
     ]
    }
   ],
   "source": [
    "print(classification_report(y_dev_glove300, y_rf_glove300, target_names = ['MIDWEST', 'NORTHEAST', 'SOUTH', 'WEST']))\n",
    "print(\"Accuracy: \", rf.score(x_dev_glove300, y_dev_glove300))"
   ]
  }
 ],
 "metadata": {
  "kernelspec": {
   "display_name": "Python 3",
   "language": "python",
   "name": "python3"
  },
  "language_info": {
   "codemirror_mode": {
    "name": "ipython",
    "version": 3
   },
   "file_extension": ".py",
   "mimetype": "text/x-python",
   "name": "python",
   "nbconvert_exporter": "python",
   "pygments_lexer": "ipython3",
   "version": "3.8.5"
  }
 },
 "nbformat": 4,
 "nbformat_minor": 4
}
