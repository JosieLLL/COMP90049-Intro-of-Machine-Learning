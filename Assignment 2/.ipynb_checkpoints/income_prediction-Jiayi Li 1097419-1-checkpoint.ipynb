{
 "cells": [
  {
   "cell_type": "markdown",
   "metadata": {},
   "source": [
    "# Assignment 2: Income Prediction based on U.S. Census data"
   ]
  },
  {
   "cell_type": "markdown",
   "metadata": {},
   "source": [
    "Student Name: Jiayi Li\n",
    "\n",
    "Student ID: 1097419"
   ]
  },
  {
   "cell_type": "markdown",
   "metadata": {},
   "source": [
    "# General Info\n",
    "\n",
    "<b>Due date</b>: Friday, 16 Apr 2021 5pm\n",
    "\n",
    "<b>Submission method</b>: Canvas submission\n",
    "\n",
    "<b>Submission materials</b>: completed copy of this iPython notebook\n",
    "\n",
    "<b>Late submissions</b>: -10% per day (both week and weekend days counted)\n",
    "\n",
    "<b>Marks</b>: 15% of mark for class \n",
    "\n",
    "<b>Materials</b>: See [Using Jupyter Notebook and Python page](https://canvas.lms.unimelb.edu.au/courses/105477/pages/python-and-jupyter-notebooks?module_item_id=2613813) on Canvas (under Modules>Resources) for information on the basic setup required for this class, including an iPython notebook viewer and some handy python packages including Numpy, Scipy, Matplotlib, Scikit-Learn, and Gensim. You can use any Python built-in packages, but do not use any other 3rd party packages (the packages listed above are all fine to use); if your iPython notebook doesn't run on the marker's machine, you will lose marks. <b> You should use Python 3</b>.  \n",
    "\n",
    "<b>Evaluation</b>: Your iPython notebook should run end-to-end without any errors in a reasonable amount of time, and you must follow all instructions provided below, including specific implementation requirements and instructions for what needs to be printed (please avoid printing output we don't ask for). You should edit the sections below where requested, but leave the rest of the code as is. You should leave the output from running your code in the iPython notebook you submit, to assist with marking. The amount each section is worth is given in parenthesis after the instructions. \n",
    "\n",
    "You should be careful to use Python built-in functions and operators when appropriate and pick descriptive variable names that adhere to <a href=\"https://www.python.org/dev/peps/pep-0008/\">Python style requirements</a>. If you think it might be unclear what you are doing, you should comment your code to help the marker make sense of it. While the main focus is on correctness of your methods, you will lose marks if your code is not understandable.\n",
    "\n",
    "<b>Updates</b>: Any major changes to the assignment will be announced via Canvas. Minor changes and clarifications will be announced on the discussion board; we recommend you check it regularly.\n",
    "\n",
    "<b>Academic misconduct</b>: For most people, collaboration will form a natural part of the undertaking of this homework, and we encourge you to discuss it in general terms with other students. However, this ultimately is still an individual task, and so reuse of code or other instances of clear influence will be considered cheating. We will be checking submissions for originality and will invoke the University’s <a href=\"http://academichonesty.unimelb.edu.au/policy.html\">Academic Misconduct policy</a> where inappropriate levels of collusion or plagiarism are deemed to have taken place.\n"
   ]
  },
  {
   "cell_type": "markdown",
   "metadata": {},
   "source": [
    "## Overview\n",
    "\n",
    "In this assignment, you will be working with the famous *Adult* a data set containing demographic and income data from the united states in 1994. The dataset provided for this assignment is derived from <a href=\"http://archive.ics.uci.edu/ml/datasets/Adult\">this</a> resource. The data set consists of about 48,000 individuals each characterized through a set of 14 attributes. Your task is to predict whether the individual earns up to \\\\$ 50,000 a year (<=50K) or more than \\\\$50,000 per year (>50K).\n",
    "\n",
    "The attributes are\n",
    "\n",
    "|ID|Feature Name| Feature Type | Feature Values|\n",
    "| :-| :-| :-| :-|\n",
    "|0|age| continuous| |\n",
    "|1|workclass| categorical | Private, Self-emp-not-inc, Self-emp-inc, Federal-gov, Local-gov, State-gov, ?|\n",
    "|2|fnlwgt| continuous| |\n",
    "|3|education|  categorical |Bachelors, Some-college, 11th, HS-grad, Prof-school, Assoc-acdm, Assoc-voc, 9th, 7th-8th, 12th, Masters, 1st-4th, 10th, Doctorate, 5th-6th, Preschool|\n",
    "|4|education-num| continuous| |\n",
    "|5|marital-status|  categorical |Married-civ-spouse, Divorced, Never-married, Separated, Widowed, Married-spouse-absent, Married-AF-spouse|\n",
    "|6|occupation|  categorical |Tech-support, Craft-repair, Other-service, Sales, Exec-managerial, Prof-specialty, Handlers-cleaners, Machine-op-inspct, Adm-clerical, Farming-fishing, Transport-moving, Priv-house-serv, Protective-serv, Armed-Forces, ?|\n",
    "|7|relationship|  categorical |Wife, Own-child, Husband, Not-in-family, Other-relative, Unmarried|\n",
    "|8|race|  categorical |White, Asian-Pac-Islander, Amer-Indian-Eskimo, Other, Black|\n",
    "|9|sex|  categorical |Female, Male|\n",
    "|10|capital-gain| continuous| |\n",
    "|11|capital-loss| continuous| |\n",
    "|12|hours-per-week| continuous| |\n",
    "|13|native-country|  categorical |United-States, Cambodia, England, Puerto-Rico, Canada, Germany, India, Japan, Greece, South, China, Cuba, Iran, Honduras, Philippines, Italy, Poland, Jamaica, Vietnam, Mexico, Portugal, Ireland, France, Dominican-Republic, Laos, Ecuador, Taiwan, Haiti, Columbia, Hungary, Guatemala, Nicaragua, Scotland, Thailand, Yugoslavia, El-Salvador, Trinadad&Tobago, Peru, Hong, ?|\n",
    "\n",
    "You can find out more about the individual attributes / values, and the origin of the data set in the <a href=\"https://archive.ics.uci.edu/ml/machine-learning-databases/adult/adult.names\"> data set description</a>  \n",
    "\n",
    "\n",
    "You will build a number of classifiers to predict the income class based on the attributes above.\n",
    "\n",
    "\n",
    "#### The following instructions hold for every question in the assignment\n",
    "- leave the order of instances intact, i.e., do not shuffle the data\n",
    "- do not change the names or types of variables provided by us in the code cells below\n",
    "- '?' denotes an unknown value, and you should treat it as just another value for its feature in all tasks below."
   ]
  },
  {
   "cell_type": "markdown",
   "metadata": {},
   "source": [
    "## Question 1: Loading and pre-processing the data (1 mark)\n",
    "\n",
    "You were provide two data files:\n",
    "\n",
    "**adult.train** contains about 32,000 training instances, one instance per line in comma-separated value (csv) format. Each line contains 14 fields. The first 13 fields correspond to the features listed above, the final field denotes the class label\n",
    "\n",
    "**adult.test** is formatted exactly like adult.train, and contains about 16,000 further instances for evaluation.\n"
   ]
  },
  {
   "cell_type": "markdown",
   "metadata": {},
   "source": [
    "### 1a Read the data [0.5 marks]\n",
    "\n",
    "First, you will read in the data and create traing features, training labels, test features and test labels. Do not apply any data transformations."
   ]
  },
  {
   "cell_type": "code",
   "execution_count": 1,
   "metadata": {},
   "outputs": [
    {
     "data": {
      "text/plain": [
       "(32525, 32525, 16262, 16262, 14, 14)"
      ]
     },
     "execution_count": 1,
     "metadata": {},
     "output_type": "execute_result"
    }
   ],
   "source": [
    "# load data\n",
    "\n",
    "data = open(\"adult.train\",'r').readlines()\n",
    "test_data = open(\"adult.test\",'r').readlines()\n",
    "\n",
    "x_train = []\n",
    "y_train = []\n",
    "x_test = []\n",
    "y_test = []\n",
    "\n",
    "for line in data:\n",
    "    attributes = line.strip().split(',')\n",
    "    x_train.append(attributes[:-1])\n",
    "    y_train.append(attributes[-1])\n",
    "    \n",
    "for line in test_data:\n",
    "    attributes = line.strip().split(',')\n",
    "    x_test.append(attributes[:-1])\n",
    "    y_test.append(attributes[-1])\n",
    "\n",
    "len(x_train), len(y_train), len(x_test), len(y_test), len(x_train[0]), len(x_test[0])\n",
    "\n",
    "# Reference for this question: The University of Melbourne,(2021) w4-solution.ipynb (Version 1.0) [Source code]. https://canvas.lms.unimelb.edu.au/courses/105477/files/6998697?wrap=1"
   ]
  },
  {
   "cell_type": "markdown",
   "metadata": {},
   "source": [
    "<b>For your testing:</b>"
   ]
  },
  {
   "cell_type": "code",
   "execution_count": 2,
   "metadata": {},
   "outputs": [],
   "source": [
    "assert len(x_train)==len(y_train)==32525\n",
    "assert len(x_train[0])==len(x_test[0])==14"
   ]
  },
  {
   "cell_type": "markdown",
   "metadata": {},
   "source": [
    "### 1b: Attribute Types [0.5 marks]\n",
    "\n",
    "You will create three feature representations, based on the different attribute types (categorical, numeric) in the original *Adult* data.\n",
    "\n",
    "**Your tasks**\n",
    "\n",
    "Denote with $I$ the number of training instances; $N$ the number of numeric features in the data set; and $v_f$ the number of possible values for feature $f$.\n",
    "\n",
    "1. Create a train data set with only numeric features `x_train_num` (size $(I\\times N)$); and equivaluently a test data set `x_test_num`\n",
    "2. Create a train data set with only categorical features *in a 1-hot representation* `x_train_1hot` (size $(I\\times\\sum_f v_f)$); and equivalently a test data set `x_test_1hot`\n",
    "3. Create a train data set with both numeric and 1-hot categorical features `x_train_full` (size $I \\times N+\\sum_f v_f$) where the first $N$ columns represent the numerical features and the remaining columns the categorical features; and equivalently a test data set `x_test_full`\n",
    "\n",
    "**Note:** You may use classes and functions from ```scikit-learn```.\n",
    "\n"
   ]
  },
  {
   "cell_type": "code",
   "execution_count": 3,
   "metadata": {},
   "outputs": [],
   "source": [
    "import numpy as np\n",
    "from sklearn.preprocessing import OneHotEncoder\n",
    "\n",
    "x_train_num = []\n",
    "x_test_num = []\n",
    "\n",
    "x_train_1hot = []\n",
    "x_test_1hot = []\n",
    "\n",
    "x_train_full = []\n",
    "x_test_full = []\n",
    "\n",
    "# Reference for this question: The University of Melbourne,(2021) w4-solution.ipynb (Version 1.0) [Source code]. https://canvas.lms.unimelb.edu.au/courses/105477/files/6998697?wrap=1\n",
    "def convert_feature_workclass(raw):\n",
    "    if raw.strip() == \"?\": return 0\n",
    "    elif raw.strip() == \"Private\": return 1\n",
    "    elif raw.strip() == \"Self-emp-not-inc\": return 2\n",
    "    elif raw.strip() == \"Self-emp-inc\": return 3\n",
    "    elif raw.strip() == \"Federal-gov\": return 4\n",
    "    elif raw.strip() == \"Local-gov\": return 5\n",
    "    elif raw.strip() == \"State-gov\": return 6\n",
    "    \n",
    "def convert_feature_education(raw):\n",
    "    if raw.strip() == \"Preschool\": return 1\n",
    "    elif raw.strip() == \"1st-4th\": return 2\n",
    "    elif raw.strip() == \"5th-6th\": return 3\n",
    "    elif raw.strip() == \"7th-8th\": return 4\n",
    "    elif raw.strip() == \"9th\": return 5\n",
    "    elif raw.strip() == \"10th\": return 6\n",
    "    elif raw.strip() == \"11th\": return 7\n",
    "    elif raw.strip() == \"12th\": return 8\n",
    "    elif raw.strip() == \"HS-grad\": return 9\n",
    "    elif raw.strip() == \"Prof-school\": return 10\n",
    "    elif raw.strip() == \"Assoc-acdm\": return 11\n",
    "    elif raw.strip() == \"Assoc-voc\": return 12\n",
    "    elif raw.strip() == \"Some-college\": return 13\n",
    "    elif raw.strip() == \"Bachelors\": return 14\n",
    "    elif raw.strip() == \"Masters\": return 15\n",
    "    elif raw.strip() == \"Doctorate\": return 16\n",
    "    \n",
    "def convert_feature_marital_status(raw):\n",
    "    if raw.strip() == \"Never-married\": return 1\n",
    "    elif raw.strip() == \"Married-civ-spouse\": return 2\n",
    "    elif raw.strip() == \"Married-spouse-absent\": return 3\n",
    "    elif raw.strip() == \"Married-AF-spouse\": return 4\n",
    "    elif raw.strip() == \"Separated\": return 5\n",
    "    elif raw.strip() == \"Divorced\": return 6\n",
    "    elif raw.strip() == \"Widowed\": return 7\n",
    "\n",
    "def convert_feature_occupation(raw):\n",
    "    if raw.strip() == \"?\": return 0\n",
    "    elif raw.strip() == \"Craft-repair\": return 1\n",
    "    elif raw.strip() == \"Handlers-cleaners\": return 2\n",
    "    elif raw.strip() == \"Farming-fishing\": return 3\n",
    "    elif raw.strip() == \"Transport-moving\": return 4\n",
    "    elif raw.strip() == \"Sales\": return 5\n",
    "    elif raw.strip() == \"Priv-house-serv\": return 6\n",
    "    elif raw.strip() == \"Protective-serv\": return 7\n",
    "    elif raw.strip() == \"Adm-clerical\": return 8\n",
    "    elif raw.strip() == \"Machine-op-inspct\": return 9\n",
    "    elif raw.strip() == \"Tech-support\": return 10\n",
    "    elif raw.strip() == \"Prof-specialty\": return 11\n",
    "    elif raw.strip() == \"Exec-managerial\": return 12\n",
    "    elif raw.strip() == \"Armed-Forces\": return 13\n",
    "    elif raw.strip() == \"Other-service\": return 14\n",
    "\n",
    "def convert_feature_relationship(raw):\n",
    "    if raw.strip() == \"Unmarried\": return 1\n",
    "    elif raw.strip() == \"Own-child\": return 2\n",
    "    elif raw.strip() == \"Wife\": return 3\n",
    "    elif raw.strip() == \"Husband\": return 4\n",
    "    elif raw.strip() == \"Not-in-family\": return 5\n",
    "    elif raw.strip() == \"Other-relative\": return 6\n",
    "\n",
    "def convert_feature_race(raw):\n",
    "    if raw.strip() == \"White\": return 1\n",
    "    elif raw.strip() == \"Asian-Pac-Islander\": return 2\n",
    "    elif raw.strip() == \"Amer-Indian-Eskimo\": return 3\n",
    "    elif raw.strip() == \"Black\": return 4\n",
    "    elif raw.strip() == \"Other\": return 5\n",
    "\n",
    "def convert_feature_sex(raw):\n",
    "    if raw.strip() == \"Female\": return 1\n",
    "    elif raw.strip() == \"Male\": return 2\n",
    "    \n",
    "def convert_feature_native_country(raw):\n",
    "    if raw.strip() == \"?\": return 0\n",
    "    elif raw.strip() == \"United-States\": return 1\n",
    "    elif raw.strip() == \"Cambodia\": return 2\n",
    "    elif raw.strip() == \"England\": return 3\n",
    "    elif raw.strip() == \"Puerto-Rico\": return 4\n",
    "    elif raw.strip() == \"Canada\": return 5\n",
    "    elif raw.strip() == \"Germany\": return 6\n",
    "    elif raw.strip() == \"India\": return 7\n",
    "    elif raw.strip() == \"Japan\": return 8\n",
    "    elif raw.strip() == \"Greece\": return 9\n",
    "    elif raw.strip() == \"South\": return 10\n",
    "    elif raw.strip() == \"China\": return 11\n",
    "    elif raw.strip() == \"Cuba\": return 12\n",
    "    elif raw.strip() == \"Iran\": return 13\n",
    "    elif raw.strip() == \"Honduras\": return 14\n",
    "    elif raw.strip() == \"Philippines\": return 15\n",
    "    elif raw.strip() == \"Italy\": return 16\n",
    "    elif raw.strip() == \"Poland\": return 17\n",
    "    elif raw.strip() == \"Jamaica\": return 18\n",
    "    elif raw.strip() == \"Vietnam\": return 19\n",
    "    elif raw.strip() == \"Mexico\": return 20\n",
    "    elif raw.strip() == \"Portugal\": return 21\n",
    "    elif raw.strip() == \"Ireland\": return 22\n",
    "    elif raw.strip() == \"France\": return 23\n",
    "    elif raw.strip() == \"Dominican-Republic\": return 24\n",
    "    elif raw.strip() == \"Laos\": return 25\n",
    "    elif raw.strip() == \"Ecuador\": return 26\n",
    "    elif raw.strip() == \"Taiwan\": return 27\n",
    "    elif raw.strip() == \"Haiti\": return 28\n",
    "    elif raw.strip() == \"Columbia\": return 29\n",
    "    elif raw.strip() == \"Hungary\": return 30\n",
    "    elif raw.strip() == \"Guatemala\": return 31\n",
    "    elif raw.strip() == \"Nicaragua\": return 32\n",
    "    elif raw.strip() == \"Scotland\": return 33\n",
    "    elif raw.strip() == \"Thailand\": return 34\n",
    "    elif raw.strip() == \"Yugoslavia\": return 35\n",
    "    elif raw.strip() == \"El-Salvador\": return 36\n",
    "    elif raw.strip() == \"Trinadad&Tobago\": return 37\n",
    "    elif raw.strip() == \"Peru\": return 38\n",
    "    elif raw.strip() == \"Hong\": return 39\n",
    "     \n",
    "# Transfer data in x_train\n",
    "f_temp_train = [] # temporarily store the converted categorical features before one hot\n",
    "for features in x_train:\n",
    "    f1, f2, f3, f4, f5, f6, f7, f8, f9, f10, f11, f12, f13, f14 = features\n",
    "   \n",
    "    f1 = int(f1)\n",
    "    f3 = int(f3)\n",
    "    f5 = int(f5)\n",
    "    f11 = int(f11)\n",
    "    f12 = int(f12)\n",
    "    f13 = int(f13)\n",
    "    \n",
    "    f_num = [f1, f3, f5, f11, f12, f13]\n",
    "    x_train_num.append(f_num)\n",
    "    \n",
    "    f2 = convert_feature_workclass(f2)\n",
    "    f4 = convert_feature_education(f4)\n",
    "    f6 = convert_feature_marital_status(f6)\n",
    "    f7 = convert_feature_occupation(f7)\n",
    "    f8 = convert_feature_relationship(f8)\n",
    "    f9 = convert_feature_race(f9)\n",
    "    f10 = convert_feature_sex(f10)\n",
    "    f14 = convert_feature_native_country(f14)\n",
    "    \n",
    "    f_converted = [f2, f4, f6, f7, f8, f9, f10, f14]\n",
    "    f_temp_train.append(f_converted)\n",
    "\n",
    "f_temp_train = np.array(f_temp_train, dtype = 'int')\n",
    "ohe = OneHotEncoder()\n",
    "f_1hot_array = ohe.fit(f_temp_train).transform(f_temp_train).toarray().astype(int)\n",
    "\n",
    "x_train_1hot = f_1hot_array.tolist()\n",
    "\n",
    "for f in range(len(x_train_num)):\n",
    "    x_train_full.append(x_train_num[f] + x_train_1hot[f])\n",
    "\n",
    "    \n",
    "# Transfer data in x_test\n",
    "f_temp_test = [] \n",
    "for features in x_test:\n",
    "    f1, f2, f3, f4, f5, f6, f7, f8, f9, f10, f11, f12, f13, f14 = features\n",
    "   \n",
    "    f1 = int(f1)\n",
    "    f3 = int(f3)\n",
    "    f5 = int(f5)\n",
    "    f11 = int(f11)\n",
    "    f12 = int(f12)\n",
    "    f13 = int(f13)\n",
    "    \n",
    "    f_num = [f1, f3, f5, f11, f12, f13]\n",
    "    x_test_num.append(f_num)\n",
    "    \n",
    "    f2 = convert_feature_workclass(f2)\n",
    "    f4 = convert_feature_education(f4)\n",
    "    f6 = convert_feature_marital_status(f6)\n",
    "    f7 = convert_feature_occupation(f7)\n",
    "    f8 = convert_feature_relationship(f8)\n",
    "    f9 = convert_feature_race(f9)\n",
    "    f10 = convert_feature_sex(f10)\n",
    "    f14 = convert_feature_native_country(f14)\n",
    "    \n",
    "    f_converted = [f2, f4, f6, f7, f8, f9, f10, f14]\n",
    "    f_temp_test.append(f_converted)\n",
    "\n",
    "f_temp_test = np.array(f_temp_test, dtype = 'int')\n",
    "ohe = OneHotEncoder()\n",
    "f_1hot_array = ohe.fit(f_temp_test).transform(f_temp_test).toarray().astype(int)\n",
    "\n",
    "x_test_1hot = f_1hot_array.tolist()\n",
    "\n",
    "for f in range(len(x_test_num)):\n",
    "    x_test_full.append(x_test_num[f] + x_test_1hot[f])\n",
    "    "
   ]
  },
  {
   "cell_type": "markdown",
   "metadata": {},
   "source": [
    "<b> For your testing</b>"
   ]
  },
  {
   "cell_type": "code",
   "execution_count": 4,
   "metadata": {},
   "outputs": [],
   "source": [
    "assert len(x_train_1hot[0])==98\n",
    "assert len(x_train_full[0])==104"
   ]
  },
  {
   "cell_type": "markdown",
   "metadata": {},
   "source": [
    "## Question 2: A 0-R baseline [0.5 marks]\n",
    "\n",
    "Implement a zero-r baseline, as introduced in the Evaluation lecture."
   ]
  },
  {
   "cell_type": "code",
   "execution_count": 5,
   "metadata": {
    "scrolled": true
   },
   "outputs": [
    {
     "name": "stdout",
     "output_type": "stream",
     "text": [
      "The majority class is:  <=50K\n"
     ]
    }
   ],
   "source": [
    "from collections import Counter\n",
    "\n",
    "majority_class = \"\"\n",
    "zero_r_predictions = []\n",
    "\n",
    "# Reference for this question: The University of Melbourne,(2021) w4-solution.ipynb (Version 1.0) [Source code]. https://canvas.lms.unimelb.edu.au/courses/105477/files/6998697?wrap=1\n",
    "label_Counter = Counter(y_train).most_common()\n",
    "\n",
    "majority_class = label_Counter[0][0]\n",
    "\n",
    "for i in range(len(y_test)):\n",
    "    zero_r_predictions.append(majority_class)\n",
    "\n",
    "print(f\"The majority class is: {majority_class}\")\n"
   ]
  },
  {
   "cell_type": "markdown",
   "metadata": {},
   "source": [
    "## Question 3: Feature selection [2 marks]\n",
    "\n",
    "In this question you will implement pointwise mutual information (PMI) for feature selection (Question 3a)\n",
    "\n",
    "In question 3a. you will use the implemented function to create a 1-R classifier based on the single 1-hot attribute  (i.e., categorical feature value) with highest PMI for class \">50K\". \n",
    "```\n",
    "argmax_a pmi(a=1,c=\">50K\")\n",
    "```\n",
    "In question 3b. you will apply your 1-R classifier to the test instances, and store your predicted labels in `one_r_predictions`.\n",
    "\n",
    "<b> You should implement PMI from scratch yourself. You may use native Python libraries like math or numpy to help you, but you may not use existing implementations of PMI.</b>\n",
    "\n"
   ]
  },
  {
   "cell_type": "markdown",
   "metadata": {},
   "source": [
    "### 3a. Implement PMI [1 mark]\n",
    "\n",
    "Implement a function to compute PMI.\n"
   ]
  },
  {
   "cell_type": "code",
   "execution_count": 6,
   "metadata": {},
   "outputs": [],
   "source": [
    "import math\n",
    "\n",
    "'''\n",
    "PMI: A function to compute the pointwise mutual information between \n",
    "all features in the data set and a target class of interest\n",
    "Input: - features for N input instances\n",
    "       - labels for N input instances\n",
    "       - target feature value (default=1)\n",
    "       - target class (fdefault='>50K')\n",
    "Output: a dictionary of the form {feature: ppmi} where each \n",
    "        feature is denoted by its ID (position in the 1-hot encoded representatoin)\n",
    "\n",
    "'''\n",
    "\n",
    "def pmi(features, labels, tgt_value, tgt_class):\n",
    "   \n",
    "    feature_column = create_feature_column(features)\n",
    "    prob_a = calculate_probability_a(feature_column, tgt_value)\n",
    "    prob_c = calculate_probability_c(labels)\n",
    "    prob_ac = calculate_probability_ac(feature_column, labels, tgt_value, tgt_class)\n",
    "    pmis = calculate_pmi(feature_column, prob_a, prob_c, prob_ac)\n",
    "   \n",
    "    return pmis\n",
    "    \n",
    "def create_feature_column(features):\n",
    "    feature_column = []\n",
    "    for i in range(len(features[0])):\n",
    "        atts = []\n",
    "        for f in features:\n",
    "            atts.append(f[i])\n",
    "        feature_column.append(atts)\n",
    "        \n",
    "    return feature_column\n",
    "  \n",
    "    \n",
    "def calculate_probability_a(attributes, tgt_value):\n",
    "    prob_a = []\n",
    "    for a in attributes:\n",
    "        num_of_1 = 0\n",
    "        for i in range(len(a)):\n",
    "            if a[i] == tgt_value:\n",
    "                num_of_1 += 1\n",
    "        prob_a.append(num_of_1 / len(a))\n",
    "    \n",
    "    return prob_a\n",
    "\n",
    "\n",
    "def calculate_probability_c(labels):\n",
    "    num_of_greater_than_50K = Counter(labels).most_common()[1][1]\n",
    "    prob_c = num_of_greater_than_50K / len(labels)\n",
    "    \n",
    "    return prob_c\n",
    "\n",
    "    \n",
    "def calculate_probability_ac(attributes, labels, tgt_value, tgt_class):\n",
    "    prob_ac = []\n",
    "    for a in attributes:\n",
    "        num_of_ac = 0\n",
    "        for i in range(len(a)):\n",
    "            if a[i] == tgt_value and labels[i] == tgt_class:\n",
    "                num_of_ac += 1\n",
    "        prob_ac.append(num_of_ac / len(a))\n",
    "    \n",
    "    return prob_ac\n",
    "\n",
    "\n",
    "def calculate_pmi(attributes, prob_a, prob_c, prob_ac):\n",
    "    pmis = {}\n",
    "    for i in range(len(attributes)):\n",
    "        try: \n",
    "            pmis[i] = math.log2(prob_ac[i] / (prob_a[i] * prob_c))\n",
    "        except:\n",
    "            pmis[i] = -1\n",
    "            \n",
    "    return pmis"
   ]
  },
  {
   "cell_type": "markdown",
   "metadata": {},
   "source": [
    "<b>For your testing:</b>"
   ]
  },
  {
   "cell_type": "code",
   "execution_count": 7,
   "metadata": {},
   "outputs": [],
   "source": [
    "test_features = [[1,1], [1,0], [0,1], [0,0]]\n",
    "test_labels = [1,1,0,0]\n",
    "test_pmi = pmi(test_features, test_labels, tgt_value=1, tgt_class=1)\n",
    "\n",
    "# where the index 0 refers to \"feature 1\" and index 1 refers to \"feature 2\"\n",
    "assert test_pmi[0]==1.0\n",
    "assert test_pmi[1]==0.0"
   ]
  },
  {
   "cell_type": "markdown",
   "metadata": {},
   "source": [
    "### 3b Create 1-R baseline [1 mark]\n",
    "\n",
    "- Apply your PMI function to the *1_hot feature representation* of training data, and determine the (i) 1-hot feature with *highest* PMI with class '>50K' () and (ii) 1-hot feature with *lowest* (most negative) PMI with class '>50K'. Store the name (string) of the corresponding highest/lowest PMI features in `highest_pmi_feature_name` and `lowest_pmi_feature_name`, respectively.\n",
    "\n",
    "- The feature with *highest* PMI will consitute your 1-R predictor, which you should use to predict the class labels for the test set (`one_r_predictions`)"
   ]
  },
  {
   "cell_type": "code",
   "execution_count": 8,
   "metadata": {},
   "outputs": [
    {
     "name": "stdout",
     "output_type": "stream",
     "text": [
      "[' <=50K', ' <=50K', ' <=50K', ' <=50K', ' <=50K', ' <=50K', ' <=50K', ' <=50K', ' <=50K', ' <=50K']\n",
      "The feature with highest PMI for the class '>50K' is: Doctorate\n",
      "The feature with lowest PMI for the class '>50K' is: Priv-house-serv\n"
     ]
    }
   ],
   "source": [
    "one_r_predictions = []\n",
    "\n",
    "highest_pmi_feature_name = \"\" # feature with highest PMI\n",
    "lowest_pmi_feature_name = \"\" # feature with lowest PMI\n",
    "\n",
    "# Apply pmi function\n",
    "pmis = pmi(x_train_1hot, y_train, 1, ' >50K')\n",
    "\n",
    "\n",
    "# Sort the dictionary by value in descending order\n",
    "# Reference: https://careerkarma.com/blog/python-sort-a-dictionary-by-value/\n",
    "pmi_sorted = sorted(pmis.items(), key=lambda x: x[1], reverse=True)\n",
    "\n",
    "# Get the feature of for highest and lowest pmi\n",
    "highest_pmi_id = pmi_sorted[0][0] # 22\n",
    "lowest_pmi_id = pmi_sorted[-1][0] # 36\n",
    "\n",
    "# Identify the feature name\n",
    "highest_pmi_feature_name = \"Doctorate\"\n",
    "lowest_pmi_feature_name = \"Priv-house-serv\"\n",
    "\n",
    "# Doctorate(ID: 22) is the 1-R predictor\n",
    "x_test_feature_column = create_feature_column(x_test_1hot)\n",
    "for test_inst in x_test_feature_column[highest_pmi_id]:\n",
    "    if test_inst == 1:\n",
    "        one_r_predictions.append(\" >50K\")\n",
    "    else:\n",
    "        one_r_predictions.append(\" <=50K\")\n",
    "        \n",
    "print(one_r_predictions[:10])\n",
    "print(f\"The feature with highest PMI for the class '>50K' is: {highest_pmi_feature_name}\")\n",
    "print(f\"The feature with lowest PMI for the class '>50K' is: {lowest_pmi_feature_name}\")"
   ]
  },
  {
   "cell_type": "markdown",
   "metadata": {},
   "source": [
    "## Question 4: Naive Bayes [3 marks]\n",
    "\n",
    "We will construct three Naive Bayes classifiers\n",
    "\n",
    "1. One for instances with only 1-hot encoded (binary) categorical attributes.\n",
    "2. One for instances with only numerical attributes.\n",
    "3. One for instances with the full set of numerical *and* categorical attributes, ensuring that your classifier computes posterior class probabilities $p(y|x)$ as $p(x|y)p(y)$.\n",
    "\n",
    "For each classifier, you will \n",
    "1. Train it on the training set\n",
    "2. Use the models to predict labels for the test set\n"
   ]
  },
  {
   "cell_type": "markdown",
   "metadata": {},
   "source": [
    "### 4a Implementing the Naive Bayes classifiers [1.5 marks]\n",
    "\n",
    "Implement three functions which train a NB classifier given the specified input feature types and predict labels for a given test set.\n",
    "\n",
    "You may add additional quantities to your `return` statements.\n",
    "\n",
    "<b> You may (and are, indeed, encouraged) to, use the existing NB implementations from `sklearn`. You should use the default parameterizations of these algorithms.</b> \n",
    "    \n",
    "If you choose to implement your classifiers from scratch, please use Laplace smoothing (alpha=1) for the categorical feature NB.\n"
   ]
  },
  {
   "cell_type": "code",
   "execution_count": 9,
   "metadata": {},
   "outputs": [],
   "source": [
    "import sklearn.naive_bayes as nb\n",
    "from sklearn.naive_bayes import BernoulliNB\n",
    "from sklearn.naive_bayes import GaussianNB\n",
    "from sklearn.naive_bayes import CategoricalNB\n",
    "\n",
    "\n",
    "def nb_binary_features(train_features, train_labels, test_features):\n",
    "    predictions = []\n",
    "    bnb = BernoulliNB()\n",
    "    bnb.fit(train_features, train_labels)\n",
    "    predictions = bnb.predict(test_features)\n",
    "    \n",
    "    return predictions\n",
    "\n",
    "\n",
    "def nb_continuous_features(train_features, train_labels, test_features):\n",
    "    predictions = []\n",
    "    gnb = GaussianNB()\n",
    "    gnb.fit(train_features, train_labels)\n",
    "    predictions = gnb.predict(test_features)\n",
    "    \n",
    "    return predictions\n",
    "\n",
    "\n",
    "def nb_full(train_features, train_labels, test_features):    \n",
    "    predictions = []\n",
    "    \n",
    "    binary_train_full = convert_num_to_binary(train_features)\n",
    "    binary_test_full = convert_num_to_binary(test_features)\n",
    "   \n",
    "    # Predict by BernoulliNB\n",
    "    predictions = nb_binary_features(binary_train_full, train_labels, binary_test_full)\n",
    "    \n",
    "    return predictions\n"
   ]
  },
  {
   "cell_type": "code",
   "execution_count": 10,
   "metadata": {},
   "outputs": [],
   "source": [
    "from sklearn.preprocessing import Binarizer\n",
    "\n",
    "def convert_num_to_binary (features):\n",
    "    x_num_extract = []\n",
    "    x_1hot_extract = []\n",
    "    x_Binary_full = []\n",
    "    for inst in features:\n",
    "        n = []\n",
    "        h = []\n",
    "        for i in range(len(inst)):\n",
    "            if i < 6:\n",
    "                n.append(inst[i])\n",
    "            else:\n",
    "                h.append(inst[i])\n",
    "        x_num_extract.append(n)\n",
    "        x_1hot_extract.append(h)\n",
    "    \n",
    "    x_num_extract_column = create_feature_column(x_num_extract)\n",
    "\n",
    "    x_num_extract_column = np.array(x_num_extract_column)\n",
    "    b = Binarizer().fit_transform(x_num_extract_column).astype('int')\n",
    "\n",
    "    x_num_binarized = np.transpose(b).tolist()\n",
    "        \n",
    "    for f in range(len(x_num_binarized)):\n",
    "        x_Binary_full.append(x_num_binarized[f] + x_1hot_extract[f])\n",
    "\n",
    "    return x_Binary_full"
   ]
  },
  {
   "cell_type": "markdown",
   "metadata": {},
   "source": [
    "### 4b Apply your classifiers to the data sets you created in Questions 1 and 3b [0.5 marks]\n",
    "\n",
    "...namely, the\n",
    "\n",
    "1. 1-hot categorical features `x_{train,test}_1hot`\n",
    "2. numerical features `x_{train,test}_num`\n",
    "3. combined numerical and 1-hot categorical features `x_{train,test}_full`\n"
   ]
  },
  {
   "cell_type": "code",
   "execution_count": 11,
   "metadata": {
    "scrolled": true
   },
   "outputs": [
    {
     "name": "stdout",
     "output_type": "stream",
     "text": [
      "Numerical NB predicted class distribution \t Counter({' <=50K': 14440, ' >50K': 1822})\n",
      "Categorical NB predicted class distribution\t Counter({' <=50K': 10046, ' >50K': 6216})\n",
      "Full NB predicted class distribution\t Counter({' <=50K': 10249, ' >50K': 6013})\n"
     ]
    }
   ],
   "source": [
    "from collections import Counter\n",
    "\n",
    "categorical_nb_predictions = nb_binary_features(x_train_1hot, y_train, x_test_1hot)\n",
    "numeric_nb_predictions = nb_continuous_features(x_train_num, y_train, x_test_num)\n",
    "full_nb_predictions = nb_full(x_train_full, y_train, x_test_full)\n",
    "\n",
    "print(f\"Numerical NB predicted class distribution \\t {Counter(numeric_nb_predictions)}\")\n",
    "print(f\"Categorical NB predicted class distribution\\t {Counter(categorical_nb_predictions)}\")\n",
    "print(f\"Full NB predicted class distribution\\t {Counter(full_nb_predictions)}\")\n"
   ]
  },
  {
   "cell_type": "markdown",
   "metadata": {},
   "source": [
    "\n",
    "### 4c Explain your Naive Bayes classifier implementation on the full attribute set (numerical and binary features). [1 mark]\n",
    "\n",
    "Please limit your answer to 2-3 sentences\n"
   ]
  },
  {
   "cell_type": "markdown",
   "metadata": {},
   "source": [
    "Due to the different data types in the first six features and the rest of features in the full training data, we need to firstly preprocess the data to convert them uniformly. Therefore, the first six features are binarized so all the data for training and testing are in binary form, then the BernoulliNB can be applied."
   ]
  },
  {
   "cell_type": "markdown",
   "metadata": {},
   "source": [
    "## Question 5: Logistic Regression [2.5 marks]\n",
    "\n",
    "Apply a Logistic Regression classifier to the full training data set (`x_{train,test}_full`)\n",
    "\n",
    "<b> Use the existing implementation in sklearn with default parameters. </b>"
   ]
  },
  {
   "cell_type": "markdown",
   "metadata": {},
   "source": [
    "### 5a The Logistic Regression classifier [0.5 marks]"
   ]
  },
  {
   "cell_type": "code",
   "execution_count": 12,
   "metadata": {
    "scrolled": true
   },
   "outputs": [
    {
     "name": "stdout",
     "output_type": "stream",
     "text": [
      "LR predicted class distribution\t Counter({' <=50K': 14837, ' >50K': 1425})\n",
      "The 1st largest coefficient is: 0.0007809628903444605\n",
      "The 2st largest coefficient is: 0.0003772312253064339\n",
      "The most relevant feature is: capital-loss\n",
      "The second most relevant feature is: Married-civ-spouse\n"
     ]
    }
   ],
   "source": [
    "from sklearn.linear_model import LogisticRegression\n",
    "\n",
    "# for 5a\n",
    "lr_predictions = []\n",
    "\n",
    "lr = LogisticRegression()\n",
    "lr.fit(x_train_full, y_train)\n",
    "lr_predictions = lr.predict(x_test_full)\n",
    "\n",
    "print(f\"LR predicted class distribution\\t {Counter(lr_predictions)}\")\n",
    "\n",
    "# for 5b\n",
    "coef = lr.coef_[0]\n",
    "coef_sorted = np.sort(coef)\n",
    "\n",
    "first_largest_coef = coef_sorted[-1]\n",
    "second_largest_coef = coef_sorted[-2]\n",
    "\n",
    "index1 = np.where(coef == first_largest_coef)\n",
    "index2 = np.where(coef == second_largest_coef)\n",
    "\n",
    "most_correlated_feature = \"capital-loss\"\n",
    "second_most_correlated_feature = \"Married-civ-spouse\"\n",
    "\n",
    "print(f\"The 1st largest coefficient is: {first_largest_coef}\")\n",
    "print(f\"The 2st largest coefficient is: {second_largest_coef}\")\n",
    "print(f\"The most relevant feature is: {most_correlated_feature}\")\n",
    "print(f\"The second most relevant feature is: {second_most_correlated_feature}\")"
   ]
  },
  {
   "cell_type": "markdown",
   "metadata": {},
   "source": [
    "### 5b Inspect the learnt coefficients [2 marks]\n",
    "\n",
    "**Part 1**\n",
    "Inspect the coefficients (weights) learnt by the classifier, and compare them to the PMI values in Question 1. You should update your code above in order to achieve this. Please indicate through comments which parts of the code are relevant to question 5b.\n",
    "\n",
    "**Part 2**\n",
    "What does a high coefficient for a feature imply? For which two features does your model learn the largest coefficients? Compare your answer to the highest PMI features you detected in Q3."
   ]
  },
  {
   "cell_type": "markdown",
   "metadata": {},
   "source": [
    "High coefficient indicates higher likelihood for this feature to be related to the label classification. The categorical features \"capital-loss\" and \"Married-civ-spouse\" has been learned for largest coefficient. In Q3, \"Doctorate\" has been identified as the most relevant feature to predict the label. The two different results are from different methodologies that PMI is to investigate whether an attrbute is independent from the label, while Logistic Regression is aiming to minimize the loss function to maximize the performance of a feature's parameter so the feature is with the minimum error to predict the label."
   ]
  },
  {
   "cell_type": "markdown",
   "metadata": {},
   "source": [
    "## Question 6: Evaluation [1 mark]\n",
    "\n",
    "We will evaluate our baselines and classifiers on the instances in the test set. \n",
    "\n",
    "Compute \n",
    "- accuracy\n",
    "- macro-averaged F1 score \n",
    "\n",
    "for the two baselines, the three NB classifiers and the LR classifier.\n",
    "\n",
    "**You may use existing implementations and/or Python libraries like numpy, scipy or sklearn.**"
   ]
  },
  {
   "cell_type": "code",
   "execution_count": 13,
   "metadata": {},
   "outputs": [
    {
     "name": "stdout",
     "output_type": "stream",
     "text": [
      "Zero R\t\tAccuracy: 0.76\tMacro F1: 0.43\n",
      "One  R\t\tAccuracy: 0.77\tMacro F1: 0.46\n",
      "NB Num \t\tAccuracy: 0.8\tMacro F1: 0.64\n",
      "NB Cat \t\tAccuracy: 0.76\tMacro F1: 0.72\n",
      "NB Full \tAccuracy: 0.77\tMacro F1: 0.72\n",
      "LR \t\tAccuracy: 0.8\tMacro F1: 0.63\n"
     ]
    }
   ],
   "source": [
    "from sklearn.metrics import accuracy_score\n",
    "from sklearn.metrics import f1_score\n",
    "\n",
    "zero_r_acc = 0\n",
    "zero_r_f1 = 0\n",
    "\n",
    "one_r_acc = 0\n",
    "one_r_f1 = 0\n",
    "\n",
    "num_nb_acc = 0\n",
    "num_nb_f1 = 0\n",
    "\n",
    "cat_nb_acc = 0\n",
    "cat_nb_f1 = 0\n",
    "\n",
    "full_nb_acc = 0\n",
    "full_nb_f1 = 0\n",
    "\n",
    "lr_acc = 0\n",
    "lr_f1 = 0\n",
    "\n",
    "# zero_r\n",
    "zero_r_acc = accuracy_score(y_test, zero_r_predictions)\n",
    "zero_r_f1 = f1_score(y_test,zero_r_predictions, average = 'macro')\n",
    "\n",
    "# one_r\n",
    "one_r_acc = accuracy_score(y_test, one_r_predictions)\n",
    "one_r_f1 = f1_score(y_test, one_r_predictions, average = 'macro')\n",
    "\n",
    "# num_nb\n",
    "num_nb_acc = accuracy_score(y_test, numeric_nb_predictions)\n",
    "num_nb_f1 = f1_score(y_test, numeric_nb_predictions, average = 'macro')\n",
    "\n",
    "# cat_nb\n",
    "cat_nb_acc = accuracy_score(y_test, categorical_nb_predictions)\n",
    "cat_nb_f1 = f1_score(y_test, categorical_nb_predictions, average = 'macro')\n",
    "\n",
    "# full_nb\n",
    "full_nb_acc = accuracy_score(y_test, full_nb_predictions)\n",
    "full_nb_f1 = f1_score(y_test, full_nb_predictions, average = 'macro')\n",
    "\n",
    "# lr\n",
    "lr_acc = accuracy_score(y_test, lr_predictions)\n",
    "lr_f1 = f1_score(y_test, lr_predictions, average = 'macro')\n",
    "\n",
    "print(f\"Zero R\\t\\tAccuracy: {round(zero_r_acc, 2)}\\tMacro F1: {round(zero_r_f1, 2)}\")\n",
    "print(f\"One  R\\t\\tAccuracy: {round(one_r_acc, 2)}\\tMacro F1: {round(one_r_f1, 2)}\")\n",
    "print(f\"NB Num \\t\\tAccuracy: {round(num_nb_acc, 2)}\\tMacro F1: {round(num_nb_f1, 2)}\")\n",
    "print(f\"NB Cat \\t\\tAccuracy: {round(cat_nb_acc, 2)}\\tMacro F1: {round(cat_nb_f1, 2)}\")\n",
    "print(f\"NB Full \\tAccuracy: {round(full_nb_acc, 2)}\\tMacro F1: {round(full_nb_f1, 2)}\")\n",
    "print(f\"LR \\t\\tAccuracy: {round(lr_acc, 2)}\\tMacro F1: {round(lr_f1, 2)}\")"
   ]
  },
  {
   "cell_type": "markdown",
   "metadata": {},
   "source": [
    "## Question 7: Discussion [5 marks]\n",
    "\n",
    "Critically analyze the performance of the models by answering the following questions. \n",
    "\n",
    "**(a)** The three Naive Bayes (NB) classifiers lead to different performance. Which of the three NB classifiers performs best, and why do you think it is the case? **[1 mark]**\n",
    "\n",
    "**(b)** There is a systematic difference between Accuracy and F1 score, across all models. Describe and explain the difference in the context of the data set. **[1 mark]**\n",
    "\n",
    "**(c)** Assume that your best classifier will be deployed in a bank to decide whether a customer will be granted a loan, or not. A loan will be granted if the classifier predicts an income of \">50K\", othewise it won't. The bank manager wants to avoid falsely granting a loan to an applicant with insufficient income by all means. Can you reassure the bank manager with the evaluation results in Q7 that your classifier is adequate? If not, describe an alternative evaluation metric and explain why it is more appropriate.\n",
    "\n",
    "**(d)** Do you observe a clear difference in performance between NB and Logistic Regression (LR) in Q7? Referring to the number of parameters and assumptions underlying each model, provide one reason why NB might outperform LR, and one reason why LR might outperform NB. In your answer, refer back to the *Adult* data set used in this assignment. **[1 mark]**\n",
    "\n",
    "**(e)** Assume that you have access to a (hypothetical) infinitely large U.S. census database (i.e., an enormous version of the *Adult* data set used in this assignment). Is it true that Logistic Regression, but not Naive Bayes, will achieve perfect test set performance? Why (not)? **[1 mark]**\n",
    "\n",
    "<b>We expect a maximum of 2-3 sentences per questinon."
   ]
  },
  {
   "cell_type": "markdown",
   "metadata": {},
   "source": [
    "_Your answer here_\n",
    "\n",
    "(a) The NB prediction based on the numerical data has higher accuracy, while the other two have higher f1 scores. Generally we would like to see better f1 score as it is a better balance of precision rate and recall rate. Therefore form this point of view, catogorical NB classifier and full data NB classifer performed best. If we only see the accuracy, then numerical NB classifier performed best. \n",
    "\n",
    "(b) Accuracy is calculated by the number of correctly labelled instances divided by the total number of test instances. F1 score is calculated by the average of precision rate and recall rate, which we both want to achineve higher. \n",
    "\n",
    "(c) If the three NB classifier are used, especially the numerical one, they would all perform adequate because they all have comparably high accuracy and f1 score. If the bank manager doesn't want to take the risk of loaning money to an unqualified applicant, then the numerical NB classifier, which has achieved 80% accuracy would be reasonalbe for the bank.\n",
    "\n",
    "(d) One reason for NB outperform LR might be that it investigates the dependency between each feature and label by checking the probability that they would occur at the same, under the assumption each feature are internally indenpendent and also independent from the label. So if the joint probability is very high and leading to the high probability of the label given a feature, we could believe it is reliable to predict the label for that instance. By contrast, the LR iteratively optimizes the parameter by continously subtracting the error so the parameters(coefficients) would reach highest (which means the most related) to show the positive relationship between each feature and the label.\n",
    "\n",
    "(e) The large database provides larger training data for LR to optimize the parameters. So it could be performing better than NB."
   ]
  },
  {
   "cell_type": "markdown",
   "metadata": {},
   "source": [
    "## Final thoughts ...\n",
    "\n",
    "Do you think it is ethical and safe to build and deploy income-level classifiers based on the set of attributes provided with the data set? Could such a classifier do harm if not developed, tested and deployed carefully?\n",
    "\n",
    "When predicting the income of a person, should demographic attributes like 'gender' or 'race' even be considered? Due to historical events there are systematic income differences between men/women and people of different ethnicities. But no doubt these are *correlations* and not factors to be used to *predict* income in the future. \n",
    "\n",
    "But ML models are only as good as their input data: a naively developed ML algorithm will reflect, and often amplify, biases in the data.\n",
    "\n",
    "In the last 1-2 weeks of this subject we will discuss ethics in machine learning and look at questions such as\n",
    "- historical artifacts which lead to biased data sets, and hence potentially biased ML algorithms\n",
    "- how to determine whether an algorithm is indeed biased\n",
    "- how to mitigate bias in the data and in algorithms\n",
    "\n"
   ]
  }
 ],
 "metadata": {
  "kernelspec": {
   "display_name": "Python 3",
   "language": "python",
   "name": "python3"
  },
  "language_info": {
   "codemirror_mode": {
    "name": "ipython",
    "version": 3
   },
   "file_extension": ".py",
   "mimetype": "text/x-python",
   "name": "python",
   "nbconvert_exporter": "python",
   "pygments_lexer": "ipython3",
   "version": "3.8.5"
  }
 },
 "nbformat": 4,
 "nbformat_minor": 4
}
